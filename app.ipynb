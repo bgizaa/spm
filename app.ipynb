{
 "cells": [
  {
   "cell_type": "markdown",
   "metadata": {},
   "source": [
    "# Supermarket Sales DB Analysis "
   ]
  },
  {
   "cell_type": "code",
   "execution_count": 108,
   "metadata": {},
   "outputs": [],
   "source": [
    "import datetime\n",
    "import numpy as np\n",
    "import pandas as pd\n",
    "from pandas import DataFrame\n",
    "import seaborn as sns\n",
    "import matplotlib.pyplot as plt\n",
    "import plotly.graph_objects as go\n",
    "from ipywidgets import widgets"
   ]
  },
  {
   "cell_type": "code",
   "execution_count": 109,
   "metadata": {},
   "outputs": [
    {
     "output_type": "execute_result",
     "data": {
      "text/plain": "    Invoice ID Branch       City Customer type  Gender  \\\n0  750-67-8428      A     Yangon        Member  Female   \n1  226-31-3081      C  Naypyitaw        Normal  Female   \n2  631-41-3108      A     Yangon        Normal    Male   \n3  123-19-1176      A     Yangon        Member    Male   \n4  373-73-7910      A     Yangon        Normal    Male   \n\n             Product line  Unit price  Quantity   Tax 5%     Total       Date  \\\n0       Health and beauty       74.69         7  26.1415  548.9715   1/5/2019   \n1  Electronic accessories       15.28         5   3.8200   80.2200   3/8/2019   \n2      Home and lifestyle       46.33         7  16.2155  340.5255   3/3/2019   \n3       Health and beauty       58.22         8  23.2880  489.0480  1/27/2019   \n4       Sports and travel       86.31         7  30.2085  634.3785   2/8/2019   \n\n    Time      Payment    cogs  gross margin percentage  gross income  Rating  \n0  13:08      Ewallet  522.83                 4.761905       26.1415     9.1  \n1  10:29         Cash   76.40                 4.761905        3.8200     9.6  \n2  13:23  Credit card  324.31                 4.761905       16.2155     7.4  \n3  20:33      Ewallet  465.76                 4.761905       23.2880     8.4  \n4  10:37      Ewallet  604.17                 4.761905       30.2085     5.3  ",
      "text/html": "<div>\n<style scoped>\n    .dataframe tbody tr th:only-of-type {\n        vertical-align: middle;\n    }\n\n    .dataframe tbody tr th {\n        vertical-align: top;\n    }\n\n    .dataframe thead th {\n        text-align: right;\n    }\n</style>\n<table border=\"1\" class=\"dataframe\">\n  <thead>\n    <tr style=\"text-align: right;\">\n      <th></th>\n      <th>Invoice ID</th>\n      <th>Branch</th>\n      <th>City</th>\n      <th>Customer type</th>\n      <th>Gender</th>\n      <th>Product line</th>\n      <th>Unit price</th>\n      <th>Quantity</th>\n      <th>Tax 5%</th>\n      <th>Total</th>\n      <th>Date</th>\n      <th>Time</th>\n      <th>Payment</th>\n      <th>cogs</th>\n      <th>gross margin percentage</th>\n      <th>gross income</th>\n      <th>Rating</th>\n    </tr>\n  </thead>\n  <tbody>\n    <tr>\n      <th>0</th>\n      <td>750-67-8428</td>\n      <td>A</td>\n      <td>Yangon</td>\n      <td>Member</td>\n      <td>Female</td>\n      <td>Health and beauty</td>\n      <td>74.69</td>\n      <td>7</td>\n      <td>26.1415</td>\n      <td>548.9715</td>\n      <td>1/5/2019</td>\n      <td>13:08</td>\n      <td>Ewallet</td>\n      <td>522.83</td>\n      <td>4.761905</td>\n      <td>26.1415</td>\n      <td>9.1</td>\n    </tr>\n    <tr>\n      <th>1</th>\n      <td>226-31-3081</td>\n      <td>C</td>\n      <td>Naypyitaw</td>\n      <td>Normal</td>\n      <td>Female</td>\n      <td>Electronic accessories</td>\n      <td>15.28</td>\n      <td>5</td>\n      <td>3.8200</td>\n      <td>80.2200</td>\n      <td>3/8/2019</td>\n      <td>10:29</td>\n      <td>Cash</td>\n      <td>76.40</td>\n      <td>4.761905</td>\n      <td>3.8200</td>\n      <td>9.6</td>\n    </tr>\n    <tr>\n      <th>2</th>\n      <td>631-41-3108</td>\n      <td>A</td>\n      <td>Yangon</td>\n      <td>Normal</td>\n      <td>Male</td>\n      <td>Home and lifestyle</td>\n      <td>46.33</td>\n      <td>7</td>\n      <td>16.2155</td>\n      <td>340.5255</td>\n      <td>3/3/2019</td>\n      <td>13:23</td>\n      <td>Credit card</td>\n      <td>324.31</td>\n      <td>4.761905</td>\n      <td>16.2155</td>\n      <td>7.4</td>\n    </tr>\n    <tr>\n      <th>3</th>\n      <td>123-19-1176</td>\n      <td>A</td>\n      <td>Yangon</td>\n      <td>Member</td>\n      <td>Male</td>\n      <td>Health and beauty</td>\n      <td>58.22</td>\n      <td>8</td>\n      <td>23.2880</td>\n      <td>489.0480</td>\n      <td>1/27/2019</td>\n      <td>20:33</td>\n      <td>Ewallet</td>\n      <td>465.76</td>\n      <td>4.761905</td>\n      <td>23.2880</td>\n      <td>8.4</td>\n    </tr>\n    <tr>\n      <th>4</th>\n      <td>373-73-7910</td>\n      <td>A</td>\n      <td>Yangon</td>\n      <td>Normal</td>\n      <td>Male</td>\n      <td>Sports and travel</td>\n      <td>86.31</td>\n      <td>7</td>\n      <td>30.2085</td>\n      <td>634.3785</td>\n      <td>2/8/2019</td>\n      <td>10:37</td>\n      <td>Ewallet</td>\n      <td>604.17</td>\n      <td>4.761905</td>\n      <td>30.2085</td>\n      <td>5.3</td>\n    </tr>\n  </tbody>\n</table>\n</div>"
     },
     "metadata": {},
     "execution_count": 109
    }
   ],
   "source": [
    "df = pd.read_csv('supermarket.csv') \n",
    "df.head(5)"
   ]
  },
  {
   "cell_type": "code",
   "execution_count": 110,
   "metadata": {},
   "outputs": [
    {
     "output_type": "execute_result",
     "data": {
      "text/plain": "array(['A', 'C', 'B'], dtype=object)"
     },
     "metadata": {},
     "execution_count": 110
    }
   ],
   "source": [
    "df.Branch.unique()"
   ]
  },
  {
   "cell_type": "code",
   "execution_count": 111,
   "metadata": {},
   "outputs": [
    {
     "output_type": "execute_result",
     "data": {
      "text/plain": "     Invoice ID Branch      City Customer type  Gender         Product line  \\\n9   692-92-5582      B  Mandalay        Member  Female   Food and beverages   \n10  351-62-0822      B  Mandalay        Member  Female  Fashion accessories   \n15  299-46-1805      B  Mandalay        Member  Female    Sports and travel   \n19  319-50-3348      B  Mandalay        Normal  Female   Home and lifestyle   \n28  145-94-9061      B  Mandalay        Normal  Female   Food and beverages   \n\n    Unit price  Quantity  Tax 5%    Total       Date   Time      Payment  \\\n9        54.84         3   8.226  172.746  2/20/2019  13:27  Credit card   \n10       14.48         4   2.896   60.816   2/6/2019  18:07      Ewallet   \n15       93.72         6  28.116  590.436  1/15/2019  16:19         Cash   \n19       40.30         2   4.030   84.630  3/11/2019  15:30      Ewallet   \n28       88.36         5  22.090  463.890  1/25/2019  19:48         Cash   \n\n      cogs  gross margin percentage  gross income  Rating  \n9   164.52                 4.761905         8.226     5.9  \n10   57.92                 4.761905         2.896     4.5  \n15  562.32                 4.761905        28.116     4.5  \n19   80.60                 4.761905         4.030     4.4  \n28  441.80                 4.761905        22.090     9.6  ",
      "text/html": "<div>\n<style scoped>\n    .dataframe tbody tr th:only-of-type {\n        vertical-align: middle;\n    }\n\n    .dataframe tbody tr th {\n        vertical-align: top;\n    }\n\n    .dataframe thead th {\n        text-align: right;\n    }\n</style>\n<table border=\"1\" class=\"dataframe\">\n  <thead>\n    <tr style=\"text-align: right;\">\n      <th></th>\n      <th>Invoice ID</th>\n      <th>Branch</th>\n      <th>City</th>\n      <th>Customer type</th>\n      <th>Gender</th>\n      <th>Product line</th>\n      <th>Unit price</th>\n      <th>Quantity</th>\n      <th>Tax 5%</th>\n      <th>Total</th>\n      <th>Date</th>\n      <th>Time</th>\n      <th>Payment</th>\n      <th>cogs</th>\n      <th>gross margin percentage</th>\n      <th>gross income</th>\n      <th>Rating</th>\n    </tr>\n  </thead>\n  <tbody>\n    <tr>\n      <th>9</th>\n      <td>692-92-5582</td>\n      <td>B</td>\n      <td>Mandalay</td>\n      <td>Member</td>\n      <td>Female</td>\n      <td>Food and beverages</td>\n      <td>54.84</td>\n      <td>3</td>\n      <td>8.226</td>\n      <td>172.746</td>\n      <td>2/20/2019</td>\n      <td>13:27</td>\n      <td>Credit card</td>\n      <td>164.52</td>\n      <td>4.761905</td>\n      <td>8.226</td>\n      <td>5.9</td>\n    </tr>\n    <tr>\n      <th>10</th>\n      <td>351-62-0822</td>\n      <td>B</td>\n      <td>Mandalay</td>\n      <td>Member</td>\n      <td>Female</td>\n      <td>Fashion accessories</td>\n      <td>14.48</td>\n      <td>4</td>\n      <td>2.896</td>\n      <td>60.816</td>\n      <td>2/6/2019</td>\n      <td>18:07</td>\n      <td>Ewallet</td>\n      <td>57.92</td>\n      <td>4.761905</td>\n      <td>2.896</td>\n      <td>4.5</td>\n    </tr>\n    <tr>\n      <th>15</th>\n      <td>299-46-1805</td>\n      <td>B</td>\n      <td>Mandalay</td>\n      <td>Member</td>\n      <td>Female</td>\n      <td>Sports and travel</td>\n      <td>93.72</td>\n      <td>6</td>\n      <td>28.116</td>\n      <td>590.436</td>\n      <td>1/15/2019</td>\n      <td>16:19</td>\n      <td>Cash</td>\n      <td>562.32</td>\n      <td>4.761905</td>\n      <td>28.116</td>\n      <td>4.5</td>\n    </tr>\n    <tr>\n      <th>19</th>\n      <td>319-50-3348</td>\n      <td>B</td>\n      <td>Mandalay</td>\n      <td>Normal</td>\n      <td>Female</td>\n      <td>Home and lifestyle</td>\n      <td>40.30</td>\n      <td>2</td>\n      <td>4.030</td>\n      <td>84.630</td>\n      <td>3/11/2019</td>\n      <td>15:30</td>\n      <td>Ewallet</td>\n      <td>80.60</td>\n      <td>4.761905</td>\n      <td>4.030</td>\n      <td>4.4</td>\n    </tr>\n    <tr>\n      <th>28</th>\n      <td>145-94-9061</td>\n      <td>B</td>\n      <td>Mandalay</td>\n      <td>Normal</td>\n      <td>Female</td>\n      <td>Food and beverages</td>\n      <td>88.36</td>\n      <td>5</td>\n      <td>22.090</td>\n      <td>463.890</td>\n      <td>1/25/2019</td>\n      <td>19:48</td>\n      <td>Cash</td>\n      <td>441.80</td>\n      <td>4.761905</td>\n      <td>22.090</td>\n      <td>9.6</td>\n    </tr>\n  </tbody>\n</table>\n</div>"
     },
     "metadata": {},
     "execution_count": 111
    }
   ],
   "source": [
    "new_df=df.loc[(df['City'] == 'Mandalay') & (df['Gender'] == 'Female') & (df['Quantity']>1)]\n",
    "new_df.head(5)"
   ]
  },
  {
   "cell_type": "markdown",
   "metadata": {},
   "source": [
    "# Branch Frequency"
   ]
  },
  {
   "cell_type": "code",
   "execution_count": 112,
   "metadata": {},
   "outputs": [
    {
     "output_type": "execute_result",
     "data": {
      "text/plain": "Text(0.5, 1.0, 'Branch Frequency')"
     },
     "metadata": {},
     "execution_count": 112
    },
    {
     "output_type": "display_data",
     "data": {
      "text/plain": "<Figure size 432x288 with 1 Axes>",
      "image/svg+xml": "<?xml version=\"1.0\" encoding=\"utf-8\" standalone=\"no\"?>\n<!DOCTYPE svg PUBLIC \"-//W3C//DTD SVG 1.1//EN\"\n  \"http://www.w3.org/Graphics/SVG/1.1/DTD/svg11.dtd\">\n<!-- Created with matplotlib (https://matplotlib.org/) -->\n<svg height=\"280.963594pt\" version=\"1.1\" viewBox=\"0 0 392.025469 280.963594\" width=\"392.025469pt\" xmlns=\"http://www.w3.org/2000/svg\" xmlns:xlink=\"http://www.w3.org/1999/xlink\">\n <defs>\n  <style type=\"text/css\">\n*{stroke-linecap:butt;stroke-linejoin:round;}\n  </style>\n </defs>\n <g id=\"figure_1\">\n  <g id=\"patch_1\">\n   <path d=\"M 0 280.963594 \nL 392.025469 280.963594 \nL 392.025469 0 \nL 0 0 \nz\n\" style=\"fill:#ffffff;\"/>\n  </g>\n  <g id=\"axes_1\">\n   <g id=\"patch_2\">\n    <path d=\"M 50.025469 239.229375 \nL 384.825469 239.229375 \nL 384.825469 21.789375 \nL 50.025469 21.789375 \nz\n\" style=\"fill:#eaeaf2;\"/>\n   </g>\n   <g id=\"matplotlib.axis_1\">\n    <g id=\"xtick_1\">\n     <g id=\"text_1\">\n      <!-- A -->\n      <defs>\n       <path d=\"M -0.140625 0 \nL 27.34375 71.578125 \nL 37.546875 71.578125 \nL 66.84375 0 \nL 56.0625 0 \nL 47.703125 21.6875 \nL 17.78125 21.6875 \nL 9.90625 0 \nz\nM 20.515625 29.390625 \nL 44.78125 29.390625 \nL 37.3125 49.21875 \nQ 33.890625 58.25 32.234375 64.0625 \nQ 30.859375 57.171875 28.375 50.390625 \nz\n\" id=\"ArialMT-65\"/>\n      </defs>\n      <g style=\"fill:#262626;\" transform=\"translate(102.156797 256.602969)scale(0.11 -0.11)\">\n       <use xlink:href=\"#ArialMT-65\"/>\n      </g>\n     </g>\n    </g>\n    <g id=\"xtick_2\">\n     <g id=\"text_2\">\n      <!-- C -->\n      <defs>\n       <path d=\"M 58.796875 25.09375 \nL 68.265625 22.703125 \nQ 65.28125 11.03125 57.546875 4.90625 \nQ 49.8125 -1.21875 38.625 -1.21875 \nQ 27.046875 -1.21875 19.796875 3.484375 \nQ 12.546875 8.203125 8.765625 17.140625 \nQ 4.984375 26.078125 4.984375 36.328125 \nQ 4.984375 47.515625 9.25 55.828125 \nQ 13.53125 64.15625 21.40625 68.46875 \nQ 29.296875 72.796875 38.765625 72.796875 \nQ 49.515625 72.796875 56.828125 67.328125 \nQ 64.15625 61.859375 67.046875 51.953125 \nL 57.71875 49.75 \nQ 55.21875 57.5625 50.484375 61.125 \nQ 45.75 64.703125 38.578125 64.703125 \nQ 30.328125 64.703125 24.78125 60.734375 \nQ 19.234375 56.78125 16.984375 50.109375 \nQ 14.75 43.453125 14.75 36.375 \nQ 14.75 27.25 17.40625 20.4375 \nQ 20.0625 13.625 25.671875 10.25 \nQ 31.296875 6.890625 37.84375 6.890625 \nQ 45.796875 6.890625 51.3125 11.46875 \nQ 56.84375 16.0625 58.796875 25.09375 \nz\n\" id=\"ArialMT-67\"/>\n      </defs>\n      <g style=\"fill:#262626;\" transform=\"translate(213.453438 256.602969)scale(0.11 -0.11)\">\n       <use xlink:href=\"#ArialMT-67\"/>\n      </g>\n     </g>\n    </g>\n    <g id=\"xtick_3\">\n     <g id=\"text_3\">\n      <!-- B -->\n      <defs>\n       <path d=\"M 7.328125 0 \nL 7.328125 71.578125 \nL 34.1875 71.578125 \nQ 42.390625 71.578125 47.34375 69.40625 \nQ 52.296875 67.234375 55.09375 62.71875 \nQ 57.90625 58.203125 57.90625 53.265625 \nQ 57.90625 48.6875 55.421875 44.625 \nQ 52.9375 40.578125 47.90625 38.09375 \nQ 54.390625 36.1875 57.875 31.59375 \nQ 61.375 27 61.375 20.75 \nQ 61.375 15.71875 59.25 11.390625 \nQ 57.125 7.078125 54 4.734375 \nQ 50.875 2.390625 46.15625 1.1875 \nQ 41.453125 0 34.625 0 \nz\nM 16.796875 41.5 \nL 32.28125 41.5 \nQ 38.578125 41.5 41.3125 42.328125 \nQ 44.921875 43.40625 46.75 45.890625 \nQ 48.578125 48.390625 48.578125 52.15625 \nQ 48.578125 55.71875 46.875 58.421875 \nQ 45.171875 61.140625 41.984375 62.140625 \nQ 38.8125 63.140625 31.109375 63.140625 \nL 16.796875 63.140625 \nz\nM 16.796875 8.453125 \nL 34.625 8.453125 \nQ 39.203125 8.453125 41.0625 8.796875 \nQ 44.34375 9.375 46.53125 10.734375 \nQ 48.734375 12.109375 50.140625 14.71875 \nQ 51.5625 17.328125 51.5625 20.75 \nQ 51.5625 24.75 49.515625 27.703125 \nQ 47.46875 30.671875 43.828125 31.859375 \nQ 40.1875 33.0625 33.34375 33.0625 \nL 16.796875 33.0625 \nz\n\" id=\"ArialMT-66\"/>\n      </defs>\n      <g style=\"fill:#262626;\" transform=\"translate(325.356797 256.602969)scale(0.11 -0.11)\">\n       <use xlink:href=\"#ArialMT-66\"/>\n      </g>\n     </g>\n    </g>\n    <g id=\"text_4\">\n     <!-- Branch -->\n     <defs>\n      <path d=\"M 6.5 0 \nL 6.5 51.859375 \nL 14.40625 51.859375 \nL 14.40625 44 \nQ 17.4375 49.515625 20 51.265625 \nQ 22.5625 53.03125 25.640625 53.03125 \nQ 30.078125 53.03125 34.671875 50.203125 \nL 31.640625 42.046875 \nQ 28.421875 43.953125 25.203125 43.953125 \nQ 22.3125 43.953125 20.015625 42.21875 \nQ 17.71875 40.484375 16.75 37.40625 \nQ 15.28125 32.71875 15.28125 27.15625 \nL 15.28125 0 \nz\n\" id=\"ArialMT-114\"/>\n      <path d=\"M 40.4375 6.390625 \nQ 35.546875 2.25 31.03125 0.53125 \nQ 26.515625 -1.171875 21.34375 -1.171875 \nQ 12.796875 -1.171875 8.203125 3 \nQ 3.609375 7.171875 3.609375 13.671875 \nQ 3.609375 17.484375 5.34375 20.625 \nQ 7.078125 23.78125 9.890625 25.6875 \nQ 12.703125 27.59375 16.21875 28.5625 \nQ 18.796875 29.25 24.03125 29.890625 \nQ 34.671875 31.15625 39.703125 32.90625 \nQ 39.75 34.71875 39.75 35.203125 \nQ 39.75 40.578125 37.25 42.78125 \nQ 33.890625 45.75 27.25 45.75 \nQ 21.046875 45.75 18.09375 43.578125 \nQ 15.140625 41.40625 13.71875 35.890625 \nL 5.125 37.0625 \nQ 6.296875 42.578125 8.984375 45.96875 \nQ 11.671875 49.359375 16.75 51.1875 \nQ 21.828125 53.03125 28.515625 53.03125 \nQ 35.15625 53.03125 39.296875 51.46875 \nQ 43.453125 49.90625 45.40625 47.53125 \nQ 47.359375 45.171875 48.140625 41.546875 \nQ 48.578125 39.3125 48.578125 33.453125 \nL 48.578125 21.734375 \nQ 48.578125 9.46875 49.140625 6.21875 \nQ 49.703125 2.984375 51.375 0 \nL 42.1875 0 \nQ 40.828125 2.734375 40.4375 6.390625 \nz\nM 39.703125 26.03125 \nQ 34.90625 24.078125 25.34375 22.703125 \nQ 19.921875 21.921875 17.671875 20.9375 \nQ 15.4375 19.96875 14.203125 18.09375 \nQ 12.984375 16.21875 12.984375 13.921875 \nQ 12.984375 10.40625 15.640625 8.0625 \nQ 18.3125 5.71875 23.4375 5.71875 \nQ 28.515625 5.71875 32.46875 7.9375 \nQ 36.421875 10.15625 38.28125 14.015625 \nQ 39.703125 17 39.703125 22.796875 \nz\n\" id=\"ArialMT-97\"/>\n      <path d=\"M 6.59375 0 \nL 6.59375 51.859375 \nL 14.5 51.859375 \nL 14.5 44.484375 \nQ 20.21875 53.03125 31 53.03125 \nQ 35.6875 53.03125 39.625 51.34375 \nQ 43.5625 49.65625 45.515625 46.921875 \nQ 47.46875 44.1875 48.25 40.4375 \nQ 48.734375 37.984375 48.734375 31.890625 \nL 48.734375 0 \nL 39.9375 0 \nL 39.9375 31.546875 \nQ 39.9375 36.921875 38.90625 39.578125 \nQ 37.890625 42.234375 35.28125 43.8125 \nQ 32.671875 45.40625 29.15625 45.40625 \nQ 23.53125 45.40625 19.453125 41.84375 \nQ 15.375 38.28125 15.375 28.328125 \nL 15.375 0 \nz\n\" id=\"ArialMT-110\"/>\n      <path d=\"M 40.4375 19 \nL 49.078125 17.875 \nQ 47.65625 8.9375 41.8125 3.875 \nQ 35.984375 -1.171875 27.484375 -1.171875 \nQ 16.84375 -1.171875 10.375 5.78125 \nQ 3.90625 12.75 3.90625 25.734375 \nQ 3.90625 34.125 6.6875 40.421875 \nQ 9.46875 46.734375 15.15625 49.875 \nQ 20.84375 53.03125 27.546875 53.03125 \nQ 35.984375 53.03125 41.359375 48.75 \nQ 46.734375 44.484375 48.25 36.625 \nL 39.703125 35.296875 \nQ 38.484375 40.53125 35.375 43.15625 \nQ 32.28125 45.796875 27.875 45.796875 \nQ 21.234375 45.796875 17.078125 41.03125 \nQ 12.9375 36.28125 12.9375 25.984375 \nQ 12.9375 15.53125 16.9375 10.796875 \nQ 20.953125 6.0625 27.390625 6.0625 \nQ 32.5625 6.0625 36.03125 9.234375 \nQ 39.5 12.40625 40.4375 19 \nz\n\" id=\"ArialMT-99\"/>\n      <path d=\"M 6.59375 0 \nL 6.59375 71.578125 \nL 15.375 71.578125 \nL 15.375 45.90625 \nQ 21.53125 53.03125 30.90625 53.03125 \nQ 36.671875 53.03125 40.921875 50.75 \nQ 45.171875 48.484375 47 44.484375 \nQ 48.828125 40.484375 48.828125 32.859375 \nL 48.828125 0 \nL 40.046875 0 \nL 40.046875 32.859375 \nQ 40.046875 39.453125 37.1875 42.453125 \nQ 34.328125 45.453125 29.109375 45.453125 \nQ 25.203125 45.453125 21.75 43.421875 \nQ 18.3125 41.40625 16.84375 37.9375 \nQ 15.375 34.46875 15.375 28.375 \nL 15.375 0 \nz\n\" id=\"ArialMT-104\"/>\n     </defs>\n     <g style=\"fill:#262626;\" transform=\"translate(198.415781 271.378594)scale(0.12 -0.12)\">\n      <use xlink:href=\"#ArialMT-66\"/>\n      <use x=\"66.699219\" xlink:href=\"#ArialMT-114\"/>\n      <use x=\"100\" xlink:href=\"#ArialMT-97\"/>\n      <use x=\"155.615234\" xlink:href=\"#ArialMT-110\"/>\n      <use x=\"211.230469\" xlink:href=\"#ArialMT-99\"/>\n      <use x=\"261.230469\" xlink:href=\"#ArialMT-104\"/>\n     </g>\n    </g>\n   </g>\n   <g id=\"matplotlib.axis_2\">\n    <g id=\"ytick_1\">\n     <g id=\"line2d_1\">\n      <path clip-path=\"url(#p13c2df3f6f)\" d=\"M 50.025469 239.229375 \nL 384.825469 239.229375 \n\" style=\"fill:none;stroke:#ffffff;stroke-linecap:round;\"/>\n     </g>\n     <g id=\"text_5\">\n      <!-- 0 -->\n      <defs>\n       <path d=\"M 4.15625 35.296875 \nQ 4.15625 48 6.765625 55.734375 \nQ 9.375 63.484375 14.515625 67.671875 \nQ 19.671875 71.875 27.484375 71.875 \nQ 33.25 71.875 37.59375 69.546875 \nQ 41.9375 67.234375 44.765625 62.859375 \nQ 47.609375 58.5 49.21875 52.21875 \nQ 50.828125 45.953125 50.828125 35.296875 \nQ 50.828125 22.703125 48.234375 14.96875 \nQ 45.65625 7.234375 40.5 3 \nQ 35.359375 -1.21875 27.484375 -1.21875 \nQ 17.140625 -1.21875 11.234375 6.203125 \nQ 4.15625 15.140625 4.15625 35.296875 \nz\nM 13.1875 35.296875 \nQ 13.1875 17.671875 17.3125 11.828125 \nQ 21.4375 6 27.484375 6 \nQ 33.546875 6 37.671875 11.859375 \nQ 41.796875 17.71875 41.796875 35.296875 \nQ 41.796875 52.984375 37.671875 58.78125 \nQ 33.546875 64.59375 27.390625 64.59375 \nQ 21.34375 64.59375 17.71875 59.46875 \nQ 13.1875 52.9375 13.1875 35.296875 \nz\n\" id=\"ArialMT-48\"/>\n      </defs>\n      <g style=\"fill:#262626;\" transform=\"translate(34.408438 243.166172)scale(0.11 -0.11)\">\n       <use xlink:href=\"#ArialMT-48\"/>\n      </g>\n     </g>\n    </g>\n    <g id=\"ytick_2\">\n     <g id=\"line2d_2\">\n      <path clip-path=\"url(#p13c2df3f6f)\" d=\"M 50.025469 208.775593 \nL 384.825469 208.775593 \n\" style=\"fill:none;stroke:#ffffff;stroke-linecap:round;\"/>\n     </g>\n     <g id=\"text_6\">\n      <!-- 50 -->\n      <defs>\n       <path d=\"M 4.15625 18.75 \nL 13.375 19.53125 \nQ 14.40625 12.796875 18.140625 9.390625 \nQ 21.875 6 27.15625 6 \nQ 33.5 6 37.890625 10.78125 \nQ 42.28125 15.578125 42.28125 23.484375 \nQ 42.28125 31 38.0625 35.34375 \nQ 33.84375 39.703125 27 39.703125 \nQ 22.75 39.703125 19.328125 37.765625 \nQ 15.921875 35.84375 13.96875 32.765625 \nL 5.71875 33.84375 \nL 12.640625 70.609375 \nL 48.25 70.609375 \nL 48.25 62.203125 \nL 19.671875 62.203125 \nL 15.828125 42.96875 \nQ 22.265625 47.46875 29.34375 47.46875 \nQ 38.71875 47.46875 45.15625 40.96875 \nQ 51.609375 34.46875 51.609375 24.265625 \nQ 51.609375 14.546875 45.953125 7.46875 \nQ 39.0625 -1.21875 27.15625 -1.21875 \nQ 17.390625 -1.21875 11.203125 4.25 \nQ 5.03125 9.71875 4.15625 18.75 \nz\n\" id=\"ArialMT-53\"/>\n      </defs>\n      <g style=\"fill:#262626;\" transform=\"translate(28.291406 212.71239)scale(0.11 -0.11)\">\n       <use xlink:href=\"#ArialMT-53\"/>\n       <use x=\"55.615234\" xlink:href=\"#ArialMT-48\"/>\n      </g>\n     </g>\n    </g>\n    <g id=\"ytick_3\">\n     <g id=\"line2d_3\">\n      <path clip-path=\"url(#p13c2df3f6f)\" d=\"M 50.025469 178.321812 \nL 384.825469 178.321812 \n\" style=\"fill:none;stroke:#ffffff;stroke-linecap:round;\"/>\n     </g>\n     <g id=\"text_7\">\n      <!-- 100 -->\n      <defs>\n       <path d=\"M 37.25 0 \nL 28.46875 0 \nL 28.46875 56 \nQ 25.296875 52.984375 20.140625 49.953125 \nQ 14.984375 46.921875 10.890625 45.40625 \nL 10.890625 53.90625 \nQ 18.265625 57.375 23.78125 62.296875 \nQ 29.296875 67.234375 31.59375 71.875 \nL 37.25 71.875 \nz\n\" id=\"ArialMT-49\"/>\n      </defs>\n      <g style=\"fill:#262626;\" transform=\"translate(22.174375 182.258609)scale(0.11 -0.11)\">\n       <use xlink:href=\"#ArialMT-49\"/>\n       <use x=\"55.615234\" xlink:href=\"#ArialMT-48\"/>\n       <use x=\"111.230469\" xlink:href=\"#ArialMT-48\"/>\n      </g>\n     </g>\n    </g>\n    <g id=\"ytick_4\">\n     <g id=\"line2d_4\">\n      <path clip-path=\"url(#p13c2df3f6f)\" d=\"M 50.025469 147.86803 \nL 384.825469 147.86803 \n\" style=\"fill:none;stroke:#ffffff;stroke-linecap:round;\"/>\n     </g>\n     <g id=\"text_8\">\n      <!-- 150 -->\n      <g style=\"fill:#262626;\" transform=\"translate(22.174375 151.804827)scale(0.11 -0.11)\">\n       <use xlink:href=\"#ArialMT-49\"/>\n       <use x=\"55.615234\" xlink:href=\"#ArialMT-53\"/>\n       <use x=\"111.230469\" xlink:href=\"#ArialMT-48\"/>\n      </g>\n     </g>\n    </g>\n    <g id=\"ytick_5\">\n     <g id=\"line2d_5\">\n      <path clip-path=\"url(#p13c2df3f6f)\" d=\"M 50.025469 117.414249 \nL 384.825469 117.414249 \n\" style=\"fill:none;stroke:#ffffff;stroke-linecap:round;\"/>\n     </g>\n     <g id=\"text_9\">\n      <!-- 200 -->\n      <defs>\n       <path d=\"M 50.34375 8.453125 \nL 50.34375 0 \nL 3.03125 0 \nQ 2.9375 3.171875 4.046875 6.109375 \nQ 5.859375 10.9375 9.828125 15.625 \nQ 13.8125 20.3125 21.34375 26.46875 \nQ 33.015625 36.03125 37.109375 41.625 \nQ 41.21875 47.21875 41.21875 52.203125 \nQ 41.21875 57.421875 37.46875 61 \nQ 33.734375 64.59375 27.734375 64.59375 \nQ 21.390625 64.59375 17.578125 60.78125 \nQ 13.765625 56.984375 13.71875 50.25 \nL 4.6875 51.171875 \nQ 5.609375 61.28125 11.65625 66.578125 \nQ 17.71875 71.875 27.9375 71.875 \nQ 38.234375 71.875 44.234375 66.15625 \nQ 50.25 60.453125 50.25 52 \nQ 50.25 47.703125 48.484375 43.546875 \nQ 46.734375 39.40625 42.65625 34.8125 \nQ 38.578125 30.21875 29.109375 22.21875 \nQ 21.1875 15.578125 18.9375 13.203125 \nQ 16.703125 10.84375 15.234375 8.453125 \nz\n\" id=\"ArialMT-50\"/>\n      </defs>\n      <g style=\"fill:#262626;\" transform=\"translate(22.174375 121.351046)scale(0.11 -0.11)\">\n       <use xlink:href=\"#ArialMT-50\"/>\n       <use x=\"55.615234\" xlink:href=\"#ArialMT-48\"/>\n       <use x=\"111.230469\" xlink:href=\"#ArialMT-48\"/>\n      </g>\n     </g>\n    </g>\n    <g id=\"ytick_6\">\n     <g id=\"line2d_6\">\n      <path clip-path=\"url(#p13c2df3f6f)\" d=\"M 50.025469 86.960467 \nL 384.825469 86.960467 \n\" style=\"fill:none;stroke:#ffffff;stroke-linecap:round;\"/>\n     </g>\n     <g id=\"text_10\">\n      <!-- 250 -->\n      <g style=\"fill:#262626;\" transform=\"translate(22.174375 90.897264)scale(0.11 -0.11)\">\n       <use xlink:href=\"#ArialMT-50\"/>\n       <use x=\"55.615234\" xlink:href=\"#ArialMT-53\"/>\n       <use x=\"111.230469\" xlink:href=\"#ArialMT-48\"/>\n      </g>\n     </g>\n    </g>\n    <g id=\"ytick_7\">\n     <g id=\"line2d_7\">\n      <path clip-path=\"url(#p13c2df3f6f)\" d=\"M 50.025469 56.506686 \nL 384.825469 56.506686 \n\" style=\"fill:none;stroke:#ffffff;stroke-linecap:round;\"/>\n     </g>\n     <g id=\"text_11\">\n      <!-- 300 -->\n      <defs>\n       <path d=\"M 4.203125 18.890625 \nL 12.984375 20.0625 \nQ 14.5 12.59375 18.140625 9.296875 \nQ 21.78125 6 27 6 \nQ 33.203125 6 37.46875 10.296875 \nQ 41.75 14.59375 41.75 20.953125 \nQ 41.75 27 37.796875 30.921875 \nQ 33.84375 34.859375 27.734375 34.859375 \nQ 25.25 34.859375 21.53125 33.890625 \nL 22.515625 41.609375 \nQ 23.390625 41.5 23.921875 41.5 \nQ 29.546875 41.5 34.03125 44.421875 \nQ 38.53125 47.359375 38.53125 53.46875 \nQ 38.53125 58.296875 35.25 61.46875 \nQ 31.984375 64.65625 26.8125 64.65625 \nQ 21.6875 64.65625 18.265625 61.421875 \nQ 14.84375 58.203125 13.875 51.765625 \nL 5.078125 53.328125 \nQ 6.6875 62.15625 12.390625 67.015625 \nQ 18.109375 71.875 26.609375 71.875 \nQ 32.46875 71.875 37.390625 69.359375 \nQ 42.328125 66.84375 44.9375 62.5 \nQ 47.5625 58.15625 47.5625 53.265625 \nQ 47.5625 48.640625 45.0625 44.828125 \nQ 42.578125 41.015625 37.703125 38.765625 \nQ 44.046875 37.3125 47.5625 32.6875 \nQ 51.078125 28.078125 51.078125 21.140625 \nQ 51.078125 11.765625 44.234375 5.25 \nQ 37.40625 -1.265625 26.953125 -1.265625 \nQ 17.53125 -1.265625 11.296875 4.34375 \nQ 5.078125 9.96875 4.203125 18.890625 \nz\n\" id=\"ArialMT-51\"/>\n      </defs>\n      <g style=\"fill:#262626;\" transform=\"translate(22.174375 60.443483)scale(0.11 -0.11)\">\n       <use xlink:href=\"#ArialMT-51\"/>\n       <use x=\"55.615234\" xlink:href=\"#ArialMT-48\"/>\n       <use x=\"111.230469\" xlink:href=\"#ArialMT-48\"/>\n      </g>\n     </g>\n    </g>\n    <g id=\"ytick_8\">\n     <g id=\"line2d_8\">\n      <path clip-path=\"url(#p13c2df3f6f)\" d=\"M 50.025469 26.052904 \nL 384.825469 26.052904 \n\" style=\"fill:none;stroke:#ffffff;stroke-linecap:round;\"/>\n     </g>\n     <g id=\"text_12\">\n      <!-- 350 -->\n      <g style=\"fill:#262626;\" transform=\"translate(22.174375 29.989701)scale(0.11 -0.11)\">\n       <use xlink:href=\"#ArialMT-51\"/>\n       <use x=\"55.615234\" xlink:href=\"#ArialMT-53\"/>\n       <use x=\"111.230469\" xlink:href=\"#ArialMT-48\"/>\n      </g>\n     </g>\n    </g>\n    <g id=\"text_13\">\n     <!-- count -->\n     <defs>\n      <path d=\"M 3.328125 25.921875 \nQ 3.328125 40.328125 11.328125 47.265625 \nQ 18.015625 53.03125 27.640625 53.03125 \nQ 38.328125 53.03125 45.109375 46.015625 \nQ 51.90625 39.015625 51.90625 26.65625 \nQ 51.90625 16.65625 48.90625 10.90625 \nQ 45.90625 5.171875 40.15625 2 \nQ 34.421875 -1.171875 27.640625 -1.171875 \nQ 16.75 -1.171875 10.03125 5.8125 \nQ 3.328125 12.796875 3.328125 25.921875 \nz\nM 12.359375 25.921875 \nQ 12.359375 15.96875 16.703125 11.015625 \nQ 21.046875 6.0625 27.640625 6.0625 \nQ 34.1875 6.0625 38.53125 11.03125 \nQ 42.875 16.015625 42.875 26.21875 \nQ 42.875 35.84375 38.5 40.796875 \nQ 34.125 45.75 27.640625 45.75 \nQ 21.046875 45.75 16.703125 40.8125 \nQ 12.359375 35.890625 12.359375 25.921875 \nz\n\" id=\"ArialMT-111\"/>\n      <path d=\"M 40.578125 0 \nL 40.578125 7.625 \nQ 34.515625 -1.171875 24.125 -1.171875 \nQ 19.53125 -1.171875 15.546875 0.578125 \nQ 11.578125 2.34375 9.640625 5 \nQ 7.71875 7.671875 6.9375 11.53125 \nQ 6.390625 14.109375 6.390625 19.734375 \nL 6.390625 51.859375 \nL 15.1875 51.859375 \nL 15.1875 23.09375 \nQ 15.1875 16.21875 15.71875 13.8125 \nQ 16.546875 10.359375 19.234375 8.375 \nQ 21.921875 6.390625 25.875 6.390625 \nQ 29.828125 6.390625 33.296875 8.421875 \nQ 36.765625 10.453125 38.203125 13.9375 \nQ 39.65625 17.4375 39.65625 24.078125 \nL 39.65625 51.859375 \nL 48.4375 51.859375 \nL 48.4375 0 \nz\n\" id=\"ArialMT-117\"/>\n      <path d=\"M 25.78125 7.859375 \nL 27.046875 0.09375 \nQ 23.34375 -0.6875 20.40625 -0.6875 \nQ 15.625 -0.6875 12.984375 0.828125 \nQ 10.359375 2.34375 9.28125 4.8125 \nQ 8.203125 7.28125 8.203125 15.1875 \nL 8.203125 45.015625 \nL 1.765625 45.015625 \nL 1.765625 51.859375 \nL 8.203125 51.859375 \nL 8.203125 64.703125 \nL 16.9375 69.96875 \nL 16.9375 51.859375 \nL 25.78125 51.859375 \nL 25.78125 45.015625 \nL 16.9375 45.015625 \nL 16.9375 14.703125 \nQ 16.9375 10.9375 17.40625 9.859375 \nQ 17.875 8.796875 18.921875 8.15625 \nQ 19.96875 7.515625 21.921875 7.515625 \nQ 23.390625 7.515625 25.78125 7.859375 \nz\n\" id=\"ArialMT-116\"/>\n     </defs>\n     <g style=\"fill:#262626;\" transform=\"translate(15.789375 145.185938)rotate(-90)scale(0.12 -0.12)\">\n      <use xlink:href=\"#ArialMT-99\"/>\n      <use x=\"50\" xlink:href=\"#ArialMT-111\"/>\n      <use x=\"105.615234\" xlink:href=\"#ArialMT-117\"/>\n      <use x=\"161.230469\" xlink:href=\"#ArialMT-110\"/>\n      <use x=\"216.845703\" xlink:href=\"#ArialMT-116\"/>\n     </g>\n    </g>\n   </g>\n   <g id=\"patch_3\">\n    <path clip-path=\"url(#p13c2df3f6f)\" d=\"M 61.185469 239.229375 \nL 150.465469 239.229375 \nL 150.465469 32.143661 \nL 61.185469 32.143661 \nz\n\" style=\"fill:#5875a4;stroke:#ffffff;stroke-linejoin:miter;\"/>\n   </g>\n   <g id=\"patch_4\">\n    <path clip-path=\"url(#p13c2df3f6f)\" d=\"M 172.785469 239.229375 \nL 262.065469 239.229375 \nL 262.065469 39.452568 \nL 172.785469 39.452568 \nz\n\" style=\"fill:#cc8963;stroke:#ffffff;stroke-linejoin:miter;\"/>\n   </g>\n   <g id=\"patch_5\">\n    <path clip-path=\"url(#p13c2df3f6f)\" d=\"M 284.385469 239.229375 \nL 373.665469 239.229375 \nL 373.665469 37.016266 \nL 284.385469 37.016266 \nz\n\" style=\"fill:#5f9e6e;stroke:#ffffff;stroke-linejoin:miter;\"/>\n   </g>\n   <g id=\"patch_6\">\n    <path d=\"M 50.025469 239.229375 \nL 50.025469 21.789375 \n\" style=\"fill:none;stroke:#ffffff;stroke-linecap:square;stroke-linejoin:miter;stroke-width:1.25;\"/>\n   </g>\n   <g id=\"patch_7\">\n    <path d=\"M 384.825469 239.229375 \nL 384.825469 21.789375 \n\" style=\"fill:none;stroke:#ffffff;stroke-linecap:square;stroke-linejoin:miter;stroke-width:1.25;\"/>\n   </g>\n   <g id=\"patch_8\">\n    <path d=\"M 50.025469 239.229375 \nL 384.825469 239.229375 \n\" style=\"fill:none;stroke:#ffffff;stroke-linecap:square;stroke-linejoin:miter;stroke-width:1.25;\"/>\n   </g>\n   <g id=\"patch_9\">\n    <path d=\"M 50.025469 21.789375 \nL 384.825469 21.789375 \n\" style=\"fill:none;stroke:#ffffff;stroke-linecap:square;stroke-linejoin:miter;stroke-width:1.25;\"/>\n   </g>\n   <g id=\"text_14\">\n    <!-- Branch Frequency -->\n    <defs>\n     <path id=\"ArialMT-32\"/>\n     <path d=\"M 8.203125 0 \nL 8.203125 71.578125 \nL 56.5 71.578125 \nL 56.5 63.140625 \nL 17.671875 63.140625 \nL 17.671875 40.96875 \nL 51.265625 40.96875 \nL 51.265625 32.515625 \nL 17.671875 32.515625 \nL 17.671875 0 \nz\n\" id=\"ArialMT-70\"/>\n     <path d=\"M 42.09375 16.703125 \nL 51.171875 15.578125 \nQ 49.03125 7.625 43.21875 3.21875 \nQ 37.40625 -1.171875 28.375 -1.171875 \nQ 17 -1.171875 10.328125 5.828125 \nQ 3.65625 12.84375 3.65625 25.484375 \nQ 3.65625 38.578125 10.390625 45.796875 \nQ 17.140625 53.03125 27.875 53.03125 \nQ 38.28125 53.03125 44.875 45.953125 \nQ 51.46875 38.875 51.46875 26.03125 \nQ 51.46875 25.25 51.421875 23.6875 \nL 12.75 23.6875 \nQ 13.234375 15.140625 17.578125 10.59375 \nQ 21.921875 6.0625 28.421875 6.0625 \nQ 33.25 6.0625 36.671875 8.59375 \nQ 40.09375 11.140625 42.09375 16.703125 \nz\nM 13.234375 30.90625 \nL 42.1875 30.90625 \nQ 41.609375 37.453125 38.875 40.71875 \nQ 34.671875 45.796875 27.984375 45.796875 \nQ 21.921875 45.796875 17.796875 41.75 \nQ 13.671875 37.703125 13.234375 30.90625 \nz\n\" id=\"ArialMT-101\"/>\n     <path d=\"M 39.65625 -19.875 \nL 39.65625 5.515625 \nQ 37.59375 2.640625 33.90625 0.734375 \nQ 30.21875 -1.171875 26.078125 -1.171875 \nQ 16.84375 -1.171875 10.171875 6.203125 \nQ 3.515625 13.578125 3.515625 26.421875 \nQ 3.515625 34.234375 6.21875 40.421875 \nQ 8.9375 46.625 14.078125 49.828125 \nQ 19.234375 53.03125 25.390625 53.03125 \nQ 35.015625 53.03125 40.53125 44.921875 \nL 40.53125 51.859375 \nL 48.4375 51.859375 \nL 48.4375 -19.875 \nz\nM 12.546875 26.078125 \nQ 12.546875 16.0625 16.75 11.0625 \nQ 20.953125 6.0625 26.8125 6.0625 \nQ 32.421875 6.0625 36.46875 10.8125 \nQ 40.53125 15.578125 40.53125 25.296875 \nQ 40.53125 35.640625 36.25 40.859375 \nQ 31.984375 46.09375 26.21875 46.09375 \nQ 20.515625 46.09375 16.53125 41.234375 \nQ 12.546875 36.375 12.546875 26.078125 \nz\n\" id=\"ArialMT-113\"/>\n     <path d=\"M 6.203125 -19.96875 \nL 5.21875 -11.71875 \nQ 8.109375 -12.5 10.25 -12.5 \nQ 13.1875 -12.5 14.9375 -11.515625 \nQ 16.703125 -10.546875 17.828125 -8.796875 \nQ 18.65625 -7.46875 20.515625 -2.25 \nQ 20.75 -1.515625 21.296875 -0.09375 \nL 1.609375 51.859375 \nL 11.078125 51.859375 \nL 21.875 21.828125 \nQ 23.96875 16.109375 25.640625 9.8125 \nQ 27.15625 15.875 29.25 21.625 \nL 40.328125 51.859375 \nL 49.125 51.859375 \nL 29.390625 -0.875 \nQ 26.21875 -9.421875 24.46875 -12.640625 \nQ 22.125 -17 19.09375 -19.015625 \nQ 16.0625 -21.046875 11.859375 -21.046875 \nQ 9.328125 -21.046875 6.203125 -19.96875 \nz\n\" id=\"ArialMT-121\"/>\n    </defs>\n    <g style=\"fill:#262626;\" transform=\"translate(168.403594 15.789375)scale(0.12 -0.12)\">\n     <use xlink:href=\"#ArialMT-66\"/>\n     <use x=\"66.699219\" xlink:href=\"#ArialMT-114\"/>\n     <use x=\"100\" xlink:href=\"#ArialMT-97\"/>\n     <use x=\"155.615234\" xlink:href=\"#ArialMT-110\"/>\n     <use x=\"211.230469\" xlink:href=\"#ArialMT-99\"/>\n     <use x=\"261.230469\" xlink:href=\"#ArialMT-104\"/>\n     <use x=\"316.845703\" xlink:href=\"#ArialMT-32\"/>\n     <use x=\"344.628906\" xlink:href=\"#ArialMT-70\"/>\n     <use x=\"405.712891\" xlink:href=\"#ArialMT-114\"/>\n     <use x=\"439.013672\" xlink:href=\"#ArialMT-101\"/>\n     <use x=\"494.628906\" xlink:href=\"#ArialMT-113\"/>\n     <use x=\"550.244141\" xlink:href=\"#ArialMT-117\"/>\n     <use x=\"605.859375\" xlink:href=\"#ArialMT-101\"/>\n     <use x=\"661.474609\" xlink:href=\"#ArialMT-110\"/>\n     <use x=\"717.089844\" xlink:href=\"#ArialMT-99\"/>\n     <use x=\"767.089844\" xlink:href=\"#ArialMT-121\"/>\n    </g>\n   </g>\n  </g>\n </g>\n <defs>\n  <clipPath id=\"p13c2df3f6f\">\n   <rect height=\"217.44\" width=\"334.8\" x=\"50.025469\" y=\"21.789375\"/>\n  </clipPath>\n </defs>\n</svg>\n",
      "image/png": "[encoded data removed]"
     },
     "metadata": {}
    }
   ],
   "source": [
    "import seaborn as sns \n",
    "sns.countplot(x=\"Branch\", data = df).set_title(\"Branch Frequency\")"
   ]
  },
  {
   "cell_type": "code",
   "execution_count": 113,
   "metadata": {},
   "outputs": [
    {
     "output_type": "execute_result",
     "data": {
      "text/plain": "    Invoice ID Branch       City Customer type  Gender  \\\n0  750-67-8428      A     Yangon        Member  Female   \n1  226-31-3081      C  Naypyitaw        Normal  Female   \n2  631-41-3108      A     Yangon        Normal    Male   \n3  123-19-1176      A     Yangon        Member    Male   \n\n             Product line  Unit price  Quantity   Tax 5%     Total       Date  \\\n0       Health and beauty       74.69         7  26.1415  548.9715   1/5/2019   \n1  Electronic accessories       15.28         5   3.8200   80.2200   3/8/2019   \n2      Home and lifestyle       46.33         7  16.2155  340.5255   3/3/2019   \n3       Health and beauty       58.22         8  23.2880  489.0480  1/27/2019   \n\n    Time      Payment    cogs  gross margin percentage  gross income  Rating  \\\n0  13:08      Ewallet  522.83                 4.761905       26.1415     9.1   \n1  10:29         Cash   76.40                 4.761905        3.8200     9.6   \n2  13:23  Credit card  324.31                 4.761905       16.2155     7.4   \n3  20:33      Ewallet  465.76                 4.761905       23.2880     8.4   \n\n   Frequency of Product  \n0                   152  \n1                   170  \n2                   160  \n3                   152  ",
      "text/html": "<div>\n<style scoped>\n    .dataframe tbody tr th:only-of-type {\n        vertical-align: middle;\n    }\n\n    .dataframe tbody tr th {\n        vertical-align: top;\n    }\n\n    .dataframe thead th {\n        text-align: right;\n    }\n</style>\n<table border=\"1\" class=\"dataframe\">\n  <thead>\n    <tr style=\"text-align: right;\">\n      <th></th>\n      <th>Invoice ID</th>\n      <th>Branch</th>\n      <th>City</th>\n      <th>Customer type</th>\n      <th>Gender</th>\n      <th>Product line</th>\n      <th>Unit price</th>\n      <th>Quantity</th>\n      <th>Tax 5%</th>\n      <th>Total</th>\n      <th>Date</th>\n      <th>Time</th>\n      <th>Payment</th>\n      <th>cogs</th>\n      <th>gross margin percentage</th>\n      <th>gross income</th>\n      <th>Rating</th>\n      <th>Frequency of Product</th>\n    </tr>\n  </thead>\n  <tbody>\n    <tr>\n      <th>0</th>\n      <td>750-67-8428</td>\n      <td>A</td>\n      <td>Yangon</td>\n      <td>Member</td>\n      <td>Female</td>\n      <td>Health and beauty</td>\n      <td>74.69</td>\n      <td>7</td>\n      <td>26.1415</td>\n      <td>548.9715</td>\n      <td>1/5/2019</td>\n      <td>13:08</td>\n      <td>Ewallet</td>\n      <td>522.83</td>\n      <td>4.761905</td>\n      <td>26.1415</td>\n      <td>9.1</td>\n      <td>152</td>\n    </tr>\n    <tr>\n      <th>1</th>\n      <td>226-31-3081</td>\n      <td>C</td>\n      <td>Naypyitaw</td>\n      <td>Normal</td>\n      <td>Female</td>\n      <td>Electronic accessories</td>\n      <td>15.28</td>\n      <td>5</td>\n      <td>3.8200</td>\n      <td>80.2200</td>\n      <td>3/8/2019</td>\n      <td>10:29</td>\n      <td>Cash</td>\n      <td>76.40</td>\n      <td>4.761905</td>\n      <td>3.8200</td>\n      <td>9.6</td>\n      <td>170</td>\n    </tr>\n    <tr>\n      <th>2</th>\n      <td>631-41-3108</td>\n      <td>A</td>\n      <td>Yangon</td>\n      <td>Normal</td>\n      <td>Male</td>\n      <td>Home and lifestyle</td>\n      <td>46.33</td>\n      <td>7</td>\n      <td>16.2155</td>\n      <td>340.5255</td>\n      <td>3/3/2019</td>\n      <td>13:23</td>\n      <td>Credit card</td>\n      <td>324.31</td>\n      <td>4.761905</td>\n      <td>16.2155</td>\n      <td>7.4</td>\n      <td>160</td>\n    </tr>\n    <tr>\n      <th>3</th>\n      <td>123-19-1176</td>\n      <td>A</td>\n      <td>Yangon</td>\n      <td>Member</td>\n      <td>Male</td>\n      <td>Health and beauty</td>\n      <td>58.22</td>\n      <td>8</td>\n      <td>23.2880</td>\n      <td>489.0480</td>\n      <td>1/27/2019</td>\n      <td>20:33</td>\n      <td>Ewallet</td>\n      <td>465.76</td>\n      <td>4.761905</td>\n      <td>23.2880</td>\n      <td>8.4</td>\n      <td>152</td>\n    </tr>\n  </tbody>\n</table>\n</div>"
     },
     "metadata": {},
     "execution_count": 113
    }
   ],
   "source": [
    "df['Frequency of Product'] = df['Product line'].map(df['Product line'].value_counts())\n",
    "df.head(4)\n",
    "#map function returns a map object(which is an iterator) of the results after applying the given function to each item of a given iterable (list, tuple etc.) \n",
    "#value_counts function returns the count of all unique values in the index."
   ]
  },
  {
   "cell_type": "code",
   "execution_count": 114,
   "metadata": {},
   "outputs": [
    {
     "output_type": "execute_result",
     "data": {
      "text/plain": "             Product line  Frequency of Product\n0       Health and beauty                   152\n1  Electronic accessories                   170\n2      Home and lifestyle                   160\n3       Health and beauty                   152\n4       Sports and travel                   166",
      "text/html": "<div>\n<style scoped>\n    .dataframe tbody tr th:only-of-type {\n        vertical-align: middle;\n    }\n\n    .dataframe tbody tr th {\n        vertical-align: top;\n    }\n\n    .dataframe thead th {\n        text-align: right;\n    }\n</style>\n<table border=\"1\" class=\"dataframe\">\n  <thead>\n    <tr style=\"text-align: right;\">\n      <th></th>\n      <th>Product line</th>\n      <th>Frequency of Product</th>\n    </tr>\n  </thead>\n  <tbody>\n    <tr>\n      <th>0</th>\n      <td>Health and beauty</td>\n      <td>152</td>\n    </tr>\n    <tr>\n      <th>1</th>\n      <td>Electronic accessories</td>\n      <td>170</td>\n    </tr>\n    <tr>\n      <th>2</th>\n      <td>Home and lifestyle</td>\n      <td>160</td>\n    </tr>\n    <tr>\n      <th>3</th>\n      <td>Health and beauty</td>\n      <td>152</td>\n    </tr>\n    <tr>\n      <th>4</th>\n      <td>Sports and travel</td>\n      <td>166</td>\n    </tr>\n  </tbody>\n</table>\n</div>"
     },
     "metadata": {},
     "execution_count": 114
    }
   ],
   "source": [
    "forbranchfreq = df[['Product line', 'Frequency of Product']]\n",
    "forbranchfreq.head(5)"
   ]
  },
  {
   "cell_type": "code",
   "execution_count": 115,
   "metadata": {},
   "outputs": [
    {
     "output_type": "execute_result",
     "data": {
      "text/plain": "                        Frequency of Product\nProduct line                                \nFashion accessories                    31684\nFood and beverages                     30276\nElectronic accessories                 28900",
      "text/html": "<div>\n<style scoped>\n    .dataframe tbody tr th:only-of-type {\n        vertical-align: middle;\n    }\n\n    .dataframe tbody tr th {\n        vertical-align: top;\n    }\n\n    .dataframe thead th {\n        text-align: right;\n    }\n</style>\n<table border=\"1\" class=\"dataframe\">\n  <thead>\n    <tr style=\"text-align: right;\">\n      <th></th>\n      <th>Frequency of Product</th>\n    </tr>\n    <tr>\n      <th>Product line</th>\n      <th></th>\n    </tr>\n  </thead>\n  <tbody>\n    <tr>\n      <th>Fashion accessories</th>\n      <td>31684</td>\n    </tr>\n    <tr>\n      <th>Food and beverages</th>\n      <td>30276</td>\n    </tr>\n    <tr>\n      <th>Electronic accessories</th>\n      <td>28900</td>\n    </tr>\n  </tbody>\n</table>\n</div>"
     },
     "metadata": {},
     "execution_count": 115
    }
   ],
   "source": [
    "forbranchfreq100 = forbranchfreq.groupby(['Product line']).sum()\n",
    "forbranchfreq120 = forbranchfreq100.sort_values(by=['Frequency of Product'],  ascending=False)\n",
    "forbranchfreq120 = DataFrame.drop_duplicates(forbranchfreq120)\n",
    "forbranchfreq120.head(3)"
   ]
  },
  {
   "cell_type": "markdown",
   "metadata": {},
   "source": [
    "# Frequency of Product"
   ]
  },
  {
   "cell_type": "code",
   "execution_count": 116,
   "metadata": {},
   "outputs": [
    {
     "output_type": "display_data",
     "data": {
      "text/plain": "<Figure size 1080x720 with 1 Axes>",
      "image/svg+xml": "<?xml version=\"1.0\" encoding=\"utf-8\" standalone=\"no\"?>\n<!DOCTYPE svg PUBLIC \"-//W3C//DTD SVG 1.1//EN\"\n  \"http://www.w3.org/Graphics/SVG/1.1/DTD/svg11.dtd\">\n<!-- Created with matplotlib (https://matplotlib.org/) -->\n<svg height=\"596.240355pt\" version=\"1.1\" viewBox=\"0 0 985.300313 596.240355\" width=\"985.300313pt\" xmlns=\"http://www.w3.org/2000/svg\" xmlns:xlink=\"http://www.w3.org/1999/xlink\">\n <defs>\n  <style type=\"text/css\">\n*{stroke-linecap:butt;stroke-linejoin:round;}\n  </style>\n </defs>\n <g id=\"figure_1\">\n  <g id=\"patch_1\">\n   <path d=\"M 0 596.240355 \nL 985.300313 596.240355 \nL 985.300313 0 \nL 0 0 \nz\n\" style=\"fill:#ffffff;\"/>\n  </g>\n  <g id=\"axes_1\">\n   <g id=\"patch_2\">\n    <path d=\"M 141.100313 550.8 \nL 978.100312 550.8 \nL 978.100312 7.2 \nL 141.100313 7.2 \nz\n\" style=\"fill:#eaeaf2;\"/>\n   </g>\n   <g id=\"matplotlib.axis_1\">\n    <g id=\"xtick_1\">\n     <g id=\"line2d_1\">\n      <path clip-path=\"url(#pf54a92c9d8)\" d=\"M 141.100313 550.8 \nL 141.100313 7.2 \n\" style=\"fill:none;stroke:#ffffff;stroke-linecap:round;\"/>\n     </g>\n     <g id=\"text_1\">\n      <!-- 0 -->\n      <defs>\n       <path d=\"M 4.15625 35.296875 \nQ 4.15625 48 6.765625 55.734375 \nQ 9.375 63.484375 14.515625 67.671875 \nQ 19.671875 71.875 27.484375 71.875 \nQ 33.25 71.875 37.59375 69.546875 \nQ 41.9375 67.234375 44.765625 62.859375 \nQ 47.609375 58.5 49.21875 52.21875 \nQ 50.828125 45.953125 50.828125 35.296875 \nQ 50.828125 22.703125 48.234375 14.96875 \nQ 45.65625 7.234375 40.5 3 \nQ 35.359375 -1.21875 27.484375 -1.21875 \nQ 17.140625 -1.21875 11.234375 6.203125 \nQ 4.15625 15.140625 4.15625 35.296875 \nz\nM 13.1875 35.296875 \nQ 13.1875 17.671875 17.3125 11.828125 \nQ 21.4375 6 27.484375 6 \nQ 33.546875 6 37.671875 11.859375 \nQ 41.796875 17.71875 41.796875 35.296875 \nQ 41.796875 52.984375 37.671875 58.78125 \nQ 33.546875 64.59375 27.390625 64.59375 \nQ 21.34375 64.59375 17.71875 59.46875 \nQ 13.1875 52.9375 13.1875 35.296875 \nz\n\" id=\"ArialMT-48\"/>\n      </defs>\n      <g style=\"fill:#262626;\" transform=\"translate(140.948395 570.192866)rotate(-45)scale(0.11 -0.11)\">\n       <use xlink:href=\"#ArialMT-48\"/>\n      </g>\n     </g>\n    </g>\n    <g id=\"xtick_2\">\n     <g id=\"line2d_2\">\n      <path clip-path=\"url(#pf54a92c9d8)\" d=\"M 266.896118 550.8 \nL 266.896118 7.2 \n\" style=\"fill:none;stroke:#ffffff;stroke-linecap:round;\"/>\n     </g>\n     <g id=\"text_2\">\n      <!-- 5000 -->\n      <defs>\n       <path d=\"M 4.15625 18.75 \nL 13.375 19.53125 \nQ 14.40625 12.796875 18.140625 9.390625 \nQ 21.875 6 27.15625 6 \nQ 33.5 6 37.890625 10.78125 \nQ 42.28125 15.578125 42.28125 23.484375 \nQ 42.28125 31 38.0625 35.34375 \nQ 33.84375 39.703125 27 39.703125 \nQ 22.75 39.703125 19.328125 37.765625 \nQ 15.921875 35.84375 13.96875 32.765625 \nL 5.71875 33.84375 \nL 12.640625 70.609375 \nL 48.25 70.609375 \nL 48.25 62.203125 \nL 19.671875 62.203125 \nL 15.828125 42.96875 \nQ 22.265625 47.46875 29.34375 47.46875 \nQ 38.71875 47.46875 45.15625 40.96875 \nQ 51.609375 34.46875 51.609375 24.265625 \nQ 51.609375 14.546875 45.953125 7.46875 \nQ 39.0625 -1.21875 27.15625 -1.21875 \nQ 17.390625 -1.21875 11.203125 4.25 \nQ 5.03125 9.71875 4.15625 18.75 \nz\n\" id=\"ArialMT-53\"/>\n      </defs>\n      <g style=\"fill:#262626;\" transform=\"translate(260.256109 583.169049)rotate(-45)scale(0.11 -0.11)\">\n       <use xlink:href=\"#ArialMT-53\"/>\n       <use x=\"55.615234\" xlink:href=\"#ArialMT-48\"/>\n       <use x=\"111.230469\" xlink:href=\"#ArialMT-48\"/>\n       <use x=\"166.845703\" xlink:href=\"#ArialMT-48\"/>\n      </g>\n     </g>\n    </g>\n    <g id=\"xtick_3\">\n     <g id=\"line2d_3\">\n      <path clip-path=\"url(#pf54a92c9d8)\" d=\"M 392.691923 550.8 \nL 392.691923 7.2 \n\" style=\"fill:none;stroke:#ffffff;stroke-linecap:round;\"/>\n     </g>\n     <g id=\"text_3\">\n      <!-- 10000 -->\n      <defs>\n       <path d=\"M 37.25 0 \nL 28.46875 0 \nL 28.46875 56 \nQ 25.296875 52.984375 20.140625 49.953125 \nQ 14.984375 46.921875 10.890625 45.40625 \nL 10.890625 53.90625 \nQ 18.265625 57.375 23.78125 62.296875 \nQ 29.296875 67.234375 31.59375 71.875 \nL 37.25 71.875 \nz\n\" id=\"ArialMT-49\"/>\n      </defs>\n      <g style=\"fill:#262626;\" transform=\"translate(383.889216 587.494443)rotate(-45)scale(0.11 -0.11)\">\n       <use xlink:href=\"#ArialMT-49\"/>\n       <use x=\"55.615234\" xlink:href=\"#ArialMT-48\"/>\n       <use x=\"111.230469\" xlink:href=\"#ArialMT-48\"/>\n       <use x=\"166.845703\" xlink:href=\"#ArialMT-48\"/>\n       <use x=\"222.460938\" xlink:href=\"#ArialMT-48\"/>\n      </g>\n     </g>\n    </g>\n    <g id=\"xtick_4\">\n     <g id=\"line2d_4\">\n      <path clip-path=\"url(#pf54a92c9d8)\" d=\"M 518.487728 550.8 \nL 518.487728 7.2 \n\" style=\"fill:none;stroke:#ffffff;stroke-linecap:round;\"/>\n     </g>\n     <g id=\"text_4\">\n      <!-- 15000 -->\n      <g style=\"fill:#262626;\" transform=\"translate(509.685021 587.494443)rotate(-45)scale(0.11 -0.11)\">\n       <use xlink:href=\"#ArialMT-49\"/>\n       <use x=\"55.615234\" xlink:href=\"#ArialMT-53\"/>\n       <use x=\"111.230469\" xlink:href=\"#ArialMT-48\"/>\n       <use x=\"166.845703\" xlink:href=\"#ArialMT-48\"/>\n       <use x=\"222.460938\" xlink:href=\"#ArialMT-48\"/>\n      </g>\n     </g>\n    </g>\n    <g id=\"xtick_5\">\n     <g id=\"line2d_5\">\n      <path clip-path=\"url(#pf54a92c9d8)\" d=\"M 644.283533 550.8 \nL 644.283533 7.2 \n\" style=\"fill:none;stroke:#ffffff;stroke-linecap:round;\"/>\n     </g>\n     <g id=\"text_5\">\n      <!-- 20000 -->\n      <defs>\n       <path d=\"M 50.34375 8.453125 \nL 50.34375 0 \nL 3.03125 0 \nQ 2.9375 3.171875 4.046875 6.109375 \nQ 5.859375 10.9375 9.828125 15.625 \nQ 13.8125 20.3125 21.34375 26.46875 \nQ 33.015625 36.03125 37.109375 41.625 \nQ 41.21875 47.21875 41.21875 52.203125 \nQ 41.21875 57.421875 37.46875 61 \nQ 33.734375 64.59375 27.734375 64.59375 \nQ 21.390625 64.59375 17.578125 60.78125 \nQ 13.765625 56.984375 13.71875 50.25 \nL 4.6875 51.171875 \nQ 5.609375 61.28125 11.65625 66.578125 \nQ 17.71875 71.875 27.9375 71.875 \nQ 38.234375 71.875 44.234375 66.15625 \nQ 50.25 60.453125 50.25 52 \nQ 50.25 47.703125 48.484375 43.546875 \nQ 46.734375 39.40625 42.65625 34.8125 \nQ 38.578125 30.21875 29.109375 22.21875 \nQ 21.1875 15.578125 18.9375 13.203125 \nQ 16.703125 10.84375 15.234375 8.453125 \nz\n\" id=\"ArialMT-50\"/>\n      </defs>\n      <g style=\"fill:#262626;\" transform=\"translate(635.480826 587.494443)rotate(-45)scale(0.11 -0.11)\">\n       <use xlink:href=\"#ArialMT-50\"/>\n       <use x=\"55.615234\" xlink:href=\"#ArialMT-48\"/>\n       <use x=\"111.230469\" xlink:href=\"#ArialMT-48\"/>\n       <use x=\"166.845703\" xlink:href=\"#ArialMT-48\"/>\n       <use x=\"222.460938\" xlink:href=\"#ArialMT-48\"/>\n      </g>\n     </g>\n    </g>\n    <g id=\"xtick_6\">\n     <g id=\"line2d_6\">\n      <path clip-path=\"url(#pf54a92c9d8)\" d=\"M 770.079338 550.8 \nL 770.079338 7.2 \n\" style=\"fill:none;stroke:#ffffff;stroke-linecap:round;\"/>\n     </g>\n     <g id=\"text_6\">\n      <!-- 25000 -->\n      <g style=\"fill:#262626;\" transform=\"translate(761.276631 587.494443)rotate(-45)scale(0.11 -0.11)\">\n       <use xlink:href=\"#ArialMT-50\"/>\n       <use x=\"55.615234\" xlink:href=\"#ArialMT-53\"/>\n       <use x=\"111.230469\" xlink:href=\"#ArialMT-48\"/>\n       <use x=\"166.845703\" xlink:href=\"#ArialMT-48\"/>\n       <use x=\"222.460938\" xlink:href=\"#ArialMT-48\"/>\n      </g>\n     </g>\n    </g>\n    <g id=\"xtick_7\">\n     <g id=\"line2d_7\">\n      <path clip-path=\"url(#pf54a92c9d8)\" d=\"M 895.875143 550.8 \nL 895.875143 7.2 \n\" style=\"fill:none;stroke:#ffffff;stroke-linecap:round;\"/>\n     </g>\n     <g id=\"text_7\">\n      <!-- 30000 -->\n      <defs>\n       <path d=\"M 4.203125 18.890625 \nL 12.984375 20.0625 \nQ 14.5 12.59375 18.140625 9.296875 \nQ 21.78125 6 27 6 \nQ 33.203125 6 37.46875 10.296875 \nQ 41.75 14.59375 41.75 20.953125 \nQ 41.75 27 37.796875 30.921875 \nQ 33.84375 34.859375 27.734375 34.859375 \nQ 25.25 34.859375 21.53125 33.890625 \nL 22.515625 41.609375 \nQ 23.390625 41.5 23.921875 41.5 \nQ 29.546875 41.5 34.03125 44.421875 \nQ 38.53125 47.359375 38.53125 53.46875 \nQ 38.53125 58.296875 35.25 61.46875 \nQ 31.984375 64.65625 26.8125 64.65625 \nQ 21.6875 64.65625 18.265625 61.421875 \nQ 14.84375 58.203125 13.875 51.765625 \nL 5.078125 53.328125 \nQ 6.6875 62.15625 12.390625 67.015625 \nQ 18.109375 71.875 26.609375 71.875 \nQ 32.46875 71.875 37.390625 69.359375 \nQ 42.328125 66.84375 44.9375 62.5 \nQ 47.5625 58.15625 47.5625 53.265625 \nQ 47.5625 48.640625 45.0625 44.828125 \nQ 42.578125 41.015625 37.703125 38.765625 \nQ 44.046875 37.3125 47.5625 32.6875 \nQ 51.078125 28.078125 51.078125 21.140625 \nQ 51.078125 11.765625 44.234375 5.25 \nQ 37.40625 -1.265625 26.953125 -1.265625 \nQ 17.53125 -1.265625 11.296875 4.34375 \nQ 5.078125 9.96875 4.203125 18.890625 \nz\n\" id=\"ArialMT-51\"/>\n      </defs>\n      <g style=\"fill:#262626;\" transform=\"translate(887.072436 587.494443)rotate(-45)scale(0.11 -0.11)\">\n       <use xlink:href=\"#ArialMT-51\"/>\n       <use x=\"55.615234\" xlink:href=\"#ArialMT-48\"/>\n       <use x=\"111.230469\" xlink:href=\"#ArialMT-48\"/>\n       <use x=\"166.845703\" xlink:href=\"#ArialMT-48\"/>\n       <use x=\"222.460938\" xlink:href=\"#ArialMT-48\"/>\n      </g>\n     </g>\n    </g>\n   </g>\n   <g id=\"matplotlib.axis_2\">\n    <g id=\"ytick_1\">\n     <g id=\"line2d_8\">\n      <path clip-path=\"url(#pf54a92c9d8)\" d=\"M 141.100313 505.5 \nL 978.100312 505.5 \n\" style=\"fill:none;stroke:#ffffff;stroke-linecap:round;\"/>\n     </g>\n     <g id=\"text_8\">\n      <!-- Fashion accessories -->\n      <defs>\n       <path d=\"M 8.203125 0 \nL 8.203125 71.578125 \nL 56.5 71.578125 \nL 56.5 63.140625 \nL 17.671875 63.140625 \nL 17.671875 40.96875 \nL 51.265625 40.96875 \nL 51.265625 32.515625 \nL 17.671875 32.515625 \nL 17.671875 0 \nz\n\" id=\"ArialMT-70\"/>\n       <path d=\"M 40.4375 6.390625 \nQ 35.546875 2.25 31.03125 0.53125 \nQ 26.515625 -1.171875 21.34375 -1.171875 \nQ 12.796875 -1.171875 8.203125 3 \nQ 3.609375 7.171875 3.609375 13.671875 \nQ 3.609375 17.484375 5.34375 20.625 \nQ 7.078125 23.78125 9.890625 25.6875 \nQ 12.703125 27.59375 16.21875 28.5625 \nQ 18.796875 29.25 24.03125 29.890625 \nQ 34.671875 31.15625 39.703125 32.90625 \nQ 39.75 34.71875 39.75 35.203125 \nQ 39.75 40.578125 37.25 42.78125 \nQ 33.890625 45.75 27.25 45.75 \nQ 21.046875 45.75 18.09375 43.578125 \nQ 15.140625 41.40625 13.71875 35.890625 \nL 5.125 37.0625 \nQ 6.296875 42.578125 8.984375 45.96875 \nQ 11.671875 49.359375 16.75 51.1875 \nQ 21.828125 53.03125 28.515625 53.03125 \nQ 35.15625 53.03125 39.296875 51.46875 \nQ 43.453125 49.90625 45.40625 47.53125 \nQ 47.359375 45.171875 48.140625 41.546875 \nQ 48.578125 39.3125 48.578125 33.453125 \nL 48.578125 21.734375 \nQ 48.578125 9.46875 49.140625 6.21875 \nQ 49.703125 2.984375 51.375 0 \nL 42.1875 0 \nQ 40.828125 2.734375 40.4375 6.390625 \nz\nM 39.703125 26.03125 \nQ 34.90625 24.078125 25.34375 22.703125 \nQ 19.921875 21.921875 17.671875 20.9375 \nQ 15.4375 19.96875 14.203125 18.09375 \nQ 12.984375 16.21875 12.984375 13.921875 \nQ 12.984375 10.40625 15.640625 8.0625 \nQ 18.3125 5.71875 23.4375 5.71875 \nQ 28.515625 5.71875 32.46875 7.9375 \nQ 36.421875 10.15625 38.28125 14.015625 \nQ 39.703125 17 39.703125 22.796875 \nz\n\" id=\"ArialMT-97\"/>\n       <path d=\"M 3.078125 15.484375 \nL 11.765625 16.84375 \nQ 12.5 11.625 15.84375 8.84375 \nQ 19.1875 6.0625 25.203125 6.0625 \nQ 31.25 6.0625 34.171875 8.515625 \nQ 37.109375 10.984375 37.109375 14.3125 \nQ 37.109375 17.28125 34.515625 19 \nQ 32.71875 20.171875 25.53125 21.96875 \nQ 15.875 24.421875 12.140625 26.203125 \nQ 8.40625 27.984375 6.46875 31.125 \nQ 4.546875 34.28125 4.546875 38.09375 \nQ 4.546875 41.546875 6.125 44.5 \nQ 7.71875 47.46875 10.453125 49.421875 \nQ 12.5 50.921875 16.03125 51.96875 \nQ 19.578125 53.03125 23.640625 53.03125 \nQ 29.734375 53.03125 34.34375 51.265625 \nQ 38.96875 49.515625 41.15625 46.5 \nQ 43.359375 43.5 44.1875 38.484375 \nL 35.59375 37.3125 \nQ 35.015625 41.3125 32.203125 43.546875 \nQ 29.390625 45.796875 24.265625 45.796875 \nQ 18.21875 45.796875 15.625 43.796875 \nQ 13.03125 41.796875 13.03125 39.109375 \nQ 13.03125 37.40625 14.109375 36.03125 \nQ 15.1875 34.625 17.484375 33.6875 \nQ 18.796875 33.203125 25.25 31.453125 \nQ 34.578125 28.953125 38.25 27.359375 \nQ 41.9375 25.78125 44.03125 22.75 \nQ 46.140625 19.734375 46.140625 15.234375 \nQ 46.140625 10.84375 43.578125 6.953125 \nQ 41.015625 3.078125 36.171875 0.953125 \nQ 31.34375 -1.171875 25.25 -1.171875 \nQ 15.140625 -1.171875 9.84375 3.03125 \nQ 4.546875 7.234375 3.078125 15.484375 \nz\n\" id=\"ArialMT-115\"/>\n       <path d=\"M 6.59375 0 \nL 6.59375 71.578125 \nL 15.375 71.578125 \nL 15.375 45.90625 \nQ 21.53125 53.03125 30.90625 53.03125 \nQ 36.671875 53.03125 40.921875 50.75 \nQ 45.171875 48.484375 47 44.484375 \nQ 48.828125 40.484375 48.828125 32.859375 \nL 48.828125 0 \nL 40.046875 0 \nL 40.046875 32.859375 \nQ 40.046875 39.453125 37.1875 42.453125 \nQ 34.328125 45.453125 29.109375 45.453125 \nQ 25.203125 45.453125 21.75 43.421875 \nQ 18.3125 41.40625 16.84375 37.9375 \nQ 15.375 34.46875 15.375 28.375 \nL 15.375 0 \nz\n\" id=\"ArialMT-104\"/>\n       <path d=\"M 6.640625 61.46875 \nL 6.640625 71.578125 \nL 15.4375 71.578125 \nL 15.4375 61.46875 \nz\nM 6.640625 0 \nL 6.640625 51.859375 \nL 15.4375 51.859375 \nL 15.4375 0 \nz\n\" id=\"ArialMT-105\"/>\n       <path d=\"M 3.328125 25.921875 \nQ 3.328125 40.328125 11.328125 47.265625 \nQ 18.015625 53.03125 27.640625 53.03125 \nQ 38.328125 53.03125 45.109375 46.015625 \nQ 51.90625 39.015625 51.90625 26.65625 \nQ 51.90625 16.65625 48.90625 10.90625 \nQ 45.90625 5.171875 40.15625 2 \nQ 34.421875 -1.171875 27.640625 -1.171875 \nQ 16.75 -1.171875 10.03125 5.8125 \nQ 3.328125 12.796875 3.328125 25.921875 \nz\nM 12.359375 25.921875 \nQ 12.359375 15.96875 16.703125 11.015625 \nQ 21.046875 6.0625 27.640625 6.0625 \nQ 34.1875 6.0625 38.53125 11.03125 \nQ 42.875 16.015625 42.875 26.21875 \nQ 42.875 35.84375 38.5 40.796875 \nQ 34.125 45.75 27.640625 45.75 \nQ 21.046875 45.75 16.703125 40.8125 \nQ 12.359375 35.890625 12.359375 25.921875 \nz\n\" id=\"ArialMT-111\"/>\n       <path d=\"M 6.59375 0 \nL 6.59375 51.859375 \nL 14.5 51.859375 \nL 14.5 44.484375 \nQ 20.21875 53.03125 31 53.03125 \nQ 35.6875 53.03125 39.625 51.34375 \nQ 43.5625 49.65625 45.515625 46.921875 \nQ 47.46875 44.1875 48.25 40.4375 \nQ 48.734375 37.984375 48.734375 31.890625 \nL 48.734375 0 \nL 39.9375 0 \nL 39.9375 31.546875 \nQ 39.9375 36.921875 38.90625 39.578125 \nQ 37.890625 42.234375 35.28125 43.8125 \nQ 32.671875 45.40625 29.15625 45.40625 \nQ 23.53125 45.40625 19.453125 41.84375 \nQ 15.375 38.28125 15.375 28.328125 \nL 15.375 0 \nz\n\" id=\"ArialMT-110\"/>\n       <path id=\"ArialMT-32\"/>\n       <path d=\"M 40.4375 19 \nL 49.078125 17.875 \nQ 47.65625 8.9375 41.8125 3.875 \nQ 35.984375 -1.171875 27.484375 -1.171875 \nQ 16.84375 -1.171875 10.375 5.78125 \nQ 3.90625 12.75 3.90625 25.734375 \nQ 3.90625 34.125 6.6875 40.421875 \nQ 9.46875 46.734375 15.15625 49.875 \nQ 20.84375 53.03125 27.546875 53.03125 \nQ 35.984375 53.03125 41.359375 48.75 \nQ 46.734375 44.484375 48.25 36.625 \nL 39.703125 35.296875 \nQ 38.484375 40.53125 35.375 43.15625 \nQ 32.28125 45.796875 27.875 45.796875 \nQ 21.234375 45.796875 17.078125 41.03125 \nQ 12.9375 36.28125 12.9375 25.984375 \nQ 12.9375 15.53125 16.9375 10.796875 \nQ 20.953125 6.0625 27.390625 6.0625 \nQ 32.5625 6.0625 36.03125 9.234375 \nQ 39.5 12.40625 40.4375 19 \nz\n\" id=\"ArialMT-99\"/>\n       <path d=\"M 42.09375 16.703125 \nL 51.171875 15.578125 \nQ 49.03125 7.625 43.21875 3.21875 \nQ 37.40625 -1.171875 28.375 -1.171875 \nQ 17 -1.171875 10.328125 5.828125 \nQ 3.65625 12.84375 3.65625 25.484375 \nQ 3.65625 38.578125 10.390625 45.796875 \nQ 17.140625 53.03125 27.875 53.03125 \nQ 38.28125 53.03125 44.875 45.953125 \nQ 51.46875 38.875 51.46875 26.03125 \nQ 51.46875 25.25 51.421875 23.6875 \nL 12.75 23.6875 \nQ 13.234375 15.140625 17.578125 10.59375 \nQ 21.921875 6.0625 28.421875 6.0625 \nQ 33.25 6.0625 36.671875 8.59375 \nQ 40.09375 11.140625 42.09375 16.703125 \nz\nM 13.234375 30.90625 \nL 42.1875 30.90625 \nQ 41.609375 37.453125 38.875 40.71875 \nQ 34.671875 45.796875 27.984375 45.796875 \nQ 21.921875 45.796875 17.796875 41.75 \nQ 13.671875 37.703125 13.234375 30.90625 \nz\n\" id=\"ArialMT-101\"/>\n       <path d=\"M 6.5 0 \nL 6.5 51.859375 \nL 14.40625 51.859375 \nL 14.40625 44 \nQ 17.4375 49.515625 20 51.265625 \nQ 22.5625 53.03125 25.640625 53.03125 \nQ 30.078125 53.03125 34.671875 50.203125 \nL 31.640625 42.046875 \nQ 28.421875 43.953125 25.203125 43.953125 \nQ 22.3125 43.953125 20.015625 42.21875 \nQ 17.71875 40.484375 16.75 37.40625 \nQ 15.28125 32.71875 15.28125 27.15625 \nL 15.28125 0 \nz\n\" id=\"ArialMT-114\"/>\n      </defs>\n      <g style=\"fill:#262626;\" transform=\"translate(31.33875 509.436797)scale(0.11 -0.11)\">\n       <use xlink:href=\"#ArialMT-70\"/>\n       <use x=\"61.083984\" xlink:href=\"#ArialMT-97\"/>\n       <use x=\"116.699219\" xlink:href=\"#ArialMT-115\"/>\n       <use x=\"166.699219\" xlink:href=\"#ArialMT-104\"/>\n       <use x=\"222.314453\" xlink:href=\"#ArialMT-105\"/>\n       <use x=\"244.53125\" xlink:href=\"#ArialMT-111\"/>\n       <use x=\"300.146484\" xlink:href=\"#ArialMT-110\"/>\n       <use x=\"355.761719\" xlink:href=\"#ArialMT-32\"/>\n       <use x=\"383.544922\" xlink:href=\"#ArialMT-97\"/>\n       <use x=\"439.160156\" xlink:href=\"#ArialMT-99\"/>\n       <use x=\"489.160156\" xlink:href=\"#ArialMT-99\"/>\n       <use x=\"539.160156\" xlink:href=\"#ArialMT-101\"/>\n       <use x=\"594.775391\" xlink:href=\"#ArialMT-115\"/>\n       <use x=\"644.775391\" xlink:href=\"#ArialMT-115\"/>\n       <use x=\"694.775391\" xlink:href=\"#ArialMT-111\"/>\n       <use x=\"750.390625\" xlink:href=\"#ArialMT-114\"/>\n       <use x=\"783.691406\" xlink:href=\"#ArialMT-105\"/>\n       <use x=\"805.908203\" xlink:href=\"#ArialMT-101\"/>\n       <use x=\"861.523438\" xlink:href=\"#ArialMT-115\"/>\n      </g>\n     </g>\n    </g>\n    <g id=\"ytick_2\">\n     <g id=\"line2d_9\">\n      <path clip-path=\"url(#pf54a92c9d8)\" d=\"M 141.100313 414.9 \nL 978.100312 414.9 \n\" style=\"fill:none;stroke:#ffffff;stroke-linecap:round;\"/>\n     </g>\n     <g id=\"text_9\">\n      <!-- Food and beverages -->\n      <defs>\n       <path d=\"M 40.234375 0 \nL 40.234375 6.546875 \nQ 35.296875 -1.171875 25.734375 -1.171875 \nQ 19.53125 -1.171875 14.328125 2.25 \nQ 9.125 5.671875 6.265625 11.796875 \nQ 3.421875 17.921875 3.421875 25.875 \nQ 3.421875 33.640625 6 39.96875 \nQ 8.59375 46.296875 13.765625 49.65625 \nQ 18.953125 53.03125 25.34375 53.03125 \nQ 30.03125 53.03125 33.6875 51.046875 \nQ 37.359375 49.078125 39.65625 45.90625 \nL 39.65625 71.578125 \nL 48.390625 71.578125 \nL 48.390625 0 \nz\nM 12.453125 25.875 \nQ 12.453125 15.921875 16.640625 10.984375 \nQ 20.84375 6.0625 26.5625 6.0625 \nQ 32.328125 6.0625 36.34375 10.765625 \nQ 40.375 15.484375 40.375 25.140625 \nQ 40.375 35.796875 36.265625 40.765625 \nQ 32.171875 45.75 26.171875 45.75 \nQ 20.3125 45.75 16.375 40.96875 \nQ 12.453125 36.1875 12.453125 25.875 \nz\n\" id=\"ArialMT-100\"/>\n       <path d=\"M 14.703125 0 \nL 6.546875 0 \nL 6.546875 71.578125 \nL 15.328125 71.578125 \nL 15.328125 46.046875 \nQ 20.90625 53.03125 29.546875 53.03125 \nQ 34.328125 53.03125 38.59375 51.09375 \nQ 42.875 49.171875 45.625 45.671875 \nQ 48.390625 42.1875 49.953125 37.25 \nQ 51.515625 32.328125 51.515625 26.703125 \nQ 51.515625 13.375 44.921875 6.09375 \nQ 38.328125 -1.171875 29.109375 -1.171875 \nQ 19.921875 -1.171875 14.703125 6.5 \nz\nM 14.59375 26.3125 \nQ 14.59375 17 17.140625 12.84375 \nQ 21.296875 6.0625 28.375 6.0625 \nQ 34.125 6.0625 38.328125 11.0625 \nQ 42.53125 16.0625 42.53125 25.984375 \nQ 42.53125 36.140625 38.5 40.96875 \nQ 34.46875 45.796875 28.765625 45.796875 \nQ 23 45.796875 18.796875 40.796875 \nQ 14.59375 35.796875 14.59375 26.3125 \nz\n\" id=\"ArialMT-98\"/>\n       <path d=\"M 21 0 \nL 1.265625 51.859375 \nL 10.546875 51.859375 \nL 21.6875 20.796875 \nQ 23.484375 15.765625 25 10.359375 \nQ 26.171875 14.453125 28.265625 20.21875 \nL 39.796875 51.859375 \nL 48.828125 51.859375 \nL 29.203125 0 \nz\n\" id=\"ArialMT-118\"/>\n       <path d=\"M 4.984375 -4.296875 \nL 13.53125 -5.5625 \nQ 14.0625 -9.515625 16.5 -11.328125 \nQ 19.78125 -13.765625 25.4375 -13.765625 \nQ 31.546875 -13.765625 34.859375 -11.328125 \nQ 38.1875 -8.890625 39.359375 -4.5 \nQ 40.046875 -1.8125 39.984375 6.78125 \nQ 34.234375 0 25.640625 0 \nQ 14.9375 0 9.078125 7.71875 \nQ 3.21875 15.4375 3.21875 26.21875 \nQ 3.21875 33.640625 5.90625 39.90625 \nQ 8.59375 46.1875 13.6875 49.609375 \nQ 18.796875 53.03125 25.6875 53.03125 \nQ 34.859375 53.03125 40.828125 45.609375 \nL 40.828125 51.859375 \nL 48.921875 51.859375 \nL 48.921875 7.03125 \nQ 48.921875 -5.078125 46.453125 -10.125 \nQ 44 -15.1875 38.640625 -18.109375 \nQ 33.296875 -21.046875 25.484375 -21.046875 \nQ 16.21875 -21.046875 10.5 -16.875 \nQ 4.78125 -12.703125 4.984375 -4.296875 \nz\nM 12.25 26.859375 \nQ 12.25 16.65625 16.296875 11.96875 \nQ 20.359375 7.28125 26.46875 7.28125 \nQ 32.515625 7.28125 36.609375 11.9375 \nQ 40.71875 16.609375 40.71875 26.5625 \nQ 40.71875 36.078125 36.5 40.90625 \nQ 32.28125 45.75 26.3125 45.75 \nQ 20.453125 45.75 16.34375 40.984375 \nQ 12.25 36.234375 12.25 26.859375 \nz\n\" id=\"ArialMT-103\"/>\n      </defs>\n      <g style=\"fill:#262626;\" transform=\"translate(30.702813 418.836797)scale(0.11 -0.11)\">\n       <use xlink:href=\"#ArialMT-70\"/>\n       <use x=\"61.083984\" xlink:href=\"#ArialMT-111\"/>\n       <use x=\"116.699219\" xlink:href=\"#ArialMT-111\"/>\n       <use x=\"172.314453\" xlink:href=\"#ArialMT-100\"/>\n       <use x=\"227.929688\" xlink:href=\"#ArialMT-32\"/>\n       <use x=\"255.712891\" xlink:href=\"#ArialMT-97\"/>\n       <use x=\"311.328125\" xlink:href=\"#ArialMT-110\"/>\n       <use x=\"366.943359\" xlink:href=\"#ArialMT-100\"/>\n       <use x=\"422.558594\" xlink:href=\"#ArialMT-32\"/>\n       <use x=\"450.341797\" xlink:href=\"#ArialMT-98\"/>\n       <use x=\"505.957031\" xlink:href=\"#ArialMT-101\"/>\n       <use x=\"561.572266\" xlink:href=\"#ArialMT-118\"/>\n       <use x=\"611.572266\" xlink:href=\"#ArialMT-101\"/>\n       <use x=\"667.1875\" xlink:href=\"#ArialMT-114\"/>\n       <use x=\"700.488281\" xlink:href=\"#ArialMT-97\"/>\n       <use x=\"756.103516\" xlink:href=\"#ArialMT-103\"/>\n       <use x=\"811.71875\" xlink:href=\"#ArialMT-101\"/>\n       <use x=\"867.333984\" xlink:href=\"#ArialMT-115\"/>\n      </g>\n     </g>\n    </g>\n    <g id=\"ytick_3\">\n     <g id=\"line2d_10\">\n      <path clip-path=\"url(#pf54a92c9d8)\" d=\"M 141.100313 324.3 \nL 978.100312 324.3 \n\" style=\"fill:none;stroke:#ffffff;stroke-linecap:round;\"/>\n     </g>\n     <g id=\"text_10\">\n      <!-- Electronic accessories -->\n      <defs>\n       <path d=\"M 7.90625 0 \nL 7.90625 71.578125 \nL 59.671875 71.578125 \nL 59.671875 63.140625 \nL 17.390625 63.140625 \nL 17.390625 41.21875 \nL 56.984375 41.21875 \nL 56.984375 32.8125 \nL 17.390625 32.8125 \nL 17.390625 8.453125 \nL 61.328125 8.453125 \nL 61.328125 0 \nz\n\" id=\"ArialMT-69\"/>\n       <path d=\"M 6.390625 0 \nL 6.390625 71.578125 \nL 15.1875 71.578125 \nL 15.1875 0 \nz\n\" id=\"ArialMT-108\"/>\n       <path d=\"M 25.78125 7.859375 \nL 27.046875 0.09375 \nQ 23.34375 -0.6875 20.40625 -0.6875 \nQ 15.625 -0.6875 12.984375 0.828125 \nQ 10.359375 2.34375 9.28125 4.8125 \nQ 8.203125 7.28125 8.203125 15.1875 \nL 8.203125 45.015625 \nL 1.765625 45.015625 \nL 1.765625 51.859375 \nL 8.203125 51.859375 \nL 8.203125 64.703125 \nL 16.9375 69.96875 \nL 16.9375 51.859375 \nL 25.78125 51.859375 \nL 25.78125 45.015625 \nL 16.9375 45.015625 \nL 16.9375 14.703125 \nQ 16.9375 10.9375 17.40625 9.859375 \nQ 17.875 8.796875 18.921875 8.15625 \nQ 19.96875 7.515625 21.921875 7.515625 \nQ 23.390625 7.515625 25.78125 7.859375 \nz\n\" id=\"ArialMT-116\"/>\n      </defs>\n      <g style=\"fill:#262626;\" transform=\"translate(22.174375 328.236797)scale(0.11 -0.11)\">\n       <use xlink:href=\"#ArialMT-69\"/>\n       <use x=\"66.699219\" xlink:href=\"#ArialMT-108\"/>\n       <use x=\"88.916016\" xlink:href=\"#ArialMT-101\"/>\n       <use x=\"144.53125\" xlink:href=\"#ArialMT-99\"/>\n       <use x=\"194.53125\" xlink:href=\"#ArialMT-116\"/>\n       <use x=\"222.314453\" xlink:href=\"#ArialMT-114\"/>\n       <use x=\"255.615234\" xlink:href=\"#ArialMT-111\"/>\n       <use x=\"311.230469\" xlink:href=\"#ArialMT-110\"/>\n       <use x=\"366.845703\" xlink:href=\"#ArialMT-105\"/>\n       <use x=\"389.0625\" xlink:href=\"#ArialMT-99\"/>\n       <use x=\"439.0625\" xlink:href=\"#ArialMT-32\"/>\n       <use x=\"466.845703\" xlink:href=\"#ArialMT-97\"/>\n       <use x=\"522.460938\" xlink:href=\"#ArialMT-99\"/>\n       <use x=\"572.460938\" xlink:href=\"#ArialMT-99\"/>\n       <use x=\"622.460938\" xlink:href=\"#ArialMT-101\"/>\n       <use x=\"678.076172\" xlink:href=\"#ArialMT-115\"/>\n       <use x=\"728.076172\" xlink:href=\"#ArialMT-115\"/>\n       <use x=\"778.076172\" xlink:href=\"#ArialMT-111\"/>\n       <use x=\"833.691406\" xlink:href=\"#ArialMT-114\"/>\n       <use x=\"866.992188\" xlink:href=\"#ArialMT-105\"/>\n       <use x=\"889.208984\" xlink:href=\"#ArialMT-101\"/>\n       <use x=\"944.824219\" xlink:href=\"#ArialMT-115\"/>\n      </g>\n     </g>\n    </g>\n    <g id=\"ytick_4\">\n     <g id=\"line2d_11\">\n      <path clip-path=\"url(#pf54a92c9d8)\" d=\"M 141.100313 233.7 \nL 978.100312 233.7 \n\" style=\"fill:none;stroke:#ffffff;stroke-linecap:round;\"/>\n     </g>\n     <g id=\"text_11\">\n      <!-- Sports and travel -->\n      <defs>\n       <path d=\"M 4.5 23 \nL 13.421875 23.78125 \nQ 14.0625 18.40625 16.375 14.96875 \nQ 18.703125 11.53125 23.578125 9.40625 \nQ 28.46875 7.28125 34.578125 7.28125 \nQ 39.984375 7.28125 44.140625 8.890625 \nQ 48.296875 10.5 50.3125 13.296875 \nQ 52.34375 16.109375 52.34375 19.4375 \nQ 52.34375 22.796875 50.390625 25.3125 \nQ 48.4375 27.828125 43.953125 29.546875 \nQ 41.0625 30.671875 31.203125 33.03125 \nQ 21.34375 35.40625 17.390625 37.5 \nQ 12.25 40.1875 9.734375 44.15625 \nQ 7.234375 48.140625 7.234375 53.078125 \nQ 7.234375 58.5 10.296875 63.203125 \nQ 13.375 67.921875 19.28125 70.359375 \nQ 25.203125 72.796875 32.421875 72.796875 \nQ 40.375 72.796875 46.453125 70.234375 \nQ 52.546875 67.671875 55.8125 62.6875 \nQ 59.078125 57.71875 59.328125 51.421875 \nL 50.25 50.734375 \nQ 49.515625 57.515625 45.28125 60.984375 \nQ 41.0625 64.453125 32.8125 64.453125 \nQ 24.21875 64.453125 20.28125 61.296875 \nQ 16.359375 58.15625 16.359375 53.71875 \nQ 16.359375 49.859375 19.140625 47.359375 \nQ 21.875 44.875 33.421875 42.265625 \nQ 44.96875 39.65625 49.265625 37.703125 \nQ 55.515625 34.8125 58.484375 30.390625 \nQ 61.46875 25.984375 61.46875 20.21875 \nQ 61.46875 14.5 58.203125 9.4375 \nQ 54.9375 4.390625 48.796875 1.578125 \nQ 42.671875 -1.21875 35.015625 -1.21875 \nQ 25.296875 -1.21875 18.71875 1.609375 \nQ 12.15625 4.4375 8.421875 10.125 \nQ 4.6875 15.828125 4.5 23 \nz\n\" id=\"ArialMT-83\"/>\n       <path d=\"M 6.59375 -19.875 \nL 6.59375 51.859375 \nL 14.59375 51.859375 \nL 14.59375 45.125 \nQ 17.4375 49.078125 21 51.046875 \nQ 24.5625 53.03125 29.640625 53.03125 \nQ 36.28125 53.03125 41.359375 49.609375 \nQ 46.4375 46.1875 49.015625 39.953125 \nQ 51.609375 33.734375 51.609375 26.3125 \nQ 51.609375 18.359375 48.75 11.984375 \nQ 45.90625 5.609375 40.453125 2.21875 \nQ 35.015625 -1.171875 29 -1.171875 \nQ 24.609375 -1.171875 21.109375 0.6875 \nQ 17.625 2.546875 15.375 5.375 \nL 15.375 -19.875 \nz\nM 14.546875 25.640625 \nQ 14.546875 15.625 18.59375 10.84375 \nQ 22.65625 6.0625 28.421875 6.0625 \nQ 34.28125 6.0625 38.453125 11.015625 \nQ 42.625 15.96875 42.625 26.375 \nQ 42.625 36.28125 38.546875 41.203125 \nQ 34.46875 46.140625 28.8125 46.140625 \nQ 23.1875 46.140625 18.859375 40.890625 \nQ 14.546875 35.640625 14.546875 25.640625 \nz\n\" id=\"ArialMT-112\"/>\n      </defs>\n      <g style=\"fill:#262626;\" transform=\"translate(48.450625 237.703828)scale(0.11 -0.11)\">\n       <use xlink:href=\"#ArialMT-83\"/>\n       <use x=\"66.699219\" xlink:href=\"#ArialMT-112\"/>\n       <use x=\"122.314453\" xlink:href=\"#ArialMT-111\"/>\n       <use x=\"177.929688\" xlink:href=\"#ArialMT-114\"/>\n       <use x=\"211.230469\" xlink:href=\"#ArialMT-116\"/>\n       <use x=\"239.013672\" xlink:href=\"#ArialMT-115\"/>\n       <use x=\"289.013672\" xlink:href=\"#ArialMT-32\"/>\n       <use x=\"316.796875\" xlink:href=\"#ArialMT-97\"/>\n       <use x=\"372.412109\" xlink:href=\"#ArialMT-110\"/>\n       <use x=\"428.027344\" xlink:href=\"#ArialMT-100\"/>\n       <use x=\"483.642578\" xlink:href=\"#ArialMT-32\"/>\n       <use x=\"511.425781\" xlink:href=\"#ArialMT-116\"/>\n       <use x=\"539.208984\" xlink:href=\"#ArialMT-114\"/>\n       <use x=\"572.509766\" xlink:href=\"#ArialMT-97\"/>\n       <use x=\"628.125\" xlink:href=\"#ArialMT-118\"/>\n       <use x=\"678.125\" xlink:href=\"#ArialMT-101\"/>\n       <use x=\"733.740234\" xlink:href=\"#ArialMT-108\"/>\n      </g>\n     </g>\n    </g>\n    <g id=\"ytick_5\">\n     <g id=\"line2d_12\">\n      <path clip-path=\"url(#pf54a92c9d8)\" d=\"M 141.100313 143.1 \nL 978.100312 143.1 \n\" style=\"fill:none;stroke:#ffffff;stroke-linecap:round;\"/>\n     </g>\n     <g id=\"text_12\">\n      <!-- Home and lifestyle -->\n      <defs>\n       <path d=\"M 8.015625 0 \nL 8.015625 71.578125 \nL 17.484375 71.578125 \nL 17.484375 42.1875 \nL 54.6875 42.1875 \nL 54.6875 71.578125 \nL 64.15625 71.578125 \nL 64.15625 0 \nL 54.6875 0 \nL 54.6875 33.734375 \nL 17.484375 33.734375 \nL 17.484375 0 \nz\n\" id=\"ArialMT-72\"/>\n       <path d=\"M 6.59375 0 \nL 6.59375 51.859375 \nL 14.453125 51.859375 \nL 14.453125 44.578125 \nQ 16.890625 48.390625 20.9375 50.703125 \nQ 25 53.03125 30.171875 53.03125 \nQ 35.9375 53.03125 39.625 50.640625 \nQ 43.3125 48.25 44.828125 43.953125 \nQ 50.984375 53.03125 60.84375 53.03125 \nQ 68.5625 53.03125 72.703125 48.75 \nQ 76.859375 44.484375 76.859375 35.59375 \nL 76.859375 0 \nL 68.109375 0 \nL 68.109375 32.671875 \nQ 68.109375 37.9375 67.25 40.25 \nQ 66.40625 42.578125 64.15625 43.984375 \nQ 61.921875 45.40625 58.890625 45.40625 \nQ 53.421875 45.40625 49.796875 41.765625 \nQ 46.1875 38.140625 46.1875 30.125 \nL 46.1875 0 \nL 37.40625 0 \nL 37.40625 33.6875 \nQ 37.40625 39.546875 35.25 42.46875 \nQ 33.109375 45.40625 28.21875 45.40625 \nQ 24.515625 45.40625 21.359375 43.453125 \nQ 18.21875 41.5 16.796875 37.734375 \nQ 15.375 33.984375 15.375 26.90625 \nL 15.375 0 \nz\n\" id=\"ArialMT-109\"/>\n       <path d=\"M 8.6875 0 \nL 8.6875 45.015625 \nL 0.921875 45.015625 \nL 0.921875 51.859375 \nL 8.6875 51.859375 \nL 8.6875 57.375 \nQ 8.6875 62.59375 9.625 65.140625 \nQ 10.890625 68.5625 14.078125 70.671875 \nQ 17.28125 72.796875 23.046875 72.796875 \nQ 26.765625 72.796875 31.25 71.921875 \nL 29.9375 64.265625 \nQ 27.203125 64.75 24.75 64.75 \nQ 20.75 64.75 19.09375 63.03125 \nQ 17.4375 61.328125 17.4375 56.640625 \nL 17.4375 51.859375 \nL 27.546875 51.859375 \nL 27.546875 45.015625 \nL 17.4375 45.015625 \nL 17.4375 0 \nz\n\" id=\"ArialMT-102\"/>\n       <path d=\"M 6.203125 -19.96875 \nL 5.21875 -11.71875 \nQ 8.109375 -12.5 10.25 -12.5 \nQ 13.1875 -12.5 14.9375 -11.515625 \nQ 16.703125 -10.546875 17.828125 -8.796875 \nQ 18.65625 -7.46875 20.515625 -2.25 \nQ 20.75 -1.515625 21.296875 -0.09375 \nL 1.609375 51.859375 \nL 11.078125 51.859375 \nL 21.875 21.828125 \nQ 23.96875 16.109375 25.640625 9.8125 \nQ 27.15625 15.875 29.25 21.625 \nL 40.328125 51.859375 \nL 49.125 51.859375 \nL 29.390625 -0.875 \nQ 26.21875 -9.421875 24.46875 -12.640625 \nQ 22.125 -17 19.09375 -19.015625 \nQ 16.0625 -21.046875 11.859375 -21.046875 \nQ 9.328125 -21.046875 6.203125 -19.96875 \nz\n\" id=\"ArialMT-121\"/>\n      </defs>\n      <g style=\"fill:#262626;\" transform=\"translate(41.118437 147.103828)scale(0.11 -0.11)\">\n       <use xlink:href=\"#ArialMT-72\"/>\n       <use x=\"72.216797\" xlink:href=\"#ArialMT-111\"/>\n       <use x=\"127.832031\" xlink:href=\"#ArialMT-109\"/>\n       <use x=\"211.132812\" xlink:href=\"#ArialMT-101\"/>\n       <use x=\"266.748047\" xlink:href=\"#ArialMT-32\"/>\n       <use x=\"294.53125\" xlink:href=\"#ArialMT-97\"/>\n       <use x=\"350.146484\" xlink:href=\"#ArialMT-110\"/>\n       <use x=\"405.761719\" xlink:href=\"#ArialMT-100\"/>\n       <use x=\"461.376953\" xlink:href=\"#ArialMT-32\"/>\n       <use x=\"489.160156\" xlink:href=\"#ArialMT-108\"/>\n       <use x=\"511.376953\" xlink:href=\"#ArialMT-105\"/>\n       <use x=\"533.59375\" xlink:href=\"#ArialMT-102\"/>\n       <use x=\"561.376953\" xlink:href=\"#ArialMT-101\"/>\n       <use x=\"616.992188\" xlink:href=\"#ArialMT-115\"/>\n       <use x=\"666.992188\" xlink:href=\"#ArialMT-116\"/>\n       <use x=\"694.775391\" xlink:href=\"#ArialMT-121\"/>\n       <use x=\"744.775391\" xlink:href=\"#ArialMT-108\"/>\n       <use x=\"766.992188\" xlink:href=\"#ArialMT-101\"/>\n      </g>\n     </g>\n    </g>\n    <g id=\"ytick_6\">\n     <g id=\"line2d_13\">\n      <path clip-path=\"url(#pf54a92c9d8)\" d=\"M 141.100313 52.5 \nL 978.100312 52.5 \n\" style=\"fill:none;stroke:#ffffff;stroke-linecap:round;\"/>\n     </g>\n     <g id=\"text_13\">\n      <!-- Health and beauty -->\n      <defs>\n       <path d=\"M 40.578125 0 \nL 40.578125 7.625 \nQ 34.515625 -1.171875 24.125 -1.171875 \nQ 19.53125 -1.171875 15.546875 0.578125 \nQ 11.578125 2.34375 9.640625 5 \nQ 7.71875 7.671875 6.9375 11.53125 \nQ 6.390625 14.109375 6.390625 19.734375 \nL 6.390625 51.859375 \nL 15.1875 51.859375 \nL 15.1875 23.09375 \nQ 15.1875 16.21875 15.71875 13.8125 \nQ 16.546875 10.359375 19.234375 8.375 \nQ 21.921875 6.390625 25.875 6.390625 \nQ 29.828125 6.390625 33.296875 8.421875 \nQ 36.765625 10.453125 38.203125 13.9375 \nQ 39.65625 17.4375 39.65625 24.078125 \nL 39.65625 51.859375 \nL 48.4375 51.859375 \nL 48.4375 0 \nz\n\" id=\"ArialMT-117\"/>\n      </defs>\n      <g style=\"fill:#262626;\" transform=\"translate(42.318125 56.436797)scale(0.11 -0.11)\">\n       <use xlink:href=\"#ArialMT-72\"/>\n       <use x=\"72.216797\" xlink:href=\"#ArialMT-101\"/>\n       <use x=\"127.832031\" xlink:href=\"#ArialMT-97\"/>\n       <use x=\"183.447266\" xlink:href=\"#ArialMT-108\"/>\n       <use x=\"205.664062\" xlink:href=\"#ArialMT-116\"/>\n       <use x=\"233.447266\" xlink:href=\"#ArialMT-104\"/>\n       <use x=\"289.0625\" xlink:href=\"#ArialMT-32\"/>\n       <use x=\"316.845703\" xlink:href=\"#ArialMT-97\"/>\n       <use x=\"372.460938\" xlink:href=\"#ArialMT-110\"/>\n       <use x=\"428.076172\" xlink:href=\"#ArialMT-100\"/>\n       <use x=\"483.691406\" xlink:href=\"#ArialMT-32\"/>\n       <use x=\"511.474609\" xlink:href=\"#ArialMT-98\"/>\n       <use x=\"567.089844\" xlink:href=\"#ArialMT-101\"/>\n       <use x=\"622.705078\" xlink:href=\"#ArialMT-97\"/>\n       <use x=\"678.320312\" xlink:href=\"#ArialMT-117\"/>\n       <use x=\"733.935547\" xlink:href=\"#ArialMT-116\"/>\n       <use x=\"761.71875\" xlink:href=\"#ArialMT-121\"/>\n      </g>\n     </g>\n    </g>\n    <g id=\"text_14\">\n     <!-- Product line -->\n     <defs>\n      <path d=\"M 7.71875 0 \nL 7.71875 71.578125 \nL 34.71875 71.578125 \nQ 41.84375 71.578125 45.609375 70.90625 \nQ 50.875 70.015625 54.4375 67.546875 \nQ 58.015625 65.09375 60.1875 60.640625 \nQ 62.359375 56.203125 62.359375 50.875 \nQ 62.359375 41.75 56.546875 35.421875 \nQ 50.734375 29.109375 35.546875 29.109375 \nL 17.1875 29.109375 \nL 17.1875 0 \nz\nM 17.1875 37.546875 \nL 35.6875 37.546875 \nQ 44.875 37.546875 48.734375 40.96875 \nQ 52.59375 44.390625 52.59375 50.59375 \nQ 52.59375 55.078125 50.3125 58.265625 \nQ 48.046875 61.46875 44.34375 62.5 \nQ 41.9375 63.140625 35.5 63.140625 \nL 17.1875 63.140625 \nz\n\" id=\"ArialMT-80\"/>\n     </defs>\n     <g style=\"fill:#262626;\" transform=\"translate(15.789375 310.682813)rotate(-90)scale(0.12 -0.12)\">\n      <use xlink:href=\"#ArialMT-80\"/>\n      <use x=\"66.699219\" xlink:href=\"#ArialMT-114\"/>\n      <use x=\"100\" xlink:href=\"#ArialMT-111\"/>\n      <use x=\"155.615234\" xlink:href=\"#ArialMT-100\"/>\n      <use x=\"211.230469\" xlink:href=\"#ArialMT-117\"/>\n      <use x=\"266.845703\" xlink:href=\"#ArialMT-99\"/>\n      <use x=\"316.845703\" xlink:href=\"#ArialMT-116\"/>\n      <use x=\"344.628906\" xlink:href=\"#ArialMT-32\"/>\n      <use x=\"372.412109\" xlink:href=\"#ArialMT-108\"/>\n      <use x=\"394.628906\" xlink:href=\"#ArialMT-105\"/>\n      <use x=\"416.845703\" xlink:href=\"#ArialMT-110\"/>\n      <use x=\"472.460938\" xlink:href=\"#ArialMT-101\"/>\n     </g>\n    </g>\n   </g>\n   <g id=\"patch_3\">\n    <path clip-path=\"url(#pf54a92c9d8)\" d=\"M 141.100313 528.15 \nL 938.24317 528.15 \nL 938.24317 482.85 \nL 141.100313 482.85 \nz\n\" style=\"fill:#0000ff;stroke:#ffffff;stroke-linejoin:miter;\"/>\n   </g>\n   <g id=\"patch_4\">\n    <path clip-path=\"url(#pf54a92c9d8)\" d=\"M 141.100313 437.55 \nL 902.819071 437.55 \nL 902.819071 392.25 \nL 141.100313 392.25 \nz\n\" style=\"fill:#0000ff;stroke:#ffffff;stroke-linejoin:miter;\"/>\n   </g>\n   <g id=\"patch_5\">\n    <path clip-path=\"url(#pf54a92c9d8)\" d=\"M 141.100313 346.95 \nL 868.200065 346.95 \nL 868.200065 301.65 \nL 141.100313 301.65 \nz\n\" style=\"fill:#0000ff;stroke:#ffffff;stroke-linejoin:miter;\"/>\n   </g>\n   <g id=\"patch_6\">\n    <path clip-path=\"url(#pf54a92c9d8)\" d=\"M 141.100313 256.35 \nL 834.386153 256.35 \nL 834.386153 211.05 \nL 141.100313 211.05 \nz\n\" style=\"fill:#0000ff;stroke:#ffffff;stroke-linejoin:miter;\"/>\n   </g>\n   <g id=\"patch_7\">\n    <path clip-path=\"url(#pf54a92c9d8)\" d=\"M 141.100313 165.75 \nL 785.174834 165.75 \nL 785.174834 120.45 \nL 141.100313 120.45 \nz\n\" style=\"fill:#0000ff;stroke:#ffffff;stroke-linejoin:miter;\"/>\n   </g>\n   <g id=\"patch_8\">\n    <path clip-path=\"url(#pf54a92c9d8)\" d=\"M 141.100313 75.15 \nL 722.377568 75.15 \nL 722.377568 29.85 \nL 141.100313 29.85 \nz\n\" style=\"fill:#0000ff;stroke:#ffffff;stroke-linejoin:miter;\"/>\n   </g>\n   <g id=\"patch_9\">\n    <path d=\"M 141.100313 550.8 \nL 141.100313 7.2 \n\" style=\"fill:none;stroke:#ffffff;stroke-linecap:square;stroke-linejoin:miter;stroke-width:1.25;\"/>\n   </g>\n   <g id=\"patch_10\">\n    <path d=\"M 978.100312 550.8 \nL 978.100312 7.2 \n\" style=\"fill:none;stroke:#ffffff;stroke-linecap:square;stroke-linejoin:miter;stroke-width:1.25;\"/>\n   </g>\n   <g id=\"patch_11\">\n    <path d=\"M 141.100313 550.8 \nL 978.100312 550.8 \n\" style=\"fill:none;stroke:#ffffff;stroke-linecap:square;stroke-linejoin:miter;stroke-width:1.25;\"/>\n   </g>\n   <g id=\"patch_12\">\n    <path d=\"M 141.100313 7.2 \nL 978.100312 7.2 \n\" style=\"fill:none;stroke:#ffffff;stroke-linecap:square;stroke-linejoin:miter;stroke-width:1.25;\"/>\n   </g>\n   <g id=\"legend_1\">\n    <g id=\"patch_13\">\n     <path d=\"M 830.042031 31.822813 \nL 970.400312 31.822813 \nQ 972.600312 31.822813 972.600312 29.622813 \nL 972.600312 14.9 \nQ 972.600312 12.7 970.400312 12.7 \nL 830.042031 12.7 \nQ 827.842031 12.7 827.842031 14.9 \nL 827.842031 29.622813 \nQ 827.842031 31.822813 830.042031 31.822813 \nz\n\" style=\"fill:#eaeaf2;opacity:0.8;stroke:#cccccc;stroke-linejoin:miter;\"/>\n    </g>\n    <g id=\"patch_14\">\n     <path d=\"M 832.242031 25.107656 \nL 854.242031 25.107656 \nL 854.242031 17.407656 \nL 832.242031 17.407656 \nz\n\" style=\"fill:#0000ff;stroke:#ffffff;stroke-linejoin:miter;\"/>\n    </g>\n    <g id=\"text_15\">\n     <!-- Frequency of Product -->\n     <defs>\n      <path d=\"M 39.65625 -19.875 \nL 39.65625 5.515625 \nQ 37.59375 2.640625 33.90625 0.734375 \nQ 30.21875 -1.171875 26.078125 -1.171875 \nQ 16.84375 -1.171875 10.171875 6.203125 \nQ 3.515625 13.578125 3.515625 26.421875 \nQ 3.515625 34.234375 6.21875 40.421875 \nQ 8.9375 46.625 14.078125 49.828125 \nQ 19.234375 53.03125 25.390625 53.03125 \nQ 35.015625 53.03125 40.53125 44.921875 \nL 40.53125 51.859375 \nL 48.4375 51.859375 \nL 48.4375 -19.875 \nz\nM 12.546875 26.078125 \nQ 12.546875 16.0625 16.75 11.0625 \nQ 20.953125 6.0625 26.8125 6.0625 \nQ 32.421875 6.0625 36.46875 10.8125 \nQ 40.53125 15.578125 40.53125 25.296875 \nQ 40.53125 35.640625 36.25 40.859375 \nQ 31.984375 46.09375 26.21875 46.09375 \nQ 20.515625 46.09375 16.53125 41.234375 \nQ 12.546875 36.375 12.546875 26.078125 \nz\n\" id=\"ArialMT-113\"/>\n     </defs>\n     <g style=\"fill:#262626;\" transform=\"translate(863.042031 25.107656)scale(0.11 -0.11)\">\n      <use xlink:href=\"#ArialMT-70\"/>\n      <use x=\"61.083984\" xlink:href=\"#ArialMT-114\"/>\n      <use x=\"94.384766\" xlink:href=\"#ArialMT-101\"/>\n      <use x=\"150\" xlink:href=\"#ArialMT-113\"/>\n      <use x=\"205.615234\" xlink:href=\"#ArialMT-117\"/>\n      <use x=\"261.230469\" xlink:href=\"#ArialMT-101\"/>\n      <use x=\"316.845703\" xlink:href=\"#ArialMT-110\"/>\n      <use x=\"372.460938\" xlink:href=\"#ArialMT-99\"/>\n      <use x=\"422.460938\" xlink:href=\"#ArialMT-121\"/>\n      <use x=\"472.460938\" xlink:href=\"#ArialMT-32\"/>\n      <use x=\"500.244141\" xlink:href=\"#ArialMT-111\"/>\n      <use x=\"555.859375\" xlink:href=\"#ArialMT-102\"/>\n      <use x=\"583.642578\" xlink:href=\"#ArialMT-32\"/>\n      <use x=\"611.425781\" xlink:href=\"#ArialMT-80\"/>\n      <use x=\"678.125\" xlink:href=\"#ArialMT-114\"/>\n      <use x=\"711.425781\" xlink:href=\"#ArialMT-111\"/>\n      <use x=\"767.041016\" xlink:href=\"#ArialMT-100\"/>\n      <use x=\"822.65625\" xlink:href=\"#ArialMT-117\"/>\n      <use x=\"878.271484\" xlink:href=\"#ArialMT-99\"/>\n      <use x=\"928.271484\" xlink:href=\"#ArialMT-116\"/>\n     </g>\n    </g>\n   </g>\n  </g>\n </g>\n <defs>\n  <clipPath id=\"pf54a92c9d8\">\n   <rect height=\"543.6\" width=\"837\" x=\"141.100313\" y=\"7.2\"/>\n  </clipPath>\n </defs>\n</svg>\n",
      "image/png": "[encoded data removed]"
     },
     "metadata": {}
    }
   ],
   "source": [
    "forbranchfreq120.plot(kind=\"barh\", color = 'blue',figsize=(15,10))\n",
    "plt.xticks(rotation=45);\n",
    "plt.savefig(\"figure1.png\")"
   ]
  },
  {
   "cell_type": "markdown",
   "metadata": {},
   "source": [
    "# Payment channel Frequency"
   ]
  },
  {
   "cell_type": "code",
   "execution_count": 117,
   "metadata": {},
   "outputs": [
    {
     "output_type": "execute_result",
     "data": {
      "text/plain": "Text(0.5, 1.0, 'Payment Channel Frequency')"
     },
     "metadata": {},
     "execution_count": 117
    },
    {
     "output_type": "display_data",
     "data": {
      "text/plain": "<Figure size 432x288 with 1 Axes>",
      "image/svg+xml": "<?xml version=\"1.0\" encoding=\"utf-8\" standalone=\"no\"?>\n<!DOCTYPE svg PUBLIC \"-//W3C//DTD SVG 1.1//EN\"\n  \"http://www.w3.org/Graphics/SVG/1.1/DTD/svg11.dtd\">\n<!-- Created with matplotlib (https://matplotlib.org/) -->\n<svg height=\"281.250469pt\" version=\"1.1\" viewBox=\"0 0 392.025469 281.250469\" width=\"392.025469pt\" xmlns=\"http://www.w3.org/2000/svg\" xmlns:xlink=\"http://www.w3.org/1999/xlink\">\n <defs>\n  <style type=\"text/css\">\n*{stroke-linecap:butt;stroke-linejoin:round;}\n  </style>\n </defs>\n <g id=\"figure_1\">\n  <g id=\"patch_1\">\n   <path d=\"M 0 281.250469 \nL 392.025469 281.250469 \nL 392.025469 0 \nL 0 0 \nz\n\" style=\"fill:#ffffff;\"/>\n  </g>\n  <g id=\"axes_1\">\n   <g id=\"patch_2\">\n    <path d=\"M 50.025469 239.375625 \nL 384.825469 239.375625 \nL 384.825469 21.935625 \nL 50.025469 21.935625 \nz\n\" style=\"fill:#eaeaf2;\"/>\n   </g>\n   <g id=\"matplotlib.axis_1\">\n    <g id=\"xtick_1\">\n     <g id=\"text_1\">\n      <!-- Ewallet -->\n      <defs>\n       <path d=\"M 7.90625 0 \nL 7.90625 71.578125 \nL 59.671875 71.578125 \nL 59.671875 63.140625 \nL 17.390625 63.140625 \nL 17.390625 41.21875 \nL 56.984375 41.21875 \nL 56.984375 32.8125 \nL 17.390625 32.8125 \nL 17.390625 8.453125 \nL 61.328125 8.453125 \nL 61.328125 0 \nz\n\" id=\"ArialMT-69\"/>\n       <path d=\"M 16.15625 0 \nL 0.296875 51.859375 \nL 9.375 51.859375 \nL 17.625 21.921875 \nL 20.703125 10.796875 \nQ 20.90625 11.625 23.390625 21.484375 \nL 31.640625 51.859375 \nL 40.671875 51.859375 \nL 48.4375 21.78125 \nL 51.03125 11.859375 \nL 54 21.875 \nL 62.890625 51.859375 \nL 71.4375 51.859375 \nL 55.21875 0 \nL 46.09375 0 \nL 37.84375 31.0625 \nL 35.84375 39.890625 \nL 25.34375 0 \nz\n\" id=\"ArialMT-119\"/>\n       <path d=\"M 40.4375 6.390625 \nQ 35.546875 2.25 31.03125 0.53125 \nQ 26.515625 -1.171875 21.34375 -1.171875 \nQ 12.796875 -1.171875 8.203125 3 \nQ 3.609375 7.171875 3.609375 13.671875 \nQ 3.609375 17.484375 5.34375 20.625 \nQ 7.078125 23.78125 9.890625 25.6875 \nQ 12.703125 27.59375 16.21875 28.5625 \nQ 18.796875 29.25 24.03125 29.890625 \nQ 34.671875 31.15625 39.703125 32.90625 \nQ 39.75 34.71875 39.75 35.203125 \nQ 39.75 40.578125 37.25 42.78125 \nQ 33.890625 45.75 27.25 45.75 \nQ 21.046875 45.75 18.09375 43.578125 \nQ 15.140625 41.40625 13.71875 35.890625 \nL 5.125 37.0625 \nQ 6.296875 42.578125 8.984375 45.96875 \nQ 11.671875 49.359375 16.75 51.1875 \nQ 21.828125 53.03125 28.515625 53.03125 \nQ 35.15625 53.03125 39.296875 51.46875 \nQ 43.453125 49.90625 45.40625 47.53125 \nQ 47.359375 45.171875 48.140625 41.546875 \nQ 48.578125 39.3125 48.578125 33.453125 \nL 48.578125 21.734375 \nQ 48.578125 9.46875 49.140625 6.21875 \nQ 49.703125 2.984375 51.375 0 \nL 42.1875 0 \nQ 40.828125 2.734375 40.4375 6.390625 \nz\nM 39.703125 26.03125 \nQ 34.90625 24.078125 25.34375 22.703125 \nQ 19.921875 21.921875 17.671875 20.9375 \nQ 15.4375 19.96875 14.203125 18.09375 \nQ 12.984375 16.21875 12.984375 13.921875 \nQ 12.984375 10.40625 15.640625 8.0625 \nQ 18.3125 5.71875 23.4375 5.71875 \nQ 28.515625 5.71875 32.46875 7.9375 \nQ 36.421875 10.15625 38.28125 14.015625 \nQ 39.703125 17 39.703125 22.796875 \nz\n\" id=\"ArialMT-97\"/>\n       <path d=\"M 6.390625 0 \nL 6.390625 71.578125 \nL 15.1875 71.578125 \nL 15.1875 0 \nz\n\" id=\"ArialMT-108\"/>\n       <path d=\"M 42.09375 16.703125 \nL 51.171875 15.578125 \nQ 49.03125 7.625 43.21875 3.21875 \nQ 37.40625 -1.171875 28.375 -1.171875 \nQ 17 -1.171875 10.328125 5.828125 \nQ 3.65625 12.84375 3.65625 25.484375 \nQ 3.65625 38.578125 10.390625 45.796875 \nQ 17.140625 53.03125 27.875 53.03125 \nQ 38.28125 53.03125 44.875 45.953125 \nQ 51.46875 38.875 51.46875 26.03125 \nQ 51.46875 25.25 51.421875 23.6875 \nL 12.75 23.6875 \nQ 13.234375 15.140625 17.578125 10.59375 \nQ 21.921875 6.0625 28.421875 6.0625 \nQ 33.25 6.0625 36.671875 8.59375 \nQ 40.09375 11.140625 42.09375 16.703125 \nz\nM 13.234375 30.90625 \nL 42.1875 30.90625 \nQ 41.609375 37.453125 38.875 40.71875 \nQ 34.671875 45.796875 27.984375 45.796875 \nQ 21.921875 45.796875 17.796875 41.75 \nQ 13.671875 37.703125 13.234375 30.90625 \nz\n\" id=\"ArialMT-101\"/>\n       <path d=\"M 25.78125 7.859375 \nL 27.046875 0.09375 \nQ 23.34375 -0.6875 20.40625 -0.6875 \nQ 15.625 -0.6875 12.984375 0.828125 \nQ 10.359375 2.34375 9.28125 4.8125 \nQ 8.203125 7.28125 8.203125 15.1875 \nL 8.203125 45.015625 \nL 1.765625 45.015625 \nL 1.765625 51.859375 \nL 8.203125 51.859375 \nL 8.203125 64.703125 \nL 16.9375 69.96875 \nL 16.9375 51.859375 \nL 25.78125 51.859375 \nL 25.78125 45.015625 \nL 16.9375 45.015625 \nL 16.9375 14.703125 \nQ 16.9375 10.9375 17.40625 9.859375 \nQ 17.875 8.796875 18.921875 8.15625 \nQ 19.96875 7.515625 21.921875 7.515625 \nQ 23.390625 7.515625 25.78125 7.859375 \nz\n\" id=\"ArialMT-116\"/>\n      </defs>\n      <g style=\"fill:#262626;\" transform=\"translate(88.095703 256.749219)scale(0.11 -0.11)\">\n       <use xlink:href=\"#ArialMT-69\"/>\n       <use x=\"66.699219\" xlink:href=\"#ArialMT-119\"/>\n       <use x=\"138.916016\" xlink:href=\"#ArialMT-97\"/>\n       <use x=\"194.53125\" xlink:href=\"#ArialMT-108\"/>\n       <use x=\"216.748047\" xlink:href=\"#ArialMT-108\"/>\n       <use x=\"238.964844\" xlink:href=\"#ArialMT-101\"/>\n       <use x=\"294.580078\" xlink:href=\"#ArialMT-116\"/>\n      </g>\n     </g>\n    </g>\n    <g id=\"xtick_2\">\n     <g id=\"text_2\">\n      <!-- Cash -->\n      <defs>\n       <path d=\"M 58.796875 25.09375 \nL 68.265625 22.703125 \nQ 65.28125 11.03125 57.546875 4.90625 \nQ 49.8125 -1.21875 38.625 -1.21875 \nQ 27.046875 -1.21875 19.796875 3.484375 \nQ 12.546875 8.203125 8.765625 17.140625 \nQ 4.984375 26.078125 4.984375 36.328125 \nQ 4.984375 47.515625 9.25 55.828125 \nQ 13.53125 64.15625 21.40625 68.46875 \nQ 29.296875 72.796875 38.765625 72.796875 \nQ 49.515625 72.796875 56.828125 67.328125 \nQ 64.15625 61.859375 67.046875 51.953125 \nL 57.71875 49.75 \nQ 55.21875 57.5625 50.484375 61.125 \nQ 45.75 64.703125 38.578125 64.703125 \nQ 30.328125 64.703125 24.78125 60.734375 \nQ 19.234375 56.78125 16.984375 50.109375 \nQ 14.75 43.453125 14.75 36.375 \nQ 14.75 27.25 17.40625 20.4375 \nQ 20.0625 13.625 25.671875 10.25 \nQ 31.296875 6.890625 37.84375 6.890625 \nQ 45.796875 6.890625 51.3125 11.46875 \nQ 56.84375 16.0625 58.796875 25.09375 \nz\n\" id=\"ArialMT-67\"/>\n       <path d=\"M 3.078125 15.484375 \nL 11.765625 16.84375 \nQ 12.5 11.625 15.84375 8.84375 \nQ 19.1875 6.0625 25.203125 6.0625 \nQ 31.25 6.0625 34.171875 8.515625 \nQ 37.109375 10.984375 37.109375 14.3125 \nQ 37.109375 17.28125 34.515625 19 \nQ 32.71875 20.171875 25.53125 21.96875 \nQ 15.875 24.421875 12.140625 26.203125 \nQ 8.40625 27.984375 6.46875 31.125 \nQ 4.546875 34.28125 4.546875 38.09375 \nQ 4.546875 41.546875 6.125 44.5 \nQ 7.71875 47.46875 10.453125 49.421875 \nQ 12.5 50.921875 16.03125 51.96875 \nQ 19.578125 53.03125 23.640625 53.03125 \nQ 29.734375 53.03125 34.34375 51.265625 \nQ 38.96875 49.515625 41.15625 46.5 \nQ 43.359375 43.5 44.1875 38.484375 \nL 35.59375 37.3125 \nQ 35.015625 41.3125 32.203125 43.546875 \nQ 29.390625 45.796875 24.265625 45.796875 \nQ 18.21875 45.796875 15.625 43.796875 \nQ 13.03125 41.796875 13.03125 39.109375 \nQ 13.03125 37.40625 14.109375 36.03125 \nQ 15.1875 34.625 17.484375 33.6875 \nQ 18.796875 33.203125 25.25 31.453125 \nQ 34.578125 28.953125 38.25 27.359375 \nQ 41.9375 25.78125 44.03125 22.75 \nQ 46.140625 19.734375 46.140625 15.234375 \nQ 46.140625 10.84375 43.578125 6.953125 \nQ 41.015625 3.078125 36.171875 0.953125 \nQ 31.34375 -1.171875 25.25 -1.171875 \nQ 15.140625 -1.171875 9.84375 3.03125 \nQ 4.546875 7.234375 3.078125 15.484375 \nz\n\" id=\"ArialMT-115\"/>\n       <path d=\"M 6.59375 0 \nL 6.59375 71.578125 \nL 15.375 71.578125 \nL 15.375 45.90625 \nQ 21.53125 53.03125 30.90625 53.03125 \nQ 36.671875 53.03125 40.921875 50.75 \nQ 45.171875 48.484375 47 44.484375 \nQ 48.828125 40.484375 48.828125 32.859375 \nL 48.828125 0 \nL 40.046875 0 \nL 40.046875 32.859375 \nQ 40.046875 39.453125 37.1875 42.453125 \nQ 34.328125 45.453125 29.109375 45.453125 \nQ 25.203125 45.453125 21.75 43.421875 \nQ 18.3125 41.40625 16.84375 37.9375 \nQ 15.375 34.46875 15.375 28.375 \nL 15.375 0 \nz\n\" id=\"ArialMT-104\"/>\n      </defs>\n      <g style=\"fill:#262626;\" transform=\"translate(204.586406 256.749219)scale(0.11 -0.11)\">\n       <use xlink:href=\"#ArialMT-67\"/>\n       <use x=\"72.216797\" xlink:href=\"#ArialMT-97\"/>\n       <use x=\"127.832031\" xlink:href=\"#ArialMT-115\"/>\n       <use x=\"177.832031\" xlink:href=\"#ArialMT-104\"/>\n      </g>\n     </g>\n    </g>\n    <g id=\"xtick_3\">\n     <g id=\"text_3\">\n      <!-- Credit card -->\n      <defs>\n       <path d=\"M 6.5 0 \nL 6.5 51.859375 \nL 14.40625 51.859375 \nL 14.40625 44 \nQ 17.4375 49.515625 20 51.265625 \nQ 22.5625 53.03125 25.640625 53.03125 \nQ 30.078125 53.03125 34.671875 50.203125 \nL 31.640625 42.046875 \nQ 28.421875 43.953125 25.203125 43.953125 \nQ 22.3125 43.953125 20.015625 42.21875 \nQ 17.71875 40.484375 16.75 37.40625 \nQ 15.28125 32.71875 15.28125 27.15625 \nL 15.28125 0 \nz\n\" id=\"ArialMT-114\"/>\n       <path d=\"M 40.234375 0 \nL 40.234375 6.546875 \nQ 35.296875 -1.171875 25.734375 -1.171875 \nQ 19.53125 -1.171875 14.328125 2.25 \nQ 9.125 5.671875 6.265625 11.796875 \nQ 3.421875 17.921875 3.421875 25.875 \nQ 3.421875 33.640625 6 39.96875 \nQ 8.59375 46.296875 13.765625 49.65625 \nQ 18.953125 53.03125 25.34375 53.03125 \nQ 30.03125 53.03125 33.6875 51.046875 \nQ 37.359375 49.078125 39.65625 45.90625 \nL 39.65625 71.578125 \nL 48.390625 71.578125 \nL 48.390625 0 \nz\nM 12.453125 25.875 \nQ 12.453125 15.921875 16.640625 10.984375 \nQ 20.84375 6.0625 26.5625 6.0625 \nQ 32.328125 6.0625 36.34375 10.765625 \nQ 40.375 15.484375 40.375 25.140625 \nQ 40.375 35.796875 36.265625 40.765625 \nQ 32.171875 45.75 26.171875 45.75 \nQ 20.3125 45.75 16.375 40.96875 \nQ 12.453125 36.1875 12.453125 25.875 \nz\n\" id=\"ArialMT-100\"/>\n       <path d=\"M 6.640625 61.46875 \nL 6.640625 71.578125 \nL 15.4375 71.578125 \nL 15.4375 61.46875 \nz\nM 6.640625 0 \nL 6.640625 51.859375 \nL 15.4375 51.859375 \nL 15.4375 0 \nz\n\" id=\"ArialMT-105\"/>\n       <path id=\"ArialMT-32\"/>\n       <path d=\"M 40.4375 19 \nL 49.078125 17.875 \nQ 47.65625 8.9375 41.8125 3.875 \nQ 35.984375 -1.171875 27.484375 -1.171875 \nQ 16.84375 -1.171875 10.375 5.78125 \nQ 3.90625 12.75 3.90625 25.734375 \nQ 3.90625 34.125 6.6875 40.421875 \nQ 9.46875 46.734375 15.15625 49.875 \nQ 20.84375 53.03125 27.546875 53.03125 \nQ 35.984375 53.03125 41.359375 48.75 \nQ 46.734375 44.484375 48.25 36.625 \nL 39.703125 35.296875 \nQ 38.484375 40.53125 35.375 43.15625 \nQ 32.28125 45.796875 27.875 45.796875 \nQ 21.234375 45.796875 17.078125 41.03125 \nQ 12.9375 36.28125 12.9375 25.984375 \nQ 12.9375 15.53125 16.9375 10.796875 \nQ 20.953125 6.0625 27.390625 6.0625 \nQ 32.5625 6.0625 36.03125 9.234375 \nQ 39.5 12.40625 40.4375 19 \nz\n\" id=\"ArialMT-99\"/>\n      </defs>\n      <g style=\"fill:#262626;\" transform=\"translate(302.12875 256.749219)scale(0.11 -0.11)\">\n       <use xlink:href=\"#ArialMT-67\"/>\n       <use x=\"72.216797\" xlink:href=\"#ArialMT-114\"/>\n       <use x=\"105.517578\" xlink:href=\"#ArialMT-101\"/>\n       <use x=\"161.132812\" xlink:href=\"#ArialMT-100\"/>\n       <use x=\"216.748047\" xlink:href=\"#ArialMT-105\"/>\n       <use x=\"238.964844\" xlink:href=\"#ArialMT-116\"/>\n       <use x=\"266.748047\" xlink:href=\"#ArialMT-32\"/>\n       <use x=\"294.53125\" xlink:href=\"#ArialMT-99\"/>\n       <use x=\"344.53125\" xlink:href=\"#ArialMT-97\"/>\n       <use x=\"400.146484\" xlink:href=\"#ArialMT-114\"/>\n       <use x=\"433.447266\" xlink:href=\"#ArialMT-100\"/>\n      </g>\n     </g>\n    </g>\n    <g id=\"text_4\">\n     <!-- Payment -->\n     <defs>\n      <path d=\"M 7.71875 0 \nL 7.71875 71.578125 \nL 34.71875 71.578125 \nQ 41.84375 71.578125 45.609375 70.90625 \nQ 50.875 70.015625 54.4375 67.546875 \nQ 58.015625 65.09375 60.1875 60.640625 \nQ 62.359375 56.203125 62.359375 50.875 \nQ 62.359375 41.75 56.546875 35.421875 \nQ 50.734375 29.109375 35.546875 29.109375 \nL 17.1875 29.109375 \nL 17.1875 0 \nz\nM 17.1875 37.546875 \nL 35.6875 37.546875 \nQ 44.875 37.546875 48.734375 40.96875 \nQ 52.59375 44.390625 52.59375 50.59375 \nQ 52.59375 55.078125 50.3125 58.265625 \nQ 48.046875 61.46875 44.34375 62.5 \nQ 41.9375 63.140625 35.5 63.140625 \nL 17.1875 63.140625 \nz\n\" id=\"ArialMT-80\"/>\n      <path d=\"M 6.203125 -19.96875 \nL 5.21875 -11.71875 \nQ 8.109375 -12.5 10.25 -12.5 \nQ 13.1875 -12.5 14.9375 -11.515625 \nQ 16.703125 -10.546875 17.828125 -8.796875 \nQ 18.65625 -7.46875 20.515625 -2.25 \nQ 20.75 -1.515625 21.296875 -0.09375 \nL 1.609375 51.859375 \nL 11.078125 51.859375 \nL 21.875 21.828125 \nQ 23.96875 16.109375 25.640625 9.8125 \nQ 27.15625 15.875 29.25 21.625 \nL 40.328125 51.859375 \nL 49.125 51.859375 \nL 29.390625 -0.875 \nQ 26.21875 -9.421875 24.46875 -12.640625 \nQ 22.125 -17 19.09375 -19.015625 \nQ 16.0625 -21.046875 11.859375 -21.046875 \nQ 9.328125 -21.046875 6.203125 -19.96875 \nz\n\" id=\"ArialMT-121\"/>\n      <path d=\"M 6.59375 0 \nL 6.59375 51.859375 \nL 14.453125 51.859375 \nL 14.453125 44.578125 \nQ 16.890625 48.390625 20.9375 50.703125 \nQ 25 53.03125 30.171875 53.03125 \nQ 35.9375 53.03125 39.625 50.640625 \nQ 43.3125 48.25 44.828125 43.953125 \nQ 50.984375 53.03125 60.84375 53.03125 \nQ 68.5625 53.03125 72.703125 48.75 \nQ 76.859375 44.484375 76.859375 35.59375 \nL 76.859375 0 \nL 68.109375 0 \nL 68.109375 32.671875 \nQ 68.109375 37.9375 67.25 40.25 \nQ 66.40625 42.578125 64.15625 43.984375 \nQ 61.921875 45.40625 58.890625 45.40625 \nQ 53.421875 45.40625 49.796875 41.765625 \nQ 46.1875 38.140625 46.1875 30.125 \nL 46.1875 0 \nL 37.40625 0 \nL 37.40625 33.6875 \nQ 37.40625 39.546875 35.25 42.46875 \nQ 33.109375 45.40625 28.21875 45.40625 \nQ 24.515625 45.40625 21.359375 43.453125 \nQ 18.21875 41.5 16.796875 37.734375 \nQ 15.375 33.984375 15.375 26.90625 \nL 15.375 0 \nz\n\" id=\"ArialMT-109\"/>\n      <path d=\"M 6.59375 0 \nL 6.59375 51.859375 \nL 14.5 51.859375 \nL 14.5 44.484375 \nQ 20.21875 53.03125 31 53.03125 \nQ 35.6875 53.03125 39.625 51.34375 \nQ 43.5625 49.65625 45.515625 46.921875 \nQ 47.46875 44.1875 48.25 40.4375 \nQ 48.734375 37.984375 48.734375 31.890625 \nL 48.734375 0 \nL 39.9375 0 \nL 39.9375 31.546875 \nQ 39.9375 36.921875 38.90625 39.578125 \nQ 37.890625 42.234375 35.28125 43.8125 \nQ 32.671875 45.40625 29.15625 45.40625 \nQ 23.53125 45.40625 19.453125 41.84375 \nQ 15.375 38.28125 15.375 28.328125 \nL 15.375 0 \nz\n\" id=\"ArialMT-110\"/>\n     </defs>\n     <g style=\"fill:#262626;\" transform=\"translate(193.748906 271.524844)scale(0.12 -0.12)\">\n      <use xlink:href=\"#ArialMT-80\"/>\n      <use x=\"66.699219\" xlink:href=\"#ArialMT-97\"/>\n      <use x=\"122.314453\" xlink:href=\"#ArialMT-121\"/>\n      <use x=\"172.314453\" xlink:href=\"#ArialMT-109\"/>\n      <use x=\"255.615234\" xlink:href=\"#ArialMT-101\"/>\n      <use x=\"311.230469\" xlink:href=\"#ArialMT-110\"/>\n      <use x=\"366.845703\" xlink:href=\"#ArialMT-116\"/>\n     </g>\n    </g>\n   </g>\n   <g id=\"matplotlib.axis_2\">\n    <g id=\"ytick_1\">\n     <g id=\"line2d_1\">\n      <path clip-path=\"url(#pb7335a43ec)\" d=\"M 50.025469 239.375625 \nL 384.825469 239.375625 \n\" style=\"fill:none;stroke:#ffffff;stroke-linecap:round;\"/>\n     </g>\n     <g id=\"text_5\">\n      <!-- 0 -->\n      <defs>\n       <path d=\"M 4.15625 35.296875 \nQ 4.15625 48 6.765625 55.734375 \nQ 9.375 63.484375 14.515625 67.671875 \nQ 19.671875 71.875 27.484375 71.875 \nQ 33.25 71.875 37.59375 69.546875 \nQ 41.9375 67.234375 44.765625 62.859375 \nQ 47.609375 58.5 49.21875 52.21875 \nQ 50.828125 45.953125 50.828125 35.296875 \nQ 50.828125 22.703125 48.234375 14.96875 \nQ 45.65625 7.234375 40.5 3 \nQ 35.359375 -1.21875 27.484375 -1.21875 \nQ 17.140625 -1.21875 11.234375 6.203125 \nQ 4.15625 15.140625 4.15625 35.296875 \nz\nM 13.1875 35.296875 \nQ 13.1875 17.671875 17.3125 11.828125 \nQ 21.4375 6 27.484375 6 \nQ 33.546875 6 37.671875 11.859375 \nQ 41.796875 17.71875 41.796875 35.296875 \nQ 41.796875 52.984375 37.671875 58.78125 \nQ 33.546875 64.59375 27.390625 64.59375 \nQ 21.34375 64.59375 17.71875 59.46875 \nQ 13.1875 52.9375 13.1875 35.296875 \nz\n\" id=\"ArialMT-48\"/>\n      </defs>\n      <g style=\"fill:#262626;\" transform=\"translate(34.408438 243.312422)scale(0.11 -0.11)\">\n       <use xlink:href=\"#ArialMT-48\"/>\n      </g>\n     </g>\n    </g>\n    <g id=\"ytick_2\">\n     <g id=\"line2d_2\">\n      <path clip-path=\"url(#pb7335a43ec)\" d=\"M 50.025469 209.363203 \nL 384.825469 209.363203 \n\" style=\"fill:none;stroke:#ffffff;stroke-linecap:round;\"/>\n     </g>\n     <g id=\"text_6\">\n      <!-- 50 -->\n      <defs>\n       <path d=\"M 4.15625 18.75 \nL 13.375 19.53125 \nQ 14.40625 12.796875 18.140625 9.390625 \nQ 21.875 6 27.15625 6 \nQ 33.5 6 37.890625 10.78125 \nQ 42.28125 15.578125 42.28125 23.484375 \nQ 42.28125 31 38.0625 35.34375 \nQ 33.84375 39.703125 27 39.703125 \nQ 22.75 39.703125 19.328125 37.765625 \nQ 15.921875 35.84375 13.96875 32.765625 \nL 5.71875 33.84375 \nL 12.640625 70.609375 \nL 48.25 70.609375 \nL 48.25 62.203125 \nL 19.671875 62.203125 \nL 15.828125 42.96875 \nQ 22.265625 47.46875 29.34375 47.46875 \nQ 38.71875 47.46875 45.15625 40.96875 \nQ 51.609375 34.46875 51.609375 24.265625 \nQ 51.609375 14.546875 45.953125 7.46875 \nQ 39.0625 -1.21875 27.15625 -1.21875 \nQ 17.390625 -1.21875 11.203125 4.25 \nQ 5.03125 9.71875 4.15625 18.75 \nz\n\" id=\"ArialMT-53\"/>\n      </defs>\n      <g style=\"fill:#262626;\" transform=\"translate(28.291406 213.3)scale(0.11 -0.11)\">\n       <use xlink:href=\"#ArialMT-53\"/>\n       <use x=\"55.615234\" xlink:href=\"#ArialMT-48\"/>\n      </g>\n     </g>\n    </g>\n    <g id=\"ytick_3\">\n     <g id=\"line2d_3\">\n      <path clip-path=\"url(#pb7335a43ec)\" d=\"M 50.025469 179.35078 \nL 384.825469 179.35078 \n\" style=\"fill:none;stroke:#ffffff;stroke-linecap:round;\"/>\n     </g>\n     <g id=\"text_7\">\n      <!-- 100 -->\n      <defs>\n       <path d=\"M 37.25 0 \nL 28.46875 0 \nL 28.46875 56 \nQ 25.296875 52.984375 20.140625 49.953125 \nQ 14.984375 46.921875 10.890625 45.40625 \nL 10.890625 53.90625 \nQ 18.265625 57.375 23.78125 62.296875 \nQ 29.296875 67.234375 31.59375 71.875 \nL 37.25 71.875 \nz\n\" id=\"ArialMT-49\"/>\n      </defs>\n      <g style=\"fill:#262626;\" transform=\"translate(22.174375 183.287577)scale(0.11 -0.11)\">\n       <use xlink:href=\"#ArialMT-49\"/>\n       <use x=\"55.615234\" xlink:href=\"#ArialMT-48\"/>\n       <use x=\"111.230469\" xlink:href=\"#ArialMT-48\"/>\n      </g>\n     </g>\n    </g>\n    <g id=\"ytick_4\">\n     <g id=\"line2d_4\">\n      <path clip-path=\"url(#pb7335a43ec)\" d=\"M 50.025469 149.338358 \nL 384.825469 149.338358 \n\" style=\"fill:none;stroke:#ffffff;stroke-linecap:round;\"/>\n     </g>\n     <g id=\"text_8\">\n      <!-- 150 -->\n      <g style=\"fill:#262626;\" transform=\"translate(22.174375 153.275155)scale(0.11 -0.11)\">\n       <use xlink:href=\"#ArialMT-49\"/>\n       <use x=\"55.615234\" xlink:href=\"#ArialMT-53\"/>\n       <use x=\"111.230469\" xlink:href=\"#ArialMT-48\"/>\n      </g>\n     </g>\n    </g>\n    <g id=\"ytick_5\">\n     <g id=\"line2d_5\">\n      <path clip-path=\"url(#pb7335a43ec)\" d=\"M 50.025469 119.325936 \nL 384.825469 119.325936 \n\" style=\"fill:none;stroke:#ffffff;stroke-linecap:round;\"/>\n     </g>\n     <g id=\"text_9\">\n      <!-- 200 -->\n      <defs>\n       <path d=\"M 50.34375 8.453125 \nL 50.34375 0 \nL 3.03125 0 \nQ 2.9375 3.171875 4.046875 6.109375 \nQ 5.859375 10.9375 9.828125 15.625 \nQ 13.8125 20.3125 21.34375 26.46875 \nQ 33.015625 36.03125 37.109375 41.625 \nQ 41.21875 47.21875 41.21875 52.203125 \nQ 41.21875 57.421875 37.46875 61 \nQ 33.734375 64.59375 27.734375 64.59375 \nQ 21.390625 64.59375 17.578125 60.78125 \nQ 13.765625 56.984375 13.71875 50.25 \nL 4.6875 51.171875 \nQ 5.609375 61.28125 11.65625 66.578125 \nQ 17.71875 71.875 27.9375 71.875 \nQ 38.234375 71.875 44.234375 66.15625 \nQ 50.25 60.453125 50.25 52 \nQ 50.25 47.703125 48.484375 43.546875 \nQ 46.734375 39.40625 42.65625 34.8125 \nQ 38.578125 30.21875 29.109375 22.21875 \nQ 21.1875 15.578125 18.9375 13.203125 \nQ 16.703125 10.84375 15.234375 8.453125 \nz\n\" id=\"ArialMT-50\"/>\n      </defs>\n      <g style=\"fill:#262626;\" transform=\"translate(22.174375 123.262732)scale(0.11 -0.11)\">\n       <use xlink:href=\"#ArialMT-50\"/>\n       <use x=\"55.615234\" xlink:href=\"#ArialMT-48\"/>\n       <use x=\"111.230469\" xlink:href=\"#ArialMT-48\"/>\n      </g>\n     </g>\n    </g>\n    <g id=\"ytick_6\">\n     <g id=\"line2d_6\">\n      <path clip-path=\"url(#pb7335a43ec)\" d=\"M 50.025469 89.313513 \nL 384.825469 89.313513 \n\" style=\"fill:none;stroke:#ffffff;stroke-linecap:round;\"/>\n     </g>\n     <g id=\"text_10\">\n      <!-- 250 -->\n      <g style=\"fill:#262626;\" transform=\"translate(22.174375 93.25031)scale(0.11 -0.11)\">\n       <use xlink:href=\"#ArialMT-50\"/>\n       <use x=\"55.615234\" xlink:href=\"#ArialMT-53\"/>\n       <use x=\"111.230469\" xlink:href=\"#ArialMT-48\"/>\n      </g>\n     </g>\n    </g>\n    <g id=\"ytick_7\">\n     <g id=\"line2d_7\">\n      <path clip-path=\"url(#pb7335a43ec)\" d=\"M 50.025469 59.301091 \nL 384.825469 59.301091 \n\" style=\"fill:none;stroke:#ffffff;stroke-linecap:round;\"/>\n     </g>\n     <g id=\"text_11\">\n      <!-- 300 -->\n      <defs>\n       <path d=\"M 4.203125 18.890625 \nL 12.984375 20.0625 \nQ 14.5 12.59375 18.140625 9.296875 \nQ 21.78125 6 27 6 \nQ 33.203125 6 37.46875 10.296875 \nQ 41.75 14.59375 41.75 20.953125 \nQ 41.75 27 37.796875 30.921875 \nQ 33.84375 34.859375 27.734375 34.859375 \nQ 25.25 34.859375 21.53125 33.890625 \nL 22.515625 41.609375 \nQ 23.390625 41.5 23.921875 41.5 \nQ 29.546875 41.5 34.03125 44.421875 \nQ 38.53125 47.359375 38.53125 53.46875 \nQ 38.53125 58.296875 35.25 61.46875 \nQ 31.984375 64.65625 26.8125 64.65625 \nQ 21.6875 64.65625 18.265625 61.421875 \nQ 14.84375 58.203125 13.875 51.765625 \nL 5.078125 53.328125 \nQ 6.6875 62.15625 12.390625 67.015625 \nQ 18.109375 71.875 26.609375 71.875 \nQ 32.46875 71.875 37.390625 69.359375 \nQ 42.328125 66.84375 44.9375 62.5 \nQ 47.5625 58.15625 47.5625 53.265625 \nQ 47.5625 48.640625 45.0625 44.828125 \nQ 42.578125 41.015625 37.703125 38.765625 \nQ 44.046875 37.3125 47.5625 32.6875 \nQ 51.078125 28.078125 51.078125 21.140625 \nQ 51.078125 11.765625 44.234375 5.25 \nQ 37.40625 -1.265625 26.953125 -1.265625 \nQ 17.53125 -1.265625 11.296875 4.34375 \nQ 5.078125 9.96875 4.203125 18.890625 \nz\n\" id=\"ArialMT-51\"/>\n      </defs>\n      <g style=\"fill:#262626;\" transform=\"translate(22.174375 63.237888)scale(0.11 -0.11)\">\n       <use xlink:href=\"#ArialMT-51\"/>\n       <use x=\"55.615234\" xlink:href=\"#ArialMT-48\"/>\n       <use x=\"111.230469\" xlink:href=\"#ArialMT-48\"/>\n      </g>\n     </g>\n    </g>\n    <g id=\"ytick_8\">\n     <g id=\"line2d_8\">\n      <path clip-path=\"url(#pb7335a43ec)\" d=\"M 50.025469 29.288668 \nL 384.825469 29.288668 \n\" style=\"fill:none;stroke:#ffffff;stroke-linecap:round;\"/>\n     </g>\n     <g id=\"text_12\">\n      <!-- 350 -->\n      <g style=\"fill:#262626;\" transform=\"translate(22.174375 33.225465)scale(0.11 -0.11)\">\n       <use xlink:href=\"#ArialMT-51\"/>\n       <use x=\"55.615234\" xlink:href=\"#ArialMT-53\"/>\n       <use x=\"111.230469\" xlink:href=\"#ArialMT-48\"/>\n      </g>\n     </g>\n    </g>\n    <g id=\"text_13\">\n     <!-- count -->\n     <defs>\n      <path d=\"M 3.328125 25.921875 \nQ 3.328125 40.328125 11.328125 47.265625 \nQ 18.015625 53.03125 27.640625 53.03125 \nQ 38.328125 53.03125 45.109375 46.015625 \nQ 51.90625 39.015625 51.90625 26.65625 \nQ 51.90625 16.65625 48.90625 10.90625 \nQ 45.90625 5.171875 40.15625 2 \nQ 34.421875 -1.171875 27.640625 -1.171875 \nQ 16.75 -1.171875 10.03125 5.8125 \nQ 3.328125 12.796875 3.328125 25.921875 \nz\nM 12.359375 25.921875 \nQ 12.359375 15.96875 16.703125 11.015625 \nQ 21.046875 6.0625 27.640625 6.0625 \nQ 34.1875 6.0625 38.53125 11.03125 \nQ 42.875 16.015625 42.875 26.21875 \nQ 42.875 35.84375 38.5 40.796875 \nQ 34.125 45.75 27.640625 45.75 \nQ 21.046875 45.75 16.703125 40.8125 \nQ 12.359375 35.890625 12.359375 25.921875 \nz\n\" id=\"ArialMT-111\"/>\n      <path d=\"M 40.578125 0 \nL 40.578125 7.625 \nQ 34.515625 -1.171875 24.125 -1.171875 \nQ 19.53125 -1.171875 15.546875 0.578125 \nQ 11.578125 2.34375 9.640625 5 \nQ 7.71875 7.671875 6.9375 11.53125 \nQ 6.390625 14.109375 6.390625 19.734375 \nL 6.390625 51.859375 \nL 15.1875 51.859375 \nL 15.1875 23.09375 \nQ 15.1875 16.21875 15.71875 13.8125 \nQ 16.546875 10.359375 19.234375 8.375 \nQ 21.921875 6.390625 25.875 6.390625 \nQ 29.828125 6.390625 33.296875 8.421875 \nQ 36.765625 10.453125 38.203125 13.9375 \nQ 39.65625 17.4375 39.65625 24.078125 \nL 39.65625 51.859375 \nL 48.4375 51.859375 \nL 48.4375 0 \nz\n\" id=\"ArialMT-117\"/>\n     </defs>\n     <g style=\"fill:#262626;\" transform=\"translate(15.789375 145.332187)rotate(-90)scale(0.12 -0.12)\">\n      <use xlink:href=\"#ArialMT-99\"/>\n      <use x=\"50\" xlink:href=\"#ArialMT-111\"/>\n      <use x=\"105.615234\" xlink:href=\"#ArialMT-117\"/>\n      <use x=\"161.230469\" xlink:href=\"#ArialMT-110\"/>\n      <use x=\"216.845703\" xlink:href=\"#ArialMT-116\"/>\n     </g>\n    </g>\n   </g>\n   <g id=\"patch_3\">\n    <path clip-path=\"url(#pb7335a43ec)\" d=\"M 61.185469 239.375625 \nL 150.465469 239.375625 \nL 150.465469 32.289911 \nL 61.185469 32.289911 \nz\n\" style=\"fill:#5875a4;stroke:#ffffff;stroke-linejoin:miter;\"/>\n   </g>\n   <g id=\"patch_4\">\n    <path clip-path=\"url(#pb7335a43ec)\" d=\"M 172.785469 239.375625 \nL 262.065469 239.375625 \nL 262.065469 32.890159 \nL 172.785469 32.890159 \nz\n\" style=\"fill:#cc8963;stroke:#ffffff;stroke-linejoin:miter;\"/>\n   </g>\n   <g id=\"patch_5\">\n    <path clip-path=\"url(#pb7335a43ec)\" d=\"M 284.385469 239.375625 \nL 373.665469 239.375625 \nL 373.665469 52.698358 \nL 284.385469 52.698358 \nz\n\" style=\"fill:#5f9e6e;stroke:#ffffff;stroke-linejoin:miter;\"/>\n   </g>\n   <g id=\"patch_6\">\n    <path d=\"M 50.025469 239.375625 \nL 50.025469 21.935625 \n\" style=\"fill:none;stroke:#ffffff;stroke-linecap:square;stroke-linejoin:miter;stroke-width:1.25;\"/>\n   </g>\n   <g id=\"patch_7\">\n    <path d=\"M 384.825469 239.375625 \nL 384.825469 21.935625 \n\" style=\"fill:none;stroke:#ffffff;stroke-linecap:square;stroke-linejoin:miter;stroke-width:1.25;\"/>\n   </g>\n   <g id=\"patch_8\">\n    <path d=\"M 50.025469 239.375625 \nL 384.825469 239.375625 \n\" style=\"fill:none;stroke:#ffffff;stroke-linecap:square;stroke-linejoin:miter;stroke-width:1.25;\"/>\n   </g>\n   <g id=\"patch_9\">\n    <path d=\"M 50.025469 21.935625 \nL 384.825469 21.935625 \n\" style=\"fill:none;stroke:#ffffff;stroke-linecap:square;stroke-linejoin:miter;stroke-width:1.25;\"/>\n   </g>\n   <g id=\"text_14\">\n    <!-- Payment Channel Frequency -->\n    <defs>\n     <path d=\"M 8.203125 0 \nL 8.203125 71.578125 \nL 56.5 71.578125 \nL 56.5 63.140625 \nL 17.671875 63.140625 \nL 17.671875 40.96875 \nL 51.265625 40.96875 \nL 51.265625 32.515625 \nL 17.671875 32.515625 \nL 17.671875 0 \nz\n\" id=\"ArialMT-70\"/>\n     <path d=\"M 39.65625 -19.875 \nL 39.65625 5.515625 \nQ 37.59375 2.640625 33.90625 0.734375 \nQ 30.21875 -1.171875 26.078125 -1.171875 \nQ 16.84375 -1.171875 10.171875 6.203125 \nQ 3.515625 13.578125 3.515625 26.421875 \nQ 3.515625 34.234375 6.21875 40.421875 \nQ 8.9375 46.625 14.078125 49.828125 \nQ 19.234375 53.03125 25.390625 53.03125 \nQ 35.015625 53.03125 40.53125 44.921875 \nL 40.53125 51.859375 \nL 48.4375 51.859375 \nL 48.4375 -19.875 \nz\nM 12.546875 26.078125 \nQ 12.546875 16.0625 16.75 11.0625 \nQ 20.953125 6.0625 26.8125 6.0625 \nQ 32.421875 6.0625 36.46875 10.8125 \nQ 40.53125 15.578125 40.53125 25.296875 \nQ 40.53125 35.640625 36.25 40.859375 \nQ 31.984375 46.09375 26.21875 46.09375 \nQ 20.515625 46.09375 16.53125 41.234375 \nQ 12.546875 36.375 12.546875 26.078125 \nz\n\" id=\"ArialMT-113\"/>\n    </defs>\n    <g style=\"fill:#262626;\" transform=\"translate(139.720781 15.935625)scale(0.12 -0.12)\">\n     <use xlink:href=\"#ArialMT-80\"/>\n     <use x=\"66.699219\" xlink:href=\"#ArialMT-97\"/>\n     <use x=\"122.314453\" xlink:href=\"#ArialMT-121\"/>\n     <use x=\"172.314453\" xlink:href=\"#ArialMT-109\"/>\n     <use x=\"255.615234\" xlink:href=\"#ArialMT-101\"/>\n     <use x=\"311.230469\" xlink:href=\"#ArialMT-110\"/>\n     <use x=\"366.845703\" xlink:href=\"#ArialMT-116\"/>\n     <use x=\"394.628906\" xlink:href=\"#ArialMT-32\"/>\n     <use x=\"422.412109\" xlink:href=\"#ArialMT-67\"/>\n     <use x=\"494.628906\" xlink:href=\"#ArialMT-104\"/>\n     <use x=\"550.244141\" xlink:href=\"#ArialMT-97\"/>\n     <use x=\"605.859375\" xlink:href=\"#ArialMT-110\"/>\n     <use x=\"661.474609\" xlink:href=\"#ArialMT-110\"/>\n     <use x=\"717.089844\" xlink:href=\"#ArialMT-101\"/>\n     <use x=\"772.705078\" xlink:href=\"#ArialMT-108\"/>\n     <use x=\"794.921875\" xlink:href=\"#ArialMT-32\"/>\n     <use x=\"822.705078\" xlink:href=\"#ArialMT-70\"/>\n     <use x=\"883.789062\" xlink:href=\"#ArialMT-114\"/>\n     <use x=\"917.089844\" xlink:href=\"#ArialMT-101\"/>\n     <use x=\"972.705078\" xlink:href=\"#ArialMT-113\"/>\n     <use x=\"1028.320312\" xlink:href=\"#ArialMT-117\"/>\n     <use x=\"1083.935547\" xlink:href=\"#ArialMT-101\"/>\n     <use x=\"1139.550781\" xlink:href=\"#ArialMT-110\"/>\n     <use x=\"1195.166016\" xlink:href=\"#ArialMT-99\"/>\n     <use x=\"1245.166016\" xlink:href=\"#ArialMT-121\"/>\n    </g>\n   </g>\n  </g>\n </g>\n <defs>\n  <clipPath id=\"pb7335a43ec\">\n   <rect height=\"217.44\" width=\"334.8\" x=\"50.025469\" y=\"21.935625\"/>\n  </clipPath>\n </defs>\n</svg>\n",
      "image/png": "[encoded data removed]"
     },
     "metadata": {}
    }
   ],
   "source": [
    "sns.countplot(x=\"Payment\", data = df).set_title(\"Payment Channel Frequency\")"
   ]
  },
  {
   "cell_type": "code",
   "execution_count": 118,
   "metadata": {},
   "outputs": [
    {
     "output_type": "execute_result",
     "data": {
      "text/plain": "    Invoice ID Branch       City Customer type  Gender  \\\n0  750-67-8428      A     Yangon        Member  Female   \n1  226-31-3081      C  Naypyitaw        Normal  Female   \n2  631-41-3108      A     Yangon        Normal    Male   \n3  123-19-1176      A     Yangon        Member    Male   \n4  373-73-7910      A     Yangon        Normal    Male   \n\n             Product line  Unit price  Quantity   Tax 5%     Total       Date  \\\n0       Health and beauty       74.69         7  26.1415  548.9715   1/5/2019   \n1  Electronic accessories       15.28         5   3.8200   80.2200   3/8/2019   \n2      Home and lifestyle       46.33         7  16.2155  340.5255   3/3/2019   \n3       Health and beauty       58.22         8  23.2880  489.0480  1/27/2019   \n4       Sports and travel       86.31         7  30.2085  634.3785   2/8/2019   \n\n    Time      Payment    cogs  gross margin percentage  gross income  Rating  \\\n0  13:08      Ewallet  522.83                 4.761905       26.1415     9.1   \n1  10:29         Cash   76.40                 4.761905        3.8200     9.6   \n2  13:23  Credit card  324.31                 4.761905       16.2155     7.4   \n3  20:33      Ewallet  465.76                 4.761905       23.2880     8.4   \n4  10:37      Ewallet  604.17                 4.761905       30.2085     5.3   \n\n   Frequency of Product STime  \n0                   152    13  \n1                   170    10  \n2                   160    13  \n3                   152    20  \n4                   166    10  ",
      "text/html": "<div>\n<style scoped>\n    .dataframe tbody tr th:only-of-type {\n        vertical-align: middle;\n    }\n\n    .dataframe tbody tr th {\n        vertical-align: top;\n    }\n\n    .dataframe thead th {\n        text-align: right;\n    }\n</style>\n<table border=\"1\" class=\"dataframe\">\n  <thead>\n    <tr style=\"text-align: right;\">\n      <th></th>\n      <th>Invoice ID</th>\n      <th>Branch</th>\n      <th>City</th>\n      <th>Customer type</th>\n      <th>Gender</th>\n      <th>Product line</th>\n      <th>Unit price</th>\n      <th>Quantity</th>\n      <th>Tax 5%</th>\n      <th>Total</th>\n      <th>Date</th>\n      <th>Time</th>\n      <th>Payment</th>\n      <th>cogs</th>\n      <th>gross margin percentage</th>\n      <th>gross income</th>\n      <th>Rating</th>\n      <th>Frequency of Product</th>\n      <th>STime</th>\n    </tr>\n  </thead>\n  <tbody>\n    <tr>\n      <th>0</th>\n      <td>750-67-8428</td>\n      <td>A</td>\n      <td>Yangon</td>\n      <td>Member</td>\n      <td>Female</td>\n      <td>Health and beauty</td>\n      <td>74.69</td>\n      <td>7</td>\n      <td>26.1415</td>\n      <td>548.9715</td>\n      <td>1/5/2019</td>\n      <td>13:08</td>\n      <td>Ewallet</td>\n      <td>522.83</td>\n      <td>4.761905</td>\n      <td>26.1415</td>\n      <td>9.1</td>\n      <td>152</td>\n      <td>13</td>\n    </tr>\n    <tr>\n      <th>1</th>\n      <td>226-31-3081</td>\n      <td>C</td>\n      <td>Naypyitaw</td>\n      <td>Normal</td>\n      <td>Female</td>\n      <td>Electronic accessories</td>\n      <td>15.28</td>\n      <td>5</td>\n      <td>3.8200</td>\n      <td>80.2200</td>\n      <td>3/8/2019</td>\n      <td>10:29</td>\n      <td>Cash</td>\n      <td>76.40</td>\n      <td>4.761905</td>\n      <td>3.8200</td>\n      <td>9.6</td>\n      <td>170</td>\n      <td>10</td>\n    </tr>\n    <tr>\n      <th>2</th>\n      <td>631-41-3108</td>\n      <td>A</td>\n      <td>Yangon</td>\n      <td>Normal</td>\n      <td>Male</td>\n      <td>Home and lifestyle</td>\n      <td>46.33</td>\n      <td>7</td>\n      <td>16.2155</td>\n      <td>340.5255</td>\n      <td>3/3/2019</td>\n      <td>13:23</td>\n      <td>Credit card</td>\n      <td>324.31</td>\n      <td>4.761905</td>\n      <td>16.2155</td>\n      <td>7.4</td>\n      <td>160</td>\n      <td>13</td>\n    </tr>\n    <tr>\n      <th>3</th>\n      <td>123-19-1176</td>\n      <td>A</td>\n      <td>Yangon</td>\n      <td>Member</td>\n      <td>Male</td>\n      <td>Health and beauty</td>\n      <td>58.22</td>\n      <td>8</td>\n      <td>23.2880</td>\n      <td>489.0480</td>\n      <td>1/27/2019</td>\n      <td>20:33</td>\n      <td>Ewallet</td>\n      <td>465.76</td>\n      <td>4.761905</td>\n      <td>23.2880</td>\n      <td>8.4</td>\n      <td>152</td>\n      <td>20</td>\n    </tr>\n    <tr>\n      <th>4</th>\n      <td>373-73-7910</td>\n      <td>A</td>\n      <td>Yangon</td>\n      <td>Normal</td>\n      <td>Male</td>\n      <td>Sports and travel</td>\n      <td>86.31</td>\n      <td>7</td>\n      <td>30.2085</td>\n      <td>634.3785</td>\n      <td>2/8/2019</td>\n      <td>10:37</td>\n      <td>Ewallet</td>\n      <td>604.17</td>\n      <td>4.761905</td>\n      <td>30.2085</td>\n      <td>5.3</td>\n      <td>166</td>\n      <td>10</td>\n    </tr>\n  </tbody>\n</table>\n</div>"
     },
     "metadata": {},
     "execution_count": 118
    }
   ],
   "source": [
    "df['STime'] = df['Time'].str[:2]\n",
    "df.head(5)"
   ]
  },
  {
   "cell_type": "code",
   "execution_count": 119,
   "metadata": {},
   "outputs": [
    {
     "output_type": "execute_result",
     "data": {
      "text/plain": "            Total\nSTime            \n10     31421.4810\n11     30377.3295\n12     26065.8825\n13     34723.2270\n14     30828.3990",
      "text/html": "<div>\n<style scoped>\n    .dataframe tbody tr th:only-of-type {\n        vertical-align: middle;\n    }\n\n    .dataframe tbody tr th {\n        vertical-align: top;\n    }\n\n    .dataframe thead th {\n        text-align: right;\n    }\n</style>\n<table border=\"1\" class=\"dataframe\">\n  <thead>\n    <tr style=\"text-align: right;\">\n      <th></th>\n      <th>Total</th>\n    </tr>\n    <tr>\n      <th>STime</th>\n      <th></th>\n    </tr>\n  </thead>\n  <tbody>\n    <tr>\n      <th>10</th>\n      <td>31421.4810</td>\n    </tr>\n    <tr>\n      <th>11</th>\n      <td>30377.3295</td>\n    </tr>\n    <tr>\n      <th>12</th>\n      <td>26065.8825</td>\n    </tr>\n    <tr>\n      <th>13</th>\n      <td>34723.2270</td>\n    </tr>\n    <tr>\n      <th>14</th>\n      <td>30828.3990</td>\n    </tr>\n  </tbody>\n</table>\n</div>"
     },
     "metadata": {},
     "execution_count": 119
    }
   ],
   "source": [
    "fortime = df[['Total', 'STime']]\n",
    "fortime = fortime.groupby(['STime']).sum()\n",
    "fortime.head(5)"
   ]
  },
  {
   "cell_type": "markdown",
   "metadata": {},
   "source": [
    "# Total by hour"
   ]
  },
  {
   "cell_type": "code",
   "execution_count": 120,
   "metadata": {},
   "outputs": [
    {
     "output_type": "display_data",
     "data": {
      "text/plain": "<Figure size 1080x720 with 1 Axes>",
      "image/svg+xml": "<?xml version=\"1.0\" encoding=\"utf-8\" standalone=\"no\"?>\n<!DOCTYPE svg PUBLIC \"-//W3C//DTD SVG 1.1//EN\"\n  \"http://www.w3.org/Graphics/SVG/1.1/DTD/svg11.dtd\">\n<!-- Created with matplotlib (https://matplotlib.org/) -->\n<svg height=\"598.238547pt\" version=\"1.1\" viewBox=\"0 0 906.459531 598.238547\" width=\"906.459531pt\" xmlns=\"http://www.w3.org/2000/svg\" xmlns:xlink=\"http://www.w3.org/1999/xlink\">\n <defs>\n  <style type=\"text/css\">\n*{stroke-linecap:butt;stroke-linejoin:round;}\n  </style>\n </defs>\n <g id=\"figure_1\">\n  <g id=\"patch_1\">\n   <path d=\"M 0 598.238547 \nL 906.459531 598.238547 \nL 906.459531 0 \nL 0 0 \nz\n\" style=\"fill:#ffffff;\"/>\n  </g>\n  <g id=\"axes_1\">\n   <g id=\"patch_2\">\n    <path d=\"M 62.259531 550.8 \nL 899.259531 550.8 \nL 899.259531 7.2 \nL 62.259531 7.2 \nz\n\" style=\"fill:#eaeaf2;\"/>\n   </g>\n   <g id=\"matplotlib.axis_1\">\n    <g id=\"xtick_1\">\n     <g id=\"line2d_1\">\n      <path clip-path=\"url(#p2bbf5697cf)\" d=\"M 100.304986 550.8 \nL 100.304986 7.2 \n\" style=\"fill:none;stroke:#ffffff;stroke-linecap:round;\"/>\n     </g>\n     <g id=\"text_1\">\n      <!-- 10 -->\n      <defs>\n       <path d=\"M 37.25 0 \nL 28.46875 0 \nL 28.46875 56 \nQ 25.296875 52.984375 20.140625 49.953125 \nQ 14.984375 46.921875 10.890625 45.40625 \nL 10.890625 53.90625 \nQ 18.265625 57.375 23.78125 62.296875 \nQ 29.296875 67.234375 31.59375 71.875 \nL 37.25 71.875 \nz\n\" id=\"ArialMT-49\"/>\n       <path d=\"M 4.15625 35.296875 \nQ 4.15625 48 6.765625 55.734375 \nQ 9.375 63.484375 14.515625 67.671875 \nQ 19.671875 71.875 27.484375 71.875 \nQ 33.25 71.875 37.59375 69.546875 \nQ 41.9375 67.234375 44.765625 62.859375 \nQ 47.609375 58.5 49.21875 52.21875 \nQ 50.828125 45.953125 50.828125 35.296875 \nQ 50.828125 22.703125 48.234375 14.96875 \nQ 45.65625 7.234375 40.5 3 \nQ 35.359375 -1.21875 27.484375 -1.21875 \nQ 17.140625 -1.21875 11.234375 6.203125 \nQ 4.15625 15.140625 4.15625 35.296875 \nz\nM 13.1875 35.296875 \nQ 13.1875 17.671875 17.3125 11.828125 \nQ 21.4375 6 27.484375 6 \nQ 33.546875 6 37.671875 11.859375 \nQ 41.796875 17.71875 41.796875 35.296875 \nQ 41.796875 52.984375 37.671875 58.78125 \nQ 33.546875 64.59375 27.390625 64.59375 \nQ 21.34375 64.59375 17.71875 59.46875 \nQ 13.1875 52.9375 13.1875 35.296875 \nz\n\" id=\"ArialMT-48\"/>\n      </defs>\n      <g style=\"fill:#262626;\" transform=\"translate(97.990371 574.51826)rotate(-45)scale(0.11 -0.11)\">\n       <use xlink:href=\"#ArialMT-49\"/>\n       <use x=\"55.615234\" xlink:href=\"#ArialMT-48\"/>\n      </g>\n     </g>\n    </g>\n    <g id=\"xtick_2\">\n     <g id=\"line2d_2\">\n      <path clip-path=\"url(#p2bbf5697cf)\" d=\"M 176.395895 550.8 \nL 176.395895 7.2 \n\" style=\"fill:none;stroke:#ffffff;stroke-linecap:round;\"/>\n     </g>\n     <g id=\"text_2\">\n      <!-- 11 -->\n      <g style=\"fill:#262626;\" transform=\"translate(174.3681 573.94462)rotate(-45)scale(0.11 -0.11)\">\n       <use xlink:href=\"#ArialMT-49\"/>\n       <use x=\"48.240234\" xlink:href=\"#ArialMT-49\"/>\n      </g>\n     </g>\n    </g>\n    <g id=\"xtick_3\">\n     <g id=\"line2d_3\">\n      <path clip-path=\"url(#p2bbf5697cf)\" d=\"M 252.486804 550.8 \nL 252.486804 7.2 \n\" style=\"fill:none;stroke:#ffffff;stroke-linecap:round;\"/>\n     </g>\n     <g id=\"text_3\">\n      <!-- 12 -->\n      <defs>\n       <path d=\"M 50.34375 8.453125 \nL 50.34375 0 \nL 3.03125 0 \nQ 2.9375 3.171875 4.046875 6.109375 \nQ 5.859375 10.9375 9.828125 15.625 \nQ 13.8125 20.3125 21.34375 26.46875 \nQ 33.015625 36.03125 37.109375 41.625 \nQ 41.21875 47.21875 41.21875 52.203125 \nQ 41.21875 57.421875 37.46875 61 \nQ 33.734375 64.59375 27.734375 64.59375 \nQ 21.390625 64.59375 17.578125 60.78125 \nQ 13.765625 56.984375 13.71875 50.25 \nL 4.6875 51.171875 \nQ 5.609375 61.28125 11.65625 66.578125 \nQ 17.71875 71.875 27.9375 71.875 \nQ 38.234375 71.875 44.234375 66.15625 \nQ 50.25 60.453125 50.25 52 \nQ 50.25 47.703125 48.484375 43.546875 \nQ 46.734375 39.40625 42.65625 34.8125 \nQ 38.578125 30.21875 29.109375 22.21875 \nQ 21.1875 15.578125 18.9375 13.203125 \nQ 16.703125 10.84375 15.234375 8.453125 \nz\n\" id=\"ArialMT-50\"/>\n      </defs>\n      <g style=\"fill:#262626;\" transform=\"translate(250.172189 574.51826)rotate(-45)scale(0.11 -0.11)\">\n       <use xlink:href=\"#ArialMT-49\"/>\n       <use x=\"55.615234\" xlink:href=\"#ArialMT-50\"/>\n      </g>\n     </g>\n    </g>\n    <g id=\"xtick_4\">\n     <g id=\"line2d_4\">\n      <path clip-path=\"url(#p2bbf5697cf)\" d=\"M 328.577713 550.8 \nL 328.577713 7.2 \n\" style=\"fill:none;stroke:#ffffff;stroke-linecap:round;\"/>\n     </g>\n     <g id=\"text_4\">\n      <!-- 13 -->\n      <defs>\n       <path d=\"M 4.203125 18.890625 \nL 12.984375 20.0625 \nQ 14.5 12.59375 18.140625 9.296875 \nQ 21.78125 6 27 6 \nQ 33.203125 6 37.46875 10.296875 \nQ 41.75 14.59375 41.75 20.953125 \nQ 41.75 27 37.796875 30.921875 \nQ 33.84375 34.859375 27.734375 34.859375 \nQ 25.25 34.859375 21.53125 33.890625 \nL 22.515625 41.609375 \nQ 23.390625 41.5 23.921875 41.5 \nQ 29.546875 41.5 34.03125 44.421875 \nQ 38.53125 47.359375 38.53125 53.46875 \nQ 38.53125 58.296875 35.25 61.46875 \nQ 31.984375 64.65625 26.8125 64.65625 \nQ 21.6875 64.65625 18.265625 61.421875 \nQ 14.84375 58.203125 13.875 51.765625 \nL 5.078125 53.328125 \nQ 6.6875 62.15625 12.390625 67.015625 \nQ 18.109375 71.875 26.609375 71.875 \nQ 32.46875 71.875 37.390625 69.359375 \nQ 42.328125 66.84375 44.9375 62.5 \nQ 47.5625 58.15625 47.5625 53.265625 \nQ 47.5625 48.640625 45.0625 44.828125 \nQ 42.578125 41.015625 37.703125 38.765625 \nQ 44.046875 37.3125 47.5625 32.6875 \nQ 51.078125 28.078125 51.078125 21.140625 \nQ 51.078125 11.765625 44.234375 5.25 \nQ 37.40625 -1.265625 26.953125 -1.265625 \nQ 17.53125 -1.265625 11.296875 4.34375 \nQ 5.078125 9.96875 4.203125 18.890625 \nz\n\" id=\"ArialMT-51\"/>\n      </defs>\n      <g style=\"fill:#262626;\" transform=\"translate(326.263098 574.51826)rotate(-45)scale(0.11 -0.11)\">\n       <use xlink:href=\"#ArialMT-49\"/>\n       <use x=\"55.615234\" xlink:href=\"#ArialMT-51\"/>\n      </g>\n     </g>\n    </g>\n    <g id=\"xtick_5\">\n     <g id=\"line2d_5\">\n      <path clip-path=\"url(#p2bbf5697cf)\" d=\"M 404.668622 550.8 \nL 404.668622 7.2 \n\" style=\"fill:none;stroke:#ffffff;stroke-linecap:round;\"/>\n     </g>\n     <g id=\"text_5\">\n      <!-- 14 -->\n      <defs>\n       <path d=\"M 32.328125 0 \nL 32.328125 17.140625 \nL 1.265625 17.140625 \nL 1.265625 25.203125 \nL 33.9375 71.578125 \nL 41.109375 71.578125 \nL 41.109375 25.203125 \nL 50.78125 25.203125 \nL 50.78125 17.140625 \nL 41.109375 17.140625 \nL 41.109375 0 \nz\nM 32.328125 25.203125 \nL 32.328125 57.46875 \nL 9.90625 25.203125 \nz\n\" id=\"ArialMT-52\"/>\n      </defs>\n      <g style=\"fill:#262626;\" transform=\"translate(402.354008 574.51826)rotate(-45)scale(0.11 -0.11)\">\n       <use xlink:href=\"#ArialMT-49\"/>\n       <use x=\"55.615234\" xlink:href=\"#ArialMT-52\"/>\n      </g>\n     </g>\n    </g>\n    <g id=\"xtick_6\">\n     <g id=\"line2d_6\">\n      <path clip-path=\"url(#p2bbf5697cf)\" d=\"M 480.759531 550.8 \nL 480.759531 7.2 \n\" style=\"fill:none;stroke:#ffffff;stroke-linecap:round;\"/>\n     </g>\n     <g id=\"text_6\">\n      <!-- 15 -->\n      <defs>\n       <path d=\"M 4.15625 18.75 \nL 13.375 19.53125 \nQ 14.40625 12.796875 18.140625 9.390625 \nQ 21.875 6 27.15625 6 \nQ 33.5 6 37.890625 10.78125 \nQ 42.28125 15.578125 42.28125 23.484375 \nQ 42.28125 31 38.0625 35.34375 \nQ 33.84375 39.703125 27 39.703125 \nQ 22.75 39.703125 19.328125 37.765625 \nQ 15.921875 35.84375 13.96875 32.765625 \nL 5.71875 33.84375 \nL 12.640625 70.609375 \nL 48.25 70.609375 \nL 48.25 62.203125 \nL 19.671875 62.203125 \nL 15.828125 42.96875 \nQ 22.265625 47.46875 29.34375 47.46875 \nQ 38.71875 47.46875 45.15625 40.96875 \nQ 51.609375 34.46875 51.609375 24.265625 \nQ 51.609375 14.546875 45.953125 7.46875 \nQ 39.0625 -1.21875 27.15625 -1.21875 \nQ 17.390625 -1.21875 11.203125 4.25 \nQ 5.03125 9.71875 4.15625 18.75 \nz\n\" id=\"ArialMT-53\"/>\n      </defs>\n      <g style=\"fill:#262626;\" transform=\"translate(478.444917 574.51826)rotate(-45)scale(0.11 -0.11)\">\n       <use xlink:href=\"#ArialMT-49\"/>\n       <use x=\"55.615234\" xlink:href=\"#ArialMT-53\"/>\n      </g>\n     </g>\n    </g>\n    <g id=\"xtick_7\">\n     <g id=\"line2d_7\">\n      <path clip-path=\"url(#p2bbf5697cf)\" d=\"M 556.85044 550.8 \nL 556.85044 7.2 \n\" style=\"fill:none;stroke:#ffffff;stroke-linecap:round;\"/>\n     </g>\n     <g id=\"text_7\">\n      <!-- 16 -->\n      <defs>\n       <path d=\"M 49.75 54.046875 \nL 41.015625 53.375 \nQ 39.84375 58.546875 37.703125 60.890625 \nQ 34.125 64.65625 28.90625 64.65625 \nQ 24.703125 64.65625 21.53125 62.3125 \nQ 17.390625 59.28125 14.984375 53.46875 \nQ 12.59375 47.65625 12.5 36.921875 \nQ 15.671875 41.75 20.265625 44.09375 \nQ 24.859375 46.4375 29.890625 46.4375 \nQ 38.671875 46.4375 44.84375 39.96875 \nQ 51.03125 33.5 51.03125 23.25 \nQ 51.03125 16.5 48.125 10.71875 \nQ 45.21875 4.9375 40.140625 1.859375 \nQ 35.0625 -1.21875 28.609375 -1.21875 \nQ 17.625 -1.21875 10.6875 6.859375 \nQ 3.765625 14.9375 3.765625 33.5 \nQ 3.765625 54.25 11.421875 63.671875 \nQ 18.109375 71.875 29.4375 71.875 \nQ 37.890625 71.875 43.28125 67.140625 \nQ 48.6875 62.40625 49.75 54.046875 \nz\nM 13.875 23.1875 \nQ 13.875 18.65625 15.796875 14.5 \nQ 17.71875 10.359375 21.1875 8.171875 \nQ 24.65625 6 28.46875 6 \nQ 34.03125 6 38.03125 10.484375 \nQ 42.046875 14.984375 42.046875 22.703125 \nQ 42.046875 30.125 38.078125 34.390625 \nQ 34.125 38.671875 28.125 38.671875 \nQ 22.171875 38.671875 18.015625 34.390625 \nQ 13.875 30.125 13.875 23.1875 \nz\n\" id=\"ArialMT-54\"/>\n      </defs>\n      <g style=\"fill:#262626;\" transform=\"translate(554.535826 574.51826)rotate(-45)scale(0.11 -0.11)\">\n       <use xlink:href=\"#ArialMT-49\"/>\n       <use x=\"55.615234\" xlink:href=\"#ArialMT-54\"/>\n      </g>\n     </g>\n    </g>\n    <g id=\"xtick_8\">\n     <g id=\"line2d_8\">\n      <path clip-path=\"url(#p2bbf5697cf)\" d=\"M 632.941349 550.8 \nL 632.941349 7.2 \n\" style=\"fill:none;stroke:#ffffff;stroke-linecap:round;\"/>\n     </g>\n     <g id=\"text_8\">\n      <!-- 17 -->\n      <defs>\n       <path d=\"M 4.734375 62.203125 \nL 4.734375 70.65625 \nL 51.078125 70.65625 \nL 51.078125 63.8125 \nQ 44.234375 56.546875 37.515625 44.484375 \nQ 30.8125 32.421875 27.15625 19.671875 \nQ 24.515625 10.6875 23.78125 0 \nL 14.75 0 \nQ 14.890625 8.453125 18.0625 20.40625 \nQ 21.234375 32.375 27.171875 43.484375 \nQ 33.109375 54.59375 39.796875 62.203125 \nz\n\" id=\"ArialMT-55\"/>\n      </defs>\n      <g style=\"fill:#262626;\" transform=\"translate(630.626735 574.51826)rotate(-45)scale(0.11 -0.11)\">\n       <use xlink:href=\"#ArialMT-49\"/>\n       <use x=\"55.615234\" xlink:href=\"#ArialMT-55\"/>\n      </g>\n     </g>\n    </g>\n    <g id=\"xtick_9\">\n     <g id=\"line2d_9\">\n      <path clip-path=\"url(#p2bbf5697cf)\" d=\"M 709.032259 550.8 \nL 709.032259 7.2 \n\" style=\"fill:none;stroke:#ffffff;stroke-linecap:round;\"/>\n     </g>\n     <g id=\"text_9\">\n      <!-- 18 -->\n      <defs>\n       <path d=\"M 17.671875 38.8125 \nQ 12.203125 40.828125 9.5625 44.53125 \nQ 6.9375 48.25 6.9375 53.421875 \nQ 6.9375 61.234375 12.546875 66.546875 \nQ 18.171875 71.875 27.484375 71.875 \nQ 36.859375 71.875 42.578125 66.421875 \nQ 48.296875 60.984375 48.296875 53.171875 \nQ 48.296875 48.1875 45.671875 44.5 \nQ 43.0625 40.828125 37.75 38.8125 \nQ 44.34375 36.671875 47.78125 31.875 \nQ 51.21875 27.09375 51.21875 20.453125 \nQ 51.21875 11.28125 44.71875 5.03125 \nQ 38.234375 -1.21875 27.640625 -1.21875 \nQ 17.046875 -1.21875 10.546875 5.046875 \nQ 4.046875 11.328125 4.046875 20.703125 \nQ 4.046875 27.6875 7.59375 32.390625 \nQ 11.140625 37.109375 17.671875 38.8125 \nz\nM 15.921875 53.71875 \nQ 15.921875 48.640625 19.1875 45.40625 \nQ 22.46875 42.1875 27.6875 42.1875 \nQ 32.765625 42.1875 36.015625 45.375 \nQ 39.265625 48.578125 39.265625 53.21875 \nQ 39.265625 58.0625 35.90625 61.359375 \nQ 32.5625 64.65625 27.59375 64.65625 \nQ 22.5625 64.65625 19.234375 61.421875 \nQ 15.921875 58.203125 15.921875 53.71875 \nz\nM 13.09375 20.65625 \nQ 13.09375 16.890625 14.875 13.375 \nQ 16.65625 9.859375 20.171875 7.921875 \nQ 23.6875 6 27.734375 6 \nQ 34.03125 6 38.125 10.046875 \nQ 42.234375 14.109375 42.234375 20.359375 \nQ 42.234375 26.703125 38.015625 30.859375 \nQ 33.796875 35.015625 27.4375 35.015625 \nQ 21.234375 35.015625 17.15625 30.90625 \nQ 13.09375 26.8125 13.09375 20.65625 \nz\n\" id=\"ArialMT-56\"/>\n      </defs>\n      <g style=\"fill:#262626;\" transform=\"translate(706.717644 574.51826)rotate(-45)scale(0.11 -0.11)\">\n       <use xlink:href=\"#ArialMT-49\"/>\n       <use x=\"55.615234\" xlink:href=\"#ArialMT-56\"/>\n      </g>\n     </g>\n    </g>\n    <g id=\"xtick_10\">\n     <g id=\"line2d_10\">\n      <path clip-path=\"url(#p2bbf5697cf)\" d=\"M 785.123168 550.8 \nL 785.123168 7.2 \n\" style=\"fill:none;stroke:#ffffff;stroke-linecap:round;\"/>\n     </g>\n     <g id=\"text_10\">\n      <!-- 19 -->\n      <defs>\n       <path d=\"M 5.46875 16.546875 \nL 13.921875 17.328125 \nQ 14.984375 11.375 18.015625 8.6875 \nQ 21.046875 6 25.78125 6 \nQ 29.828125 6 32.875 7.859375 \nQ 35.9375 9.71875 37.890625 12.8125 \nQ 39.84375 15.921875 41.15625 21.1875 \nQ 42.484375 26.46875 42.484375 31.9375 \nQ 42.484375 32.515625 42.4375 33.6875 \nQ 39.796875 29.5 35.234375 26.875 \nQ 30.671875 24.265625 25.34375 24.265625 \nQ 16.453125 24.265625 10.296875 30.703125 \nQ 4.15625 37.15625 4.15625 47.703125 \nQ 4.15625 58.59375 10.578125 65.234375 \nQ 17 71.875 26.65625 71.875 \nQ 33.640625 71.875 39.421875 68.109375 \nQ 45.21875 64.359375 48.21875 57.390625 \nQ 51.21875 50.4375 51.21875 37.25 \nQ 51.21875 23.53125 48.234375 15.40625 \nQ 45.265625 7.28125 39.375 3.03125 \nQ 33.5 -1.21875 25.59375 -1.21875 \nQ 17.1875 -1.21875 11.859375 3.4375 \nQ 6.546875 8.109375 5.46875 16.546875 \nz\nM 41.453125 48.140625 \nQ 41.453125 55.71875 37.421875 60.15625 \nQ 33.40625 64.59375 27.734375 64.59375 \nQ 21.875 64.59375 17.53125 59.8125 \nQ 13.1875 55.03125 13.1875 47.40625 \nQ 13.1875 40.578125 17.3125 36.296875 \nQ 21.4375 32.03125 27.484375 32.03125 \nQ 33.59375 32.03125 37.515625 36.296875 \nQ 41.453125 40.578125 41.453125 48.140625 \nz\n\" id=\"ArialMT-57\"/>\n      </defs>\n      <g style=\"fill:#262626;\" transform=\"translate(782.808553 574.51826)rotate(-45)scale(0.11 -0.11)\">\n       <use xlink:href=\"#ArialMT-49\"/>\n       <use x=\"55.615234\" xlink:href=\"#ArialMT-57\"/>\n      </g>\n     </g>\n    </g>\n    <g id=\"xtick_11\">\n     <g id=\"line2d_11\">\n      <path clip-path=\"url(#p2bbf5697cf)\" d=\"M 861.214077 550.8 \nL 861.214077 7.2 \n\" style=\"fill:none;stroke:#ffffff;stroke-linecap:round;\"/>\n     </g>\n     <g id=\"text_11\">\n      <!-- 20 -->\n      <g style=\"fill:#262626;\" transform=\"translate(858.899462 574.51826)rotate(-45)scale(0.11 -0.11)\">\n       <use xlink:href=\"#ArialMT-50\"/>\n       <use x=\"55.615234\" xlink:href=\"#ArialMT-48\"/>\n      </g>\n     </g>\n    </g>\n    <g id=\"text_12\">\n     <!-- Time -->\n     <defs>\n      <path d=\"M 25.921875 0 \nL 25.921875 63.140625 \nL 2.34375 63.140625 \nL 2.34375 71.578125 \nL 59.078125 71.578125 \nL 59.078125 63.140625 \nL 35.40625 63.140625 \nL 35.40625 0 \nz\n\" id=\"ArialMT-84\"/>\n      <path d=\"M 6.640625 61.46875 \nL 6.640625 71.578125 \nL 15.4375 71.578125 \nL 15.4375 61.46875 \nz\nM 6.640625 0 \nL 6.640625 51.859375 \nL 15.4375 51.859375 \nL 15.4375 0 \nz\n\" id=\"ArialMT-105\"/>\n      <path d=\"M 6.59375 0 \nL 6.59375 51.859375 \nL 14.453125 51.859375 \nL 14.453125 44.578125 \nQ 16.890625 48.390625 20.9375 50.703125 \nQ 25 53.03125 30.171875 53.03125 \nQ 35.9375 53.03125 39.625 50.640625 \nQ 43.3125 48.25 44.828125 43.953125 \nQ 50.984375 53.03125 60.84375 53.03125 \nQ 68.5625 53.03125 72.703125 48.75 \nQ 76.859375 44.484375 76.859375 35.59375 \nL 76.859375 0 \nL 68.109375 0 \nL 68.109375 32.671875 \nQ 68.109375 37.9375 67.25 40.25 \nQ 66.40625 42.578125 64.15625 43.984375 \nQ 61.921875 45.40625 58.890625 45.40625 \nQ 53.421875 45.40625 49.796875 41.765625 \nQ 46.1875 38.140625 46.1875 30.125 \nL 46.1875 0 \nL 37.40625 0 \nL 37.40625 33.6875 \nQ 37.40625 39.546875 35.25 42.46875 \nQ 33.109375 45.40625 28.21875 45.40625 \nQ 24.515625 45.40625 21.359375 43.453125 \nQ 18.21875 41.5 16.796875 37.734375 \nQ 15.375 33.984375 15.375 26.90625 \nL 15.375 0 \nz\n\" id=\"ArialMT-109\"/>\n      <path d=\"M 42.09375 16.703125 \nL 51.171875 15.578125 \nQ 49.03125 7.625 43.21875 3.21875 \nQ 37.40625 -1.171875 28.375 -1.171875 \nQ 17 -1.171875 10.328125 5.828125 \nQ 3.65625 12.84375 3.65625 25.484375 \nQ 3.65625 38.578125 10.390625 45.796875 \nQ 17.140625 53.03125 27.875 53.03125 \nQ 38.28125 53.03125 44.875 45.953125 \nQ 51.46875 38.875 51.46875 26.03125 \nQ 51.46875 25.25 51.421875 23.6875 \nL 12.75 23.6875 \nQ 13.234375 15.140625 17.578125 10.59375 \nQ 21.921875 6.0625 28.421875 6.0625 \nQ 33.25 6.0625 36.671875 8.59375 \nQ 40.09375 11.140625 42.09375 16.703125 \nz\nM 13.234375 30.90625 \nL 42.1875 30.90625 \nQ 41.609375 37.453125 38.875 40.71875 \nQ 34.671875 45.796875 27.984375 45.796875 \nQ 21.921875 45.796875 17.796875 41.75 \nQ 13.671875 37.703125 13.234375 30.90625 \nz\n\" id=\"ArialMT-101\"/>\n     </defs>\n     <g style=\"fill:#262626;\" transform=\"translate(467.652344 588.653547)scale(0.12 -0.12)\">\n      <use xlink:href=\"#ArialMT-84\"/>\n      <use x=\"57.333984\" xlink:href=\"#ArialMT-105\"/>\n      <use x=\"79.550781\" xlink:href=\"#ArialMT-109\"/>\n      <use x=\"162.851562\" xlink:href=\"#ArialMT-101\"/>\n     </g>\n    </g>\n   </g>\n   <g id=\"matplotlib.axis_2\">\n    <g id=\"ytick_1\">\n     <g id=\"line2d_12\">\n      <path clip-path=\"url(#p2bbf5697cf)\" d=\"M 62.259531 550.8 \nL 899.259531 550.8 \n\" style=\"fill:none;stroke:#ffffff;stroke-linecap:round;\"/>\n     </g>\n     <g id=\"text_13\">\n      <!-- 0 -->\n      <g style=\"fill:#262626;\" transform=\"translate(46.6425 554.736797)scale(0.11 -0.11)\">\n       <use xlink:href=\"#ArialMT-48\"/>\n      </g>\n     </g>\n    </g>\n    <g id=\"ytick_2\">\n     <g id=\"line2d_13\">\n      <path clip-path=\"url(#p2bbf5697cf)\" d=\"M 62.259531 485.59589 \nL 899.259531 485.59589 \n\" style=\"fill:none;stroke:#ffffff;stroke-linecap:round;\"/>\n     </g>\n     <g id=\"text_14\">\n      <!-- 5000 -->\n      <g style=\"fill:#262626;\" transform=\"translate(28.291406 489.532686)scale(0.11 -0.11)\">\n       <use xlink:href=\"#ArialMT-53\"/>\n       <use x=\"55.615234\" xlink:href=\"#ArialMT-48\"/>\n       <use x=\"111.230469\" xlink:href=\"#ArialMT-48\"/>\n       <use x=\"166.845703\" xlink:href=\"#ArialMT-48\"/>\n      </g>\n     </g>\n    </g>\n    <g id=\"ytick_3\">\n     <g id=\"line2d_14\">\n      <path clip-path=\"url(#p2bbf5697cf)\" d=\"M 62.259531 420.391779 \nL 899.259531 420.391779 \n\" style=\"fill:none;stroke:#ffffff;stroke-linecap:round;\"/>\n     </g>\n     <g id=\"text_15\">\n      <!-- 10000 -->\n      <g style=\"fill:#262626;\" transform=\"translate(22.174375 424.328576)scale(0.11 -0.11)\">\n       <use xlink:href=\"#ArialMT-49\"/>\n       <use x=\"55.615234\" xlink:href=\"#ArialMT-48\"/>\n       <use x=\"111.230469\" xlink:href=\"#ArialMT-48\"/>\n       <use x=\"166.845703\" xlink:href=\"#ArialMT-48\"/>\n       <use x=\"222.460938\" xlink:href=\"#ArialMT-48\"/>\n      </g>\n     </g>\n    </g>\n    <g id=\"ytick_4\">\n     <g id=\"line2d_15\">\n      <path clip-path=\"url(#p2bbf5697cf)\" d=\"M 62.259531 355.187669 \nL 899.259531 355.187669 \n\" style=\"fill:none;stroke:#ffffff;stroke-linecap:round;\"/>\n     </g>\n     <g id=\"text_16\">\n      <!-- 15000 -->\n      <g style=\"fill:#262626;\" transform=\"translate(22.174375 359.124466)scale(0.11 -0.11)\">\n       <use xlink:href=\"#ArialMT-49\"/>\n       <use x=\"55.615234\" xlink:href=\"#ArialMT-53\"/>\n       <use x=\"111.230469\" xlink:href=\"#ArialMT-48\"/>\n       <use x=\"166.845703\" xlink:href=\"#ArialMT-48\"/>\n       <use x=\"222.460938\" xlink:href=\"#ArialMT-48\"/>\n      </g>\n     </g>\n    </g>\n    <g id=\"ytick_5\">\n     <g id=\"line2d_16\">\n      <path clip-path=\"url(#p2bbf5697cf)\" d=\"M 62.259531 289.983558 \nL 899.259531 289.983558 \n\" style=\"fill:none;stroke:#ffffff;stroke-linecap:round;\"/>\n     </g>\n     <g id=\"text_17\">\n      <!-- 20000 -->\n      <g style=\"fill:#262626;\" transform=\"translate(22.174375 293.920355)scale(0.11 -0.11)\">\n       <use xlink:href=\"#ArialMT-50\"/>\n       <use x=\"55.615234\" xlink:href=\"#ArialMT-48\"/>\n       <use x=\"111.230469\" xlink:href=\"#ArialMT-48\"/>\n       <use x=\"166.845703\" xlink:href=\"#ArialMT-48\"/>\n       <use x=\"222.460938\" xlink:href=\"#ArialMT-48\"/>\n      </g>\n     </g>\n    </g>\n    <g id=\"ytick_6\">\n     <g id=\"line2d_17\">\n      <path clip-path=\"url(#p2bbf5697cf)\" d=\"M 62.259531 224.779448 \nL 899.259531 224.779448 \n\" style=\"fill:none;stroke:#ffffff;stroke-linecap:round;\"/>\n     </g>\n     <g id=\"text_18\">\n      <!-- 25000 -->\n      <g style=\"fill:#262626;\" transform=\"translate(22.174375 228.716245)scale(0.11 -0.11)\">\n       <use xlink:href=\"#ArialMT-50\"/>\n       <use x=\"55.615234\" xlink:href=\"#ArialMT-53\"/>\n       <use x=\"111.230469\" xlink:href=\"#ArialMT-48\"/>\n       <use x=\"166.845703\" xlink:href=\"#ArialMT-48\"/>\n       <use x=\"222.460938\" xlink:href=\"#ArialMT-48\"/>\n      </g>\n     </g>\n    </g>\n    <g id=\"ytick_7\">\n     <g id=\"line2d_18\">\n      <path clip-path=\"url(#p2bbf5697cf)\" d=\"M 62.259531 159.575338 \nL 899.259531 159.575338 \n\" style=\"fill:none;stroke:#ffffff;stroke-linecap:round;\"/>\n     </g>\n     <g id=\"text_19\">\n      <!-- 30000 -->\n      <g style=\"fill:#262626;\" transform=\"translate(22.174375 163.512134)scale(0.11 -0.11)\">\n       <use xlink:href=\"#ArialMT-51\"/>\n       <use x=\"55.615234\" xlink:href=\"#ArialMT-48\"/>\n       <use x=\"111.230469\" xlink:href=\"#ArialMT-48\"/>\n       <use x=\"166.845703\" xlink:href=\"#ArialMT-48\"/>\n       <use x=\"222.460938\" xlink:href=\"#ArialMT-48\"/>\n      </g>\n     </g>\n    </g>\n    <g id=\"ytick_8\">\n     <g id=\"line2d_19\">\n      <path clip-path=\"url(#p2bbf5697cf)\" d=\"M 62.259531 94.371227 \nL 899.259531 94.371227 \n\" style=\"fill:none;stroke:#ffffff;stroke-linecap:round;\"/>\n     </g>\n     <g id=\"text_20\">\n      <!-- 35000 -->\n      <g style=\"fill:#262626;\" transform=\"translate(22.174375 98.308024)scale(0.11 -0.11)\">\n       <use xlink:href=\"#ArialMT-51\"/>\n       <use x=\"55.615234\" xlink:href=\"#ArialMT-53\"/>\n       <use x=\"111.230469\" xlink:href=\"#ArialMT-48\"/>\n       <use x=\"166.845703\" xlink:href=\"#ArialMT-48\"/>\n       <use x=\"222.460938\" xlink:href=\"#ArialMT-48\"/>\n      </g>\n     </g>\n    </g>\n    <g id=\"ytick_9\">\n     <g id=\"line2d_20\">\n      <path clip-path=\"url(#p2bbf5697cf)\" d=\"M 62.259531 29.167117 \nL 899.259531 29.167117 \n\" style=\"fill:none;stroke:#ffffff;stroke-linecap:round;\"/>\n     </g>\n     <g id=\"text_21\">\n      <!-- 40000 -->\n      <g style=\"fill:#262626;\" transform=\"translate(22.174375 33.103914)scale(0.11 -0.11)\">\n       <use xlink:href=\"#ArialMT-52\"/>\n       <use x=\"55.615234\" xlink:href=\"#ArialMT-48\"/>\n       <use x=\"111.230469\" xlink:href=\"#ArialMT-48\"/>\n       <use x=\"166.845703\" xlink:href=\"#ArialMT-48\"/>\n       <use x=\"222.460938\" xlink:href=\"#ArialMT-48\"/>\n      </g>\n     </g>\n    </g>\n    <g id=\"text_22\">\n     <!-- Amount -->\n     <defs>\n      <path d=\"M -0.140625 0 \nL 27.34375 71.578125 \nL 37.546875 71.578125 \nL 66.84375 0 \nL 56.0625 0 \nL 47.703125 21.6875 \nL 17.78125 21.6875 \nL 9.90625 0 \nz\nM 20.515625 29.390625 \nL 44.78125 29.390625 \nL 37.3125 49.21875 \nQ 33.890625 58.25 32.234375 64.0625 \nQ 30.859375 57.171875 28.375 50.390625 \nz\n\" id=\"ArialMT-65\"/>\n      <path d=\"M 3.328125 25.921875 \nQ 3.328125 40.328125 11.328125 47.265625 \nQ 18.015625 53.03125 27.640625 53.03125 \nQ 38.328125 53.03125 45.109375 46.015625 \nQ 51.90625 39.015625 51.90625 26.65625 \nQ 51.90625 16.65625 48.90625 10.90625 \nQ 45.90625 5.171875 40.15625 2 \nQ 34.421875 -1.171875 27.640625 -1.171875 \nQ 16.75 -1.171875 10.03125 5.8125 \nQ 3.328125 12.796875 3.328125 25.921875 \nz\nM 12.359375 25.921875 \nQ 12.359375 15.96875 16.703125 11.015625 \nQ 21.046875 6.0625 27.640625 6.0625 \nQ 34.1875 6.0625 38.53125 11.03125 \nQ 42.875 16.015625 42.875 26.21875 \nQ 42.875 35.84375 38.5 40.796875 \nQ 34.125 45.75 27.640625 45.75 \nQ 21.046875 45.75 16.703125 40.8125 \nQ 12.359375 35.890625 12.359375 25.921875 \nz\n\" id=\"ArialMT-111\"/>\n      <path d=\"M 40.578125 0 \nL 40.578125 7.625 \nQ 34.515625 -1.171875 24.125 -1.171875 \nQ 19.53125 -1.171875 15.546875 0.578125 \nQ 11.578125 2.34375 9.640625 5 \nQ 7.71875 7.671875 6.9375 11.53125 \nQ 6.390625 14.109375 6.390625 19.734375 \nL 6.390625 51.859375 \nL 15.1875 51.859375 \nL 15.1875 23.09375 \nQ 15.1875 16.21875 15.71875 13.8125 \nQ 16.546875 10.359375 19.234375 8.375 \nQ 21.921875 6.390625 25.875 6.390625 \nQ 29.828125 6.390625 33.296875 8.421875 \nQ 36.765625 10.453125 38.203125 13.9375 \nQ 39.65625 17.4375 39.65625 24.078125 \nL 39.65625 51.859375 \nL 48.4375 51.859375 \nL 48.4375 0 \nz\n\" id=\"ArialMT-117\"/>\n      <path d=\"M 6.59375 0 \nL 6.59375 51.859375 \nL 14.5 51.859375 \nL 14.5 44.484375 \nQ 20.21875 53.03125 31 53.03125 \nQ 35.6875 53.03125 39.625 51.34375 \nQ 43.5625 49.65625 45.515625 46.921875 \nQ 47.46875 44.1875 48.25 40.4375 \nQ 48.734375 37.984375 48.734375 31.890625 \nL 48.734375 0 \nL 39.9375 0 \nL 39.9375 31.546875 \nQ 39.9375 36.921875 38.90625 39.578125 \nQ 37.890625 42.234375 35.28125 43.8125 \nQ 32.671875 45.40625 29.15625 45.40625 \nQ 23.53125 45.40625 19.453125 41.84375 \nQ 15.375 38.28125 15.375 28.328125 \nL 15.375 0 \nz\n\" id=\"ArialMT-110\"/>\n      <path d=\"M 25.78125 7.859375 \nL 27.046875 0.09375 \nQ 23.34375 -0.6875 20.40625 -0.6875 \nQ 15.625 -0.6875 12.984375 0.828125 \nQ 10.359375 2.34375 9.28125 4.8125 \nQ 8.203125 7.28125 8.203125 15.1875 \nL 8.203125 45.015625 \nL 1.765625 45.015625 \nL 1.765625 51.859375 \nL 8.203125 51.859375 \nL 8.203125 64.703125 \nL 16.9375 69.96875 \nL 16.9375 51.859375 \nL 25.78125 51.859375 \nL 25.78125 45.015625 \nL 16.9375 45.015625 \nL 16.9375 14.703125 \nQ 16.9375 10.9375 17.40625 9.859375 \nQ 17.875 8.796875 18.921875 8.15625 \nQ 19.96875 7.515625 21.921875 7.515625 \nQ 23.390625 7.515625 25.78125 7.859375 \nz\n\" id=\"ArialMT-116\"/>\n     </defs>\n     <g style=\"fill:#262626;\" transform=\"translate(15.789375 299.676562)rotate(-90)scale(0.12 -0.12)\">\n      <use xlink:href=\"#ArialMT-65\"/>\n      <use x=\"66.699219\" xlink:href=\"#ArialMT-109\"/>\n      <use x=\"150\" xlink:href=\"#ArialMT-111\"/>\n      <use x=\"205.615234\" xlink:href=\"#ArialMT-117\"/>\n      <use x=\"261.230469\" xlink:href=\"#ArialMT-110\"/>\n      <use x=\"316.845703\" xlink:href=\"#ArialMT-116\"/>\n     </g>\n    </g>\n   </g>\n   <g id=\"patch_3\">\n    <path clip-path=\"url(#p2bbf5697cf)\" d=\"M 81.282259 550.8 \nL 119.327713 550.8 \nL 119.327713 141.038057 \nL 81.282259 141.038057 \nz\n\" style=\"fill:#ff0000;stroke:#ffffff;stroke-linejoin:miter;\"/>\n   </g>\n   <g id=\"patch_4\">\n    <path clip-path=\"url(#p2bbf5697cf)\" d=\"M 157.373168 550.8 \nL 195.418622 550.8 \nL 195.418622 154.654651 \nL 157.373168 154.654651 \nz\n\" style=\"fill:#ff0000;stroke:#ffffff;stroke-linejoin:miter;\"/>\n   </g>\n   <g id=\"patch_5\">\n    <path clip-path=\"url(#p2bbf5697cf)\" d=\"M 233.464077 550.8 \nL 271.509531 550.8 \nL 271.509531 210.879464 \nL 233.464077 210.879464 \nz\n\" style=\"fill:#ff0000;stroke:#ffffff;stroke-linejoin:miter;\"/>\n   </g>\n   <g id=\"patch_6\">\n    <path clip-path=\"url(#p2bbf5697cf)\" d=\"M 309.554986 550.8 \nL 347.60044 550.8 \nL 347.60044 97.980575 \nL 309.554986 97.980575 \nz\n\" style=\"fill:#ff0000;stroke:#ffffff;stroke-linejoin:miter;\"/>\n   </g>\n   <g id=\"patch_7\">\n    <path clip-path=\"url(#p2bbf5697cf)\" d=\"M 385.645895 550.8 \nL 423.691349 550.8 \nL 423.691349 148.772334 \nL 385.645895 148.772334 \nz\n\" style=\"fill:#ff0000;stroke:#ffffff;stroke-linejoin:miter;\"/>\n   </g>\n   <g id=\"patch_8\">\n    <path clip-path=\"url(#p2bbf5697cf)\" d=\"M 461.736804 550.8 \nL 499.782259 550.8 \nL 499.782259 144.193577 \nL 461.736804 144.193577 \nz\n\" style=\"fill:#ff0000;stroke:#ffffff;stroke-linejoin:miter;\"/>\n   </g>\n   <g id=\"patch_9\">\n    <path clip-path=\"url(#p2bbf5697cf)\" d=\"M 537.827713 550.8 \nL 575.873168 550.8 \nL 575.873168 221.828003 \nL 537.827713 221.828003 \nz\n\" style=\"fill:#ff0000;stroke:#ffffff;stroke-linejoin:miter;\"/>\n   </g>\n   <g id=\"patch_10\">\n    <path clip-path=\"url(#p2bbf5697cf)\" d=\"M 613.918622 550.8 \nL 651.964077 550.8 \nL 651.964077 232.014261 \nL 613.918622 232.014261 \nz\n\" style=\"fill:#ff0000;stroke:#ffffff;stroke-linejoin:miter;\"/>\n   </g>\n   <g id=\"patch_11\">\n    <path clip-path=\"url(#p2bbf5697cf)\" d=\"M 690.009531 550.8 \nL 728.054986 550.8 \nL 728.054986 211.342967 \nL 690.009531 211.342967 \nz\n\" style=\"fill:#ff0000;stroke:#ffffff;stroke-linejoin:miter;\"/>\n   </g>\n   <g id=\"patch_12\">\n    <path clip-path=\"url(#p2bbf5697cf)\" d=\"M 766.10044 550.8 \nL 804.145895 550.8 \nL 804.145895 33.085714 \nL 766.10044 33.085714 \nz\n\" style=\"fill:#ff0000;stroke:#ffffff;stroke-linejoin:miter;\"/>\n   </g>\n   <g id=\"patch_13\">\n    <path clip-path=\"url(#p2bbf5697cf)\" d=\"M 842.191349 550.8 \nL 880.236804 550.8 \nL 880.236804 251.258485 \nL 842.191349 251.258485 \nz\n\" style=\"fill:#ff0000;stroke:#ffffff;stroke-linejoin:miter;\"/>\n   </g>\n   <g id=\"patch_14\">\n    <path d=\"M 62.259531 550.8 \nL 62.259531 7.2 \n\" style=\"fill:none;stroke:#ffffff;stroke-linecap:square;stroke-linejoin:miter;stroke-width:1.25;\"/>\n   </g>\n   <g id=\"patch_15\">\n    <path d=\"M 899.259531 550.8 \nL 899.259531 7.2 \n\" style=\"fill:none;stroke:#ffffff;stroke-linecap:square;stroke-linejoin:miter;stroke-width:1.25;\"/>\n   </g>\n   <g id=\"patch_16\">\n    <path d=\"M 62.259531 550.8 \nL 899.259531 550.8 \n\" style=\"fill:none;stroke:#ffffff;stroke-linecap:square;stroke-linejoin:miter;stroke-width:1.25;\"/>\n   </g>\n   <g id=\"patch_17\">\n    <path d=\"M 62.259531 7.2 \nL 899.259531 7.2 \n\" style=\"fill:none;stroke:#ffffff;stroke-linecap:square;stroke-linejoin:miter;stroke-width:1.25;\"/>\n   </g>\n   <g id=\"legend_1\">\n    <g id=\"patch_18\">\n     <path d=\"M 833.130625 31.559844 \nL 891.559531 31.559844 \nQ 893.759531 31.559844 893.759531 29.359844 \nL 893.759531 14.9 \nQ 893.759531 12.7 891.559531 12.7 \nL 833.130625 12.7 \nQ 830.930625 12.7 830.930625 14.9 \nL 830.930625 29.359844 \nQ 830.930625 31.559844 833.130625 31.559844 \nz\n\" style=\"fill:#eaeaf2;opacity:0.8;stroke:#cccccc;stroke-linejoin:miter;\"/>\n    </g>\n    <g id=\"patch_19\">\n     <path d=\"M 835.330625 24.973594 \nL 857.330625 24.973594 \nL 857.330625 17.273594 \nL 835.330625 17.273594 \nz\n\" style=\"fill:#ff0000;stroke:#ffffff;stroke-linejoin:miter;\"/>\n    </g>\n    <g id=\"text_23\">\n     <!-- Total -->\n     <defs>\n      <path d=\"M 40.4375 6.390625 \nQ 35.546875 2.25 31.03125 0.53125 \nQ 26.515625 -1.171875 21.34375 -1.171875 \nQ 12.796875 -1.171875 8.203125 3 \nQ 3.609375 7.171875 3.609375 13.671875 \nQ 3.609375 17.484375 5.34375 20.625 \nQ 7.078125 23.78125 9.890625 25.6875 \nQ 12.703125 27.59375 16.21875 28.5625 \nQ 18.796875 29.25 24.03125 29.890625 \nQ 34.671875 31.15625 39.703125 32.90625 \nQ 39.75 34.71875 39.75 35.203125 \nQ 39.75 40.578125 37.25 42.78125 \nQ 33.890625 45.75 27.25 45.75 \nQ 21.046875 45.75 18.09375 43.578125 \nQ 15.140625 41.40625 13.71875 35.890625 \nL 5.125 37.0625 \nQ 6.296875 42.578125 8.984375 45.96875 \nQ 11.671875 49.359375 16.75 51.1875 \nQ 21.828125 53.03125 28.515625 53.03125 \nQ 35.15625 53.03125 39.296875 51.46875 \nQ 43.453125 49.90625 45.40625 47.53125 \nQ 47.359375 45.171875 48.140625 41.546875 \nQ 48.578125 39.3125 48.578125 33.453125 \nL 48.578125 21.734375 \nQ 48.578125 9.46875 49.140625 6.21875 \nQ 49.703125 2.984375 51.375 0 \nL 42.1875 0 \nQ 40.828125 2.734375 40.4375 6.390625 \nz\nM 39.703125 26.03125 \nQ 34.90625 24.078125 25.34375 22.703125 \nQ 19.921875 21.921875 17.671875 20.9375 \nQ 15.4375 19.96875 14.203125 18.09375 \nQ 12.984375 16.21875 12.984375 13.921875 \nQ 12.984375 10.40625 15.640625 8.0625 \nQ 18.3125 5.71875 23.4375 5.71875 \nQ 28.515625 5.71875 32.46875 7.9375 \nQ 36.421875 10.15625 38.28125 14.015625 \nQ 39.703125 17 39.703125 22.796875 \nz\n\" id=\"ArialMT-97\"/>\n      <path d=\"M 6.390625 0 \nL 6.390625 71.578125 \nL 15.1875 71.578125 \nL 15.1875 0 \nz\n\" id=\"ArialMT-108\"/>\n     </defs>\n     <g style=\"fill:#262626;\" transform=\"translate(866.130625 24.973594)scale(0.11 -0.11)\">\n      <use xlink:href=\"#ArialMT-84\"/>\n      <use x=\"49.958984\" xlink:href=\"#ArialMT-111\"/>\n      <use x=\"105.574219\" xlink:href=\"#ArialMT-116\"/>\n      <use x=\"133.357422\" xlink:href=\"#ArialMT-97\"/>\n      <use x=\"188.972656\" xlink:href=\"#ArialMT-108\"/>\n     </g>\n    </g>\n   </g>\n  </g>\n </g>\n <defs>\n  <clipPath id=\"p2bbf5697cf\">\n   <rect height=\"543.6\" width=\"837\" x=\"62.259531\" y=\"7.2\"/>\n  </clipPath>\n </defs>\n</svg>\n",
      "image/png": "[encoded data removed]"
     },
     "metadata": {}
    }
   ],
   "source": [
    "fortime.plot(kind=\"bar\", color = 'red',figsize=(15,10))\n",
    "plt.xticks(rotation=45);\n",
    "plt.xlabel(\"Time\")\n",
    "plt.ylabel(\"Amount\")\n",
    "plt.savefig(\"figure2.png\")"
   ]
  },
  {
   "cell_type": "code",
   "execution_count": 121,
   "metadata": {},
   "outputs": [
    {
     "output_type": "execute_result",
     "data": {
      "text/plain": "    Customer type STime      Total\n0          Member    13   548.9715\n1          Normal    10    80.2200\n2          Normal    13   340.5255\n3          Member    20   489.0480\n4          Normal    10   634.3785\n..            ...   ...        ...\n995        Normal    13    42.3675\n996        Normal    17  1022.4900\n997        Member    13    33.4320\n998        Normal    15    69.1110\n999        Member    13   649.2990\n\n[999 rows x 3 columns]",
      "text/html": "<div>\n<style scoped>\n    .dataframe tbody tr th:only-of-type {\n        vertical-align: middle;\n    }\n\n    .dataframe tbody tr th {\n        vertical-align: top;\n    }\n\n    .dataframe thead th {\n        text-align: right;\n    }\n</style>\n<table border=\"1\" class=\"dataframe\">\n  <thead>\n    <tr style=\"text-align: right;\">\n      <th></th>\n      <th>Customer type</th>\n      <th>STime</th>\n      <th>Total</th>\n    </tr>\n  </thead>\n  <tbody>\n    <tr>\n      <th>0</th>\n      <td>Member</td>\n      <td>13</td>\n      <td>548.9715</td>\n    </tr>\n    <tr>\n      <th>1</th>\n      <td>Normal</td>\n      <td>10</td>\n      <td>80.2200</td>\n    </tr>\n    <tr>\n      <th>2</th>\n      <td>Normal</td>\n      <td>13</td>\n      <td>340.5255</td>\n    </tr>\n    <tr>\n      <th>3</th>\n      <td>Member</td>\n      <td>20</td>\n      <td>489.0480</td>\n    </tr>\n    <tr>\n      <th>4</th>\n      <td>Normal</td>\n      <td>10</td>\n      <td>634.3785</td>\n    </tr>\n    <tr>\n      <th>...</th>\n      <td>...</td>\n      <td>...</td>\n      <td>...</td>\n    </tr>\n    <tr>\n      <th>995</th>\n      <td>Normal</td>\n      <td>13</td>\n      <td>42.3675</td>\n    </tr>\n    <tr>\n      <th>996</th>\n      <td>Normal</td>\n      <td>17</td>\n      <td>1022.4900</td>\n    </tr>\n    <tr>\n      <th>997</th>\n      <td>Member</td>\n      <td>13</td>\n      <td>33.4320</td>\n    </tr>\n    <tr>\n      <th>998</th>\n      <td>Normal</td>\n      <td>15</td>\n      <td>69.1110</td>\n    </tr>\n    <tr>\n      <th>999</th>\n      <td>Member</td>\n      <td>13</td>\n      <td>649.2990</td>\n    </tr>\n  </tbody>\n</table>\n<p>999 rows × 3 columns</p>\n</div>"
     },
     "metadata": {},
     "execution_count": 121
    }
   ],
   "source": [
    "forcustomertype = df[['Customer type','STime','Total']]\n",
    "forcustomertype = DataFrame.drop_duplicates(forcustomertype)\n",
    "forcustomertype"
   ]
  },
  {
   "cell_type": "code",
   "execution_count": 122,
   "metadata": {},
   "outputs": [
    {
     "output_type": "execute_result",
     "data": {
      "text/plain": "<pandas.io.formats.style.Styler at 0x7faf256a64f0>",
      "text/html": "<style  type=\"text/css\" >\n</style><table id=\"T_0338f958_f333_11ea_9bda_48d705b452f7\" ><thead>    <tr>        <th class=\"blank level0\" ></th>        <th class=\"col_heading level0 col0\" colspan=11>Total</th>    </tr>    <tr>        <th class=\"index_name level1\" >STime</th>        <th class=\"col_heading level1 col0\" >10</th>        <th class=\"col_heading level1 col1\" >11</th>        <th class=\"col_heading level1 col2\" >12</th>        <th class=\"col_heading level1 col3\" >13</th>        <th class=\"col_heading level1 col4\" >14</th>        <th class=\"col_heading level1 col5\" >15</th>        <th class=\"col_heading level1 col6\" >16</th>        <th class=\"col_heading level1 col7\" >17</th>        <th class=\"col_heading level1 col8\" >18</th>        <th class=\"col_heading level1 col9\" >19</th>        <th class=\"col_heading level1 col10\" >20</th>    </tr>    <tr>        <th class=\"index_name level0\" >Customer type</th>        <th class=\"blank\" ></th>        <th class=\"blank\" ></th>        <th class=\"blank\" ></th>        <th class=\"blank\" ></th>        <th class=\"blank\" ></th>        <th class=\"blank\" ></th>        <th class=\"blank\" ></th>        <th class=\"blank\" ></th>        <th class=\"blank\" ></th>        <th class=\"blank\" ></th>        <th class=\"blank\" ></th>    </tr></thead><tbody>\n                <tr>\n                        <th id=\"T_0338f958_f333_11ea_9bda_48d705b452f7level0_row0\" class=\"row_heading level0 row0\" >Member</th>\n                        <td id=\"T_0338f958_f333_11ea_9bda_48d705b452f7row0_col0\" class=\"data row0 col0\" >12,267</td>\n                        <td id=\"T_0338f958_f333_11ea_9bda_48d705b452f7row0_col1\" class=\"data row0 col1\" >15,228</td>\n                        <td id=\"T_0338f958_f333_11ea_9bda_48d705b452f7row0_col2\" class=\"data row0 col2\" >13,730</td>\n                        <td id=\"T_0338f958_f333_11ea_9bda_48d705b452f7row0_col3\" class=\"data row0 col3\" >16,007</td>\n                        <td id=\"T_0338f958_f333_11ea_9bda_48d705b452f7row0_col4\" class=\"data row0 col4\" >19,048</td>\n                        <td id=\"T_0338f958_f333_11ea_9bda_48d705b452f7row0_col5\" class=\"data row0 col5\" >18,750</td>\n                        <td id=\"T_0338f958_f333_11ea_9bda_48d705b452f7row0_col6\" class=\"data row0 col6\" >10,601</td>\n                        <td id=\"T_0338f958_f333_11ea_9bda_48d705b452f7row0_col7\" class=\"data row0 col7\" >12,775</td>\n                        <td id=\"T_0338f958_f333_11ea_9bda_48d705b452f7row0_col8\" class=\"data row0 col8\" >11,659</td>\n                        <td id=\"T_0338f958_f333_11ea_9bda_48d705b452f7row0_col9\" class=\"data row0 col9\" >21,058</td>\n                        <td id=\"T_0338f958_f333_11ea_9bda_48d705b452f7row0_col10\" class=\"data row0 col10\" >12,913</td>\n            </tr>\n            <tr>\n                        <th id=\"T_0338f958_f333_11ea_9bda_48d705b452f7level0_row1\" class=\"row_heading level0 row1\" >Normal</th>\n                        <td id=\"T_0338f958_f333_11ea_9bda_48d705b452f7row1_col0\" class=\"data row1 col0\" >19,154</td>\n                        <td id=\"T_0338f958_f333_11ea_9bda_48d705b452f7row1_col1\" class=\"data row1 col1\" >15,150</td>\n                        <td id=\"T_0338f958_f333_11ea_9bda_48d705b452f7row1_col2\" class=\"data row1 col2\" >12,336</td>\n                        <td id=\"T_0338f958_f333_11ea_9bda_48d705b452f7row1_col3\" class=\"data row1 col3\" >18,716</td>\n                        <td id=\"T_0338f958_f333_11ea_9bda_48d705b452f7row1_col4\" class=\"data row1 col4\" >11,781</td>\n                        <td id=\"T_0338f958_f333_11ea_9bda_48d705b452f7row1_col5\" class=\"data row1 col5\" >12,240</td>\n                        <td id=\"T_0338f958_f333_11ea_9bda_48d705b452f7row1_col6\" class=\"data row1 col6\" >14,625</td>\n                        <td id=\"T_0338f958_f333_11ea_9bda_48d705b452f7row1_col7\" class=\"data row1 col7\" >11,670</td>\n                        <td id=\"T_0338f958_f333_11ea_9bda_48d705b452f7row1_col8\" class=\"data row1 col8\" >14,371</td>\n                        <td id=\"T_0338f958_f333_11ea_9bda_48d705b452f7row1_col9\" class=\"data row1 col9\" >18,642</td>\n                        <td id=\"T_0338f958_f333_11ea_9bda_48d705b452f7row1_col10\" class=\"data row1 col10\" >10,057</td>\n            </tr>\n    </tbody></table>"
     },
     "metadata": {},
     "execution_count": 122
    }
   ],
   "source": [
    "pivottable=pd.pivot_table(forcustomertype,index=[\"Customer type\"],columns=[\"STime\"],values=[\"Total\"],aggfunc=np.sum,margins_name='Amount',fill_value=0)\n",
    "pivottable=pivottable.style.format(\"{:,.0f}\")\n",
    "pivottable\n"
   ]
  },
  {
   "cell_type": "code",
   "execution_count": 123,
   "metadata": {},
   "outputs": [],
   "source": [
    "pivottable.to_excel(\"pivottableforcustomertype.xlsx\")"
   ]
  },
  {
   "cell_type": "code",
   "execution_count": 124,
   "metadata": {},
   "outputs": [
    {
     "output_type": "execute_result",
     "data": {
      "text/plain": "    Branch      Total       Date\n0        A   548.9715   1/5/2019\n1        C    80.2200   3/8/2019\n2        A   340.5255   3/3/2019\n3        A   489.0480  1/27/2019\n4        A   634.3785   2/8/2019\n..     ...        ...        ...\n995      C    42.3675  1/29/2019\n996      B  1022.4900   3/2/2019\n997      A    33.4320   2/9/2019\n998      A    69.1110  2/22/2019\n999      A   649.2990  2/18/2019\n\n[1000 rows x 3 columns]",
      "text/html": "<div>\n<style scoped>\n    .dataframe tbody tr th:only-of-type {\n        vertical-align: middle;\n    }\n\n    .dataframe tbody tr th {\n        vertical-align: top;\n    }\n\n    .dataframe thead th {\n        text-align: right;\n    }\n</style>\n<table border=\"1\" class=\"dataframe\">\n  <thead>\n    <tr style=\"text-align: right;\">\n      <th></th>\n      <th>Branch</th>\n      <th>Total</th>\n      <th>Date</th>\n    </tr>\n  </thead>\n  <tbody>\n    <tr>\n      <th>0</th>\n      <td>A</td>\n      <td>548.9715</td>\n      <td>1/5/2019</td>\n    </tr>\n    <tr>\n      <th>1</th>\n      <td>C</td>\n      <td>80.2200</td>\n      <td>3/8/2019</td>\n    </tr>\n    <tr>\n      <th>2</th>\n      <td>A</td>\n      <td>340.5255</td>\n      <td>3/3/2019</td>\n    </tr>\n    <tr>\n      <th>3</th>\n      <td>A</td>\n      <td>489.0480</td>\n      <td>1/27/2019</td>\n    </tr>\n    <tr>\n      <th>4</th>\n      <td>A</td>\n      <td>634.3785</td>\n      <td>2/8/2019</td>\n    </tr>\n    <tr>\n      <th>...</th>\n      <td>...</td>\n      <td>...</td>\n      <td>...</td>\n    </tr>\n    <tr>\n      <th>995</th>\n      <td>C</td>\n      <td>42.3675</td>\n      <td>1/29/2019</td>\n    </tr>\n    <tr>\n      <th>996</th>\n      <td>B</td>\n      <td>1022.4900</td>\n      <td>3/2/2019</td>\n    </tr>\n    <tr>\n      <th>997</th>\n      <td>A</td>\n      <td>33.4320</td>\n      <td>2/9/2019</td>\n    </tr>\n    <tr>\n      <th>998</th>\n      <td>A</td>\n      <td>69.1110</td>\n      <td>2/22/2019</td>\n    </tr>\n    <tr>\n      <th>999</th>\n      <td>A</td>\n      <td>649.2990</td>\n      <td>2/18/2019</td>\n    </tr>\n  </tbody>\n</table>\n<p>1000 rows × 3 columns</p>\n</div>"
     },
     "metadata": {},
     "execution_count": 124
    }
   ],
   "source": [
    "dtb=df[['Branch','Total','Date']]\n",
    "dtb"
   ]
  },
  {
   "cell_type": "code",
   "execution_count": 125,
   "metadata": {},
   "outputs": [
    {
     "output_type": "execute_result",
     "data": {
      "text/plain": "    Branch      Total       Date\n0        A   548.9715   1/5/2019\n1        C    80.2200   3/8/2019\n2        A   340.5255   3/3/2019\n3        A   489.0480  1/27/2019\n4        A   634.3785   2/8/2019\n..     ...        ...        ...\n995      C    42.3675  1/29/2019\n996      B  1022.4900   3/2/2019\n997      A    33.4320   2/9/2019\n998      A    69.1110  2/22/2019\n999      A   649.2990  2/18/2019\n\n[1000 rows x 3 columns]",
      "text/html": "<div>\n<style scoped>\n    .dataframe tbody tr th:only-of-type {\n        vertical-align: middle;\n    }\n\n    .dataframe tbody tr th {\n        vertical-align: top;\n    }\n\n    .dataframe thead th {\n        text-align: right;\n    }\n</style>\n<table border=\"1\" class=\"dataframe\">\n  <thead>\n    <tr style=\"text-align: right;\">\n      <th></th>\n      <th>Branch</th>\n      <th>Total</th>\n      <th>Date</th>\n    </tr>\n  </thead>\n  <tbody>\n    <tr>\n      <th>0</th>\n      <td>A</td>\n      <td>548.9715</td>\n      <td>1/5/2019</td>\n    </tr>\n    <tr>\n      <th>1</th>\n      <td>C</td>\n      <td>80.2200</td>\n      <td>3/8/2019</td>\n    </tr>\n    <tr>\n      <th>2</th>\n      <td>A</td>\n      <td>340.5255</td>\n      <td>3/3/2019</td>\n    </tr>\n    <tr>\n      <th>3</th>\n      <td>A</td>\n      <td>489.0480</td>\n      <td>1/27/2019</td>\n    </tr>\n    <tr>\n      <th>4</th>\n      <td>A</td>\n      <td>634.3785</td>\n      <td>2/8/2019</td>\n    </tr>\n    <tr>\n      <th>...</th>\n      <td>...</td>\n      <td>...</td>\n      <td>...</td>\n    </tr>\n    <tr>\n      <th>995</th>\n      <td>C</td>\n      <td>42.3675</td>\n      <td>1/29/2019</td>\n    </tr>\n    <tr>\n      <th>996</th>\n      <td>B</td>\n      <td>1022.4900</td>\n      <td>3/2/2019</td>\n    </tr>\n    <tr>\n      <th>997</th>\n      <td>A</td>\n      <td>33.4320</td>\n      <td>2/9/2019</td>\n    </tr>\n    <tr>\n      <th>998</th>\n      <td>A</td>\n      <td>69.1110</td>\n      <td>2/22/2019</td>\n    </tr>\n    <tr>\n      <th>999</th>\n      <td>A</td>\n      <td>649.2990</td>\n      <td>2/18/2019</td>\n    </tr>\n  </tbody>\n</table>\n<p>1000 rows × 3 columns</p>\n</div>"
     },
     "metadata": {},
     "execution_count": 125
    }
   ],
   "source": [
    "dtb1=dtb.dropna()\n",
    "dtb1"
   ]
  },
  {
   "cell_type": "code",
   "execution_count": 126,
   "metadata": {},
   "outputs": [
    {
     "output_type": "execute_result",
     "data": {
      "text/plain": "    Branch      Total       Date\n0        A   548.9715   1/5/2019\n1        C    80.2200   3/8/2019\n2        A   340.5255   3/3/2019\n3        A   489.0480  1/27/2019\n4        A   634.3785   2/8/2019\n..     ...        ...        ...\n995      C    42.3675  1/29/2019\n996      B  1022.4900   3/2/2019\n997      A    33.4320   2/9/2019\n998      A    69.1110  2/22/2019\n999      A   649.2990  2/18/2019\n\n[1000 rows x 3 columns]",
      "text/html": "<div>\n<style scoped>\n    .dataframe tbody tr th:only-of-type {\n        vertical-align: middle;\n    }\n\n    .dataframe tbody tr th {\n        vertical-align: top;\n    }\n\n    .dataframe thead th {\n        text-align: right;\n    }\n</style>\n<table border=\"1\" class=\"dataframe\">\n  <thead>\n    <tr style=\"text-align: right;\">\n      <th></th>\n      <th>Branch</th>\n      <th>Total</th>\n      <th>Date</th>\n    </tr>\n  </thead>\n  <tbody>\n    <tr>\n      <th>0</th>\n      <td>A</td>\n      <td>548.9715</td>\n      <td>1/5/2019</td>\n    </tr>\n    <tr>\n      <th>1</th>\n      <td>C</td>\n      <td>80.2200</td>\n      <td>3/8/2019</td>\n    </tr>\n    <tr>\n      <th>2</th>\n      <td>A</td>\n      <td>340.5255</td>\n      <td>3/3/2019</td>\n    </tr>\n    <tr>\n      <th>3</th>\n      <td>A</td>\n      <td>489.0480</td>\n      <td>1/27/2019</td>\n    </tr>\n    <tr>\n      <th>4</th>\n      <td>A</td>\n      <td>634.3785</td>\n      <td>2/8/2019</td>\n    </tr>\n    <tr>\n      <th>...</th>\n      <td>...</td>\n      <td>...</td>\n      <td>...</td>\n    </tr>\n    <tr>\n      <th>995</th>\n      <td>C</td>\n      <td>42.3675</td>\n      <td>1/29/2019</td>\n    </tr>\n    <tr>\n      <th>996</th>\n      <td>B</td>\n      <td>1022.4900</td>\n      <td>3/2/2019</td>\n    </tr>\n    <tr>\n      <th>997</th>\n      <td>A</td>\n      <td>33.4320</td>\n      <td>2/9/2019</td>\n    </tr>\n    <tr>\n      <th>998</th>\n      <td>A</td>\n      <td>69.1110</td>\n      <td>2/22/2019</td>\n    </tr>\n    <tr>\n      <th>999</th>\n      <td>A</td>\n      <td>649.2990</td>\n      <td>2/18/2019</td>\n    </tr>\n  </tbody>\n</table>\n<p>1000 rows × 3 columns</p>\n</div>"
     },
     "metadata": {},
     "execution_count": 126
    }
   ],
   "source": [
    "dtb1.fillna(0)"
   ]
  },
  {
   "cell_type": "code",
   "execution_count": 127,
   "metadata": {
    "tags": []
   },
   "outputs": [
    {
     "output_type": "stream",
     "name": "stdout",
     "text": "<class 'pandas.core.frame.DataFrame'>\nInt64Index: 1000 entries, 0 to 999\nData columns (total 3 columns):\n #   Column  Non-Null Count  Dtype  \n---  ------  --------------  -----  \n 0   Branch  1000 non-null   object \n 1   Total   1000 non-null   float64\n 2   Date    1000 non-null   object \ndtypes: float64(1), object(2)\nmemory usage: 31.2+ KB\n"
    }
   ],
   "source": [
    "dtb1.info()"
   ]
  },
  {
   "cell_type": "code",
   "execution_count": 128,
   "metadata": {
    "tags": []
   },
   "outputs": [
    {
     "output_type": "stream",
     "name": "stdout",
     "text": "<class 'pandas.core.frame.DataFrame'>\nInt64Index: 1000 entries, 0 to 999\nData columns (total 3 columns):\n #   Column  Non-Null Count  Dtype         \n---  ------  --------------  -----         \n 0   Branch  1000 non-null   object        \n 1   Total   1000 non-null   float64       \n 2   Date    1000 non-null   datetime64[ns]\ndtypes: datetime64[ns](1), float64(1), object(1)\nmemory usage: 31.2+ KB\n"
    }
   ],
   "source": [
    "dtb1['Date']=pd.to_datetime(dtb1['Date'])\n",
    "dtb1.info()"
   ]
  },
  {
   "cell_type": "code",
   "execution_count": 129,
   "metadata": {},
   "outputs": [
    {
     "output_type": "execute_result",
     "data": {
      "text/plain": "    Branch      Total       Date\n0        A   548.9715 2019-01-05\n1        C    80.2200 2019-03-08\n2        A   340.5255 2019-03-03\n3        A   489.0480 2019-01-27\n4        A   634.3785 2019-02-08\n..     ...        ...        ...\n995      C    42.3675 2019-01-29\n996      B  1022.4900 2019-03-02\n997      A    33.4320 2019-02-09\n998      A    69.1110 2019-02-22\n999      A   649.2990 2019-02-18\n\n[1000 rows x 3 columns]",
      "text/html": "<div>\n<style scoped>\n    .dataframe tbody tr th:only-of-type {\n        vertical-align: middle;\n    }\n\n    .dataframe tbody tr th {\n        vertical-align: top;\n    }\n\n    .dataframe thead th {\n        text-align: right;\n    }\n</style>\n<table border=\"1\" class=\"dataframe\">\n  <thead>\n    <tr style=\"text-align: right;\">\n      <th></th>\n      <th>Branch</th>\n      <th>Total</th>\n      <th>Date</th>\n    </tr>\n  </thead>\n  <tbody>\n    <tr>\n      <th>0</th>\n      <td>A</td>\n      <td>548.9715</td>\n      <td>2019-01-05</td>\n    </tr>\n    <tr>\n      <th>1</th>\n      <td>C</td>\n      <td>80.2200</td>\n      <td>2019-03-08</td>\n    </tr>\n    <tr>\n      <th>2</th>\n      <td>A</td>\n      <td>340.5255</td>\n      <td>2019-03-03</td>\n    </tr>\n    <tr>\n      <th>3</th>\n      <td>A</td>\n      <td>489.0480</td>\n      <td>2019-01-27</td>\n    </tr>\n    <tr>\n      <th>4</th>\n      <td>A</td>\n      <td>634.3785</td>\n      <td>2019-02-08</td>\n    </tr>\n    <tr>\n      <th>...</th>\n      <td>...</td>\n      <td>...</td>\n      <td>...</td>\n    </tr>\n    <tr>\n      <th>995</th>\n      <td>C</td>\n      <td>42.3675</td>\n      <td>2019-01-29</td>\n    </tr>\n    <tr>\n      <th>996</th>\n      <td>B</td>\n      <td>1022.4900</td>\n      <td>2019-03-02</td>\n    </tr>\n    <tr>\n      <th>997</th>\n      <td>A</td>\n      <td>33.4320</td>\n      <td>2019-02-09</td>\n    </tr>\n    <tr>\n      <th>998</th>\n      <td>A</td>\n      <td>69.1110</td>\n      <td>2019-02-22</td>\n    </tr>\n    <tr>\n      <th>999</th>\n      <td>A</td>\n      <td>649.2990</td>\n      <td>2019-02-18</td>\n    </tr>\n  </tbody>\n</table>\n<p>1000 rows × 3 columns</p>\n</div>"
     },
     "metadata": {},
     "execution_count": 129
    }
   ],
   "source": [
    "dtb1"
   ]
  },
  {
   "cell_type": "code",
   "execution_count": 130,
   "metadata": {},
   "outputs": [
    {
     "output_type": "execute_result",
     "data": {
      "text/plain": "    Branch     Total       Date Month\n0        A  548.9715 2019-01-05    01\n317      C  392.6475 2019-01-10    01\n694      C  497.0700 2019-01-16    01\n695      A  458.6925 2019-01-29    01\n696      A  113.5680 2019-01-01    01\n..     ...       ...        ...   ...\n318      C  218.0745 2019-03-11    03\n688      C  153.0480 2019-03-13    03\n323      A  324.2925 2019-03-08    03\n704      B  835.2855 2019-03-02    03\n252      C   30.2190 2019-03-02    03\n\n[1000 rows x 4 columns]",
      "text/html": "<div>\n<style scoped>\n    .dataframe tbody tr th:only-of-type {\n        vertical-align: middle;\n    }\n\n    .dataframe tbody tr th {\n        vertical-align: top;\n    }\n\n    .dataframe thead th {\n        text-align: right;\n    }\n</style>\n<table border=\"1\" class=\"dataframe\">\n  <thead>\n    <tr style=\"text-align: right;\">\n      <th></th>\n      <th>Branch</th>\n      <th>Total</th>\n      <th>Date</th>\n      <th>Month</th>\n    </tr>\n  </thead>\n  <tbody>\n    <tr>\n      <th>0</th>\n      <td>A</td>\n      <td>548.9715</td>\n      <td>2019-01-05</td>\n      <td>01</td>\n    </tr>\n    <tr>\n      <th>317</th>\n      <td>C</td>\n      <td>392.6475</td>\n      <td>2019-01-10</td>\n      <td>01</td>\n    </tr>\n    <tr>\n      <th>694</th>\n      <td>C</td>\n      <td>497.0700</td>\n      <td>2019-01-16</td>\n      <td>01</td>\n    </tr>\n    <tr>\n      <th>695</th>\n      <td>A</td>\n      <td>458.6925</td>\n      <td>2019-01-29</td>\n      <td>01</td>\n    </tr>\n    <tr>\n      <th>696</th>\n      <td>A</td>\n      <td>113.5680</td>\n      <td>2019-01-01</td>\n      <td>01</td>\n    </tr>\n    <tr>\n      <th>...</th>\n      <td>...</td>\n      <td>...</td>\n      <td>...</td>\n      <td>...</td>\n    </tr>\n    <tr>\n      <th>318</th>\n      <td>C</td>\n      <td>218.0745</td>\n      <td>2019-03-11</td>\n      <td>03</td>\n    </tr>\n    <tr>\n      <th>688</th>\n      <td>C</td>\n      <td>153.0480</td>\n      <td>2019-03-13</td>\n      <td>03</td>\n    </tr>\n    <tr>\n      <th>323</th>\n      <td>A</td>\n      <td>324.2925</td>\n      <td>2019-03-08</td>\n      <td>03</td>\n    </tr>\n    <tr>\n      <th>704</th>\n      <td>B</td>\n      <td>835.2855</td>\n      <td>2019-03-02</td>\n      <td>03</td>\n    </tr>\n    <tr>\n      <th>252</th>\n      <td>C</td>\n      <td>30.2190</td>\n      <td>2019-03-02</td>\n      <td>03</td>\n    </tr>\n  </tbody>\n</table>\n<p>1000 rows × 4 columns</p>\n</div>"
     },
     "metadata": {},
     "execution_count": 130
    }
   ],
   "source": [
    "dtb1['Month']= dtb1['Date'].dt.strftime('%m')\n",
    "dtb1.sort_values(by='Month', inplace = True)\n",
    "dtb1"
   ]
  },
  {
   "cell_type": "code",
   "execution_count": 131,
   "metadata": {},
   "outputs": [
    {
     "output_type": "execute_result",
     "data": {
      "text/plain": "                   Total\nMonth Branch            \n01    A       38681.1285\n      B       37176.0585\n      C       40434.6810\n02    A       29860.1205\n      B       34424.2710\n      C       32934.9825\n03    A       37659.1215\n      B       34597.3425\n      C       37199.0430",
      "text/html": "<div>\n<style scoped>\n    .dataframe tbody tr th:only-of-type {\n        vertical-align: middle;\n    }\n\n    .dataframe tbody tr th {\n        vertical-align: top;\n    }\n\n    .dataframe thead th {\n        text-align: right;\n    }\n</style>\n<table border=\"1\" class=\"dataframe\">\n  <thead>\n    <tr style=\"text-align: right;\">\n      <th></th>\n      <th></th>\n      <th>Total</th>\n    </tr>\n    <tr>\n      <th>Month</th>\n      <th>Branch</th>\n      <th></th>\n    </tr>\n  </thead>\n  <tbody>\n    <tr>\n      <th rowspan=\"3\" valign=\"top\">01</th>\n      <th>A</th>\n      <td>38681.1285</td>\n    </tr>\n    <tr>\n      <th>B</th>\n      <td>37176.0585</td>\n    </tr>\n    <tr>\n      <th>C</th>\n      <td>40434.6810</td>\n    </tr>\n    <tr>\n      <th rowspan=\"3\" valign=\"top\">02</th>\n      <th>A</th>\n      <td>29860.1205</td>\n    </tr>\n    <tr>\n      <th>B</th>\n      <td>34424.2710</td>\n    </tr>\n    <tr>\n      <th>C</th>\n      <td>32934.9825</td>\n    </tr>\n    <tr>\n      <th rowspan=\"3\" valign=\"top\">03</th>\n      <th>A</th>\n      <td>37659.1215</td>\n    </tr>\n    <tr>\n      <th>B</th>\n      <td>34597.3425</td>\n    </tr>\n    <tr>\n      <th>C</th>\n      <td>37199.0430</td>\n    </tr>\n  </tbody>\n</table>\n</div>"
     },
     "metadata": {},
     "execution_count": 131
    }
   ],
   "source": [
    "dtb2= dtb1[['Branch','Total','Month']].groupby([dtb1['Month'],dtb1['Branch']]).sum()\n",
    "dtb2.sort_values('Month')\n",
    "dtb2"
   ]
  },
  {
   "cell_type": "markdown",
   "metadata": {},
   "source": [
    "# Branch Total by Month"
   ]
  },
  {
   "cell_type": "code",
   "execution_count": 132,
   "metadata": {},
   "outputs": [
    {
     "output_type": "execute_result",
     "data": {
      "text/plain": "Text(0, 0.5, 'Total')"
     },
     "metadata": {},
     "execution_count": 132
    },
    {
     "output_type": "display_data",
     "data": {
      "text/plain": "<Figure size 432x288 with 1 Axes>",
      "image/svg+xml": "<?xml version=\"1.0\" encoding=\"utf-8\" standalone=\"no\"?>\n<!DOCTYPE svg PUBLIC \"-//W3C//DTD SVG 1.1//EN\"\n  \"http://www.w3.org/Graphics/SVG/1.1/DTD/svg11.dtd\">\n<!-- Created with matplotlib (https://matplotlib.org/) -->\n<svg height=\"268.548438pt\" version=\"1.1\" viewBox=\"0 0 404.259531 268.548438\" width=\"404.259531pt\" xmlns=\"http://www.w3.org/2000/svg\" xmlns:xlink=\"http://www.w3.org/1999/xlink\">\n <defs>\n  <style type=\"text/css\">\n*{stroke-linecap:butt;stroke-linejoin:round;}\n  </style>\n </defs>\n <g id=\"figure_1\">\n  <g id=\"patch_1\">\n   <path d=\"M 0 268.548438 \nL 404.259531 268.548438 \nL 404.259531 0 \nL 0 0 \nz\n\" style=\"fill:#ffffff;\"/>\n  </g>\n  <g id=\"axes_1\">\n   <g id=\"patch_2\">\n    <path d=\"M 62.259531 224.64 \nL 397.059531 224.64 \nL 397.059531 7.2 \nL 62.259531 7.2 \nz\n\" style=\"fill:#eaeaf2;\"/>\n   </g>\n   <g id=\"matplotlib.axis_1\">\n    <g id=\"xtick_1\">\n     <g id=\"line2d_1\">\n      <path clip-path=\"url(#p1513dcaf13)\" d=\"M 118.059531 224.64 \nL 118.059531 7.2 \n\" style=\"fill:none;stroke:#ffffff;stroke-linecap:round;\"/>\n     </g>\n     <g id=\"text_1\">\n      <!-- 01 -->\n      <defs>\n       <path d=\"M 4.15625 35.296875 \nQ 4.15625 48 6.765625 55.734375 \nQ 9.375 63.484375 14.515625 67.671875 \nQ 19.671875 71.875 27.484375 71.875 \nQ 33.25 71.875 37.59375 69.546875 \nQ 41.9375 67.234375 44.765625 62.859375 \nQ 47.609375 58.5 49.21875 52.21875 \nQ 50.828125 45.953125 50.828125 35.296875 \nQ 50.828125 22.703125 48.234375 14.96875 \nQ 45.65625 7.234375 40.5 3 \nQ 35.359375 -1.21875 27.484375 -1.21875 \nQ 17.140625 -1.21875 11.234375 6.203125 \nQ 4.15625 15.140625 4.15625 35.296875 \nz\nM 13.1875 35.296875 \nQ 13.1875 17.671875 17.3125 11.828125 \nQ 21.4375 6 27.484375 6 \nQ 33.546875 6 37.671875 11.859375 \nQ 41.796875 17.71875 41.796875 35.296875 \nQ 41.796875 52.984375 37.671875 58.78125 \nQ 33.546875 64.59375 27.390625 64.59375 \nQ 21.34375 64.59375 17.71875 59.46875 \nQ 13.1875 52.9375 13.1875 35.296875 \nz\n\" id=\"ArialMT-48\"/>\n       <path d=\"M 37.25 0 \nL 28.46875 0 \nL 28.46875 56 \nQ 25.296875 52.984375 20.140625 49.953125 \nQ 14.984375 46.921875 10.890625 45.40625 \nL 10.890625 53.90625 \nQ 18.265625 57.375 23.78125 62.296875 \nQ 29.296875 67.234375 31.59375 71.875 \nL 37.25 71.875 \nz\n\" id=\"ArialMT-49\"/>\n      </defs>\n      <g style=\"fill:#262626;\" transform=\"translate(120.903203 246.374063)rotate(-90)scale(0.11 -0.11)\">\n       <use xlink:href=\"#ArialMT-48\"/>\n       <use x=\"55.615234\" xlink:href=\"#ArialMT-49\"/>\n      </g>\n     </g>\n    </g>\n    <g id=\"xtick_2\">\n     <g id=\"line2d_2\">\n      <path clip-path=\"url(#p1513dcaf13)\" d=\"M 229.659531 224.64 \nL 229.659531 7.2 \n\" style=\"fill:none;stroke:#ffffff;stroke-linecap:round;\"/>\n     </g>\n     <g id=\"text_2\">\n      <!-- 02 -->\n      <defs>\n       <path d=\"M 50.34375 8.453125 \nL 50.34375 0 \nL 3.03125 0 \nQ 2.9375 3.171875 4.046875 6.109375 \nQ 5.859375 10.9375 9.828125 15.625 \nQ 13.8125 20.3125 21.34375 26.46875 \nQ 33.015625 36.03125 37.109375 41.625 \nQ 41.21875 47.21875 41.21875 52.203125 \nQ 41.21875 57.421875 37.46875 61 \nQ 33.734375 64.59375 27.734375 64.59375 \nQ 21.390625 64.59375 17.578125 60.78125 \nQ 13.765625 56.984375 13.71875 50.25 \nL 4.6875 51.171875 \nQ 5.609375 61.28125 11.65625 66.578125 \nQ 17.71875 71.875 27.9375 71.875 \nQ 38.234375 71.875 44.234375 66.15625 \nQ 50.25 60.453125 50.25 52 \nQ 50.25 47.703125 48.484375 43.546875 \nQ 46.734375 39.40625 42.65625 34.8125 \nQ 38.578125 30.21875 29.109375 22.21875 \nQ 21.1875 15.578125 18.9375 13.203125 \nQ 16.703125 10.84375 15.234375 8.453125 \nz\n\" id=\"ArialMT-50\"/>\n      </defs>\n      <g style=\"fill:#262626;\" transform=\"translate(232.503203 246.374063)rotate(-90)scale(0.11 -0.11)\">\n       <use xlink:href=\"#ArialMT-48\"/>\n       <use x=\"55.615234\" xlink:href=\"#ArialMT-50\"/>\n      </g>\n     </g>\n    </g>\n    <g id=\"xtick_3\">\n     <g id=\"line2d_3\">\n      <path clip-path=\"url(#p1513dcaf13)\" d=\"M 341.259531 224.64 \nL 341.259531 7.2 \n\" style=\"fill:none;stroke:#ffffff;stroke-linecap:round;\"/>\n     </g>\n     <g id=\"text_3\">\n      <!-- 03 -->\n      <defs>\n       <path d=\"M 4.203125 18.890625 \nL 12.984375 20.0625 \nQ 14.5 12.59375 18.140625 9.296875 \nQ 21.78125 6 27 6 \nQ 33.203125 6 37.46875 10.296875 \nQ 41.75 14.59375 41.75 20.953125 \nQ 41.75 27 37.796875 30.921875 \nQ 33.84375 34.859375 27.734375 34.859375 \nQ 25.25 34.859375 21.53125 33.890625 \nL 22.515625 41.609375 \nQ 23.390625 41.5 23.921875 41.5 \nQ 29.546875 41.5 34.03125 44.421875 \nQ 38.53125 47.359375 38.53125 53.46875 \nQ 38.53125 58.296875 35.25 61.46875 \nQ 31.984375 64.65625 26.8125 64.65625 \nQ 21.6875 64.65625 18.265625 61.421875 \nQ 14.84375 58.203125 13.875 51.765625 \nL 5.078125 53.328125 \nQ 6.6875 62.15625 12.390625 67.015625 \nQ 18.109375 71.875 26.609375 71.875 \nQ 32.46875 71.875 37.390625 69.359375 \nQ 42.328125 66.84375 44.9375 62.5 \nQ 47.5625 58.15625 47.5625 53.265625 \nQ 47.5625 48.640625 45.0625 44.828125 \nQ 42.578125 41.015625 37.703125 38.765625 \nQ 44.046875 37.3125 47.5625 32.6875 \nQ 51.078125 28.078125 51.078125 21.140625 \nQ 51.078125 11.765625 44.234375 5.25 \nQ 37.40625 -1.265625 26.953125 -1.265625 \nQ 17.53125 -1.265625 11.296875 4.34375 \nQ 5.078125 9.96875 4.203125 18.890625 \nz\n\" id=\"ArialMT-51\"/>\n      </defs>\n      <g style=\"fill:#262626;\" transform=\"translate(344.103203 246.374063)rotate(-90)scale(0.11 -0.11)\">\n       <use xlink:href=\"#ArialMT-48\"/>\n       <use x=\"55.615234\" xlink:href=\"#ArialMT-51\"/>\n      </g>\n     </g>\n    </g>\n    <g id=\"text_4\">\n     <!-- Month -->\n     <defs>\n      <path d=\"M 7.421875 0 \nL 7.421875 71.578125 \nL 21.6875 71.578125 \nL 38.625 20.90625 \nQ 40.96875 13.8125 42.046875 10.296875 \nQ 43.265625 14.203125 45.84375 21.78125 \nL 62.984375 71.578125 \nL 75.734375 71.578125 \nL 75.734375 0 \nL 66.609375 0 \nL 66.609375 59.90625 \nL 45.796875 0 \nL 37.25 0 \nL 16.546875 60.9375 \nL 16.546875 0 \nz\n\" id=\"ArialMT-77\"/>\n      <path d=\"M 3.328125 25.921875 \nQ 3.328125 40.328125 11.328125 47.265625 \nQ 18.015625 53.03125 27.640625 53.03125 \nQ 38.328125 53.03125 45.109375 46.015625 \nQ 51.90625 39.015625 51.90625 26.65625 \nQ 51.90625 16.65625 48.90625 10.90625 \nQ 45.90625 5.171875 40.15625 2 \nQ 34.421875 -1.171875 27.640625 -1.171875 \nQ 16.75 -1.171875 10.03125 5.8125 \nQ 3.328125 12.796875 3.328125 25.921875 \nz\nM 12.359375 25.921875 \nQ 12.359375 15.96875 16.703125 11.015625 \nQ 21.046875 6.0625 27.640625 6.0625 \nQ 34.1875 6.0625 38.53125 11.03125 \nQ 42.875 16.015625 42.875 26.21875 \nQ 42.875 35.84375 38.5 40.796875 \nQ 34.125 45.75 27.640625 45.75 \nQ 21.046875 45.75 16.703125 40.8125 \nQ 12.359375 35.890625 12.359375 25.921875 \nz\n\" id=\"ArialMT-111\"/>\n      <path d=\"M 6.59375 0 \nL 6.59375 51.859375 \nL 14.5 51.859375 \nL 14.5 44.484375 \nQ 20.21875 53.03125 31 53.03125 \nQ 35.6875 53.03125 39.625 51.34375 \nQ 43.5625 49.65625 45.515625 46.921875 \nQ 47.46875 44.1875 48.25 40.4375 \nQ 48.734375 37.984375 48.734375 31.890625 \nL 48.734375 0 \nL 39.9375 0 \nL 39.9375 31.546875 \nQ 39.9375 36.921875 38.90625 39.578125 \nQ 37.890625 42.234375 35.28125 43.8125 \nQ 32.671875 45.40625 29.15625 45.40625 \nQ 23.53125 45.40625 19.453125 41.84375 \nQ 15.375 38.28125 15.375 28.328125 \nL 15.375 0 \nz\n\" id=\"ArialMT-110\"/>\n      <path d=\"M 25.78125 7.859375 \nL 27.046875 0.09375 \nQ 23.34375 -0.6875 20.40625 -0.6875 \nQ 15.625 -0.6875 12.984375 0.828125 \nQ 10.359375 2.34375 9.28125 4.8125 \nQ 8.203125 7.28125 8.203125 15.1875 \nL 8.203125 45.015625 \nL 1.765625 45.015625 \nL 1.765625 51.859375 \nL 8.203125 51.859375 \nL 8.203125 64.703125 \nL 16.9375 69.96875 \nL 16.9375 51.859375 \nL 25.78125 51.859375 \nL 25.78125 45.015625 \nL 16.9375 45.015625 \nL 16.9375 14.703125 \nQ 16.9375 10.9375 17.40625 9.859375 \nQ 17.875 8.796875 18.921875 8.15625 \nQ 19.96875 7.515625 21.921875 7.515625 \nQ 23.390625 7.515625 25.78125 7.859375 \nz\n\" id=\"ArialMT-116\"/>\n      <path d=\"M 6.59375 0 \nL 6.59375 71.578125 \nL 15.375 71.578125 \nL 15.375 45.90625 \nQ 21.53125 53.03125 30.90625 53.03125 \nQ 36.671875 53.03125 40.921875 50.75 \nQ 45.171875 48.484375 47 44.484375 \nQ 48.828125 40.484375 48.828125 32.859375 \nL 48.828125 0 \nL 40.046875 0 \nL 40.046875 32.859375 \nQ 40.046875 39.453125 37.1875 42.453125 \nQ 34.328125 45.453125 29.109375 45.453125 \nQ 25.203125 45.453125 21.75 43.421875 \nQ 18.3125 41.40625 16.84375 37.9375 \nQ 15.375 34.46875 15.375 28.375 \nL 15.375 0 \nz\n\" id=\"ArialMT-104\"/>\n     </defs>\n     <g style=\"fill:#262626;\" transform=\"translate(212.985156 258.963438)scale(0.12 -0.12)\">\n      <use xlink:href=\"#ArialMT-77\"/>\n      <use x=\"83.300781\" xlink:href=\"#ArialMT-111\"/>\n      <use x=\"138.916016\" xlink:href=\"#ArialMT-110\"/>\n      <use x=\"194.53125\" xlink:href=\"#ArialMT-116\"/>\n      <use x=\"222.314453\" xlink:href=\"#ArialMT-104\"/>\n     </g>\n    </g>\n   </g>\n   <g id=\"matplotlib.axis_2\">\n    <g id=\"ytick_1\">\n     <g id=\"line2d_4\">\n      <path clip-path=\"url(#p1513dcaf13)\" d=\"M 62.259531 224.64 \nL 397.059531 224.64 \n\" style=\"fill:none;stroke:#ffffff;stroke-linecap:round;\"/>\n     </g>\n     <g id=\"text_5\">\n      <!-- 0 -->\n      <g style=\"fill:#262626;\" transform=\"translate(46.6425 228.576797)scale(0.11 -0.11)\">\n       <use xlink:href=\"#ArialMT-48\"/>\n      </g>\n     </g>\n    </g>\n    <g id=\"ytick_2\">\n     <g id=\"line2d_5\">\n      <path clip-path=\"url(#p1513dcaf13)\" d=\"M 62.259531 199.032562 \nL 397.059531 199.032562 \n\" style=\"fill:none;stroke:#ffffff;stroke-linecap:round;\"/>\n     </g>\n     <g id=\"text_6\">\n      <!-- 5000 -->\n      <defs>\n       <path d=\"M 4.15625 18.75 \nL 13.375 19.53125 \nQ 14.40625 12.796875 18.140625 9.390625 \nQ 21.875 6 27.15625 6 \nQ 33.5 6 37.890625 10.78125 \nQ 42.28125 15.578125 42.28125 23.484375 \nQ 42.28125 31 38.0625 35.34375 \nQ 33.84375 39.703125 27 39.703125 \nQ 22.75 39.703125 19.328125 37.765625 \nQ 15.921875 35.84375 13.96875 32.765625 \nL 5.71875 33.84375 \nL 12.640625 70.609375 \nL 48.25 70.609375 \nL 48.25 62.203125 \nL 19.671875 62.203125 \nL 15.828125 42.96875 \nQ 22.265625 47.46875 29.34375 47.46875 \nQ 38.71875 47.46875 45.15625 40.96875 \nQ 51.609375 34.46875 51.609375 24.265625 \nQ 51.609375 14.546875 45.953125 7.46875 \nQ 39.0625 -1.21875 27.15625 -1.21875 \nQ 17.390625 -1.21875 11.203125 4.25 \nQ 5.03125 9.71875 4.15625 18.75 \nz\n\" id=\"ArialMT-53\"/>\n      </defs>\n      <g style=\"fill:#262626;\" transform=\"translate(28.291406 202.969359)scale(0.11 -0.11)\">\n       <use xlink:href=\"#ArialMT-53\"/>\n       <use x=\"55.615234\" xlink:href=\"#ArialMT-48\"/>\n       <use x=\"111.230469\" xlink:href=\"#ArialMT-48\"/>\n       <use x=\"166.845703\" xlink:href=\"#ArialMT-48\"/>\n      </g>\n     </g>\n    </g>\n    <g id=\"ytick_3\">\n     <g id=\"line2d_6\">\n      <path clip-path=\"url(#p1513dcaf13)\" d=\"M 62.259531 173.425125 \nL 397.059531 173.425125 \n\" style=\"fill:none;stroke:#ffffff;stroke-linecap:round;\"/>\n     </g>\n     <g id=\"text_7\">\n      <!-- 10000 -->\n      <g style=\"fill:#262626;\" transform=\"translate(22.174375 177.361922)scale(0.11 -0.11)\">\n       <use xlink:href=\"#ArialMT-49\"/>\n       <use x=\"55.615234\" xlink:href=\"#ArialMT-48\"/>\n       <use x=\"111.230469\" xlink:href=\"#ArialMT-48\"/>\n       <use x=\"166.845703\" xlink:href=\"#ArialMT-48\"/>\n       <use x=\"222.460938\" xlink:href=\"#ArialMT-48\"/>\n      </g>\n     </g>\n    </g>\n    <g id=\"ytick_4\">\n     <g id=\"line2d_7\">\n      <path clip-path=\"url(#p1513dcaf13)\" d=\"M 62.259531 147.817687 \nL 397.059531 147.817687 \n\" style=\"fill:none;stroke:#ffffff;stroke-linecap:round;\"/>\n     </g>\n     <g id=\"text_8\">\n      <!-- 15000 -->\n      <g style=\"fill:#262626;\" transform=\"translate(22.174375 151.754484)scale(0.11 -0.11)\">\n       <use xlink:href=\"#ArialMT-49\"/>\n       <use x=\"55.615234\" xlink:href=\"#ArialMT-53\"/>\n       <use x=\"111.230469\" xlink:href=\"#ArialMT-48\"/>\n       <use x=\"166.845703\" xlink:href=\"#ArialMT-48\"/>\n       <use x=\"222.460938\" xlink:href=\"#ArialMT-48\"/>\n      </g>\n     </g>\n    </g>\n    <g id=\"ytick_5\">\n     <g id=\"line2d_8\">\n      <path clip-path=\"url(#p1513dcaf13)\" d=\"M 62.259531 122.21025 \nL 397.059531 122.21025 \n\" style=\"fill:none;stroke:#ffffff;stroke-linecap:round;\"/>\n     </g>\n     <g id=\"text_9\">\n      <!-- 20000 -->\n      <g style=\"fill:#262626;\" transform=\"translate(22.174375 126.147046)scale(0.11 -0.11)\">\n       <use xlink:href=\"#ArialMT-50\"/>\n       <use x=\"55.615234\" xlink:href=\"#ArialMT-48\"/>\n       <use x=\"111.230469\" xlink:href=\"#ArialMT-48\"/>\n       <use x=\"166.845703\" xlink:href=\"#ArialMT-48\"/>\n       <use x=\"222.460938\" xlink:href=\"#ArialMT-48\"/>\n      </g>\n     </g>\n    </g>\n    <g id=\"ytick_6\">\n     <g id=\"line2d_9\">\n      <path clip-path=\"url(#p1513dcaf13)\" d=\"M 62.259531 96.602812 \nL 397.059531 96.602812 \n\" style=\"fill:none;stroke:#ffffff;stroke-linecap:round;\"/>\n     </g>\n     <g id=\"text_10\">\n      <!-- 25000 -->\n      <g style=\"fill:#262626;\" transform=\"translate(22.174375 100.539609)scale(0.11 -0.11)\">\n       <use xlink:href=\"#ArialMT-50\"/>\n       <use x=\"55.615234\" xlink:href=\"#ArialMT-53\"/>\n       <use x=\"111.230469\" xlink:href=\"#ArialMT-48\"/>\n       <use x=\"166.845703\" xlink:href=\"#ArialMT-48\"/>\n       <use x=\"222.460938\" xlink:href=\"#ArialMT-48\"/>\n      </g>\n     </g>\n    </g>\n    <g id=\"ytick_7\">\n     <g id=\"line2d_10\">\n      <path clip-path=\"url(#p1513dcaf13)\" d=\"M 62.259531 70.995374 \nL 397.059531 70.995374 \n\" style=\"fill:none;stroke:#ffffff;stroke-linecap:round;\"/>\n     </g>\n     <g id=\"text_11\">\n      <!-- 30000 -->\n      <g style=\"fill:#262626;\" transform=\"translate(22.174375 74.932171)scale(0.11 -0.11)\">\n       <use xlink:href=\"#ArialMT-51\"/>\n       <use x=\"55.615234\" xlink:href=\"#ArialMT-48\"/>\n       <use x=\"111.230469\" xlink:href=\"#ArialMT-48\"/>\n       <use x=\"166.845703\" xlink:href=\"#ArialMT-48\"/>\n       <use x=\"222.460938\" xlink:href=\"#ArialMT-48\"/>\n      </g>\n     </g>\n    </g>\n    <g id=\"ytick_8\">\n     <g id=\"line2d_11\">\n      <path clip-path=\"url(#p1513dcaf13)\" d=\"M 62.259531 45.387937 \nL 397.059531 45.387937 \n\" style=\"fill:none;stroke:#ffffff;stroke-linecap:round;\"/>\n     </g>\n     <g id=\"text_12\">\n      <!-- 35000 -->\n      <g style=\"fill:#262626;\" transform=\"translate(22.174375 49.324734)scale(0.11 -0.11)\">\n       <use xlink:href=\"#ArialMT-51\"/>\n       <use x=\"55.615234\" xlink:href=\"#ArialMT-53\"/>\n       <use x=\"111.230469\" xlink:href=\"#ArialMT-48\"/>\n       <use x=\"166.845703\" xlink:href=\"#ArialMT-48\"/>\n       <use x=\"222.460938\" xlink:href=\"#ArialMT-48\"/>\n      </g>\n     </g>\n    </g>\n    <g id=\"ytick_9\">\n     <g id=\"line2d_12\">\n      <path clip-path=\"url(#p1513dcaf13)\" d=\"M 62.259531 19.780499 \nL 397.059531 19.780499 \n\" style=\"fill:none;stroke:#ffffff;stroke-linecap:round;\"/>\n     </g>\n     <g id=\"text_13\">\n      <!-- 40000 -->\n      <defs>\n       <path d=\"M 32.328125 0 \nL 32.328125 17.140625 \nL 1.265625 17.140625 \nL 1.265625 25.203125 \nL 33.9375 71.578125 \nL 41.109375 71.578125 \nL 41.109375 25.203125 \nL 50.78125 25.203125 \nL 50.78125 17.140625 \nL 41.109375 17.140625 \nL 41.109375 0 \nz\nM 32.328125 25.203125 \nL 32.328125 57.46875 \nL 9.90625 25.203125 \nz\n\" id=\"ArialMT-52\"/>\n      </defs>\n      <g style=\"fill:#262626;\" transform=\"translate(22.174375 23.717296)scale(0.11 -0.11)\">\n       <use xlink:href=\"#ArialMT-52\"/>\n       <use x=\"55.615234\" xlink:href=\"#ArialMT-48\"/>\n       <use x=\"111.230469\" xlink:href=\"#ArialMT-48\"/>\n       <use x=\"166.845703\" xlink:href=\"#ArialMT-48\"/>\n       <use x=\"222.460938\" xlink:href=\"#ArialMT-48\"/>\n      </g>\n     </g>\n    </g>\n    <g id=\"text_14\">\n     <!-- Total -->\n     <defs>\n      <path d=\"M 25.921875 0 \nL 25.921875 63.140625 \nL 2.34375 63.140625 \nL 2.34375 71.578125 \nL 59.078125 71.578125 \nL 59.078125 63.140625 \nL 35.40625 63.140625 \nL 35.40625 0 \nz\n\" id=\"ArialMT-84\"/>\n      <path d=\"M 40.4375 6.390625 \nQ 35.546875 2.25 31.03125 0.53125 \nQ 26.515625 -1.171875 21.34375 -1.171875 \nQ 12.796875 -1.171875 8.203125 3 \nQ 3.609375 7.171875 3.609375 13.671875 \nQ 3.609375 17.484375 5.34375 20.625 \nQ 7.078125 23.78125 9.890625 25.6875 \nQ 12.703125 27.59375 16.21875 28.5625 \nQ 18.796875 29.25 24.03125 29.890625 \nQ 34.671875 31.15625 39.703125 32.90625 \nQ 39.75 34.71875 39.75 35.203125 \nQ 39.75 40.578125 37.25 42.78125 \nQ 33.890625 45.75 27.25 45.75 \nQ 21.046875 45.75 18.09375 43.578125 \nQ 15.140625 41.40625 13.71875 35.890625 \nL 5.125 37.0625 \nQ 6.296875 42.578125 8.984375 45.96875 \nQ 11.671875 49.359375 16.75 51.1875 \nQ 21.828125 53.03125 28.515625 53.03125 \nQ 35.15625 53.03125 39.296875 51.46875 \nQ 43.453125 49.90625 45.40625 47.53125 \nQ 47.359375 45.171875 48.140625 41.546875 \nQ 48.578125 39.3125 48.578125 33.453125 \nL 48.578125 21.734375 \nQ 48.578125 9.46875 49.140625 6.21875 \nQ 49.703125 2.984375 51.375 0 \nL 42.1875 0 \nQ 40.828125 2.734375 40.4375 6.390625 \nz\nM 39.703125 26.03125 \nQ 34.90625 24.078125 25.34375 22.703125 \nQ 19.921875 21.921875 17.671875 20.9375 \nQ 15.4375 19.96875 14.203125 18.09375 \nQ 12.984375 16.21875 12.984375 13.921875 \nQ 12.984375 10.40625 15.640625 8.0625 \nQ 18.3125 5.71875 23.4375 5.71875 \nQ 28.515625 5.71875 32.46875 7.9375 \nQ 36.421875 10.15625 38.28125 14.015625 \nQ 39.703125 17 39.703125 22.796875 \nz\n\" id=\"ArialMT-97\"/>\n      <path d=\"M 6.390625 0 \nL 6.390625 71.578125 \nL 15.1875 71.578125 \nL 15.1875 0 \nz\n\" id=\"ArialMT-108\"/>\n     </defs>\n     <g style=\"fill:#262626;\" transform=\"translate(15.789375 128.590313)rotate(-90)scale(0.12 -0.12)\">\n      <use xlink:href=\"#ArialMT-84\"/>\n      <use x=\"49.958984\" xlink:href=\"#ArialMT-111\"/>\n      <use x=\"105.574219\" xlink:href=\"#ArialMT-116\"/>\n      <use x=\"133.357422\" xlink:href=\"#ArialMT-97\"/>\n      <use x=\"188.972656\" xlink:href=\"#ArialMT-108\"/>\n     </g>\n    </g>\n   </g>\n   <g id=\"patch_3\">\n    <path clip-path=\"url(#p1513dcaf13)\" d=\"M 90.159531 224.64 \nL 108.759531 224.64 \nL 108.759531 26.535083 \nL 90.159531 26.535083 \nz\n\" style=\"fill:#4c72b0;stroke:#ffffff;stroke-linejoin:miter;\"/>\n   </g>\n   <g id=\"patch_4\">\n    <path clip-path=\"url(#p1513dcaf13)\" d=\"M 201.759531 224.64 \nL 220.359531 224.64 \nL 220.359531 71.711765 \nL 201.759531 71.711765 \nz\n\" style=\"fill:#4c72b0;stroke:#ffffff;stroke-linejoin:miter;\"/>\n   </g>\n   <g id=\"patch_5\">\n    <path clip-path=\"url(#p1513dcaf13)\" d=\"M 313.359531 224.64 \nL 331.959531 224.64 \nL 331.959531 31.769279 \nL 313.359531 31.769279 \nz\n\" style=\"fill:#4c72b0;stroke:#ffffff;stroke-linejoin:miter;\"/>\n   </g>\n   <g id=\"patch_6\">\n    <path clip-path=\"url(#p1513dcaf13)\" d=\"M 108.759531 224.64 \nL 127.359531 224.64 \nL 127.359531 34.24328 \nL 108.759531 34.24328 \nz\n\" style=\"fill:#dd8452;stroke:#ffffff;stroke-linejoin:miter;\"/>\n   </g>\n   <g id=\"patch_7\">\n    <path clip-path=\"url(#p1513dcaf13)\" d=\"M 220.359531 224.64 \nL 238.959531 224.64 \nL 238.959531 48.336526 \nL 220.359531 48.336526 \nz\n\" style=\"fill:#dd8452;stroke:#ffffff;stroke-linejoin:miter;\"/>\n   </g>\n   <g id=\"patch_8\">\n    <path clip-path=\"url(#p1513dcaf13)\" d=\"M 331.959531 224.64 \nL 350.559531 224.64 \nL 350.559531 47.450142 \nL 331.959531 47.450142 \nz\n\" style=\"fill:#dd8452;stroke:#ffffff;stroke-linejoin:miter;\"/>\n   </g>\n   <g id=\"patch_9\">\n    <path clip-path=\"url(#p1513dcaf13)\" d=\"M 127.359531 224.64 \nL 145.959531 224.64 \nL 145.959531 17.554286 \nL 127.359531 17.554286 \nz\n\" style=\"fill:#55a868;stroke:#ffffff;stroke-linejoin:miter;\"/>\n   </g>\n   <g id=\"patch_10\">\n    <path clip-path=\"url(#p1513dcaf13)\" d=\"M 238.959531 224.64 \nL 257.559531 224.64 \nL 257.559531 55.963898 \nL 238.959531 55.963898 \nz\n\" style=\"fill:#55a868;stroke:#ffffff;stroke-linejoin:miter;\"/>\n   </g>\n   <g id=\"patch_11\">\n    <path clip-path=\"url(#p1513dcaf13)\" d=\"M 350.559531 224.64 \nL 369.159531 224.64 \nL 369.159531 34.125565 \nL 350.559531 34.125565 \nz\n\" style=\"fill:#55a868;stroke:#ffffff;stroke-linejoin:miter;\"/>\n   </g>\n   <g id=\"patch_12\">\n    <path d=\"M 62.259531 224.64 \nL 62.259531 7.2 \n\" style=\"fill:none;stroke:#ffffff;stroke-linecap:square;stroke-linejoin:miter;stroke-width:1.25;\"/>\n   </g>\n   <g id=\"patch_13\">\n    <path d=\"M 397.059531 224.64 \nL 397.059531 7.2 \n\" style=\"fill:none;stroke:#ffffff;stroke-linecap:square;stroke-linejoin:miter;stroke-width:1.25;\"/>\n   </g>\n   <g id=\"patch_14\">\n    <path d=\"M 62.259531 224.64 \nL 397.059531 224.64 \n\" style=\"fill:none;stroke:#ffffff;stroke-linecap:square;stroke-linejoin:miter;stroke-width:1.25;\"/>\n   </g>\n   <g id=\"patch_15\">\n    <path d=\"M 62.259531 7.2 \nL 397.059531 7.2 \n\" style=\"fill:none;stroke:#ffffff;stroke-linecap:square;stroke-linejoin:miter;stroke-width:1.25;\"/>\n   </g>\n   <g id=\"legend_1\">\n    <g id=\"patch_16\">\n     <path d=\"M 309.549375 79.942813 \nL 389.359531 79.942813 \nQ 391.559531 79.942813 391.559531 77.742813 \nL 391.559531 14.9 \nQ 391.559531 12.7 389.359531 12.7 \nL 309.549375 12.7 \nQ 307.349375 12.7 307.349375 14.9 \nL 307.349375 77.742813 \nQ 307.349375 79.942813 309.549375 79.942813 \nz\n\" style=\"fill:#eaeaf2;opacity:0.8;stroke:#cccccc;stroke-linejoin:miter;\"/>\n    </g>\n    <g id=\"text_15\">\n     <!-- None,Branch -->\n     <defs>\n      <path d=\"M 7.625 0 \nL 7.625 71.578125 \nL 17.328125 71.578125 \nL 54.9375 15.375 \nL 54.9375 71.578125 \nL 64.015625 71.578125 \nL 64.015625 0 \nL 54.296875 0 \nL 16.703125 56.25 \nL 16.703125 0 \nz\n\" id=\"ArialMT-78\"/>\n      <path d=\"M 42.09375 16.703125 \nL 51.171875 15.578125 \nQ 49.03125 7.625 43.21875 3.21875 \nQ 37.40625 -1.171875 28.375 -1.171875 \nQ 17 -1.171875 10.328125 5.828125 \nQ 3.65625 12.84375 3.65625 25.484375 \nQ 3.65625 38.578125 10.390625 45.796875 \nQ 17.140625 53.03125 27.875 53.03125 \nQ 38.28125 53.03125 44.875 45.953125 \nQ 51.46875 38.875 51.46875 26.03125 \nQ 51.46875 25.25 51.421875 23.6875 \nL 12.75 23.6875 \nQ 13.234375 15.140625 17.578125 10.59375 \nQ 21.921875 6.0625 28.421875 6.0625 \nQ 33.25 6.0625 36.671875 8.59375 \nQ 40.09375 11.140625 42.09375 16.703125 \nz\nM 13.234375 30.90625 \nL 42.1875 30.90625 \nQ 41.609375 37.453125 38.875 40.71875 \nQ 34.671875 45.796875 27.984375 45.796875 \nQ 21.921875 45.796875 17.796875 41.75 \nQ 13.671875 37.703125 13.234375 30.90625 \nz\n\" id=\"ArialMT-101\"/>\n      <path d=\"M 8.890625 0 \nL 8.890625 10.015625 \nL 18.890625 10.015625 \nL 18.890625 0 \nQ 18.890625 -5.515625 16.9375 -8.90625 \nQ 14.984375 -12.3125 10.75 -14.15625 \nL 8.296875 -10.40625 \nQ 11.078125 -9.1875 12.390625 -6.8125 \nQ 13.71875 -4.4375 13.875 0 \nz\n\" id=\"ArialMT-44\"/>\n      <path d=\"M 7.328125 0 \nL 7.328125 71.578125 \nL 34.1875 71.578125 \nQ 42.390625 71.578125 47.34375 69.40625 \nQ 52.296875 67.234375 55.09375 62.71875 \nQ 57.90625 58.203125 57.90625 53.265625 \nQ 57.90625 48.6875 55.421875 44.625 \nQ 52.9375 40.578125 47.90625 38.09375 \nQ 54.390625 36.1875 57.875 31.59375 \nQ 61.375 27 61.375 20.75 \nQ 61.375 15.71875 59.25 11.390625 \nQ 57.125 7.078125 54 4.734375 \nQ 50.875 2.390625 46.15625 1.1875 \nQ 41.453125 0 34.625 0 \nz\nM 16.796875 41.5 \nL 32.28125 41.5 \nQ 38.578125 41.5 41.3125 42.328125 \nQ 44.921875 43.40625 46.75 45.890625 \nQ 48.578125 48.390625 48.578125 52.15625 \nQ 48.578125 55.71875 46.875 58.421875 \nQ 45.171875 61.140625 41.984375 62.140625 \nQ 38.8125 63.140625 31.109375 63.140625 \nL 16.796875 63.140625 \nz\nM 16.796875 8.453125 \nL 34.625 8.453125 \nQ 39.203125 8.453125 41.0625 8.796875 \nQ 44.34375 9.375 46.53125 10.734375 \nQ 48.734375 12.109375 50.140625 14.71875 \nQ 51.5625 17.328125 51.5625 20.75 \nQ 51.5625 24.75 49.515625 27.703125 \nQ 47.46875 30.671875 43.828125 31.859375 \nQ 40.1875 33.0625 33.34375 33.0625 \nL 16.796875 33.0625 \nz\n\" id=\"ArialMT-66\"/>\n      <path d=\"M 6.5 0 \nL 6.5 51.859375 \nL 14.40625 51.859375 \nL 14.40625 44 \nQ 17.4375 49.515625 20 51.265625 \nQ 22.5625 53.03125 25.640625 53.03125 \nQ 30.078125 53.03125 34.671875 50.203125 \nL 31.640625 42.046875 \nQ 28.421875 43.953125 25.203125 43.953125 \nQ 22.3125 43.953125 20.015625 42.21875 \nQ 17.71875 40.484375 16.75 37.40625 \nQ 15.28125 32.71875 15.28125 27.15625 \nL 15.28125 0 \nz\n\" id=\"ArialMT-114\"/>\n      <path d=\"M 40.4375 19 \nL 49.078125 17.875 \nQ 47.65625 8.9375 41.8125 3.875 \nQ 35.984375 -1.171875 27.484375 -1.171875 \nQ 16.84375 -1.171875 10.375 5.78125 \nQ 3.90625 12.75 3.90625 25.734375 \nQ 3.90625 34.125 6.6875 40.421875 \nQ 9.46875 46.734375 15.15625 49.875 \nQ 20.84375 53.03125 27.546875 53.03125 \nQ 35.984375 53.03125 41.359375 48.75 \nQ 46.734375 44.484375 48.25 36.625 \nL 39.703125 35.296875 \nQ 38.484375 40.53125 35.375 43.15625 \nQ 32.28125 45.796875 27.875 45.796875 \nQ 21.234375 45.796875 17.078125 41.03125 \nQ 12.9375 36.28125 12.9375 25.984375 \nQ 12.9375 15.53125 16.9375 10.796875 \nQ 20.953125 6.0625 27.390625 6.0625 \nQ 32.5625 6.0625 36.03125 9.234375 \nQ 39.5 12.40625 40.4375 19 \nz\n\" id=\"ArialMT-99\"/>\n     </defs>\n     <g style=\"fill:#262626;\" transform=\"translate(314.435078 25.689375)scale(0.12 -0.12)\">\n      <use xlink:href=\"#ArialMT-78\"/>\n      <use x=\"72.216797\" xlink:href=\"#ArialMT-111\"/>\n      <use x=\"127.832031\" xlink:href=\"#ArialMT-110\"/>\n      <use x=\"183.447266\" xlink:href=\"#ArialMT-101\"/>\n      <use x=\"239.0625\" xlink:href=\"#ArialMT-44\"/>\n      <use x=\"266.845703\" xlink:href=\"#ArialMT-66\"/>\n      <use x=\"333.544922\" xlink:href=\"#ArialMT-114\"/>\n      <use x=\"366.845703\" xlink:href=\"#ArialMT-97\"/>\n      <use x=\"422.460938\" xlink:href=\"#ArialMT-110\"/>\n      <use x=\"478.076172\" xlink:href=\"#ArialMT-99\"/>\n      <use x=\"528.076172\" xlink:href=\"#ArialMT-104\"/>\n     </g>\n    </g>\n    <g id=\"patch_17\">\n     <path d=\"M 311.749375 41.582031 \nL 333.749375 41.582031 \nL 333.749375 33.882031 \nL 311.749375 33.882031 \nz\n\" style=\"fill:#4c72b0;stroke:#ffffff;stroke-linejoin:miter;\"/>\n    </g>\n    <g id=\"text_16\">\n     <!-- (Total, A) -->\n     <defs>\n      <path d=\"M 23.390625 -21.046875 \nQ 16.109375 -11.859375 11.078125 0.4375 \nQ 6.0625 12.75 6.0625 25.921875 \nQ 6.0625 37.546875 9.8125 48.1875 \nQ 14.203125 60.546875 23.390625 72.796875 \nL 29.6875 72.796875 \nQ 23.78125 62.640625 21.875 58.296875 \nQ 18.890625 51.5625 17.1875 44.234375 \nQ 15.09375 35.109375 15.09375 25.875 \nQ 15.09375 2.390625 29.6875 -21.046875 \nz\n\" id=\"ArialMT-40\"/>\n      <path id=\"ArialMT-32\"/>\n      <path d=\"M -0.140625 0 \nL 27.34375 71.578125 \nL 37.546875 71.578125 \nL 66.84375 0 \nL 56.0625 0 \nL 47.703125 21.6875 \nL 17.78125 21.6875 \nL 9.90625 0 \nz\nM 20.515625 29.390625 \nL 44.78125 29.390625 \nL 37.3125 49.21875 \nQ 33.890625 58.25 32.234375 64.0625 \nQ 30.859375 57.171875 28.375 50.390625 \nz\n\" id=\"ArialMT-65\"/>\n      <path d=\"M 12.359375 -21.046875 \nL 6.0625 -21.046875 \nQ 20.65625 2.390625 20.65625 25.875 \nQ 20.65625 35.0625 18.5625 44.09375 \nQ 16.890625 51.421875 13.921875 58.15625 \nQ 12.015625 62.546875 6.0625 72.796875 \nL 12.359375 72.796875 \nQ 21.53125 60.546875 25.921875 48.1875 \nQ 29.6875 37.546875 29.6875 25.921875 \nQ 29.6875 12.75 24.625 0.4375 \nQ 19.578125 -11.859375 12.359375 -21.046875 \nz\n\" id=\"ArialMT-41\"/>\n     </defs>\n     <g style=\"fill:#262626;\" transform=\"translate(342.549375 41.582031)scale(0.11 -0.11)\">\n      <use xlink:href=\"#ArialMT-40\"/>\n      <use x=\"33.300781\" xlink:href=\"#ArialMT-84\"/>\n      <use x=\"83.259766\" xlink:href=\"#ArialMT-111\"/>\n      <use x=\"138.875\" xlink:href=\"#ArialMT-116\"/>\n      <use x=\"166.658203\" xlink:href=\"#ArialMT-97\"/>\n      <use x=\"222.273438\" xlink:href=\"#ArialMT-108\"/>\n      <use x=\"244.490234\" xlink:href=\"#ArialMT-44\"/>\n      <use x=\"272.273438\" xlink:href=\"#ArialMT-32\"/>\n      <use x=\"294.556641\" xlink:href=\"#ArialMT-65\"/>\n      <use x=\"361.255859\" xlink:href=\"#ArialMT-41\"/>\n     </g>\n    </g>\n    <g id=\"patch_18\">\n     <path d=\"M 311.749375 57.404844 \nL 333.749375 57.404844 \nL 333.749375 49.704844 \nL 311.749375 49.704844 \nz\n\" style=\"fill:#dd8452;stroke:#ffffff;stroke-linejoin:miter;\"/>\n    </g>\n    <g id=\"text_17\">\n     <!-- (Total, B) -->\n     <g style=\"fill:#262626;\" transform=\"translate(342.549375 57.404844)scale(0.11 -0.11)\">\n      <use xlink:href=\"#ArialMT-40\"/>\n      <use x=\"33.300781\" xlink:href=\"#ArialMT-84\"/>\n      <use x=\"83.259766\" xlink:href=\"#ArialMT-111\"/>\n      <use x=\"138.875\" xlink:href=\"#ArialMT-116\"/>\n      <use x=\"166.658203\" xlink:href=\"#ArialMT-97\"/>\n      <use x=\"222.273438\" xlink:href=\"#ArialMT-108\"/>\n      <use x=\"244.490234\" xlink:href=\"#ArialMT-44\"/>\n      <use x=\"272.273438\" xlink:href=\"#ArialMT-32\"/>\n      <use x=\"300.056641\" xlink:href=\"#ArialMT-66\"/>\n      <use x=\"366.755859\" xlink:href=\"#ArialMT-41\"/>\n     </g>\n    </g>\n    <g id=\"patch_19\">\n     <path d=\"M 311.749375 73.227656 \nL 333.749375 73.227656 \nL 333.749375 65.527656 \nL 311.749375 65.527656 \nz\n\" style=\"fill:#55a868;stroke:#ffffff;stroke-linejoin:miter;\"/>\n    </g>\n    <g id=\"text_18\">\n     <!-- (Total, C) -->\n     <defs>\n      <path d=\"M 58.796875 25.09375 \nL 68.265625 22.703125 \nQ 65.28125 11.03125 57.546875 4.90625 \nQ 49.8125 -1.21875 38.625 -1.21875 \nQ 27.046875 -1.21875 19.796875 3.484375 \nQ 12.546875 8.203125 8.765625 17.140625 \nQ 4.984375 26.078125 4.984375 36.328125 \nQ 4.984375 47.515625 9.25 55.828125 \nQ 13.53125 64.15625 21.40625 68.46875 \nQ 29.296875 72.796875 38.765625 72.796875 \nQ 49.515625 72.796875 56.828125 67.328125 \nQ 64.15625 61.859375 67.046875 51.953125 \nL 57.71875 49.75 \nQ 55.21875 57.5625 50.484375 61.125 \nQ 45.75 64.703125 38.578125 64.703125 \nQ 30.328125 64.703125 24.78125 60.734375 \nQ 19.234375 56.78125 16.984375 50.109375 \nQ 14.75 43.453125 14.75 36.375 \nQ 14.75 27.25 17.40625 20.4375 \nQ 20.0625 13.625 25.671875 10.25 \nQ 31.296875 6.890625 37.84375 6.890625 \nQ 45.796875 6.890625 51.3125 11.46875 \nQ 56.84375 16.0625 58.796875 25.09375 \nz\n\" id=\"ArialMT-67\"/>\n     </defs>\n     <g style=\"fill:#262626;\" transform=\"translate(342.549375 73.227656)scale(0.11 -0.11)\">\n      <use xlink:href=\"#ArialMT-40\"/>\n      <use x=\"33.300781\" xlink:href=\"#ArialMT-84\"/>\n      <use x=\"83.259766\" xlink:href=\"#ArialMT-111\"/>\n      <use x=\"138.875\" xlink:href=\"#ArialMT-116\"/>\n      <use x=\"166.658203\" xlink:href=\"#ArialMT-97\"/>\n      <use x=\"222.273438\" xlink:href=\"#ArialMT-108\"/>\n      <use x=\"244.490234\" xlink:href=\"#ArialMT-44\"/>\n      <use x=\"272.273438\" xlink:href=\"#ArialMT-32\"/>\n      <use x=\"300.056641\" xlink:href=\"#ArialMT-67\"/>\n      <use x=\"372.273438\" xlink:href=\"#ArialMT-41\"/>\n     </g>\n    </g>\n   </g>\n  </g>\n </g>\n <defs>\n  <clipPath id=\"p1513dcaf13\">\n   <rect height=\"217.44\" width=\"334.8\" x=\"62.259531\" y=\"7.2\"/>\n  </clipPath>\n </defs>\n</svg>\n",
      "image/png": "[encoded data removed]"
     },
     "metadata": {}
    }
   ],
   "source": [
    "sns.set()\n",
    "pd.pivot_table(dtb2, index=(['Month']), columns=(['Branch']), values=(['Total']), aggfunc=np.sum, margins=False).plot(kind= 'bar')\n",
    "plt.ylabel(\"Total\")"
   ]
  },
  {
   "cell_type": "code",
   "execution_count": 133,
   "metadata": {},
   "outputs": [
    {
     "output_type": "execute_result",
     "data": {
      "text/plain": "    Branch            Product line  Gender  gross income       Date\n0        A       Health and beauty  Female       26.1415   1/5/2019\n1        C  Electronic accessories  Female        3.8200   3/8/2019\n2        A      Home and lifestyle    Male       16.2155   3/3/2019\n3        A       Health and beauty    Male       23.2880  1/27/2019\n4        A       Sports and travel    Male       30.2085   2/8/2019\n..     ...                     ...     ...           ...        ...\n995      C       Health and beauty    Male        2.0175  1/29/2019\n996      B      Home and lifestyle  Female       48.6900   3/2/2019\n997      A      Food and beverages    Male        1.5920   2/9/2019\n998      A      Home and lifestyle    Male        3.2910  2/22/2019\n999      A     Fashion accessories  Female       30.9190  2/18/2019\n\n[1000 rows x 5 columns]",
      "text/html": "<div>\n<style scoped>\n    .dataframe tbody tr th:only-of-type {\n        vertical-align: middle;\n    }\n\n    .dataframe tbody tr th {\n        vertical-align: top;\n    }\n\n    .dataframe thead th {\n        text-align: right;\n    }\n</style>\n<table border=\"1\" class=\"dataframe\">\n  <thead>\n    <tr style=\"text-align: right;\">\n      <th></th>\n      <th>Branch</th>\n      <th>Product line</th>\n      <th>Gender</th>\n      <th>gross income</th>\n      <th>Date</th>\n    </tr>\n  </thead>\n  <tbody>\n    <tr>\n      <th>0</th>\n      <td>A</td>\n      <td>Health and beauty</td>\n      <td>Female</td>\n      <td>26.1415</td>\n      <td>1/5/2019</td>\n    </tr>\n    <tr>\n      <th>1</th>\n      <td>C</td>\n      <td>Electronic accessories</td>\n      <td>Female</td>\n      <td>3.8200</td>\n      <td>3/8/2019</td>\n    </tr>\n    <tr>\n      <th>2</th>\n      <td>A</td>\n      <td>Home and lifestyle</td>\n      <td>Male</td>\n      <td>16.2155</td>\n      <td>3/3/2019</td>\n    </tr>\n    <tr>\n      <th>3</th>\n      <td>A</td>\n      <td>Health and beauty</td>\n      <td>Male</td>\n      <td>23.2880</td>\n      <td>1/27/2019</td>\n    </tr>\n    <tr>\n      <th>4</th>\n      <td>A</td>\n      <td>Sports and travel</td>\n      <td>Male</td>\n      <td>30.2085</td>\n      <td>2/8/2019</td>\n    </tr>\n    <tr>\n      <th>...</th>\n      <td>...</td>\n      <td>...</td>\n      <td>...</td>\n      <td>...</td>\n      <td>...</td>\n    </tr>\n    <tr>\n      <th>995</th>\n      <td>C</td>\n      <td>Health and beauty</td>\n      <td>Male</td>\n      <td>2.0175</td>\n      <td>1/29/2019</td>\n    </tr>\n    <tr>\n      <th>996</th>\n      <td>B</td>\n      <td>Home and lifestyle</td>\n      <td>Female</td>\n      <td>48.6900</td>\n      <td>3/2/2019</td>\n    </tr>\n    <tr>\n      <th>997</th>\n      <td>A</td>\n      <td>Food and beverages</td>\n      <td>Male</td>\n      <td>1.5920</td>\n      <td>2/9/2019</td>\n    </tr>\n    <tr>\n      <th>998</th>\n      <td>A</td>\n      <td>Home and lifestyle</td>\n      <td>Male</td>\n      <td>3.2910</td>\n      <td>2/22/2019</td>\n    </tr>\n    <tr>\n      <th>999</th>\n      <td>A</td>\n      <td>Fashion accessories</td>\n      <td>Female</td>\n      <td>30.9190</td>\n      <td>2/18/2019</td>\n    </tr>\n  </tbody>\n</table>\n<p>1000 rows × 5 columns</p>\n</div>"
     },
     "metadata": {},
     "execution_count": 133
    }
   ],
   "source": [
    "df4=df[['Branch','Product line','Gender','gross income','Date']]\n",
    "df4"
   ]
  },
  {
   "cell_type": "code",
   "execution_count": 134,
   "metadata": {
    "scrolled": true
   },
   "outputs": [
    {
     "output_type": "execute_result",
     "data": {
      "text/plain": "    Branch            Product line  Gender  gross income       Date\n0        A       Health and beauty  Female       26.1415 2019-01-05\n1        C  Electronic accessories  Female        3.8200 2019-03-08\n2        A      Home and lifestyle    Male       16.2155 2019-03-03\n3        A       Health and beauty    Male       23.2880 2019-01-27\n4        A       Sports and travel    Male       30.2085 2019-02-08\n..     ...                     ...     ...           ...        ...\n995      C       Health and beauty    Male        2.0175 2019-01-29\n996      B      Home and lifestyle  Female       48.6900 2019-03-02\n997      A      Food and beverages    Male        1.5920 2019-02-09\n998      A      Home and lifestyle    Male        3.2910 2019-02-22\n999      A     Fashion accessories  Female       30.9190 2019-02-18\n\n[1000 rows x 5 columns]",
      "text/html": "<div>\n<style scoped>\n    .dataframe tbody tr th:only-of-type {\n        vertical-align: middle;\n    }\n\n    .dataframe tbody tr th {\n        vertical-align: top;\n    }\n\n    .dataframe thead th {\n        text-align: right;\n    }\n</style>\n<table border=\"1\" class=\"dataframe\">\n  <thead>\n    <tr style=\"text-align: right;\">\n      <th></th>\n      <th>Branch</th>\n      <th>Product line</th>\n      <th>Gender</th>\n      <th>gross income</th>\n      <th>Date</th>\n    </tr>\n  </thead>\n  <tbody>\n    <tr>\n      <th>0</th>\n      <td>A</td>\n      <td>Health and beauty</td>\n      <td>Female</td>\n      <td>26.1415</td>\n      <td>2019-01-05</td>\n    </tr>\n    <tr>\n      <th>1</th>\n      <td>C</td>\n      <td>Electronic accessories</td>\n      <td>Female</td>\n      <td>3.8200</td>\n      <td>2019-03-08</td>\n    </tr>\n    <tr>\n      <th>2</th>\n      <td>A</td>\n      <td>Home and lifestyle</td>\n      <td>Male</td>\n      <td>16.2155</td>\n      <td>2019-03-03</td>\n    </tr>\n    <tr>\n      <th>3</th>\n      <td>A</td>\n      <td>Health and beauty</td>\n      <td>Male</td>\n      <td>23.2880</td>\n      <td>2019-01-27</td>\n    </tr>\n    <tr>\n      <th>4</th>\n      <td>A</td>\n      <td>Sports and travel</td>\n      <td>Male</td>\n      <td>30.2085</td>\n      <td>2019-02-08</td>\n    </tr>\n    <tr>\n      <th>...</th>\n      <td>...</td>\n      <td>...</td>\n      <td>...</td>\n      <td>...</td>\n      <td>...</td>\n    </tr>\n    <tr>\n      <th>995</th>\n      <td>C</td>\n      <td>Health and beauty</td>\n      <td>Male</td>\n      <td>2.0175</td>\n      <td>2019-01-29</td>\n    </tr>\n    <tr>\n      <th>996</th>\n      <td>B</td>\n      <td>Home and lifestyle</td>\n      <td>Female</td>\n      <td>48.6900</td>\n      <td>2019-03-02</td>\n    </tr>\n    <tr>\n      <th>997</th>\n      <td>A</td>\n      <td>Food and beverages</td>\n      <td>Male</td>\n      <td>1.5920</td>\n      <td>2019-02-09</td>\n    </tr>\n    <tr>\n      <th>998</th>\n      <td>A</td>\n      <td>Home and lifestyle</td>\n      <td>Male</td>\n      <td>3.2910</td>\n      <td>2019-02-22</td>\n    </tr>\n    <tr>\n      <th>999</th>\n      <td>A</td>\n      <td>Fashion accessories</td>\n      <td>Female</td>\n      <td>30.9190</td>\n      <td>2019-02-18</td>\n    </tr>\n  </tbody>\n</table>\n<p>1000 rows × 5 columns</p>\n</div>"
     },
     "metadata": {},
     "execution_count": 134
    }
   ],
   "source": [
    "df4['Date']=pd.to_datetime(df4['Date'])\n",
    "df4"
   ]
  },
  {
   "cell_type": "code",
   "execution_count": 135,
   "metadata": {},
   "outputs": [
    {
     "output_type": "execute_result",
     "data": {
      "text/plain": "    Branch            Product line  Gender  gross income       Date Month\n0        A       Health and beauty  Female       26.1415 2019-01-05    01\n1        C  Electronic accessories  Female        3.8200 2019-03-08    03\n2        A      Home and lifestyle    Male       16.2155 2019-03-03    03\n3        A       Health and beauty    Male       23.2880 2019-01-27    01\n4        A       Sports and travel    Male       30.2085 2019-02-08    02\n..     ...                     ...     ...           ...        ...   ...\n995      C       Health and beauty    Male        2.0175 2019-01-29    01\n996      B      Home and lifestyle  Female       48.6900 2019-03-02    03\n997      A      Food and beverages    Male        1.5920 2019-02-09    02\n998      A      Home and lifestyle    Male        3.2910 2019-02-22    02\n999      A     Fashion accessories  Female       30.9190 2019-02-18    02\n\n[1000 rows x 6 columns]",
      "text/html": "<div>\n<style scoped>\n    .dataframe tbody tr th:only-of-type {\n        vertical-align: middle;\n    }\n\n    .dataframe tbody tr th {\n        vertical-align: top;\n    }\n\n    .dataframe thead th {\n        text-align: right;\n    }\n</style>\n<table border=\"1\" class=\"dataframe\">\n  <thead>\n    <tr style=\"text-align: right;\">\n      <th></th>\n      <th>Branch</th>\n      <th>Product line</th>\n      <th>Gender</th>\n      <th>gross income</th>\n      <th>Date</th>\n      <th>Month</th>\n    </tr>\n  </thead>\n  <tbody>\n    <tr>\n      <th>0</th>\n      <td>A</td>\n      <td>Health and beauty</td>\n      <td>Female</td>\n      <td>26.1415</td>\n      <td>2019-01-05</td>\n      <td>01</td>\n    </tr>\n    <tr>\n      <th>1</th>\n      <td>C</td>\n      <td>Electronic accessories</td>\n      <td>Female</td>\n      <td>3.8200</td>\n      <td>2019-03-08</td>\n      <td>03</td>\n    </tr>\n    <tr>\n      <th>2</th>\n      <td>A</td>\n      <td>Home and lifestyle</td>\n      <td>Male</td>\n      <td>16.2155</td>\n      <td>2019-03-03</td>\n      <td>03</td>\n    </tr>\n    <tr>\n      <th>3</th>\n      <td>A</td>\n      <td>Health and beauty</td>\n      <td>Male</td>\n      <td>23.2880</td>\n      <td>2019-01-27</td>\n      <td>01</td>\n    </tr>\n    <tr>\n      <th>4</th>\n      <td>A</td>\n      <td>Sports and travel</td>\n      <td>Male</td>\n      <td>30.2085</td>\n      <td>2019-02-08</td>\n      <td>02</td>\n    </tr>\n    <tr>\n      <th>...</th>\n      <td>...</td>\n      <td>...</td>\n      <td>...</td>\n      <td>...</td>\n      <td>...</td>\n      <td>...</td>\n    </tr>\n    <tr>\n      <th>995</th>\n      <td>C</td>\n      <td>Health and beauty</td>\n      <td>Male</td>\n      <td>2.0175</td>\n      <td>2019-01-29</td>\n      <td>01</td>\n    </tr>\n    <tr>\n      <th>996</th>\n      <td>B</td>\n      <td>Home and lifestyle</td>\n      <td>Female</td>\n      <td>48.6900</td>\n      <td>2019-03-02</td>\n      <td>03</td>\n    </tr>\n    <tr>\n      <th>997</th>\n      <td>A</td>\n      <td>Food and beverages</td>\n      <td>Male</td>\n      <td>1.5920</td>\n      <td>2019-02-09</td>\n      <td>02</td>\n    </tr>\n    <tr>\n      <th>998</th>\n      <td>A</td>\n      <td>Home and lifestyle</td>\n      <td>Male</td>\n      <td>3.2910</td>\n      <td>2019-02-22</td>\n      <td>02</td>\n    </tr>\n    <tr>\n      <th>999</th>\n      <td>A</td>\n      <td>Fashion accessories</td>\n      <td>Female</td>\n      <td>30.9190</td>\n      <td>2019-02-18</td>\n      <td>02</td>\n    </tr>\n  </tbody>\n</table>\n<p>1000 rows × 6 columns</p>\n</div>"
     },
     "metadata": {},
     "execution_count": 135
    }
   ],
   "source": [
    "df4['Month']= df4['Date'].dt.strftime('%m')\n",
    "df4"
   ]
  },
  {
   "cell_type": "code",
   "execution_count": 136,
   "metadata": {},
   "outputs": [
    {
     "output_type": "execute_result",
     "data": {
      "text/plain": "    Branch            Product line  Gender  gross income       Date Month\n0        A       Health and beauty  Female       26.1415 2019-01-05    01\n1        C  Electronic accessories  Female        3.8200 2019-03-08    03\n2        A      Home and lifestyle    Male       16.2155 2019-03-03    03\n3        A       Health and beauty    Male       23.2880 2019-01-27    01\n4        A       Sports and travel    Male       30.2085 2019-02-08    02\n..     ...                     ...     ...           ...        ...   ...\n995      C       Health and beauty    Male        2.0175 2019-01-29    01\n996      B      Home and lifestyle  Female       48.6900 2019-03-02    03\n997      A      Food and beverages    Male        1.5920 2019-02-09    02\n998      A      Home and lifestyle    Male        3.2910 2019-02-22    02\n999      A     Fashion accessories  Female       30.9190 2019-02-18    02\n\n[1000 rows x 6 columns]",
      "text/html": "<div>\n<style scoped>\n    .dataframe tbody tr th:only-of-type {\n        vertical-align: middle;\n    }\n\n    .dataframe tbody tr th {\n        vertical-align: top;\n    }\n\n    .dataframe thead th {\n        text-align: right;\n    }\n</style>\n<table border=\"1\" class=\"dataframe\">\n  <thead>\n    <tr style=\"text-align: right;\">\n      <th></th>\n      <th>Branch</th>\n      <th>Product line</th>\n      <th>Gender</th>\n      <th>gross income</th>\n      <th>Date</th>\n      <th>Month</th>\n    </tr>\n  </thead>\n  <tbody>\n    <tr>\n      <th>0</th>\n      <td>A</td>\n      <td>Health and beauty</td>\n      <td>Female</td>\n      <td>26.1415</td>\n      <td>2019-01-05</td>\n      <td>01</td>\n    </tr>\n    <tr>\n      <th>1</th>\n      <td>C</td>\n      <td>Electronic accessories</td>\n      <td>Female</td>\n      <td>3.8200</td>\n      <td>2019-03-08</td>\n      <td>03</td>\n    </tr>\n    <tr>\n      <th>2</th>\n      <td>A</td>\n      <td>Home and lifestyle</td>\n      <td>Male</td>\n      <td>16.2155</td>\n      <td>2019-03-03</td>\n      <td>03</td>\n    </tr>\n    <tr>\n      <th>3</th>\n      <td>A</td>\n      <td>Health and beauty</td>\n      <td>Male</td>\n      <td>23.2880</td>\n      <td>2019-01-27</td>\n      <td>01</td>\n    </tr>\n    <tr>\n      <th>4</th>\n      <td>A</td>\n      <td>Sports and travel</td>\n      <td>Male</td>\n      <td>30.2085</td>\n      <td>2019-02-08</td>\n      <td>02</td>\n    </tr>\n    <tr>\n      <th>...</th>\n      <td>...</td>\n      <td>...</td>\n      <td>...</td>\n      <td>...</td>\n      <td>...</td>\n      <td>...</td>\n    </tr>\n    <tr>\n      <th>995</th>\n      <td>C</td>\n      <td>Health and beauty</td>\n      <td>Male</td>\n      <td>2.0175</td>\n      <td>2019-01-29</td>\n      <td>01</td>\n    </tr>\n    <tr>\n      <th>996</th>\n      <td>B</td>\n      <td>Home and lifestyle</td>\n      <td>Female</td>\n      <td>48.6900</td>\n      <td>2019-03-02</td>\n      <td>03</td>\n    </tr>\n    <tr>\n      <th>997</th>\n      <td>A</td>\n      <td>Food and beverages</td>\n      <td>Male</td>\n      <td>1.5920</td>\n      <td>2019-02-09</td>\n      <td>02</td>\n    </tr>\n    <tr>\n      <th>998</th>\n      <td>A</td>\n      <td>Home and lifestyle</td>\n      <td>Male</td>\n      <td>3.2910</td>\n      <td>2019-02-22</td>\n      <td>02</td>\n    </tr>\n    <tr>\n      <th>999</th>\n      <td>A</td>\n      <td>Fashion accessories</td>\n      <td>Female</td>\n      <td>30.9190</td>\n      <td>2019-02-18</td>\n      <td>02</td>\n    </tr>\n  </tbody>\n</table>\n<p>1000 rows × 6 columns</p>\n</div>"
     },
     "metadata": {},
     "execution_count": 136
    }
   ],
   "source": [
    "df4.dropna()"
   ]
  },
  {
   "cell_type": "code",
   "execution_count": 137,
   "metadata": {},
   "outputs": [
    {
     "output_type": "execute_result",
     "data": {
      "text/plain": "    Branch            Product line  Gender  gross income       Date Month\n0        A       Health and beauty  Female       26.1415 2019-01-05     1\n1        C  Electronic accessories  Female        3.8200 2019-03-08     3\n2        A      Home and lifestyle    Male       16.2155 2019-03-03     3\n3        A       Health and beauty    Male       23.2880 2019-01-27     1\n4        A       Sports and travel    Male       30.2085 2019-02-08     2\n..     ...                     ...     ...           ...        ...   ...\n995      C       Health and beauty    Male        2.0175 2019-01-29     1\n996      B      Home and lifestyle  Female       48.6900 2019-03-02     3\n997      A      Food and beverages    Male        1.5920 2019-02-09     2\n998      A      Home and lifestyle    Male        3.2910 2019-02-22     2\n999      A     Fashion accessories  Female       30.9190 2019-02-18     2\n\n[1000 rows x 6 columns]",
      "text/html": "<div>\n<style scoped>\n    .dataframe tbody tr th:only-of-type {\n        vertical-align: middle;\n    }\n\n    .dataframe tbody tr th {\n        vertical-align: top;\n    }\n\n    .dataframe thead th {\n        text-align: right;\n    }\n</style>\n<table border=\"1\" class=\"dataframe\">\n  <thead>\n    <tr style=\"text-align: right;\">\n      <th></th>\n      <th>Branch</th>\n      <th>Product line</th>\n      <th>Gender</th>\n      <th>gross income</th>\n      <th>Date</th>\n      <th>Month</th>\n    </tr>\n  </thead>\n  <tbody>\n    <tr>\n      <th>0</th>\n      <td>A</td>\n      <td>Health and beauty</td>\n      <td>Female</td>\n      <td>26.1415</td>\n      <td>2019-01-05</td>\n      <td>1</td>\n    </tr>\n    <tr>\n      <th>1</th>\n      <td>C</td>\n      <td>Electronic accessories</td>\n      <td>Female</td>\n      <td>3.8200</td>\n      <td>2019-03-08</td>\n      <td>3</td>\n    </tr>\n    <tr>\n      <th>2</th>\n      <td>A</td>\n      <td>Home and lifestyle</td>\n      <td>Male</td>\n      <td>16.2155</td>\n      <td>2019-03-03</td>\n      <td>3</td>\n    </tr>\n    <tr>\n      <th>3</th>\n      <td>A</td>\n      <td>Health and beauty</td>\n      <td>Male</td>\n      <td>23.2880</td>\n      <td>2019-01-27</td>\n      <td>1</td>\n    </tr>\n    <tr>\n      <th>4</th>\n      <td>A</td>\n      <td>Sports and travel</td>\n      <td>Male</td>\n      <td>30.2085</td>\n      <td>2019-02-08</td>\n      <td>2</td>\n    </tr>\n    <tr>\n      <th>...</th>\n      <td>...</td>\n      <td>...</td>\n      <td>...</td>\n      <td>...</td>\n      <td>...</td>\n      <td>...</td>\n    </tr>\n    <tr>\n      <th>995</th>\n      <td>C</td>\n      <td>Health and beauty</td>\n      <td>Male</td>\n      <td>2.0175</td>\n      <td>2019-01-29</td>\n      <td>1</td>\n    </tr>\n    <tr>\n      <th>996</th>\n      <td>B</td>\n      <td>Home and lifestyle</td>\n      <td>Female</td>\n      <td>48.6900</td>\n      <td>2019-03-02</td>\n      <td>3</td>\n    </tr>\n    <tr>\n      <th>997</th>\n      <td>A</td>\n      <td>Food and beverages</td>\n      <td>Male</td>\n      <td>1.5920</td>\n      <td>2019-02-09</td>\n      <td>2</td>\n    </tr>\n    <tr>\n      <th>998</th>\n      <td>A</td>\n      <td>Home and lifestyle</td>\n      <td>Male</td>\n      <td>3.2910</td>\n      <td>2019-02-22</td>\n      <td>2</td>\n    </tr>\n    <tr>\n      <th>999</th>\n      <td>A</td>\n      <td>Fashion accessories</td>\n      <td>Female</td>\n      <td>30.9190</td>\n      <td>2019-02-18</td>\n      <td>2</td>\n    </tr>\n  </tbody>\n</table>\n<p>1000 rows × 6 columns</p>\n</div>"
     },
     "metadata": {},
     "execution_count": 137
    }
   ],
   "source": [
    "df4['Month'] = df4['Month'].str[-1]\n",
    "df4"
   ]
  },
  {
   "cell_type": "code",
   "execution_count": 138,
   "metadata": {
    "tags": []
   },
   "outputs": [
    {
     "output_type": "stream",
     "name": "stdout",
     "text": "<class 'pandas.core.frame.DataFrame'>\nRangeIndex: 1000 entries, 0 to 999\nData columns (total 6 columns):\n #   Column        Non-Null Count  Dtype         \n---  ------        --------------  -----         \n 0   Branch        1000 non-null   object        \n 1   Product line  1000 non-null   object        \n 2   Gender        1000 non-null   object        \n 3   gross income  1000 non-null   float64       \n 4   Date          1000 non-null   datetime64[ns]\n 5   Month         1000 non-null   object        \ndtypes: datetime64[ns](1), float64(1), object(4)\nmemory usage: 47.0+ KB\n"
    }
   ],
   "source": [
    "df4.info()"
   ]
  },
  {
   "cell_type": "code",
   "execution_count": 139,
   "metadata": {
    "tags": []
   },
   "outputs": [
    {
     "output_type": "stream",
     "name": "stdout",
     "text": "<class 'pandas.core.frame.DataFrame'>\nRangeIndex: 1000 entries, 0 to 999\nData columns (total 6 columns):\n #   Column        Non-Null Count  Dtype         \n---  ------        --------------  -----         \n 0   Branch        1000 non-null   object        \n 1   Product line  1000 non-null   object        \n 2   Gender        1000 non-null   object        \n 3   gross income  1000 non-null   float64       \n 4   Date          1000 non-null   datetime64[ns]\n 5   Month         1000 non-null   int64         \ndtypes: datetime64[ns](1), float64(1), int64(1), object(3)\nmemory usage: 47.0+ KB\n"
    }
   ],
   "source": [
    "df4['Month'] = df4['Month'].astype(str).astype(int)\n",
    "df4.info()"
   ]
  },
  {
   "cell_type": "code",
   "execution_count": 140,
   "metadata": {},
   "outputs": [
    {
     "output_type": "execute_result",
     "data": {
      "text/plain": "array(['A', 'C', 'B'], dtype=object)"
     },
     "metadata": {},
     "execution_count": 140
    }
   ],
   "source": [
    "df4['Branch'].unique()"
   ]
  },
  {
   "cell_type": "code",
   "execution_count": 141,
   "metadata": {},
   "outputs": [],
   "source": [
    "#assign all the widgets we are going to use\n",
    "BR=widgets.Dropdown(\n",
    "description = 'Gender:  ',\n",
    "value='Male',\n",
    "options=list(df4['Gender'].unique().tolist())\n",
    ")\n",
    "\n",
    "PL = widgets.Dropdown(\n",
    "options = list(df4['Product line'].unique()),\n",
    "value = 'Health and beauty',\n",
    "description = 'Product Line:',\n",
    ")\n",
    "\n",
    "use_Date =widgets.Checkbox(\n",
    "description = 'Date: ',\n",
    "value=True,\n",
    ")\n",
    "month = widgets.IntSlider(\n",
    "    value=1.0,\n",
    "    min=1.0,\n",
    "    max=3.0,\n",
    "    step=1.0,\n",
    "    description='Month:',\n",
    "    continuous_update=False\n",
    ")\n",
    "\n",
    "container = widgets.HBox(children=[use_Date, month])\n",
    "\n",
    "# Assign an empty figure widget with one trace\n",
    "\n",
    "trace1 = go.Histogram(x=df['Branch'], opacity=0.75)          \n",
    "g = go.FigureWidget(data=[trace1],\n",
    "                    layout=go.Layout(\n",
    "                        title=dict(\n",
    "                            text='Supermarket Sales DB'\n",
    "                        ),\n",
    "                        barmode='group'\n",
    "                    ))                  \n",
    "\n",
    "\n",
    "\n"
   ]
  },
  {
   "cell_type": "code",
   "execution_count": 142,
   "metadata": {},
   "outputs": [],
   "source": [
    "# Let now write a function that will handle the input from the widgets, \n",
    "#and alter the state of the graph.\n",
    "def validate():\n",
    "    if PL.value in df4['Product line'].unique() and BR.value in df4['Gender'].unique():\n",
    "        return True\n",
    "    else:\n",
    "        return False\n",
    "    \n",
    "def response(change):\n",
    "    if validate():\n",
    "        if use_Date.value:\n",
    "            filter_list = [i and j and k for i, j, k in\n",
    "                           zip(df4['Month'] == month.value, df4['Gender'] == BR.value, df4['Product line'] == PL.value)]\n",
    "            \n",
    "            temp_df4 = df4[filter_list]\n",
    "            \n",
    "        else:\n",
    "            \n",
    "             filter_list = [i and j for i, j in\n",
    "                               zip(df4['Gender'] == BR.value, df4['Product line'] == PL.value)]\n",
    "        temp_df4 = df4[filter_list]   \n",
    "        x1 = temp_df4['Branch']\n",
    "            \n",
    "        with g.batch_update():\n",
    "                g.data[0].x = x1\n",
    "                g.layout.barmode = 'group'\n",
    "                g.layout.xaxis.title = 'Branch'\n",
    "                g.layout.yaxis.title = 'Gross income'\n",
    "                \n",
    "PL.observe(response, names=\"value\")\n",
    "BR.observe(response, names=\"value\")\n",
    "month.observe(response, names=\"value\")\n",
    "use_Date.observe(response, names=\"value\")"
   ]
  },
  {
   "cell_type": "markdown",
   "metadata": {},
   "source": [
    "# Supermarket Branch sales sorted by Month, Product Line or Gender"
   ]
  },
  {
   "cell_type": "code",
   "execution_count": 143,
   "metadata": {
    "scrolled": true
   },
   "outputs": [
    {
     "output_type": "display_data",
     "data": {
      "text/plain": "VBox(children=(HBox(children=(Checkbox(value=True, description='Date: '), IntSlider(value=1, continuous_update…",
      "application/vnd.jupyter.widget-view+json": {
       "version_major": 2,
       "version_minor": 0,
       "model_id": "5eabd12c21d94bf2b329689026cbd94d"
      }
     },
     "metadata": {}
    }
   ],
   "source": [
    "container2 = widgets.HBox([PL, BR])\n",
    "widgets.VBox([container,\n",
    "              container2,\n",
    "              g])"
   ]
  },
  {
   "cell_type": "code",
   "execution_count": null,
   "metadata": {},
   "outputs": [],
   "source": []
  }
 ],
 "metadata": {
  "kernelspec": {
   "display_name": "Python 3",
   "language": "python",
   "name": "python3"
  },
  "language_info": {
   "codemirror_mode": {
    "name": "ipython",
    "version": 3
   },
   "file_extension": ".py",
   "mimetype": "text/x-python",
   "name": "python",
   "nbconvert_exporter": "python",
   "pygments_lexer": "ipython3",
   "version": "3.8.2-final"
  },
  "widgets": {
   "application/vnd.jupyter.widget-state+json": {
    "state": {
     "00f5d5ace9b7488ea187e47abc61a164": {
      "model_module": "@jupyter-widgets/controls",
      "model_module_version": "1.5.0",
      "model_name": "DescriptionStyleModel",
      "state": {
       "description_width": ""
      }
     },
     "014d23bc906242e1bbe233b35af38ba6": {
      "model_module": "@jupyter-widgets/controls",
      "model_module_version": "1.5.0",
      "model_name": "IntSliderModel",
      "state": {
       "continuous_update": false,
       "description": "Month:",
       "layout": "IPY_MODEL_2da80b0e42eb4c56b1dcdf33635705c1",
       "max": 3,
       "min": 1,
       "style": "IPY_MODEL_83d9c665386e4579991ee0eb3caed03f",
       "value": 1
      }
     },
     "0297d2f335994f5a8b5f23926ad42e5a": {
      "model_module": "@jupyter-widgets/controls",
      "model_module_version": "1.5.0",
      "model_name": "DropdownModel",
      "state": {
       "_options_labels": [
        "Female",
        "Male"
       ],
       "description": "Gender:  ",
       "index": 1,
       "layout": "IPY_MODEL_d8d3d712b8924e448870b1c6b8896b18",
       "style": "IPY_MODEL_837aa148427e42ce9d771c482f8b116a"
      }
     },
     "03a3e1f0254d45aa804b460cd512f54d": {
      "model_module": "@jupyter-widgets/controls",
      "model_module_version": "1.5.0",
      "model_name": "DescriptionStyleModel",
      "state": {
       "description_width": ""
      }
     },
     "03cbb502d0fc41899829fe59dbc973a5": {
      "model_module": "@jupyter-widgets/controls",
      "model_module_version": "1.5.0",
      "model_name": "HBoxModel",
      "state": {
       "children": [
        "IPY_MODEL_bcc7d807160f4bccb07e0ab479a88284",
        "IPY_MODEL_6ceeb225fc93410babda6e59419aef01"
       ],
       "layout": "IPY_MODEL_69cd39f1dc8f49028c599c71df460c7a"
      }
     },
     "0699634e5e8c4bd799d3b0e05bb51060": {
      "model_module": "@jupyter-widgets/base",
      "model_module_version": "1.2.0",
      "model_name": "LayoutModel",
      "state": {}
     },
     "06c54b15d2744c06ab61ea60fc46799e": {
      "model_module": "@jupyter-widgets/controls",
      "model_module_version": "1.5.0",
      "model_name": "SliderStyleModel",
      "state": {
       "description_width": ""
      }
     },
     "09c3e4ed765247f8b13d2f16717277a3": {
      "model_module": "@jupyter-widgets/controls",
      "model_module_version": "1.5.0",
      "model_name": "CheckboxModel",
      "state": {
       "description": "Date: ",
       "disabled": false,
       "layout": "IPY_MODEL_a12f6fb16f7a4bb7b5726830e812ddad",
       "style": "IPY_MODEL_7a6679d10d734315936b9f03b7e4e8ac",
       "value": true
      }
     },
     "0a2a76e7ca0f40f493599b3d239d6349": {
      "model_module": "@jupyter-widgets/base",
      "model_module_version": "1.2.0",
      "model_name": "LayoutModel",
      "state": {}
     },
     "0bcc7c0443b646c2be707a8471ced59d": {
      "model_module": "@jupyter-widgets/controls",
      "model_module_version": "1.5.0",
      "model_name": "DescriptionStyleModel",
      "state": {
       "description_width": ""
      }
     },
     "0c678b78c9284a51ab011e84d96ccde2": {
      "model_module": "@jupyter-widgets/base",
      "model_module_version": "1.2.0",
      "model_name": "LayoutModel",
      "state": {}
     },
     "0d8dd994e989444e82fd65612229ecc4": {
      "model_module": "@jupyter-widgets/base",
      "model_module_version": "1.2.0",
      "model_name": "LayoutModel",
      "state": {}
     },
     "0f81bdd8f621477db0926eea96def22a": {
      "model_module": "@jupyter-widgets/controls",
      "model_module_version": "1.5.0",
      "model_name": "DropdownModel",
      "state": {
       "_options_labels": [
        "Female",
        "Male"
       ],
       "description": "Gender:  ",
       "index": 1,
       "layout": "IPY_MODEL_7a1c5bf842d84df0b5ac25ed749c1ce5",
       "style": "IPY_MODEL_bcc54be599e54d81a94f0afd7a254a29"
      }
     },
     "0fcc65e7db3f416186946caa912c3272": {
      "model_module": "@jupyter-widgets/base",
      "model_module_version": "1.2.0",
      "model_name": "LayoutModel",
      "state": {}
     },
     "109f816412444d419d94a31ba6e88651": {
      "model_module": "@jupyter-widgets/controls",
      "model_module_version": "1.5.0",
      "model_name": "IntSliderModel",
      "state": {
       "continuous_update": false,
       "description": "Month:",
       "layout": "IPY_MODEL_cef5a008c66241d4b2723e7d58b67a03",
       "max": 6,
       "min": 1,
       "style": "IPY_MODEL_06c54b15d2744c06ab61ea60fc46799e",
       "value": 3
      }
     },
     "118f05a3af3d45da8a9331898ae99546": {
      "model_module": "@jupyter-widgets/base",
      "model_module_version": "1.2.0",
      "model_name": "LayoutModel",
      "state": {}
     },
     "11d8e265a4504888aeaefe10a1692bce": {
      "model_module": "@jupyter-widgets/controls",
      "model_module_version": "1.5.0",
      "model_name": "HBoxModel",
      "state": {
       "children": [
        "IPY_MODEL_64b6ebf41c9242ddb104e2a584ae5d72",
        "IPY_MODEL_c1c7a862ef9e41bfa9dc82d45002ffb8"
       ],
       "layout": "IPY_MODEL_d7e146d0ba2b427d99ee42d06e0ac749"
      }
     },
     "1212153c7a7944b09656a926087c7f1e": {
      "model_module": "@jupyter-widgets/controls",
      "model_module_version": "1.5.0",
      "model_name": "DescriptionStyleModel",
      "state": {
       "description_width": ""
      }
     },
     "1449c7a54c0d4ef682039fdf8ab00b7b": {
      "model_module": "@jupyter-widgets/base",
      "model_module_version": "1.2.0",
      "model_name": "LayoutModel",
      "state": {}
     },
     "14b92aeb0b96490d9916a035f62c73d6": {
      "model_module": "@jupyter-widgets/controls",
      "model_module_version": "1.5.0",
      "model_name": "DropdownModel",
      "state": {
       "_options_labels": [
        "Female",
        "Male"
       ],
       "description": "Gender:  ",
       "index": 1,
       "layout": "IPY_MODEL_49d992766c9748a185ca55ded70d69b0",
       "style": "IPY_MODEL_7de235458cf44ee1801ef016bf20d563"
      }
     },
     "15d0f9c47df74e85885bcf95d000e53e": {
      "model_module": "@jupyter-widgets/controls",
      "model_module_version": "1.5.0",
      "model_name": "DropdownModel",
      "state": {
       "_options_labels": [
        "Health and beauty",
        "Electronic accessories",
        "Home and lifestyle",
        "Sports and travel",
        "Food and beverages",
        "Fashion accessories"
       ],
       "description": "Product Line:",
       "index": 5,
       "layout": "IPY_MODEL_4aafef8364d2466596cd45df6266399f",
       "style": "IPY_MODEL_848c0a253fec4281bbab165a8ba7ed91"
      }
     },
     "1709d53effd946fa8b839116e720852d": {
      "model_module": "@jupyter-widgets/controls",
      "model_module_version": "1.5.0",
      "model_name": "CheckboxModel",
      "state": {
       "description": "Date: ",
       "disabled": false,
       "layout": "IPY_MODEL_76da72a8a71c424d97e0003ad919c0b0",
       "style": "IPY_MODEL_00f5d5ace9b7488ea187e47abc61a164",
       "value": false
      }
     },
     "17b94bb4164d4f5b9ada9bd0f35ebf23": {
      "model_module": "@jupyter-widgets/controls",
      "model_module_version": "1.5.0",
      "model_name": "SliderStyleModel",
      "state": {
       "description_width": ""
      }
     },
     "17ca98fe1dbd49cfab76a84d34ee5e0b": {
      "model_module": "plotlywidget",
      "model_module_version": "^4.9.0",
      "model_name": "FigureModel",
      "state": {
       "_config": {
        "plotlyServerURL": "https://plot.ly"
       },
       "_data": [
        {
         "opacity": 0.75,
         "type": "histogram",
         "uid": "8a18b860-40d0-4fa0-9eb3-6d4df7153d14",
         "x": [
          "C",
          "C",
          "C",
          "B",
          "A",
          "A",
          "A",
          "B",
          "B",
          "C",
          "C",
          "B",
          "B",
          "C",
          "B",
          "B",
          "A",
          "A",
          "B",
          "A",
          "C",
          "C",
          "B",
          "A",
          "A",
          "A",
          "C",
          "A"
         ]
        }
       ],
       "_js2py_restyle": {},
       "_js2py_update": {},
       "_last_layout_edit_id": 14,
       "_last_trace_edit_id": 13,
       "_layout": {
        "autosize": true,
        "barmode": "group",
        "template": {
         "data": {
          "bar": [
           {
            "error_x": {
             "color": "#2a3f5f"
            },
            "error_y": {
             "color": "#2a3f5f"
            },
            "marker": {
             "line": {
              "color": "#E5ECF6",
              "width": 0.5
             }
            },
            "type": "bar"
           }
          ],
          "barpolar": [
           {
            "marker": {
             "line": {
              "color": "#E5ECF6",
              "width": 0.5
             }
            },
            "type": "barpolar"
           }
          ],
          "carpet": [
           {
            "aaxis": {
             "endlinecolor": "#2a3f5f",
             "gridcolor": "white",
             "linecolor": "white",
             "minorgridcolor": "white",
             "startlinecolor": "#2a3f5f"
            },
            "baxis": {
             "endlinecolor": "#2a3f5f",
             "gridcolor": "white",
             "linecolor": "white",
             "minorgridcolor": "white",
             "startlinecolor": "#2a3f5f"
            },
            "type": "carpet"
           }
          ],
          "choropleth": [
           {
            "colorbar": {
             "outlinewidth": 0,
             "ticks": ""
            },
            "type": "choropleth"
           }
          ],
          "contour": [
           {
            "colorbar": {
             "outlinewidth": 0,
             "ticks": ""
            },
            "colorscale": [
             [
              0,
              "#0d0887"
             ],
             [
              0.1111111111111111,
              "#46039f"
             ],
             [
              0.2222222222222222,
              "#7201a8"
             ],
             [
              0.3333333333333333,
              "#9c179e"
             ],
             [
              0.4444444444444444,
              "#bd3786"
             ],
             [
              0.5555555555555556,
              "#d8576b"
             ],
             [
              0.6666666666666666,
              "#ed7953"
             ],
             [
              0.7777777777777778,
              "#fb9f3a"
             ],
             [
              0.8888888888888888,
              "#fdca26"
             ],
             [
              1,
              "#f0f921"
             ]
            ],
            "type": "contour"
           }
          ],
          "contourcarpet": [
           {
            "colorbar": {
             "outlinewidth": 0,
             "ticks": ""
            },
            "type": "contourcarpet"
           }
          ],
          "heatmap": [
           {
            "colorbar": {
             "outlinewidth": 0,
             "ticks": ""
            },
            "colorscale": [
             [
              0,
              "#0d0887"
             ],
             [
              0.1111111111111111,
              "#46039f"
             ],
             [
              0.2222222222222222,
              "#7201a8"
             ],
             [
              0.3333333333333333,
              "#9c179e"
             ],
             [
              0.4444444444444444,
              "#bd3786"
             ],
             [
              0.5555555555555556,
              "#d8576b"
             ],
             [
              0.6666666666666666,
              "#ed7953"
             ],
             [
              0.7777777777777778,
              "#fb9f3a"
             ],
             [
              0.8888888888888888,
              "#fdca26"
             ],
             [
              1,
              "#f0f921"
             ]
            ],
            "type": "heatmap"
           }
          ],
          "heatmapgl": [
           {
            "colorbar": {
             "outlinewidth": 0,
             "ticks": ""
            },
            "colorscale": [
             [
              0,
              "#0d0887"
             ],
             [
              0.1111111111111111,
              "#46039f"
             ],
             [
              0.2222222222222222,
              "#7201a8"
             ],
             [
              0.3333333333333333,
              "#9c179e"
             ],
             [
              0.4444444444444444,
              "#bd3786"
             ],
             [
              0.5555555555555556,
              "#d8576b"
             ],
             [
              0.6666666666666666,
              "#ed7953"
             ],
             [
              0.7777777777777778,
              "#fb9f3a"
             ],
             [
              0.8888888888888888,
              "#fdca26"
             ],
             [
              1,
              "#f0f921"
             ]
            ],
            "type": "heatmapgl"
           }
          ],
          "histogram": [
           {
            "marker": {
             "colorbar": {
              "outlinewidth": 0,
              "ticks": ""
             }
            },
            "type": "histogram"
           }
          ],
          "histogram2d": [
           {
            "colorbar": {
             "outlinewidth": 0,
             "ticks": ""
            },
            "colorscale": [
             [
              0,
              "#0d0887"
             ],
             [
              0.1111111111111111,
              "#46039f"
             ],
             [
              0.2222222222222222,
              "#7201a8"
             ],
             [
              0.3333333333333333,
              "#9c179e"
             ],
             [
              0.4444444444444444,
              "#bd3786"
             ],
             [
              0.5555555555555556,
              "#d8576b"
             ],
             [
              0.6666666666666666,
              "#ed7953"
             ],
             [
              0.7777777777777778,
              "#fb9f3a"
             ],
             [
              0.8888888888888888,
              "#fdca26"
             ],
             [
              1,
              "#f0f921"
             ]
            ],
            "type": "histogram2d"
           }
          ],
          "histogram2dcontour": [
           {
            "colorbar": {
             "outlinewidth": 0,
             "ticks": ""
            },
            "colorscale": [
             [
              0,
              "#0d0887"
             ],
             [
              0.1111111111111111,
              "#46039f"
             ],
             [
              0.2222222222222222,
              "#7201a8"
             ],
             [
              0.3333333333333333,
              "#9c179e"
             ],
             [
              0.4444444444444444,
              "#bd3786"
             ],
             [
              0.5555555555555556,
              "#d8576b"
             ],
             [
              0.6666666666666666,
              "#ed7953"
             ],
             [
              0.7777777777777778,
              "#fb9f3a"
             ],
             [
              0.8888888888888888,
              "#fdca26"
             ],
             [
              1,
              "#f0f921"
             ]
            ],
            "type": "histogram2dcontour"
           }
          ],
          "mesh3d": [
           {
            "colorbar": {
             "outlinewidth": 0,
             "ticks": ""
            },
            "type": "mesh3d"
           }
          ],
          "parcoords": [
           {
            "line": {
             "colorbar": {
              "outlinewidth": 0,
              "ticks": ""
             }
            },
            "type": "parcoords"
           }
          ],
          "pie": [
           {
            "automargin": true,
            "type": "pie"
           }
          ],
          "scatter": [
           {
            "marker": {
             "colorbar": {
              "outlinewidth": 0,
              "ticks": ""
             }
            },
            "type": "scatter"
           }
          ],
          "scatter3d": [
           {
            "line": {
             "colorbar": {
              "outlinewidth": 0,
              "ticks": ""
             }
            },
            "marker": {
             "colorbar": {
              "outlinewidth": 0,
              "ticks": ""
             }
            },
            "type": "scatter3d"
           }
          ],
          "scattercarpet": [
           {
            "marker": {
             "colorbar": {
              "outlinewidth": 0,
              "ticks": ""
             }
            },
            "type": "scattercarpet"
           }
          ],
          "scattergeo": [
           {
            "marker": {
             "colorbar": {
              "outlinewidth": 0,
              "ticks": ""
             }
            },
            "type": "scattergeo"
           }
          ],
          "scattergl": [
           {
            "marker": {
             "colorbar": {
              "outlinewidth": 0,
              "ticks": ""
             }
            },
            "type": "scattergl"
           }
          ],
          "scattermapbox": [
           {
            "marker": {
             "colorbar": {
              "outlinewidth": 0,
              "ticks": ""
             }
            },
            "type": "scattermapbox"
           }
          ],
          "scatterpolar": [
           {
            "marker": {
             "colorbar": {
              "outlinewidth": 0,
              "ticks": ""
             }
            },
            "type": "scatterpolar"
           }
          ],
          "scatterpolargl": [
           {
            "marker": {
             "colorbar": {
              "outlinewidth": 0,
              "ticks": ""
             }
            },
            "type": "scatterpolargl"
           }
          ],
          "scatterternary": [
           {
            "marker": {
             "colorbar": {
              "outlinewidth": 0,
              "ticks": ""
             }
            },
            "type": "scatterternary"
           }
          ],
          "surface": [
           {
            "colorbar": {
             "outlinewidth": 0,
             "ticks": ""
            },
            "colorscale": [
             [
              0,
              "#0d0887"
             ],
             [
              0.1111111111111111,
              "#46039f"
             ],
             [
              0.2222222222222222,
              "#7201a8"
             ],
             [
              0.3333333333333333,
              "#9c179e"
             ],
             [
              0.4444444444444444,
              "#bd3786"
             ],
             [
              0.5555555555555556,
              "#d8576b"
             ],
             [
              0.6666666666666666,
              "#ed7953"
             ],
             [
              0.7777777777777778,
              "#fb9f3a"
             ],
             [
              0.8888888888888888,
              "#fdca26"
             ],
             [
              1,
              "#f0f921"
             ]
            ],
            "type": "surface"
           }
          ],
          "table": [
           {
            "cells": {
             "fill": {
              "color": "#EBF0F8"
             },
             "line": {
              "color": "white"
             }
            },
            "header": {
             "fill": {
              "color": "#C8D4E3"
             },
             "line": {
              "color": "white"
             }
            },
            "type": "table"
           }
          ]
         },
         "layout": {
          "annotationdefaults": {
           "arrowcolor": "#2a3f5f",
           "arrowhead": 0,
           "arrowwidth": 1
          },
          "coloraxis": {
           "colorbar": {
            "outlinewidth": 0,
            "ticks": ""
           }
          },
          "colorscale": {
           "diverging": [
            [
             0,
             "#8e0152"
            ],
            [
             0.1,
             "#c51b7d"
            ],
            [
             0.2,
             "#de77ae"
            ],
            [
             0.3,
             "#f1b6da"
            ],
            [
             0.4,
             "#fde0ef"
            ],
            [
             0.5,
             "#f7f7f7"
            ],
            [
             0.6,
             "#e6f5d0"
            ],
            [
             0.7,
             "#b8e186"
            ],
            [
             0.8,
             "#7fbc41"
            ],
            [
             0.9,
             "#4d9221"
            ],
            [
             1,
             "#276419"
            ]
           ],
           "sequential": [
            [
             0,
             "#0d0887"
            ],
            [
             0.1111111111111111,
             "#46039f"
            ],
            [
             0.2222222222222222,
             "#7201a8"
            ],
            [
             0.3333333333333333,
             "#9c179e"
            ],
            [
             0.4444444444444444,
             "#bd3786"
            ],
            [
             0.5555555555555556,
             "#d8576b"
            ],
            [
             0.6666666666666666,
             "#ed7953"
            ],
            [
             0.7777777777777778,
             "#fb9f3a"
            ],
            [
             0.8888888888888888,
             "#fdca26"
            ],
            [
             1,
             "#f0f921"
            ]
           ],
           "sequentialminus": [
            [
             0,
             "#0d0887"
            ],
            [
             0.1111111111111111,
             "#46039f"
            ],
            [
             0.2222222222222222,
             "#7201a8"
            ],
            [
             0.3333333333333333,
             "#9c179e"
            ],
            [
             0.4444444444444444,
             "#bd3786"
            ],
            [
             0.5555555555555556,
             "#d8576b"
            ],
            [
             0.6666666666666666,
             "#ed7953"
            ],
            [
             0.7777777777777778,
             "#fb9f3a"
            ],
            [
             0.8888888888888888,
             "#fdca26"
            ],
            [
             1,
             "#f0f921"
            ]
           ]
          },
          "colorway": [
           "#636efa",
           "#EF553B",
           "#00cc96",
           "#ab63fa",
           "#FFA15A",
           "#19d3f3",
           "#FF6692",
           "#B6E880",
           "#FF97FF",
           "#FECB52"
          ],
          "font": {
           "color": "#2a3f5f"
          },
          "geo": {
           "bgcolor": "white",
           "lakecolor": "white",
           "landcolor": "#E5ECF6",
           "showlakes": true,
           "showland": true,
           "subunitcolor": "white"
          },
          "hoverlabel": {
           "align": "left"
          },
          "hovermode": "closest",
          "mapbox": {
           "style": "light"
          },
          "paper_bgcolor": "white",
          "plot_bgcolor": "#E5ECF6",
          "polar": {
           "angularaxis": {
            "gridcolor": "white",
            "linecolor": "white",
            "ticks": ""
           },
           "bgcolor": "#E5ECF6",
           "radialaxis": {
            "gridcolor": "white",
            "linecolor": "white",
            "ticks": ""
           }
          },
          "scene": {
           "xaxis": {
            "backgroundcolor": "#E5ECF6",
            "gridcolor": "white",
            "gridwidth": 2,
            "linecolor": "white",
            "showbackground": true,
            "ticks": "",
            "zerolinecolor": "white"
           },
           "yaxis": {
            "backgroundcolor": "#E5ECF6",
            "gridcolor": "white",
            "gridwidth": 2,
            "linecolor": "white",
            "showbackground": true,
            "ticks": "",
            "zerolinecolor": "white"
           },
           "zaxis": {
            "backgroundcolor": "#E5ECF6",
            "gridcolor": "white",
            "gridwidth": 2,
            "linecolor": "white",
            "showbackground": true,
            "ticks": "",
            "zerolinecolor": "white"
           }
          },
          "shapedefaults": {
           "line": {
            "color": "#2a3f5f"
           }
          },
          "ternary": {
           "aaxis": {
            "gridcolor": "white",
            "linecolor": "white",
            "ticks": ""
           },
           "baxis": {
            "gridcolor": "white",
            "linecolor": "white",
            "ticks": ""
           },
           "bgcolor": "#E5ECF6",
           "caxis": {
            "gridcolor": "white",
            "linecolor": "white",
            "ticks": ""
           }
          },
          "title": {
           "x": 0.05
          },
          "xaxis": {
           "automargin": true,
           "gridcolor": "white",
           "linecolor": "white",
           "ticks": "",
           "title": {
            "standoff": 15
           },
           "zerolinecolor": "white",
           "zerolinewidth": 2
          },
          "yaxis": {
           "automargin": true,
           "gridcolor": "white",
           "linecolor": "white",
           "ticks": "",
           "title": {
            "standoff": 15
           },
           "zerolinecolor": "white",
           "zerolinewidth": 2
          }
         }
        },
        "title": {
         "text": "Supermarket Sales DB"
        },
        "xaxis": {
         "title": {
          "text": "Branch"
         }
        },
        "yaxis": {
         "title": {
          "text": "Gross income"
         }
        }
       },
       "_py2js_addTraces": {},
       "_py2js_animate": {},
       "_py2js_deleteTraces": {},
       "_py2js_moveTraces": {},
       "_py2js_removeLayoutProps": {},
       "_py2js_removeTraceProps": {},
       "_py2js_restyle": {},
       "_view_count": 1
      }
     },
     "1806c3d72eba42c08a7277f479b44acc": {
      "model_module": "@jupyter-widgets/controls",
      "model_module_version": "1.5.0",
      "model_name": "VBoxModel",
      "state": {
       "children": [
        "IPY_MODEL_6024a68e34f240fb9fbdb73b10ccc93d",
        "IPY_MODEL_d5e932938b4546d2a14d9fc4a1dfa913",
        "IPY_MODEL_344f6bb45a71499f8a694816334211d4"
       ],
       "layout": "IPY_MODEL_5066040b0150437dba3886f72d5a533d"
      }
     },
     "1a588edd76cd478896cb9987b6347f61": {
      "model_module": "@jupyter-widgets/controls",
      "model_module_version": "1.5.0",
      "model_name": "DescriptionStyleModel",
      "state": {
       "description_width": ""
      }
     },
     "1d5a2fd8681b419183c0bc6a7b4d4eb6": {
      "model_module": "@jupyter-widgets/controls",
      "model_module_version": "1.5.0",
      "model_name": "HBoxModel",
      "state": {
       "children": [
        "IPY_MODEL_3e5b909cef2343df9ef68f67253c5041",
        "IPY_MODEL_3ac552b7465d42cd94922d4458447354"
       ],
       "layout": "IPY_MODEL_c0c40574d309499881a01fbdc112a573"
      }
     },
     "1eeebee4a3d34c91ad665d3e6d824918": {
      "model_module": "@jupyter-widgets/controls",
      "model_module_version": "1.5.0",
      "model_name": "HBoxModel",
      "state": {
       "children": [
        "IPY_MODEL_bdc471cd69024051bd7b09c26ecb5020",
        "IPY_MODEL_fd5dcbc765e34b5da82c087150135b69"
       ],
       "layout": "IPY_MODEL_e8149f2c4b6d40ba9221dac1e4dc17dd"
      }
     },
     "1f7745eabc66410f86278823bfcd0a2c": {
      "model_module": "plotlywidget",
      "model_module_version": "^4.9.0",
      "model_name": "FigureModel",
      "state": {
       "_config": {
        "plotlyServerURL": "https://plot.ly"
       },
       "_data": [
        {
         "opacity": 0.75,
         "type": "histogram",
         "uid": "92a1ce1b-824f-4692-ac18-8978ae1e0aad",
         "x": [
          "B",
          "A",
          "A",
          "C",
          "A",
          "B",
          "B",
          "B",
          "C",
          "A",
          "B",
          "C",
          "C",
          "A",
          "A",
          "A",
          "B",
          "B",
          "A",
          "B",
          "B",
          "B",
          "B",
          "A",
          "A",
          "C",
          "B",
          "B",
          "A",
          "C",
          "A",
          "B",
          "C",
          "C",
          "B",
          "B",
          "C",
          "A"
         ]
        }
       ],
       "_js2py_pointsCallback": {},
       "_js2py_restyle": {},
       "_js2py_update": {},
       "_last_layout_edit_id": 5,
       "_last_trace_edit_id": 4,
       "_layout": {
        "autosize": true,
        "barmode": "group",
        "template": {
         "data": {
          "bar": [
           {
            "error_x": {
             "color": "#2a3f5f"
            },
            "error_y": {
             "color": "#2a3f5f"
            },
            "marker": {
             "line": {
              "color": "#E5ECF6",
              "width": 0.5
             }
            },
            "type": "bar"
           }
          ],
          "barpolar": [
           {
            "marker": {
             "line": {
              "color": "#E5ECF6",
              "width": 0.5
             }
            },
            "type": "barpolar"
           }
          ],
          "carpet": [
           {
            "aaxis": {
             "endlinecolor": "#2a3f5f",
             "gridcolor": "white",
             "linecolor": "white",
             "minorgridcolor": "white",
             "startlinecolor": "#2a3f5f"
            },
            "baxis": {
             "endlinecolor": "#2a3f5f",
             "gridcolor": "white",
             "linecolor": "white",
             "minorgridcolor": "white",
             "startlinecolor": "#2a3f5f"
            },
            "type": "carpet"
           }
          ],
          "choropleth": [
           {
            "colorbar": {
             "outlinewidth": 0,
             "ticks": ""
            },
            "type": "choropleth"
           }
          ],
          "contour": [
           {
            "colorbar": {
             "outlinewidth": 0,
             "ticks": ""
            },
            "colorscale": [
             [
              0,
              "#0d0887"
             ],
             [
              0.1111111111111111,
              "#46039f"
             ],
             [
              0.2222222222222222,
              "#7201a8"
             ],
             [
              0.3333333333333333,
              "#9c179e"
             ],
             [
              0.4444444444444444,
              "#bd3786"
             ],
             [
              0.5555555555555556,
              "#d8576b"
             ],
             [
              0.6666666666666666,
              "#ed7953"
             ],
             [
              0.7777777777777778,
              "#fb9f3a"
             ],
             [
              0.8888888888888888,
              "#fdca26"
             ],
             [
              1,
              "#f0f921"
             ]
            ],
            "type": "contour"
           }
          ],
          "contourcarpet": [
           {
            "colorbar": {
             "outlinewidth": 0,
             "ticks": ""
            },
            "type": "contourcarpet"
           }
          ],
          "heatmap": [
           {
            "colorbar": {
             "outlinewidth": 0,
             "ticks": ""
            },
            "colorscale": [
             [
              0,
              "#0d0887"
             ],
             [
              0.1111111111111111,
              "#46039f"
             ],
             [
              0.2222222222222222,
              "#7201a8"
             ],
             [
              0.3333333333333333,
              "#9c179e"
             ],
             [
              0.4444444444444444,
              "#bd3786"
             ],
             [
              0.5555555555555556,
              "#d8576b"
             ],
             [
              0.6666666666666666,
              "#ed7953"
             ],
             [
              0.7777777777777778,
              "#fb9f3a"
             ],
             [
              0.8888888888888888,
              "#fdca26"
             ],
             [
              1,
              "#f0f921"
             ]
            ],
            "type": "heatmap"
           }
          ],
          "heatmapgl": [
           {
            "colorbar": {
             "outlinewidth": 0,
             "ticks": ""
            },
            "colorscale": [
             [
              0,
              "#0d0887"
             ],
             [
              0.1111111111111111,
              "#46039f"
             ],
             [
              0.2222222222222222,
              "#7201a8"
             ],
             [
              0.3333333333333333,
              "#9c179e"
             ],
             [
              0.4444444444444444,
              "#bd3786"
             ],
             [
              0.5555555555555556,
              "#d8576b"
             ],
             [
              0.6666666666666666,
              "#ed7953"
             ],
             [
              0.7777777777777778,
              "#fb9f3a"
             ],
             [
              0.8888888888888888,
              "#fdca26"
             ],
             [
              1,
              "#f0f921"
             ]
            ],
            "type": "heatmapgl"
           }
          ],
          "histogram": [
           {
            "marker": {
             "colorbar": {
              "outlinewidth": 0,
              "ticks": ""
             }
            },
            "type": "histogram"
           }
          ],
          "histogram2d": [
           {
            "colorbar": {
             "outlinewidth": 0,
             "ticks": ""
            },
            "colorscale": [
             [
              0,
              "#0d0887"
             ],
             [
              0.1111111111111111,
              "#46039f"
             ],
             [
              0.2222222222222222,
              "#7201a8"
             ],
             [
              0.3333333333333333,
              "#9c179e"
             ],
             [
              0.4444444444444444,
              "#bd3786"
             ],
             [
              0.5555555555555556,
              "#d8576b"
             ],
             [
              0.6666666666666666,
              "#ed7953"
             ],
             [
              0.7777777777777778,
              "#fb9f3a"
             ],
             [
              0.8888888888888888,
              "#fdca26"
             ],
             [
              1,
              "#f0f921"
             ]
            ],
            "type": "histogram2d"
           }
          ],
          "histogram2dcontour": [
           {
            "colorbar": {
             "outlinewidth": 0,
             "ticks": ""
            },
            "colorscale": [
             [
              0,
              "#0d0887"
             ],
             [
              0.1111111111111111,
              "#46039f"
             ],
             [
              0.2222222222222222,
              "#7201a8"
             ],
             [
              0.3333333333333333,
              "#9c179e"
             ],
             [
              0.4444444444444444,
              "#bd3786"
             ],
             [
              0.5555555555555556,
              "#d8576b"
             ],
             [
              0.6666666666666666,
              "#ed7953"
             ],
             [
              0.7777777777777778,
              "#fb9f3a"
             ],
             [
              0.8888888888888888,
              "#fdca26"
             ],
             [
              1,
              "#f0f921"
             ]
            ],
            "type": "histogram2dcontour"
           }
          ],
          "mesh3d": [
           {
            "colorbar": {
             "outlinewidth": 0,
             "ticks": ""
            },
            "type": "mesh3d"
           }
          ],
          "parcoords": [
           {
            "line": {
             "colorbar": {
              "outlinewidth": 0,
              "ticks": ""
             }
            },
            "type": "parcoords"
           }
          ],
          "pie": [
           {
            "automargin": true,
            "type": "pie"
           }
          ],
          "scatter": [
           {
            "marker": {
             "colorbar": {
              "outlinewidth": 0,
              "ticks": ""
             }
            },
            "type": "scatter"
           }
          ],
          "scatter3d": [
           {
            "line": {
             "colorbar": {
              "outlinewidth": 0,
              "ticks": ""
             }
            },
            "marker": {
             "colorbar": {
              "outlinewidth": 0,
              "ticks": ""
             }
            },
            "type": "scatter3d"
           }
          ],
          "scattercarpet": [
           {
            "marker": {
             "colorbar": {
              "outlinewidth": 0,
              "ticks": ""
             }
            },
            "type": "scattercarpet"
           }
          ],
          "scattergeo": [
           {
            "marker": {
             "colorbar": {
              "outlinewidth": 0,
              "ticks": ""
             }
            },
            "type": "scattergeo"
           }
          ],
          "scattergl": [
           {
            "marker": {
             "colorbar": {
              "outlinewidth": 0,
              "ticks": ""
             }
            },
            "type": "scattergl"
           }
          ],
          "scattermapbox": [
           {
            "marker": {
             "colorbar": {
              "outlinewidth": 0,
              "ticks": ""
             }
            },
            "type": "scattermapbox"
           }
          ],
          "scatterpolar": [
           {
            "marker": {
             "colorbar": {
              "outlinewidth": 0,
              "ticks": ""
             }
            },
            "type": "scatterpolar"
           }
          ],
          "scatterpolargl": [
           {
            "marker": {
             "colorbar": {
              "outlinewidth": 0,
              "ticks": ""
             }
            },
            "type": "scatterpolargl"
           }
          ],
          "scatterternary": [
           {
            "marker": {
             "colorbar": {
              "outlinewidth": 0,
              "ticks": ""
             }
            },
            "type": "scatterternary"
           }
          ],
          "surface": [
           {
            "colorbar": {
             "outlinewidth": 0,
             "ticks": ""
            },
            "colorscale": [
             [
              0,
              "#0d0887"
             ],
             [
              0.1111111111111111,
              "#46039f"
             ],
             [
              0.2222222222222222,
              "#7201a8"
             ],
             [
              0.3333333333333333,
              "#9c179e"
             ],
             [
              0.4444444444444444,
              "#bd3786"
             ],
             [
              0.5555555555555556,
              "#d8576b"
             ],
             [
              0.6666666666666666,
              "#ed7953"
             ],
             [
              0.7777777777777778,
              "#fb9f3a"
             ],
             [
              0.8888888888888888,
              "#fdca26"
             ],
             [
              1,
              "#f0f921"
             ]
            ],
            "type": "surface"
           }
          ],
          "table": [
           {
            "cells": {
             "fill": {
              "color": "#EBF0F8"
             },
             "line": {
              "color": "white"
             }
            },
            "header": {
             "fill": {
              "color": "#C8D4E3"
             },
             "line": {
              "color": "white"
             }
            },
            "type": "table"
           }
          ]
         },
         "layout": {
          "annotationdefaults": {
           "arrowcolor": "#2a3f5f",
           "arrowhead": 0,
           "arrowwidth": 1
          },
          "coloraxis": {
           "colorbar": {
            "outlinewidth": 0,
            "ticks": ""
           }
          },
          "colorscale": {
           "diverging": [
            [
             0,
             "#8e0152"
            ],
            [
             0.1,
             "#c51b7d"
            ],
            [
             0.2,
             "#de77ae"
            ],
            [
             0.3,
             "#f1b6da"
            ],
            [
             0.4,
             "#fde0ef"
            ],
            [
             0.5,
             "#f7f7f7"
            ],
            [
             0.6,
             "#e6f5d0"
            ],
            [
             0.7,
             "#b8e186"
            ],
            [
             0.8,
             "#7fbc41"
            ],
            [
             0.9,
             "#4d9221"
            ],
            [
             1,
             "#276419"
            ]
           ],
           "sequential": [
            [
             0,
             "#0d0887"
            ],
            [
             0.1111111111111111,
             "#46039f"
            ],
            [
             0.2222222222222222,
             "#7201a8"
            ],
            [
             0.3333333333333333,
             "#9c179e"
            ],
            [
             0.4444444444444444,
             "#bd3786"
            ],
            [
             0.5555555555555556,
             "#d8576b"
            ],
            [
             0.6666666666666666,
             "#ed7953"
            ],
            [
             0.7777777777777778,
             "#fb9f3a"
            ],
            [
             0.8888888888888888,
             "#fdca26"
            ],
            [
             1,
             "#f0f921"
            ]
           ],
           "sequentialminus": [
            [
             0,
             "#0d0887"
            ],
            [
             0.1111111111111111,
             "#46039f"
            ],
            [
             0.2222222222222222,
             "#7201a8"
            ],
            [
             0.3333333333333333,
             "#9c179e"
            ],
            [
             0.4444444444444444,
             "#bd3786"
            ],
            [
             0.5555555555555556,
             "#d8576b"
            ],
            [
             0.6666666666666666,
             "#ed7953"
            ],
            [
             0.7777777777777778,
             "#fb9f3a"
            ],
            [
             0.8888888888888888,
             "#fdca26"
            ],
            [
             1,
             "#f0f921"
            ]
           ]
          },
          "colorway": [
           "#636efa",
           "#EF553B",
           "#00cc96",
           "#ab63fa",
           "#FFA15A",
           "#19d3f3",
           "#FF6692",
           "#B6E880",
           "#FF97FF",
           "#FECB52"
          ],
          "font": {
           "color": "#2a3f5f"
          },
          "geo": {
           "bgcolor": "white",
           "lakecolor": "white",
           "landcolor": "#E5ECF6",
           "showlakes": true,
           "showland": true,
           "subunitcolor": "white"
          },
          "hoverlabel": {
           "align": "left"
          },
          "hovermode": "closest",
          "mapbox": {
           "style": "light"
          },
          "paper_bgcolor": "white",
          "plot_bgcolor": "#E5ECF6",
          "polar": {
           "angularaxis": {
            "gridcolor": "white",
            "linecolor": "white",
            "ticks": ""
           },
           "bgcolor": "#E5ECF6",
           "radialaxis": {
            "gridcolor": "white",
            "linecolor": "white",
            "ticks": ""
           }
          },
          "scene": {
           "xaxis": {
            "backgroundcolor": "#E5ECF6",
            "gridcolor": "white",
            "gridwidth": 2,
            "linecolor": "white",
            "showbackground": true,
            "ticks": "",
            "zerolinecolor": "white"
           },
           "yaxis": {
            "backgroundcolor": "#E5ECF6",
            "gridcolor": "white",
            "gridwidth": 2,
            "linecolor": "white",
            "showbackground": true,
            "ticks": "",
            "zerolinecolor": "white"
           },
           "zaxis": {
            "backgroundcolor": "#E5ECF6",
            "gridcolor": "white",
            "gridwidth": 2,
            "linecolor": "white",
            "showbackground": true,
            "ticks": "",
            "zerolinecolor": "white"
           }
          },
          "shapedefaults": {
           "line": {
            "color": "#2a3f5f"
           }
          },
          "ternary": {
           "aaxis": {
            "gridcolor": "white",
            "linecolor": "white",
            "ticks": ""
           },
           "baxis": {
            "gridcolor": "white",
            "linecolor": "white",
            "ticks": ""
           },
           "bgcolor": "#E5ECF6",
           "caxis": {
            "gridcolor": "white",
            "linecolor": "white",
            "ticks": ""
           }
          },
          "title": {
           "x": 0.05
          },
          "xaxis": {
           "automargin": true,
           "gridcolor": "white",
           "linecolor": "white",
           "ticks": "",
           "title": {
            "standoff": 15
           },
           "zerolinecolor": "white",
           "zerolinewidth": 2
          },
          "yaxis": {
           "automargin": true,
           "gridcolor": "white",
           "linecolor": "white",
           "ticks": "",
           "title": {
            "standoff": 15
           },
           "zerolinecolor": "white",
           "zerolinewidth": 2
          }
         }
        },
        "title": {
         "text": "Supermarket Sales DB"
        },
        "xaxis": {
         "title": {
          "text": "Branch"
         }
        },
        "yaxis": {
         "title": {
          "text": "Gross income"
         }
        }
       },
       "_py2js_addTraces": {},
       "_py2js_animate": {},
       "_py2js_deleteTraces": {},
       "_py2js_moveTraces": {},
       "_py2js_removeLayoutProps": {},
       "_py2js_removeTraceProps": {},
       "_py2js_restyle": {},
       "_view_count": 0
      }
     },
     "1f84125cda474105bee29a77f10f714e": {
      "model_module": "@jupyter-widgets/base",
      "model_module_version": "1.2.0",
      "model_name": "LayoutModel",
      "state": {}
     },
     "229eeaa44d3f49119f9a10497159541c": {
      "model_module": "@jupyter-widgets/base",
      "model_module_version": "1.2.0",
      "model_name": "LayoutModel",
      "state": {}
     },
     "22f770b9b23541ce85c350d8ef31f459": {
      "model_module": "@jupyter-widgets/controls",
      "model_module_version": "1.5.0",
      "model_name": "IntSliderModel",
      "state": {
       "continuous_update": false,
       "description": "Month:",
       "layout": "IPY_MODEL_1f84125cda474105bee29a77f10f714e",
       "max": 6,
       "min": 1,
       "style": "IPY_MODEL_5281c669251a492cb790f6ffe017f8ff",
       "value": 3
      }
     },
     "232a2ad00c0a41bbb554c434b2c9385f": {
      "model_module": "@jupyter-widgets/base",
      "model_module_version": "1.2.0",
      "model_name": "LayoutModel",
      "state": {}
     },
     "24c945c955a5452986927e94751066e2": {
      "model_module": "@jupyter-widgets/controls",
      "model_module_version": "1.5.0",
      "model_name": "DescriptionStyleModel",
      "state": {
       "description_width": ""
      }
     },
     "274024eb69664d58858d4f7cb5e242e9": {
      "model_module": "plotlywidget",
      "model_module_version": "^4.9.0",
      "model_name": "FigureModel",
      "state": {
       "_config": {
        "plotlyServerURL": "https://plot.ly"
       },
       "_data": [
        {
         "opacity": 0.75,
         "type": "histogram",
         "uid": "f399706d-cc5d-4620-889b-d5156954a047",
         "x": [
          "B",
          "B",
          "C",
          "C",
          "C",
          "C",
          "C",
          "C",
          "C",
          "B",
          "B",
          "C",
          "A",
          "A",
          "C",
          "B",
          "B",
          "A",
          "C",
          "A",
          "C",
          "B",
          "B",
          "C",
          "C",
          "C",
          "A",
          "A",
          "C",
          "C",
          "B",
          "C",
          "B",
          "B",
          "B",
          "C",
          "C",
          "A",
          "A",
          "B",
          "B",
          "B",
          "A",
          "B",
          "B",
          "B",
          "C",
          "A",
          "B",
          "B",
          "B",
          "B",
          "B",
          "A",
          "A",
          "B",
          "A",
          "C",
          "C",
          "A",
          "C",
          "A",
          "B",
          "A",
          "B",
          "C",
          "A",
          "A",
          "A",
          "A",
          "A",
          "A",
          "C",
          "C",
          "C",
          "A",
          "C",
          "B",
          "C",
          "C",
          "B",
          "B"
         ]
        }
       ],
       "_js2py_restyle": {},
       "_js2py_update": {},
       "_last_layout_edit_id": 9,
       "_last_trace_edit_id": 8,
       "_layout": {
        "autosize": true,
        "barmode": "group",
        "template": {
         "data": {
          "bar": [
           {
            "error_x": {
             "color": "#2a3f5f"
            },
            "error_y": {
             "color": "#2a3f5f"
            },
            "marker": {
             "line": {
              "color": "#E5ECF6",
              "width": 0.5
             }
            },
            "type": "bar"
           }
          ],
          "barpolar": [
           {
            "marker": {
             "line": {
              "color": "#E5ECF6",
              "width": 0.5
             }
            },
            "type": "barpolar"
           }
          ],
          "carpet": [
           {
            "aaxis": {
             "endlinecolor": "#2a3f5f",
             "gridcolor": "white",
             "linecolor": "white",
             "minorgridcolor": "white",
             "startlinecolor": "#2a3f5f"
            },
            "baxis": {
             "endlinecolor": "#2a3f5f",
             "gridcolor": "white",
             "linecolor": "white",
             "minorgridcolor": "white",
             "startlinecolor": "#2a3f5f"
            },
            "type": "carpet"
           }
          ],
          "choropleth": [
           {
            "colorbar": {
             "outlinewidth": 0,
             "ticks": ""
            },
            "type": "choropleth"
           }
          ],
          "contour": [
           {
            "colorbar": {
             "outlinewidth": 0,
             "ticks": ""
            },
            "colorscale": [
             [
              0,
              "#0d0887"
             ],
             [
              0.1111111111111111,
              "#46039f"
             ],
             [
              0.2222222222222222,
              "#7201a8"
             ],
             [
              0.3333333333333333,
              "#9c179e"
             ],
             [
              0.4444444444444444,
              "#bd3786"
             ],
             [
              0.5555555555555556,
              "#d8576b"
             ],
             [
              0.6666666666666666,
              "#ed7953"
             ],
             [
              0.7777777777777778,
              "#fb9f3a"
             ],
             [
              0.8888888888888888,
              "#fdca26"
             ],
             [
              1,
              "#f0f921"
             ]
            ],
            "type": "contour"
           }
          ],
          "contourcarpet": [
           {
            "colorbar": {
             "outlinewidth": 0,
             "ticks": ""
            },
            "type": "contourcarpet"
           }
          ],
          "heatmap": [
           {
            "colorbar": {
             "outlinewidth": 0,
             "ticks": ""
            },
            "colorscale": [
             [
              0,
              "#0d0887"
             ],
             [
              0.1111111111111111,
              "#46039f"
             ],
             [
              0.2222222222222222,
              "#7201a8"
             ],
             [
              0.3333333333333333,
              "#9c179e"
             ],
             [
              0.4444444444444444,
              "#bd3786"
             ],
             [
              0.5555555555555556,
              "#d8576b"
             ],
             [
              0.6666666666666666,
              "#ed7953"
             ],
             [
              0.7777777777777778,
              "#fb9f3a"
             ],
             [
              0.8888888888888888,
              "#fdca26"
             ],
             [
              1,
              "#f0f921"
             ]
            ],
            "type": "heatmap"
           }
          ],
          "heatmapgl": [
           {
            "colorbar": {
             "outlinewidth": 0,
             "ticks": ""
            },
            "colorscale": [
             [
              0,
              "#0d0887"
             ],
             [
              0.1111111111111111,
              "#46039f"
             ],
             [
              0.2222222222222222,
              "#7201a8"
             ],
             [
              0.3333333333333333,
              "#9c179e"
             ],
             [
              0.4444444444444444,
              "#bd3786"
             ],
             [
              0.5555555555555556,
              "#d8576b"
             ],
             [
              0.6666666666666666,
              "#ed7953"
             ],
             [
              0.7777777777777778,
              "#fb9f3a"
             ],
             [
              0.8888888888888888,
              "#fdca26"
             ],
             [
              1,
              "#f0f921"
             ]
            ],
            "type": "heatmapgl"
           }
          ],
          "histogram": [
           {
            "marker": {
             "colorbar": {
              "outlinewidth": 0,
              "ticks": ""
             }
            },
            "type": "histogram"
           }
          ],
          "histogram2d": [
           {
            "colorbar": {
             "outlinewidth": 0,
             "ticks": ""
            },
            "colorscale": [
             [
              0,
              "#0d0887"
             ],
             [
              0.1111111111111111,
              "#46039f"
             ],
             [
              0.2222222222222222,
              "#7201a8"
             ],
             [
              0.3333333333333333,
              "#9c179e"
             ],
             [
              0.4444444444444444,
              "#bd3786"
             ],
             [
              0.5555555555555556,
              "#d8576b"
             ],
             [
              0.6666666666666666,
              "#ed7953"
             ],
             [
              0.7777777777777778,
              "#fb9f3a"
             ],
             [
              0.8888888888888888,
              "#fdca26"
             ],
             [
              1,
              "#f0f921"
             ]
            ],
            "type": "histogram2d"
           }
          ],
          "histogram2dcontour": [
           {
            "colorbar": {
             "outlinewidth": 0,
             "ticks": ""
            },
            "colorscale": [
             [
              0,
              "#0d0887"
             ],
             [
              0.1111111111111111,
              "#46039f"
             ],
             [
              0.2222222222222222,
              "#7201a8"
             ],
             [
              0.3333333333333333,
              "#9c179e"
             ],
             [
              0.4444444444444444,
              "#bd3786"
             ],
             [
              0.5555555555555556,
              "#d8576b"
             ],
             [
              0.6666666666666666,
              "#ed7953"
             ],
             [
              0.7777777777777778,
              "#fb9f3a"
             ],
             [
              0.8888888888888888,
              "#fdca26"
             ],
             [
              1,
              "#f0f921"
             ]
            ],
            "type": "histogram2dcontour"
           }
          ],
          "mesh3d": [
           {
            "colorbar": {
             "outlinewidth": 0,
             "ticks": ""
            },
            "type": "mesh3d"
           }
          ],
          "parcoords": [
           {
            "line": {
             "colorbar": {
              "outlinewidth": 0,
              "ticks": ""
             }
            },
            "type": "parcoords"
           }
          ],
          "pie": [
           {
            "automargin": true,
            "type": "pie"
           }
          ],
          "scatter": [
           {
            "marker": {
             "colorbar": {
              "outlinewidth": 0,
              "ticks": ""
             }
            },
            "type": "scatter"
           }
          ],
          "scatter3d": [
           {
            "line": {
             "colorbar": {
              "outlinewidth": 0,
              "ticks": ""
             }
            },
            "marker": {
             "colorbar": {
              "outlinewidth": 0,
              "ticks": ""
             }
            },
            "type": "scatter3d"
           }
          ],
          "scattercarpet": [
           {
            "marker": {
             "colorbar": {
              "outlinewidth": 0,
              "ticks": ""
             }
            },
            "type": "scattercarpet"
           }
          ],
          "scattergeo": [
           {
            "marker": {
             "colorbar": {
              "outlinewidth": 0,
              "ticks": ""
             }
            },
            "type": "scattergeo"
           }
          ],
          "scattergl": [
           {
            "marker": {
             "colorbar": {
              "outlinewidth": 0,
              "ticks": ""
             }
            },
            "type": "scattergl"
           }
          ],
          "scattermapbox": [
           {
            "marker": {
             "colorbar": {
              "outlinewidth": 0,
              "ticks": ""
             }
            },
            "type": "scattermapbox"
           }
          ],
          "scatterpolar": [
           {
            "marker": {
             "colorbar": {
              "outlinewidth": 0,
              "ticks": ""
             }
            },
            "type": "scatterpolar"
           }
          ],
          "scatterpolargl": [
           {
            "marker": {
             "colorbar": {
              "outlinewidth": 0,
              "ticks": ""
             }
            },
            "type": "scatterpolargl"
           }
          ],
          "scatterternary": [
           {
            "marker": {
             "colorbar": {
              "outlinewidth": 0,
              "ticks": ""
             }
            },
            "type": "scatterternary"
           }
          ],
          "surface": [
           {
            "colorbar": {
             "outlinewidth": 0,
             "ticks": ""
            },
            "colorscale": [
             [
              0,
              "#0d0887"
             ],
             [
              0.1111111111111111,
              "#46039f"
             ],
             [
              0.2222222222222222,
              "#7201a8"
             ],
             [
              0.3333333333333333,
              "#9c179e"
             ],
             [
              0.4444444444444444,
              "#bd3786"
             ],
             [
              0.5555555555555556,
              "#d8576b"
             ],
             [
              0.6666666666666666,
              "#ed7953"
             ],
             [
              0.7777777777777778,
              "#fb9f3a"
             ],
             [
              0.8888888888888888,
              "#fdca26"
             ],
             [
              1,
              "#f0f921"
             ]
            ],
            "type": "surface"
           }
          ],
          "table": [
           {
            "cells": {
             "fill": {
              "color": "#EBF0F8"
             },
             "line": {
              "color": "white"
             }
            },
            "header": {
             "fill": {
              "color": "#C8D4E3"
             },
             "line": {
              "color": "white"
             }
            },
            "type": "table"
           }
          ]
         },
         "layout": {
          "annotationdefaults": {
           "arrowcolor": "#2a3f5f",
           "arrowhead": 0,
           "arrowwidth": 1
          },
          "coloraxis": {
           "colorbar": {
            "outlinewidth": 0,
            "ticks": ""
           }
          },
          "colorscale": {
           "diverging": [
            [
             0,
             "#8e0152"
            ],
            [
             0.1,
             "#c51b7d"
            ],
            [
             0.2,
             "#de77ae"
            ],
            [
             0.3,
             "#f1b6da"
            ],
            [
             0.4,
             "#fde0ef"
            ],
            [
             0.5,
             "#f7f7f7"
            ],
            [
             0.6,
             "#e6f5d0"
            ],
            [
             0.7,
             "#b8e186"
            ],
            [
             0.8,
             "#7fbc41"
            ],
            [
             0.9,
             "#4d9221"
            ],
            [
             1,
             "#276419"
            ]
           ],
           "sequential": [
            [
             0,
             "#0d0887"
            ],
            [
             0.1111111111111111,
             "#46039f"
            ],
            [
             0.2222222222222222,
             "#7201a8"
            ],
            [
             0.3333333333333333,
             "#9c179e"
            ],
            [
             0.4444444444444444,
             "#bd3786"
            ],
            [
             0.5555555555555556,
             "#d8576b"
            ],
            [
             0.6666666666666666,
             "#ed7953"
            ],
            [
             0.7777777777777778,
             "#fb9f3a"
            ],
            [
             0.8888888888888888,
             "#fdca26"
            ],
            [
             1,
             "#f0f921"
            ]
           ],
           "sequentialminus": [
            [
             0,
             "#0d0887"
            ],
            [
             0.1111111111111111,
             "#46039f"
            ],
            [
             0.2222222222222222,
             "#7201a8"
            ],
            [
             0.3333333333333333,
             "#9c179e"
            ],
            [
             0.4444444444444444,
             "#bd3786"
            ],
            [
             0.5555555555555556,
             "#d8576b"
            ],
            [
             0.6666666666666666,
             "#ed7953"
            ],
            [
             0.7777777777777778,
             "#fb9f3a"
            ],
            [
             0.8888888888888888,
             "#fdca26"
            ],
            [
             1,
             "#f0f921"
            ]
           ]
          },
          "colorway": [
           "#636efa",
           "#EF553B",
           "#00cc96",
           "#ab63fa",
           "#FFA15A",
           "#19d3f3",
           "#FF6692",
           "#B6E880",
           "#FF97FF",
           "#FECB52"
          ],
          "font": {
           "color": "#2a3f5f"
          },
          "geo": {
           "bgcolor": "white",
           "lakecolor": "white",
           "landcolor": "#E5ECF6",
           "showlakes": true,
           "showland": true,
           "subunitcolor": "white"
          },
          "hoverlabel": {
           "align": "left"
          },
          "hovermode": "closest",
          "mapbox": {
           "style": "light"
          },
          "paper_bgcolor": "white",
          "plot_bgcolor": "#E5ECF6",
          "polar": {
           "angularaxis": {
            "gridcolor": "white",
            "linecolor": "white",
            "ticks": ""
           },
           "bgcolor": "#E5ECF6",
           "radialaxis": {
            "gridcolor": "white",
            "linecolor": "white",
            "ticks": ""
           }
          },
          "scene": {
           "xaxis": {
            "backgroundcolor": "#E5ECF6",
            "gridcolor": "white",
            "gridwidth": 2,
            "linecolor": "white",
            "showbackground": true,
            "ticks": "",
            "zerolinecolor": "white"
           },
           "yaxis": {
            "backgroundcolor": "#E5ECF6",
            "gridcolor": "white",
            "gridwidth": 2,
            "linecolor": "white",
            "showbackground": true,
            "ticks": "",
            "zerolinecolor": "white"
           },
           "zaxis": {
            "backgroundcolor": "#E5ECF6",
            "gridcolor": "white",
            "gridwidth": 2,
            "linecolor": "white",
            "showbackground": true,
            "ticks": "",
            "zerolinecolor": "white"
           }
          },
          "shapedefaults": {
           "line": {
            "color": "#2a3f5f"
           }
          },
          "ternary": {
           "aaxis": {
            "gridcolor": "white",
            "linecolor": "white",
            "ticks": ""
           },
           "baxis": {
            "gridcolor": "white",
            "linecolor": "white",
            "ticks": ""
           },
           "bgcolor": "#E5ECF6",
           "caxis": {
            "gridcolor": "white",
            "linecolor": "white",
            "ticks": ""
           }
          },
          "title": {
           "x": 0.05
          },
          "xaxis": {
           "automargin": true,
           "gridcolor": "white",
           "linecolor": "white",
           "ticks": "",
           "title": {
            "standoff": 15
           },
           "zerolinecolor": "white",
           "zerolinewidth": 2
          },
          "yaxis": {
           "automargin": true,
           "gridcolor": "white",
           "linecolor": "white",
           "ticks": "",
           "title": {
            "standoff": 15
           },
           "zerolinecolor": "white",
           "zerolinewidth": 2
          }
         }
        },
        "title": {
         "text": "Supermarket Sales DB"
        },
        "xaxis": {
         "title": {
          "text": "Branch"
         }
        },
        "yaxis": {
         "title": {
          "text": "Gross income"
         }
        }
       },
       "_py2js_addTraces": {},
       "_py2js_animate": {},
       "_py2js_deleteTraces": {},
       "_py2js_moveTraces": {},
       "_py2js_removeLayoutProps": {},
       "_py2js_removeTraceProps": {},
       "_py2js_restyle": {},
       "_view_count": 0
      }
     },
     "29930ec92b364584872e1fe59d007134": {
      "model_module": "@jupyter-widgets/controls",
      "model_module_version": "1.5.0",
      "model_name": "HBoxModel",
      "state": {
       "children": [
        "IPY_MODEL_8a7c7982376344cdb0e3c825ea3c49af",
        "IPY_MODEL_56a5870f6b6b41d2bb38305bc701465c"
       ],
       "layout": "IPY_MODEL_3b4269539eb340639ac632144284d69d"
      }
     },
     "2ad87a6fc8b54f48af39f27ad0a4f1f2": {
      "model_module": "@jupyter-widgets/base",
      "model_module_version": "1.2.0",
      "model_name": "LayoutModel",
      "state": {}
     },
     "2c949213950842feb36a8de476474314": {
      "model_module": "@jupyter-widgets/base",
      "model_module_version": "1.2.0",
      "model_name": "LayoutModel",
      "state": {}
     },
     "2da80b0e42eb4c56b1dcdf33635705c1": {
      "model_module": "@jupyter-widgets/base",
      "model_module_version": "1.2.0",
      "model_name": "LayoutModel",
      "state": {}
     },
     "316d9360c8024b5a884fe79af51125cb": {
      "model_module": "@jupyter-widgets/controls",
      "model_module_version": "1.5.0",
      "model_name": "DescriptionStyleModel",
      "state": {
       "description_width": ""
      }
     },
     "3331981e1b784b21b8b5c081d805e958": {
      "model_module": "@jupyter-widgets/base",
      "model_module_version": "1.2.0",
      "model_name": "LayoutModel",
      "state": {}
     },
     "344f6bb45a71499f8a694816334211d4": {
      "model_module": "plotlywidget",
      "model_module_version": "^4.9.0",
      "model_name": "FigureModel",
      "state": {
       "_config": {
        "plotlyServerURL": "https://plot.ly"
       },
       "_data": [
        {
         "opacity": 0.75,
         "type": "histogram",
         "uid": "317c2f04-0de0-4594-bcb5-124278763aa0",
         "x": [
          "A",
          "A",
          "A",
          "A",
          "C",
          "C",
          "A",
          "C",
          "C",
          "B",
          "C",
          "C",
          "C",
          "C",
          "A",
          "B",
          "C",
          "B",
          "A",
          "A",
          "C",
          "C",
          "B",
          "B",
          "B",
          "A",
          "A",
          "A",
          "B",
          "B",
          "C",
          "B",
          "B",
          "B",
          "C",
          "B",
          "B",
          "A",
          "A",
          "B",
          "B",
          "C",
          "B",
          "C",
          "A",
          "C",
          "A",
          "C",
          "C",
          "C",
          "B",
          "A",
          "B",
          "A",
          "C",
          "C",
          "A",
          "C",
          "B",
          "A",
          "C",
          "A",
          "A",
          "B"
         ]
        }
       ],
       "_js2py_restyle": {},
       "_js2py_update": {},
       "_last_layout_edit_id": 12,
       "_last_trace_edit_id": 11,
       "_layout": {
        "autosize": true,
        "barmode": "overlay",
        "template": {
         "data": {
          "bar": [
           {
            "error_x": {
             "color": "#2a3f5f"
            },
            "error_y": {
             "color": "#2a3f5f"
            },
            "marker": {
             "line": {
              "color": "#E5ECF6",
              "width": 0.5
             }
            },
            "type": "bar"
           }
          ],
          "barpolar": [
           {
            "marker": {
             "line": {
              "color": "#E5ECF6",
              "width": 0.5
             }
            },
            "type": "barpolar"
           }
          ],
          "carpet": [
           {
            "aaxis": {
             "endlinecolor": "#2a3f5f",
             "gridcolor": "white",
             "linecolor": "white",
             "minorgridcolor": "white",
             "startlinecolor": "#2a3f5f"
            },
            "baxis": {
             "endlinecolor": "#2a3f5f",
             "gridcolor": "white",
             "linecolor": "white",
             "minorgridcolor": "white",
             "startlinecolor": "#2a3f5f"
            },
            "type": "carpet"
           }
          ],
          "choropleth": [
           {
            "colorbar": {
             "outlinewidth": 0,
             "ticks": ""
            },
            "type": "choropleth"
           }
          ],
          "contour": [
           {
            "colorbar": {
             "outlinewidth": 0,
             "ticks": ""
            },
            "colorscale": [
             [
              0,
              "#0d0887"
             ],
             [
              0.1111111111111111,
              "#46039f"
             ],
             [
              0.2222222222222222,
              "#7201a8"
             ],
             [
              0.3333333333333333,
              "#9c179e"
             ],
             [
              0.4444444444444444,
              "#bd3786"
             ],
             [
              0.5555555555555556,
              "#d8576b"
             ],
             [
              0.6666666666666666,
              "#ed7953"
             ],
             [
              0.7777777777777778,
              "#fb9f3a"
             ],
             [
              0.8888888888888888,
              "#fdca26"
             ],
             [
              1,
              "#f0f921"
             ]
            ],
            "type": "contour"
           }
          ],
          "contourcarpet": [
           {
            "colorbar": {
             "outlinewidth": 0,
             "ticks": ""
            },
            "type": "contourcarpet"
           }
          ],
          "heatmap": [
           {
            "colorbar": {
             "outlinewidth": 0,
             "ticks": ""
            },
            "colorscale": [
             [
              0,
              "#0d0887"
             ],
             [
              0.1111111111111111,
              "#46039f"
             ],
             [
              0.2222222222222222,
              "#7201a8"
             ],
             [
              0.3333333333333333,
              "#9c179e"
             ],
             [
              0.4444444444444444,
              "#bd3786"
             ],
             [
              0.5555555555555556,
              "#d8576b"
             ],
             [
              0.6666666666666666,
              "#ed7953"
             ],
             [
              0.7777777777777778,
              "#fb9f3a"
             ],
             [
              0.8888888888888888,
              "#fdca26"
             ],
             [
              1,
              "#f0f921"
             ]
            ],
            "type": "heatmap"
           }
          ],
          "heatmapgl": [
           {
            "colorbar": {
             "outlinewidth": 0,
             "ticks": ""
            },
            "colorscale": [
             [
              0,
              "#0d0887"
             ],
             [
              0.1111111111111111,
              "#46039f"
             ],
             [
              0.2222222222222222,
              "#7201a8"
             ],
             [
              0.3333333333333333,
              "#9c179e"
             ],
             [
              0.4444444444444444,
              "#bd3786"
             ],
             [
              0.5555555555555556,
              "#d8576b"
             ],
             [
              0.6666666666666666,
              "#ed7953"
             ],
             [
              0.7777777777777778,
              "#fb9f3a"
             ],
             [
              0.8888888888888888,
              "#fdca26"
             ],
             [
              1,
              "#f0f921"
             ]
            ],
            "type": "heatmapgl"
           }
          ],
          "histogram": [
           {
            "marker": {
             "colorbar": {
              "outlinewidth": 0,
              "ticks": ""
             }
            },
            "type": "histogram"
           }
          ],
          "histogram2d": [
           {
            "colorbar": {
             "outlinewidth": 0,
             "ticks": ""
            },
            "colorscale": [
             [
              0,
              "#0d0887"
             ],
             [
              0.1111111111111111,
              "#46039f"
             ],
             [
              0.2222222222222222,
              "#7201a8"
             ],
             [
              0.3333333333333333,
              "#9c179e"
             ],
             [
              0.4444444444444444,
              "#bd3786"
             ],
             [
              0.5555555555555556,
              "#d8576b"
             ],
             [
              0.6666666666666666,
              "#ed7953"
             ],
             [
              0.7777777777777778,
              "#fb9f3a"
             ],
             [
              0.8888888888888888,
              "#fdca26"
             ],
             [
              1,
              "#f0f921"
             ]
            ],
            "type": "histogram2d"
           }
          ],
          "histogram2dcontour": [
           {
            "colorbar": {
             "outlinewidth": 0,
             "ticks": ""
            },
            "colorscale": [
             [
              0,
              "#0d0887"
             ],
             [
              0.1111111111111111,
              "#46039f"
             ],
             [
              0.2222222222222222,
              "#7201a8"
             ],
             [
              0.3333333333333333,
              "#9c179e"
             ],
             [
              0.4444444444444444,
              "#bd3786"
             ],
             [
              0.5555555555555556,
              "#d8576b"
             ],
             [
              0.6666666666666666,
              "#ed7953"
             ],
             [
              0.7777777777777778,
              "#fb9f3a"
             ],
             [
              0.8888888888888888,
              "#fdca26"
             ],
             [
              1,
              "#f0f921"
             ]
            ],
            "type": "histogram2dcontour"
           }
          ],
          "mesh3d": [
           {
            "colorbar": {
             "outlinewidth": 0,
             "ticks": ""
            },
            "type": "mesh3d"
           }
          ],
          "parcoords": [
           {
            "line": {
             "colorbar": {
              "outlinewidth": 0,
              "ticks": ""
             }
            },
            "type": "parcoords"
           }
          ],
          "pie": [
           {
            "automargin": true,
            "type": "pie"
           }
          ],
          "scatter": [
           {
            "marker": {
             "colorbar": {
              "outlinewidth": 0,
              "ticks": ""
             }
            },
            "type": "scatter"
           }
          ],
          "scatter3d": [
           {
            "line": {
             "colorbar": {
              "outlinewidth": 0,
              "ticks": ""
             }
            },
            "marker": {
             "colorbar": {
              "outlinewidth": 0,
              "ticks": ""
             }
            },
            "type": "scatter3d"
           }
          ],
          "scattercarpet": [
           {
            "marker": {
             "colorbar": {
              "outlinewidth": 0,
              "ticks": ""
             }
            },
            "type": "scattercarpet"
           }
          ],
          "scattergeo": [
           {
            "marker": {
             "colorbar": {
              "outlinewidth": 0,
              "ticks": ""
             }
            },
            "type": "scattergeo"
           }
          ],
          "scattergl": [
           {
            "marker": {
             "colorbar": {
              "outlinewidth": 0,
              "ticks": ""
             }
            },
            "type": "scattergl"
           }
          ],
          "scattermapbox": [
           {
            "marker": {
             "colorbar": {
              "outlinewidth": 0,
              "ticks": ""
             }
            },
            "type": "scattermapbox"
           }
          ],
          "scatterpolar": [
           {
            "marker": {
             "colorbar": {
              "outlinewidth": 0,
              "ticks": ""
             }
            },
            "type": "scatterpolar"
           }
          ],
          "scatterpolargl": [
           {
            "marker": {
             "colorbar": {
              "outlinewidth": 0,
              "ticks": ""
             }
            },
            "type": "scatterpolargl"
           }
          ],
          "scatterternary": [
           {
            "marker": {
             "colorbar": {
              "outlinewidth": 0,
              "ticks": ""
             }
            },
            "type": "scatterternary"
           }
          ],
          "surface": [
           {
            "colorbar": {
             "outlinewidth": 0,
             "ticks": ""
            },
            "colorscale": [
             [
              0,
              "#0d0887"
             ],
             [
              0.1111111111111111,
              "#46039f"
             ],
             [
              0.2222222222222222,
              "#7201a8"
             ],
             [
              0.3333333333333333,
              "#9c179e"
             ],
             [
              0.4444444444444444,
              "#bd3786"
             ],
             [
              0.5555555555555556,
              "#d8576b"
             ],
             [
              0.6666666666666666,
              "#ed7953"
             ],
             [
              0.7777777777777778,
              "#fb9f3a"
             ],
             [
              0.8888888888888888,
              "#fdca26"
             ],
             [
              1,
              "#f0f921"
             ]
            ],
            "type": "surface"
           }
          ],
          "table": [
           {
            "cells": {
             "fill": {
              "color": "#EBF0F8"
             },
             "line": {
              "color": "white"
             }
            },
            "header": {
             "fill": {
              "color": "#C8D4E3"
             },
             "line": {
              "color": "white"
             }
            },
            "type": "table"
           }
          ]
         },
         "layout": {
          "annotationdefaults": {
           "arrowcolor": "#2a3f5f",
           "arrowhead": 0,
           "arrowwidth": 1
          },
          "coloraxis": {
           "colorbar": {
            "outlinewidth": 0,
            "ticks": ""
           }
          },
          "colorscale": {
           "diverging": [
            [
             0,
             "#8e0152"
            ],
            [
             0.1,
             "#c51b7d"
            ],
            [
             0.2,
             "#de77ae"
            ],
            [
             0.3,
             "#f1b6da"
            ],
            [
             0.4,
             "#fde0ef"
            ],
            [
             0.5,
             "#f7f7f7"
            ],
            [
             0.6,
             "#e6f5d0"
            ],
            [
             0.7,
             "#b8e186"
            ],
            [
             0.8,
             "#7fbc41"
            ],
            [
             0.9,
             "#4d9221"
            ],
            [
             1,
             "#276419"
            ]
           ],
           "sequential": [
            [
             0,
             "#0d0887"
            ],
            [
             0.1111111111111111,
             "#46039f"
            ],
            [
             0.2222222222222222,
             "#7201a8"
            ],
            [
             0.3333333333333333,
             "#9c179e"
            ],
            [
             0.4444444444444444,
             "#bd3786"
            ],
            [
             0.5555555555555556,
             "#d8576b"
            ],
            [
             0.6666666666666666,
             "#ed7953"
            ],
            [
             0.7777777777777778,
             "#fb9f3a"
            ],
            [
             0.8888888888888888,
             "#fdca26"
            ],
            [
             1,
             "#f0f921"
            ]
           ],
           "sequentialminus": [
            [
             0,
             "#0d0887"
            ],
            [
             0.1111111111111111,
             "#46039f"
            ],
            [
             0.2222222222222222,
             "#7201a8"
            ],
            [
             0.3333333333333333,
             "#9c179e"
            ],
            [
             0.4444444444444444,
             "#bd3786"
            ],
            [
             0.5555555555555556,
             "#d8576b"
            ],
            [
             0.6666666666666666,
             "#ed7953"
            ],
            [
             0.7777777777777778,
             "#fb9f3a"
            ],
            [
             0.8888888888888888,
             "#fdca26"
            ],
            [
             1,
             "#f0f921"
            ]
           ]
          },
          "colorway": [
           "#636efa",
           "#EF553B",
           "#00cc96",
           "#ab63fa",
           "#FFA15A",
           "#19d3f3",
           "#FF6692",
           "#B6E880",
           "#FF97FF",
           "#FECB52"
          ],
          "font": {
           "color": "#2a3f5f"
          },
          "geo": {
           "bgcolor": "white",
           "lakecolor": "white",
           "landcolor": "#E5ECF6",
           "showlakes": true,
           "showland": true,
           "subunitcolor": "white"
          },
          "hoverlabel": {
           "align": "left"
          },
          "hovermode": "closest",
          "mapbox": {
           "style": "light"
          },
          "paper_bgcolor": "white",
          "plot_bgcolor": "#E5ECF6",
          "polar": {
           "angularaxis": {
            "gridcolor": "white",
            "linecolor": "white",
            "ticks": ""
           },
           "bgcolor": "#E5ECF6",
           "radialaxis": {
            "gridcolor": "white",
            "linecolor": "white",
            "ticks": ""
           }
          },
          "scene": {
           "xaxis": {
            "backgroundcolor": "#E5ECF6",
            "gridcolor": "white",
            "gridwidth": 2,
            "linecolor": "white",
            "showbackground": true,
            "ticks": "",
            "zerolinecolor": "white"
           },
           "yaxis": {
            "backgroundcolor": "#E5ECF6",
            "gridcolor": "white",
            "gridwidth": 2,
            "linecolor": "white",
            "showbackground": true,
            "ticks": "",
            "zerolinecolor": "white"
           },
           "zaxis": {
            "backgroundcolor": "#E5ECF6",
            "gridcolor": "white",
            "gridwidth": 2,
            "linecolor": "white",
            "showbackground": true,
            "ticks": "",
            "zerolinecolor": "white"
           }
          },
          "shapedefaults": {
           "line": {
            "color": "#2a3f5f"
           }
          },
          "ternary": {
           "aaxis": {
            "gridcolor": "white",
            "linecolor": "white",
            "ticks": ""
           },
           "baxis": {
            "gridcolor": "white",
            "linecolor": "white",
            "ticks": ""
           },
           "bgcolor": "#E5ECF6",
           "caxis": {
            "gridcolor": "white",
            "linecolor": "white",
            "ticks": ""
           }
          },
          "title": {
           "x": 0.05
          },
          "xaxis": {
           "automargin": true,
           "gridcolor": "white",
           "linecolor": "white",
           "ticks": "",
           "title": {
            "standoff": 15
           },
           "zerolinecolor": "white",
           "zerolinewidth": 2
          },
          "yaxis": {
           "automargin": true,
           "gridcolor": "white",
           "linecolor": "white",
           "ticks": "",
           "title": {
            "standoff": 15
           },
           "zerolinecolor": "white",
           "zerolinewidth": 2
          }
         }
        },
        "title": {
         "text": "Supermarket Sales DB"
        },
        "xaxis": {
         "title": {
          "text": "Branch"
         }
        },
        "yaxis": {
         "title": {
          "text": "Gross income"
         }
        }
       },
       "_py2js_addTraces": {},
       "_py2js_animate": {},
       "_py2js_deleteTraces": {},
       "_py2js_moveTraces": {},
       "_py2js_removeLayoutProps": {},
       "_py2js_removeTraceProps": {},
       "_py2js_restyle": {},
       "_view_count": 0
      }
     },
     "34df275519004c9dabaf14ea04163fcf": {
      "model_module": "@jupyter-widgets/controls",
      "model_module_version": "1.5.0",
      "model_name": "DescriptionStyleModel",
      "state": {
       "description_width": ""
      }
     },
     "3684e67702104c859b92cddd7adac288": {
      "model_module": "@jupyter-widgets/controls",
      "model_module_version": "1.5.0",
      "model_name": "SliderStyleModel",
      "state": {
       "description_width": ""
      }
     },
     "36ef68d5745c4aa0bd41f05dd38e3ee2": {
      "model_module": "@jupyter-widgets/controls",
      "model_module_version": "1.5.0",
      "model_name": "CheckboxModel",
      "state": {
       "description": "Date: ",
       "disabled": false,
       "layout": "IPY_MODEL_e90eb4bfd60f402c84c412fca9eae076",
       "style": "IPY_MODEL_582c70a008fe42c59d5e82cdb1d45806",
       "value": true
      }
     },
     "3819872bc86148689e8cd3bb73eb4bae": {
      "model_module": "@jupyter-widgets/controls",
      "model_module_version": "1.5.0",
      "model_name": "DescriptionStyleModel",
      "state": {
       "description_width": ""
      }
     },
     "3a4bea31ed244f758c86814d0ed1c61b": {
      "model_module": "@jupyter-widgets/controls",
      "model_module_version": "1.5.0",
      "model_name": "HBoxModel",
      "state": {
       "children": [
        "IPY_MODEL_67698c09e93345b6b0437b95c5dbb4a2",
        "IPY_MODEL_5798b7a3befe4568a6b37a54f682c5e4"
       ],
       "layout": "IPY_MODEL_95f0744fb91144f5a7da0e08e143fc30"
      }
     },
     "3ac552b7465d42cd94922d4458447354": {
      "model_module": "@jupyter-widgets/controls",
      "model_module_version": "1.5.0",
      "model_name": "IntSliderModel",
      "state": {
       "continuous_update": false,
       "description": "Month:",
       "layout": "IPY_MODEL_118f05a3af3d45da8a9331898ae99546",
       "max": 6,
       "min": 1,
       "style": "IPY_MODEL_5e34bb06cf2f4b1bb1bf6c2d12e8793b",
       "value": 1
      }
     },
     "3b4269539eb340639ac632144284d69d": {
      "model_module": "@jupyter-widgets/base",
      "model_module_version": "1.2.0",
      "model_name": "LayoutModel",
      "state": {}
     },
     "3bd464d699344846b6558fed2677bb3f": {
      "model_module": "@jupyter-widgets/controls",
      "model_module_version": "1.5.0",
      "model_name": "IntSliderModel",
      "state": {
       "description": "Month:",
       "layout": "IPY_MODEL_baab8f3a6efd496698cf4a665f3d458f",
       "max": 3,
       "min": 1,
       "style": "IPY_MODEL_9a5f8f3f9b5b4783bc27299e423a4b33",
       "value": 3
      }
     },
     "3e01426bc92d4e648a7ba6bfbb46fe38": {
      "model_module": "plotlywidget",
      "model_module_version": "^4.9.0",
      "model_name": "FigureModel",
      "state": {
       "_config": {
        "plotlyServerURL": "https://plot.ly"
       },
       "_data": [
        {
         "opacity": 0.75,
         "type": "histogram",
         "uid": "78c647cf-508f-4e5a-a265-9c7f21668ce1",
         "x": [
          "A",
          "B",
          "A",
          "A",
          "C",
          "B",
          "A",
          "B",
          "A",
          "B",
          "C",
          "B",
          "B",
          "C",
          "C",
          "A",
          "B",
          "B",
          "A",
          "C",
          "C",
          "C",
          "C",
          "B",
          "B",
          "A",
          "C",
          "A",
          "A",
          "B",
          "B",
          "B",
          "C",
          "A",
          "B",
          "A",
          "B",
          "A",
          "A",
          "B",
          "A",
          "B",
          "B",
          "C",
          "A",
          "C",
          "B",
          "A",
          "A",
          "C",
          "B",
          "B",
          "B",
          "A",
          "C",
          "C",
          "C",
          "A",
          "B",
          "B",
          "A",
          "C",
          "C",
          "A",
          "C",
          "C",
          "C",
          "C",
          "B",
          "B",
          "B",
          "B",
          "A",
          "C",
          "B",
          "C",
          "B",
          "C",
          "C",
          "C",
          "A",
          "A",
          "B",
          "A",
          "C",
          "B",
          "B",
          "C"
         ]
        }
       ],
       "_js2py_layoutDelta": {
        "layout_delta": {
         "activeshape": {
          "fillcolor": "rgb(255,0,255)",
          "opacity": 0.5
         },
         "annotations": [],
         "bargap": 0.2,
         "bargroupgap": 0,
         "barnorm": "",
         "calendar": "gregorian",
         "clickmode": "event",
         "colorscale": {
          "diverging": [
           [
            0,
            "#8e0152"
           ],
           [
            0.1,
            "#c51b7d"
           ],
           [
            0.2,
            "#de77ae"
           ],
           [
            0.3,
            "#f1b6da"
           ],
           [
            0.4,
            "#fde0ef"
           ],
           [
            0.5,
            "#f7f7f7"
           ],
           [
            0.6,
            "#e6f5d0"
           ],
           [
            0.7,
            "#b8e186"
           ],
           [
            0.8,
            "#7fbc41"
           ],
           [
            0.9,
            "#4d9221"
           ],
           [
            1,
            "#276419"
           ]
          ],
          "sequential": [
           [
            0,
            "#0d0887"
           ],
           [
            0.1111111111111111,
            "#46039f"
           ],
           [
            0.2222222222222222,
            "#7201a8"
           ],
           [
            0.3333333333333333,
            "#9c179e"
           ],
           [
            0.4444444444444444,
            "#bd3786"
           ],
           [
            0.5555555555555556,
            "#d8576b"
           ],
           [
            0.6666666666666666,
            "#ed7953"
           ],
           [
            0.7777777777777778,
            "#fb9f3a"
           ],
           [
            0.8888888888888888,
            "#fdca26"
           ],
           [
            1,
            "#f0f921"
           ]
          ],
          "sequentialminus": [
           [
            0,
            "#0d0887"
           ],
           [
            0.1111111111111111,
            "#46039f"
           ],
           [
            0.2222222222222222,
            "#7201a8"
           ],
           [
            0.3333333333333333,
            "#9c179e"
           ],
           [
            0.4444444444444444,
            "#bd3786"
           ],
           [
            0.5555555555555556,
            "#d8576b"
           ],
           [
            0.6666666666666666,
            "#ed7953"
           ],
           [
            0.7777777777777778,
            "#fb9f3a"
           ],
           [
            0.8888888888888888,
            "#fdca26"
           ],
           [
            1,
            "#f0f921"
           ]
          ]
         },
         "colorway": [
          "#636efa",
          "#EF553B",
          "#00cc96",
          "#ab63fa",
          "#FFA15A",
          "#19d3f3",
          "#FF6692",
          "#B6E880",
          "#FF97FF",
          "#FECB52"
         ],
         "dragmode": "zoom",
         "font": {
          "color": "#2a3f5f",
          "family": "\"Open Sans\", verdana, arial, sans-serif",
          "size": 12
         },
         "height": 450,
         "hidesources": false,
         "hoverdistance": 20,
         "hoverlabel": {
          "align": "left",
          "font": {
           "family": "Arial, sans-serif",
           "size": 13
          },
          "namelength": 15
         },
         "hovermode": "closest",
         "images": [],
         "margin": {
          "autoexpand": true,
          "b": 80,
          "l": 80,
          "pad": 0,
          "r": 80,
          "t": 100
         },
         "modebar": {
          "activecolor": "rgba(68, 68, 68, 0.7)",
          "bgcolor": "rgba(255, 255, 255, 0.5)",
          "color": "rgba(68, 68, 68, 0.3)",
          "orientation": "h"
         },
         "newshape": {
          "drawdirection": "diagonal",
          "fillcolor": "rgba(0,0,0,0)",
          "fillrule": "evenodd",
          "layer": "above",
          "line": {
           "color": "#444",
           "dash": "solid",
           "width": 4
          },
          "opacity": 1
         },
         "paper_bgcolor": "white",
         "plot_bgcolor": "#E5ECF6",
         "separators": ".,",
         "shapes": [],
         "showlegend": false,
         "sliders": [],
         "spikedistance": 20,
         "title": {
          "font": {
           "color": "#2a3f5f",
           "family": "\"Open Sans\", verdana, arial, sans-serif",
           "size": 17
          },
          "pad": {
           "b": 0,
           "l": 0,
           "r": 0,
           "t": 0
          },
          "x": 0.05,
          "xanchor": "auto",
          "xref": "container",
          "y": "auto",
          "yanchor": "auto",
          "yref": "container"
         },
         "uniformtext": {
          "mode": false
         },
         "updatemenus": [],
         "width": 582.844,
         "xaxis": {
          "anchor": "y",
          "automargin": true,
          "autorange": true,
          "categoryorder": "trace",
          "color": "#444",
          "constrain": "range",
          "constraintoward": "center",
          "domain": [
           0,
           1
          ],
          "dtick": 1,
          "fixedrange": false,
          "gridcolor": "white",
          "gridwidth": 1,
          "layer": "above traces",
          "linecolor": "white",
          "linewidth": 1,
          "mirror": false,
          "nticks": 0,
          "range": [
           -0.5,
           2.5
          ],
          "showgrid": true,
          "showline": true,
          "showspikes": false,
          "showticklabels": true,
          "side": "bottom",
          "tick0": 0,
          "tickangle": "auto",
          "tickfont": {
           "color": "#2a3f5f",
           "family": "\"Open Sans\", verdana, arial, sans-serif",
           "size": 12
          },
          "tickmode": "auto",
          "tickprefix": "",
          "ticks": "",
          "tickson": "labels",
          "ticksuffix": "",
          "title": {
           "font": {
            "color": "#2a3f5f",
            "family": "\"Open Sans\", verdana, arial, sans-serif",
            "size": 14
           },
           "standoff": 15
          },
          "type": "category",
          "visible": true,
          "zeroline": true,
          "zerolinecolor": "white",
          "zerolinewidth": 2
         },
         "yaxis": {
          "anchor": "x",
          "automargin": true,
          "autorange": true,
          "color": "#444",
          "constrain": "range",
          "constraintoward": "middle",
          "domain": [
           0,
           1
          ],
          "dtick": 5,
          "exponentformat": "B",
          "fixedrange": false,
          "gridcolor": "white",
          "gridwidth": 1,
          "hoverformat": "",
          "layer": "above traces",
          "linecolor": "white",
          "linewidth": 1,
          "mirror": false,
          "nticks": 0,
          "range": [
           0,
           34.73684210526316
          ],
          "rangemode": "normal",
          "separatethousands": false,
          "showexponent": "all",
          "showgrid": true,
          "showline": true,
          "showspikes": false,
          "showticklabels": true,
          "side": "left",
          "tick0": 0,
          "tickangle": "auto",
          "tickfont": {
           "color": "#2a3f5f",
           "family": "\"Open Sans\", verdana, arial, sans-serif",
           "size": 12
          },
          "tickformat": "",
          "tickmode": "auto",
          "tickprefix": "",
          "ticks": "",
          "ticksuffix": "",
          "title": {
           "font": {
            "color": "#2a3f5f",
            "family": "\"Open Sans\", verdana, arial, sans-serif",
            "size": 14
           },
           "standoff": 15
          },
          "type": "linear",
          "visible": true,
          "zeroline": true,
          "zerolinecolor": "white",
          "zerolinewidth": 2
         }
        },
        "layout_edit_id": 3
       },
       "_js2py_pointsCallback": {},
       "_js2py_restyle": {},
       "_js2py_traceDeltas": {
        "trace_deltas": [
         {
          "alignmentgroup": "",
          "bingroup": "",
          "cumulative": {
           "enabled": false
          },
          "error_x": {
           "visible": false
          },
          "error_y": {
           "visible": false
          },
          "histnorm": "",
          "hoverinfo": "x+y+z+text",
          "hoverlabel": {
           "align": "left",
           "font": {
            "family": "Arial, sans-serif",
            "size": 13
           },
           "namelength": 15
          },
          "hovertemplate": "",
          "hovertext": "",
          "index": 0,
          "legendgroup": "",
          "marker": {
           "color": "#636efa",
           "line": {
            "color": "#444",
            "width": 0
           },
           "opacity": 1
          },
          "name": "trace 0",
          "nbinsx": 0,
          "offsetgroup": "",
          "orientation": "v",
          "selected": {
           "marker": {
            "opacity": 1
           }
          },
          "showlegend": true,
          "text": "",
          "uid": "78c647cf-508f-4e5a-a265-9c7f21668ce1",
          "unselected": {
           "marker": {
            "opacity": 0.2
           }
          },
          "visible": true,
          "xaxis": "x",
          "xbins": {
           "end": 2.5,
           "size": 1,
           "start": -0.5
          },
          "xcalendar": "gregorian",
          "yaxis": "y",
          "ycalendar": "gregorian"
         }
        ],
        "trace_edit_id": 2
       },
       "_js2py_update": {},
       "_last_layout_edit_id": 3,
       "_last_trace_edit_id": 2,
       "_layout": {
        "autosize": true,
        "barmode": "group",
        "template": {
         "data": {
          "bar": [
           {
            "error_x": {
             "color": "#2a3f5f"
            },
            "error_y": {
             "color": "#2a3f5f"
            },
            "marker": {
             "line": {
              "color": "#E5ECF6",
              "width": 0.5
             }
            },
            "type": "bar"
           }
          ],
          "barpolar": [
           {
            "marker": {
             "line": {
              "color": "#E5ECF6",
              "width": 0.5
             }
            },
            "type": "barpolar"
           }
          ],
          "carpet": [
           {
            "aaxis": {
             "endlinecolor": "#2a3f5f",
             "gridcolor": "white",
             "linecolor": "white",
             "minorgridcolor": "white",
             "startlinecolor": "#2a3f5f"
            },
            "baxis": {
             "endlinecolor": "#2a3f5f",
             "gridcolor": "white",
             "linecolor": "white",
             "minorgridcolor": "white",
             "startlinecolor": "#2a3f5f"
            },
            "type": "carpet"
           }
          ],
          "choropleth": [
           {
            "colorbar": {
             "outlinewidth": 0,
             "ticks": ""
            },
            "type": "choropleth"
           }
          ],
          "contour": [
           {
            "colorbar": {
             "outlinewidth": 0,
             "ticks": ""
            },
            "colorscale": [
             [
              0,
              "#0d0887"
             ],
             [
              0.1111111111111111,
              "#46039f"
             ],
             [
              0.2222222222222222,
              "#7201a8"
             ],
             [
              0.3333333333333333,
              "#9c179e"
             ],
             [
              0.4444444444444444,
              "#bd3786"
             ],
             [
              0.5555555555555556,
              "#d8576b"
             ],
             [
              0.6666666666666666,
              "#ed7953"
             ],
             [
              0.7777777777777778,
              "#fb9f3a"
             ],
             [
              0.8888888888888888,
              "#fdca26"
             ],
             [
              1,
              "#f0f921"
             ]
            ],
            "type": "contour"
           }
          ],
          "contourcarpet": [
           {
            "colorbar": {
             "outlinewidth": 0,
             "ticks": ""
            },
            "type": "contourcarpet"
           }
          ],
          "heatmap": [
           {
            "colorbar": {
             "outlinewidth": 0,
             "ticks": ""
            },
            "colorscale": [
             [
              0,
              "#0d0887"
             ],
             [
              0.1111111111111111,
              "#46039f"
             ],
             [
              0.2222222222222222,
              "#7201a8"
             ],
             [
              0.3333333333333333,
              "#9c179e"
             ],
             [
              0.4444444444444444,
              "#bd3786"
             ],
             [
              0.5555555555555556,
              "#d8576b"
             ],
             [
              0.6666666666666666,
              "#ed7953"
             ],
             [
              0.7777777777777778,
              "#fb9f3a"
             ],
             [
              0.8888888888888888,
              "#fdca26"
             ],
             [
              1,
              "#f0f921"
             ]
            ],
            "type": "heatmap"
           }
          ],
          "heatmapgl": [
           {
            "colorbar": {
             "outlinewidth": 0,
             "ticks": ""
            },
            "colorscale": [
             [
              0,
              "#0d0887"
             ],
             [
              0.1111111111111111,
              "#46039f"
             ],
             [
              0.2222222222222222,
              "#7201a8"
             ],
             [
              0.3333333333333333,
              "#9c179e"
             ],
             [
              0.4444444444444444,
              "#bd3786"
             ],
             [
              0.5555555555555556,
              "#d8576b"
             ],
             [
              0.6666666666666666,
              "#ed7953"
             ],
             [
              0.7777777777777778,
              "#fb9f3a"
             ],
             [
              0.8888888888888888,
              "#fdca26"
             ],
             [
              1,
              "#f0f921"
             ]
            ],
            "type": "heatmapgl"
           }
          ],
          "histogram": [
           {
            "marker": {
             "colorbar": {
              "outlinewidth": 0,
              "ticks": ""
             }
            },
            "type": "histogram"
           }
          ],
          "histogram2d": [
           {
            "colorbar": {
             "outlinewidth": 0,
             "ticks": ""
            },
            "colorscale": [
             [
              0,
              "#0d0887"
             ],
             [
              0.1111111111111111,
              "#46039f"
             ],
             [
              0.2222222222222222,
              "#7201a8"
             ],
             [
              0.3333333333333333,
              "#9c179e"
             ],
             [
              0.4444444444444444,
              "#bd3786"
             ],
             [
              0.5555555555555556,
              "#d8576b"
             ],
             [
              0.6666666666666666,
              "#ed7953"
             ],
             [
              0.7777777777777778,
              "#fb9f3a"
             ],
             [
              0.8888888888888888,
              "#fdca26"
             ],
             [
              1,
              "#f0f921"
             ]
            ],
            "type": "histogram2d"
           }
          ],
          "histogram2dcontour": [
           {
            "colorbar": {
             "outlinewidth": 0,
             "ticks": ""
            },
            "colorscale": [
             [
              0,
              "#0d0887"
             ],
             [
              0.1111111111111111,
              "#46039f"
             ],
             [
              0.2222222222222222,
              "#7201a8"
             ],
             [
              0.3333333333333333,
              "#9c179e"
             ],
             [
              0.4444444444444444,
              "#bd3786"
             ],
             [
              0.5555555555555556,
              "#d8576b"
             ],
             [
              0.6666666666666666,
              "#ed7953"
             ],
             [
              0.7777777777777778,
              "#fb9f3a"
             ],
             [
              0.8888888888888888,
              "#fdca26"
             ],
             [
              1,
              "#f0f921"
             ]
            ],
            "type": "histogram2dcontour"
           }
          ],
          "mesh3d": [
           {
            "colorbar": {
             "outlinewidth": 0,
             "ticks": ""
            },
            "type": "mesh3d"
           }
          ],
          "parcoords": [
           {
            "line": {
             "colorbar": {
              "outlinewidth": 0,
              "ticks": ""
             }
            },
            "type": "parcoords"
           }
          ],
          "pie": [
           {
            "automargin": true,
            "type": "pie"
           }
          ],
          "scatter": [
           {
            "marker": {
             "colorbar": {
              "outlinewidth": 0,
              "ticks": ""
             }
            },
            "type": "scatter"
           }
          ],
          "scatter3d": [
           {
            "line": {
             "colorbar": {
              "outlinewidth": 0,
              "ticks": ""
             }
            },
            "marker": {
             "colorbar": {
              "outlinewidth": 0,
              "ticks": ""
             }
            },
            "type": "scatter3d"
           }
          ],
          "scattercarpet": [
           {
            "marker": {
             "colorbar": {
              "outlinewidth": 0,
              "ticks": ""
             }
            },
            "type": "scattercarpet"
           }
          ],
          "scattergeo": [
           {
            "marker": {
             "colorbar": {
              "outlinewidth": 0,
              "ticks": ""
             }
            },
            "type": "scattergeo"
           }
          ],
          "scattergl": [
           {
            "marker": {
             "colorbar": {
              "outlinewidth": 0,
              "ticks": ""
             }
            },
            "type": "scattergl"
           }
          ],
          "scattermapbox": [
           {
            "marker": {
             "colorbar": {
              "outlinewidth": 0,
              "ticks": ""
             }
            },
            "type": "scattermapbox"
           }
          ],
          "scatterpolar": [
           {
            "marker": {
             "colorbar": {
              "outlinewidth": 0,
              "ticks": ""
             }
            },
            "type": "scatterpolar"
           }
          ],
          "scatterpolargl": [
           {
            "marker": {
             "colorbar": {
              "outlinewidth": 0,
              "ticks": ""
             }
            },
            "type": "scatterpolargl"
           }
          ],
          "scatterternary": [
           {
            "marker": {
             "colorbar": {
              "outlinewidth": 0,
              "ticks": ""
             }
            },
            "type": "scatterternary"
           }
          ],
          "surface": [
           {
            "colorbar": {
             "outlinewidth": 0,
             "ticks": ""
            },
            "colorscale": [
             [
              0,
              "#0d0887"
             ],
             [
              0.1111111111111111,
              "#46039f"
             ],
             [
              0.2222222222222222,
              "#7201a8"
             ],
             [
              0.3333333333333333,
              "#9c179e"
             ],
             [
              0.4444444444444444,
              "#bd3786"
             ],
             [
              0.5555555555555556,
              "#d8576b"
             ],
             [
              0.6666666666666666,
              "#ed7953"
             ],
             [
              0.7777777777777778,
              "#fb9f3a"
             ],
             [
              0.8888888888888888,
              "#fdca26"
             ],
             [
              1,
              "#f0f921"
             ]
            ],
            "type": "surface"
           }
          ],
          "table": [
           {
            "cells": {
             "fill": {
              "color": "#EBF0F8"
             },
             "line": {
              "color": "white"
             }
            },
            "header": {
             "fill": {
              "color": "#C8D4E3"
             },
             "line": {
              "color": "white"
             }
            },
            "type": "table"
           }
          ]
         },
         "layout": {
          "annotationdefaults": {
           "arrowcolor": "#2a3f5f",
           "arrowhead": 0,
           "arrowwidth": 1
          },
          "coloraxis": {
           "colorbar": {
            "outlinewidth": 0,
            "ticks": ""
           }
          },
          "colorscale": {
           "diverging": [
            [
             0,
             "#8e0152"
            ],
            [
             0.1,
             "#c51b7d"
            ],
            [
             0.2,
             "#de77ae"
            ],
            [
             0.3,
             "#f1b6da"
            ],
            [
             0.4,
             "#fde0ef"
            ],
            [
             0.5,
             "#f7f7f7"
            ],
            [
             0.6,
             "#e6f5d0"
            ],
            [
             0.7,
             "#b8e186"
            ],
            [
             0.8,
             "#7fbc41"
            ],
            [
             0.9,
             "#4d9221"
            ],
            [
             1,
             "#276419"
            ]
           ],
           "sequential": [
            [
             0,
             "#0d0887"
            ],
            [
             0.1111111111111111,
             "#46039f"
            ],
            [
             0.2222222222222222,
             "#7201a8"
            ],
            [
             0.3333333333333333,
             "#9c179e"
            ],
            [
             0.4444444444444444,
             "#bd3786"
            ],
            [
             0.5555555555555556,
             "#d8576b"
            ],
            [
             0.6666666666666666,
             "#ed7953"
            ],
            [
             0.7777777777777778,
             "#fb9f3a"
            ],
            [
             0.8888888888888888,
             "#fdca26"
            ],
            [
             1,
             "#f0f921"
            ]
           ],
           "sequentialminus": [
            [
             0,
             "#0d0887"
            ],
            [
             0.1111111111111111,
             "#46039f"
            ],
            [
             0.2222222222222222,
             "#7201a8"
            ],
            [
             0.3333333333333333,
             "#9c179e"
            ],
            [
             0.4444444444444444,
             "#bd3786"
            ],
            [
             0.5555555555555556,
             "#d8576b"
            ],
            [
             0.6666666666666666,
             "#ed7953"
            ],
            [
             0.7777777777777778,
             "#fb9f3a"
            ],
            [
             0.8888888888888888,
             "#fdca26"
            ],
            [
             1,
             "#f0f921"
            ]
           ]
          },
          "colorway": [
           "#636efa",
           "#EF553B",
           "#00cc96",
           "#ab63fa",
           "#FFA15A",
           "#19d3f3",
           "#FF6692",
           "#B6E880",
           "#FF97FF",
           "#FECB52"
          ],
          "font": {
           "color": "#2a3f5f"
          },
          "geo": {
           "bgcolor": "white",
           "lakecolor": "white",
           "landcolor": "#E5ECF6",
           "showlakes": true,
           "showland": true,
           "subunitcolor": "white"
          },
          "hoverlabel": {
           "align": "left"
          },
          "hovermode": "closest",
          "mapbox": {
           "style": "light"
          },
          "paper_bgcolor": "white",
          "plot_bgcolor": "#E5ECF6",
          "polar": {
           "angularaxis": {
            "gridcolor": "white",
            "linecolor": "white",
            "ticks": ""
           },
           "bgcolor": "#E5ECF6",
           "radialaxis": {
            "gridcolor": "white",
            "linecolor": "white",
            "ticks": ""
           }
          },
          "scene": {
           "xaxis": {
            "backgroundcolor": "#E5ECF6",
            "gridcolor": "white",
            "gridwidth": 2,
            "linecolor": "white",
            "showbackground": true,
            "ticks": "",
            "zerolinecolor": "white"
           },
           "yaxis": {
            "backgroundcolor": "#E5ECF6",
            "gridcolor": "white",
            "gridwidth": 2,
            "linecolor": "white",
            "showbackground": true,
            "ticks": "",
            "zerolinecolor": "white"
           },
           "zaxis": {
            "backgroundcolor": "#E5ECF6",
            "gridcolor": "white",
            "gridwidth": 2,
            "linecolor": "white",
            "showbackground": true,
            "ticks": "",
            "zerolinecolor": "white"
           }
          },
          "shapedefaults": {
           "line": {
            "color": "#2a3f5f"
           }
          },
          "ternary": {
           "aaxis": {
            "gridcolor": "white",
            "linecolor": "white",
            "ticks": ""
           },
           "baxis": {
            "gridcolor": "white",
            "linecolor": "white",
            "ticks": ""
           },
           "bgcolor": "#E5ECF6",
           "caxis": {
            "gridcolor": "white",
            "linecolor": "white",
            "ticks": ""
           }
          },
          "title": {
           "x": 0.05
          },
          "xaxis": {
           "automargin": true,
           "gridcolor": "white",
           "linecolor": "white",
           "ticks": "",
           "title": {
            "standoff": 15
           },
           "zerolinecolor": "white",
           "zerolinewidth": 2
          },
          "yaxis": {
           "automargin": true,
           "gridcolor": "white",
           "linecolor": "white",
           "ticks": "",
           "title": {
            "standoff": 15
           },
           "zerolinecolor": "white",
           "zerolinewidth": 2
          }
         }
        },
        "title": {
         "text": "Supermarket Sales DB"
        },
        "xaxis": {
         "title": {
          "text": "Branch"
         }
        },
        "yaxis": {
         "title": {
          "text": "Gross income"
         }
        }
       },
       "_py2js_addTraces": {},
       "_py2js_animate": {},
       "_py2js_deleteTraces": {},
       "_py2js_moveTraces": {},
       "_py2js_removeLayoutProps": {},
       "_py2js_removeTraceProps": {},
       "_py2js_restyle": {},
       "_view_count": 0
      }
     },
     "3e5b909cef2343df9ef68f67253c5041": {
      "model_module": "@jupyter-widgets/controls",
      "model_module_version": "1.5.0",
      "model_name": "CheckboxModel",
      "state": {
       "description": "Date: ",
       "disabled": false,
       "layout": "IPY_MODEL_d8b289d23fbc48b4b779086df8c2acaf",
       "style": "IPY_MODEL_acc78164648e46feacea72eeea6f304c",
       "value": false
      }
     },
     "3ec9d84d6bf6451090f457d8372f07d1": {
      "model_module": "@jupyter-widgets/base",
      "model_module_version": "1.2.0",
      "model_name": "LayoutModel",
      "state": {}
     },
     "3f48f38d149b4a449603575d43753c04": {
      "model_module": "@jupyter-widgets/base",
      "model_module_version": "1.2.0",
      "model_name": "LayoutModel",
      "state": {}
     },
     "3fcb4f27f5e345bcb69492190a92d5d7": {
      "model_module": "@jupyter-widgets/controls",
      "model_module_version": "1.5.0",
      "model_name": "HBoxModel",
      "state": {
       "children": [
        "IPY_MODEL_4f8c86ccc8064d6fb7551bca4275f329",
        "IPY_MODEL_0f81bdd8f621477db0926eea96def22a"
       ],
       "layout": "IPY_MODEL_a281791649b3479580057f17c52d1a4a"
      }
     },
     "47faa95f40dd4477a238275cf87cad4c": {
      "model_module": "@jupyter-widgets/controls",
      "model_module_version": "1.5.0",
      "model_name": "HBoxModel",
      "state": {
       "children": [
        "IPY_MODEL_15d0f9c47df74e85885bcf95d000e53e",
        "IPY_MODEL_61dfe8ba695d4409b922e39ffc8b3d25"
       ],
       "layout": "IPY_MODEL_84264d9952e2495c87d2f634e299be31"
      }
     },
     "4888a52364654175bb7a8a44f211a110": {
      "model_module": "@jupyter-widgets/controls",
      "model_module_version": "1.5.0",
      "model_name": "SliderStyleModel",
      "state": {
       "description_width": ""
      }
     },
     "49b8e37c493d4673bc312ecfa7f569d7": {
      "model_module": "@jupyter-widgets/base",
      "model_module_version": "1.2.0",
      "model_name": "LayoutModel",
      "state": {}
     },
     "49d992766c9748a185ca55ded70d69b0": {
      "model_module": "@jupyter-widgets/base",
      "model_module_version": "1.2.0",
      "model_name": "LayoutModel",
      "state": {}
     },
     "4aafef8364d2466596cd45df6266399f": {
      "model_module": "@jupyter-widgets/base",
      "model_module_version": "1.2.0",
      "model_name": "LayoutModel",
      "state": {}
     },
     "4adc471ba5e94153b5141e44fe76cb14": {
      "model_module": "@jupyter-widgets/base",
      "model_module_version": "1.2.0",
      "model_name": "LayoutModel",
      "state": {}
     },
     "4cd5cdc789b54c039aa42542e28c5ebd": {
      "model_module": "@jupyter-widgets/controls",
      "model_module_version": "1.5.0",
      "model_name": "DescriptionStyleModel",
      "state": {
       "description_width": ""
      }
     },
     "4e79d26f2ac342e1b666fdc5ae06270c": {
      "model_module": "@jupyter-widgets/base",
      "model_module_version": "1.2.0",
      "model_name": "LayoutModel",
      "state": {}
     },
     "4f8c86ccc8064d6fb7551bca4275f329": {
      "model_module": "@jupyter-widgets/controls",
      "model_module_version": "1.5.0",
      "model_name": "DropdownModel",
      "state": {
       "_options_labels": [
        "Health and beauty",
        "Electronic accessories",
        "Home and lifestyle",
        "Sports and travel",
        "Food and beverages",
        "Fashion accessories"
       ],
       "description": "Product Line:",
       "index": 4,
       "layout": "IPY_MODEL_bd76c8b9769f4d37b14b95a573c5f236",
       "style": "IPY_MODEL_512814f5bc54451b97409d039aa52fb3"
      }
     },
     "4fe588927e624defa203161bc2af9de1": {
      "model_module": "@jupyter-widgets/controls",
      "model_module_version": "1.5.0",
      "model_name": "DescriptionStyleModel",
      "state": {
       "description_width": ""
      }
     },
     "5066040b0150437dba3886f72d5a533d": {
      "model_module": "@jupyter-widgets/base",
      "model_module_version": "1.2.0",
      "model_name": "LayoutModel",
      "state": {}
     },
     "512814f5bc54451b97409d039aa52fb3": {
      "model_module": "@jupyter-widgets/controls",
      "model_module_version": "1.5.0",
      "model_name": "DescriptionStyleModel",
      "state": {
       "description_width": ""
      }
     },
     "5281c669251a492cb790f6ffe017f8ff": {
      "model_module": "@jupyter-widgets/controls",
      "model_module_version": "1.5.0",
      "model_name": "SliderStyleModel",
      "state": {
       "description_width": ""
      }
     },
     "53f749468148404aa08e6320c0c7fb2b": {
      "model_module": "@jupyter-widgets/controls",
      "model_module_version": "1.5.0",
      "model_name": "VBoxModel",
      "state": {
       "children": [
        "IPY_MODEL_f92231f4bada45fb994115caaf3bdbb0",
        "IPY_MODEL_c2d70a5c828a46a69a0acb8ded3b838c",
        "IPY_MODEL_3e01426bc92d4e648a7ba6bfbb46fe38"
       ],
       "layout": "IPY_MODEL_bf7523c6fb1142f481d5d75c5a67197b"
      }
     },
     "5485428c4a8941c49e1f9d0b7de130be": {
      "model_module": "@jupyter-widgets/controls",
      "model_module_version": "1.5.0",
      "model_name": "CheckboxModel",
      "state": {
       "description": "Date: ",
       "disabled": false,
       "layout": "IPY_MODEL_c1f7a6c6045a4d6cace3af2661ce1cac",
       "style": "IPY_MODEL_1a588edd76cd478896cb9987b6347f61",
       "value": false
      }
     },
     "56a5870f6b6b41d2bb38305bc701465c": {
      "model_module": "@jupyter-widgets/controls",
      "model_module_version": "1.5.0",
      "model_name": "IntSliderModel",
      "state": {
       "continuous_update": false,
       "description": "Month:",
       "layout": "IPY_MODEL_916d61849863471f9a64fb0faa2d14af",
       "max": 3,
       "min": 1,
       "style": "IPY_MODEL_3684e67702104c859b92cddd7adac288",
       "value": 1
      }
     },
     "56ba908003da4fcc8752b96a8ac97051": {
      "model_module": "@jupyter-widgets/controls",
      "model_module_version": "1.5.0",
      "model_name": "HBoxModel",
      "state": {
       "children": [
        "IPY_MODEL_cf5c195413b841109122ed6e29eb3147",
        "IPY_MODEL_a0bcd043544c47ce995f73e73e3982c1"
       ],
       "layout": "IPY_MODEL_73266b87cd94413fab71bfdec8bd1cc2"
      }
     },
     "5798b7a3befe4568a6b37a54f682c5e4": {
      "model_module": "@jupyter-widgets/controls",
      "model_module_version": "1.5.0",
      "model_name": "DropdownModel",
      "state": {
       "_options_labels": [
        "Female",
        "Male"
       ],
       "description": "Gender:  ",
       "index": 1,
       "layout": "IPY_MODEL_ed5aa284f5a749289ad12ba9c103e20d",
       "style": "IPY_MODEL_24c945c955a5452986927e94751066e2"
      }
     },
     "582c70a008fe42c59d5e82cdb1d45806": {
      "model_module": "@jupyter-widgets/controls",
      "model_module_version": "1.5.0",
      "model_name": "DescriptionStyleModel",
      "state": {
       "description_width": ""
      }
     },
     "58ad3126a799493281d566bc0b502c50": {
      "model_module": "@jupyter-widgets/controls",
      "model_module_version": "1.5.0",
      "model_name": "HBoxModel",
      "state": {
       "children": [
        "IPY_MODEL_6ba9725198b04edc9e741d6ffae09b03",
        "IPY_MODEL_0297d2f335994f5a8b5f23926ad42e5a"
       ],
       "layout": "IPY_MODEL_3331981e1b784b21b8b5c081d805e958"
      }
     },
     "5dbf08833c004227a247459203bce24d": {
      "model_module": "@jupyter-widgets/controls",
      "model_module_version": "1.5.0",
      "model_name": "DescriptionStyleModel",
      "state": {
       "description_width": ""
      }
     },
     "5e34bb06cf2f4b1bb1bf6c2d12e8793b": {
      "model_module": "@jupyter-widgets/controls",
      "model_module_version": "1.5.0",
      "model_name": "SliderStyleModel",
      "state": {
       "description_width": ""
      }
     },
     "5ff6fd698c5c4ed6b148756634ca8801": {
      "model_module": "@jupyter-widgets/controls",
      "model_module_version": "1.5.0",
      "model_name": "HBoxModel",
      "state": {
       "children": [
        "IPY_MODEL_b2a92b98170a49f1a61def76821216c8",
        "IPY_MODEL_9582ec2e220c40b7919dc3b519611063"
       ],
       "layout": "IPY_MODEL_72cdb6f88920422ebf1673b9dd042a0b"
      }
     },
     "6024a68e34f240fb9fbdb73b10ccc93d": {
      "model_module": "@jupyter-widgets/controls",
      "model_module_version": "1.5.0",
      "model_name": "HBoxModel",
      "state": {
       "children": [
        "IPY_MODEL_79a8a94f7a604af68757843e199e832e",
        "IPY_MODEL_7d330f112e4b47c0aa21fcc2574429ab"
       ],
       "layout": "IPY_MODEL_b296cc92fdf3463b8f829ca1e4f80d4c"
      }
     },
     "61843afe998e4584a47678ab1b03eb02": {
      "model_module": "@jupyter-widgets/base",
      "model_module_version": "1.2.0",
      "model_name": "LayoutModel",
      "state": {}
     },
     "61dfe8ba695d4409b922e39ffc8b3d25": {
      "model_module": "@jupyter-widgets/controls",
      "model_module_version": "1.5.0",
      "model_name": "DropdownModel",
      "state": {
       "_options_labels": [
        "Female",
        "Male"
       ],
       "description": "Gender:  ",
       "index": 1,
       "layout": "IPY_MODEL_e68eac918c6c46c9842700fe56347d4b",
       "style": "IPY_MODEL_86fc78f965ce44f0afeabd7a682455c4"
      }
     },
     "64b6ebf41c9242ddb104e2a584ae5d72": {
      "model_module": "@jupyter-widgets/controls",
      "model_module_version": "1.5.0",
      "model_name": "CheckboxModel",
      "state": {
       "description": "Date: ",
       "disabled": false,
       "layout": "IPY_MODEL_efc7d17670d948be978c778e7682509f",
       "style": "IPY_MODEL_c836db533be140349a47175bc8d112e6",
       "value": false
      }
     },
     "65376b52064d412298684259155f4233": {
      "model_module": "@jupyter-widgets/controls",
      "model_module_version": "1.5.0",
      "model_name": "CheckboxModel",
      "state": {
       "description": "Date: ",
       "disabled": false,
       "layout": "IPY_MODEL_8787311bbfdb400c81eb0138562f16c6",
       "style": "IPY_MODEL_b38751f9b8234c69811dbf77271112ee",
       "value": true
      }
     },
     "67698c09e93345b6b0437b95c5dbb4a2": {
      "model_module": "@jupyter-widgets/controls",
      "model_module_version": "1.5.0",
      "model_name": "DropdownModel",
      "state": {
       "_options_labels": [
        "Health and beauty",
        "Electronic accessories",
        "Home and lifestyle",
        "Sports and travel",
        "Food and beverages",
        "Fashion accessories"
       ],
       "description": "Product Line:",
       "index": 0,
       "layout": "IPY_MODEL_fac8f9a7519a459e9bac9a0799b2b404",
       "style": "IPY_MODEL_6b6018a46c3147f48fec0cf53a7c5151"
      }
     },
     "69cd39f1dc8f49028c599c71df460c7a": {
      "model_module": "@jupyter-widgets/base",
      "model_module_version": "1.2.0",
      "model_name": "LayoutModel",
      "state": {}
     },
     "6b6018a46c3147f48fec0cf53a7c5151": {
      "model_module": "@jupyter-widgets/controls",
      "model_module_version": "1.5.0",
      "model_name": "DescriptionStyleModel",
      "state": {
       "description_width": ""
      }
     },
     "6b9e7a55a02d44a9aaf22cb861543028": {
      "model_module": "@jupyter-widgets/controls",
      "model_module_version": "1.5.0",
      "model_name": "VBoxModel",
      "state": {
       "children": [
        "IPY_MODEL_5ff6fd698c5c4ed6b148756634ca8801",
        "IPY_MODEL_f91dc4aea3274ae6ab91b9ecf6ba27a9",
        "IPY_MODEL_8f645e1df429418cbbd03ff8b1ea1c29"
       ],
       "layout": "IPY_MODEL_2ad87a6fc8b54f48af39f27ad0a4f1f2"
      }
     },
     "6ba9725198b04edc9e741d6ffae09b03": {
      "model_module": "@jupyter-widgets/controls",
      "model_module_version": "1.5.0",
      "model_name": "DropdownModel",
      "state": {
       "_options_labels": [
        "Health and beauty",
        "Electronic accessories",
        "Home and lifestyle",
        "Sports and travel",
        "Food and beverages",
        "Fashion accessories"
       ],
       "description": "Product Line:",
       "index": 0,
       "layout": "IPY_MODEL_e041bca585584915b91d827cf6109764",
       "style": "IPY_MODEL_34df275519004c9dabaf14ea04163fcf"
      }
     },
     "6ceeb225fc93410babda6e59419aef01": {
      "model_module": "@jupyter-widgets/controls",
      "model_module_version": "1.5.0",
      "model_name": "DropdownModel",
      "state": {
       "_options_labels": [
        "Female",
        "Male"
       ],
       "description": "Gender:  ",
       "index": 1,
       "layout": "IPY_MODEL_f1e3cfb3de1343969ca0d11f82747b8a",
       "style": "IPY_MODEL_9130f4bdb9a940e7848373ffa6a1e5d3"
      }
     },
     "6ec4964594fe4fb2aa75bca33ba2d86a": {
      "model_module": "@jupyter-widgets/base",
      "model_module_version": "1.2.0",
      "model_name": "LayoutModel",
      "state": {}
     },
     "6ef47bb7775f47cabf7a32ba2db43ccd": {
      "model_module": "@jupyter-widgets/base",
      "model_module_version": "1.2.0",
      "model_name": "LayoutModel",
      "state": {}
     },
     "7111df7524f84565bb630317c8daee4e": {
      "model_module": "@jupyter-widgets/base",
      "model_module_version": "1.2.0",
      "model_name": "LayoutModel",
      "state": {}
     },
     "72cdb6f88920422ebf1673b9dd042a0b": {
      "model_module": "@jupyter-widgets/base",
      "model_module_version": "1.2.0",
      "model_name": "LayoutModel",
      "state": {}
     },
     "73266b87cd94413fab71bfdec8bd1cc2": {
      "model_module": "@jupyter-widgets/base",
      "model_module_version": "1.2.0",
      "model_name": "LayoutModel",
      "state": {}
     },
     "74ad1e41cea5470dbb63869a993ed6b0": {
      "model_module": "@jupyter-widgets/base",
      "model_module_version": "1.2.0",
      "model_name": "LayoutModel",
      "state": {}
     },
     "76da72a8a71c424d97e0003ad919c0b0": {
      "model_module": "@jupyter-widgets/base",
      "model_module_version": "1.2.0",
      "model_name": "LayoutModel",
      "state": {}
     },
     "77cb19e5b0204766a0bc8457e4187e25": {
      "model_module": "@jupyter-widgets/controls",
      "model_module_version": "1.5.0",
      "model_name": "DropdownModel",
      "state": {
       "_options_labels": [
        "Female",
        "Male"
       ],
       "description": "Gender:  ",
       "index": 1,
       "layout": "IPY_MODEL_0699634e5e8c4bd799d3b0e05bb51060",
       "style": "IPY_MODEL_0bcc7c0443b646c2be707a8471ced59d"
      }
     },
     "7808f43aa4d041e1aec9887163ac32b8": {
      "model_module": "@jupyter-widgets/base",
      "model_module_version": "1.2.0",
      "model_name": "LayoutModel",
      "state": {}
     },
     "796b9c6da5924b01ae97f60554281ba7": {
      "model_module": "@jupyter-widgets/controls",
      "model_module_version": "1.5.0",
      "model_name": "VBoxModel",
      "state": {
       "children": [
        "IPY_MODEL_1d5a2fd8681b419183c0bc6a7b4d4eb6",
        "IPY_MODEL_d5d77dcfa05042f48192bab0eb51fd58",
        "IPY_MODEL_274024eb69664d58858d4f7cb5e242e9"
       ],
       "layout": "IPY_MODEL_0a2a76e7ca0f40f493599b3d239d6349"
      }
     },
     "799a7c5655f9486ba426d01d4cf50022": {
      "model_module": "@jupyter-widgets/base",
      "model_module_version": "1.2.0",
      "model_name": "LayoutModel",
      "state": {}
     },
     "79a8a94f7a604af68757843e199e832e": {
      "model_module": "@jupyter-widgets/controls",
      "model_module_version": "1.5.0",
      "model_name": "CheckboxModel",
      "state": {
       "description": "Date: ",
       "disabled": false,
       "layout": "IPY_MODEL_229eeaa44d3f49119f9a10497159541c",
       "style": "IPY_MODEL_966064cdac21418bb2b93839b77024e0",
       "value": false
      }
     },
     "7a1c5bf842d84df0b5ac25ed749c1ce5": {
      "model_module": "@jupyter-widgets/base",
      "model_module_version": "1.2.0",
      "model_name": "LayoutModel",
      "state": {}
     },
     "7a6679d10d734315936b9f03b7e4e8ac": {
      "model_module": "@jupyter-widgets/controls",
      "model_module_version": "1.5.0",
      "model_name": "DescriptionStyleModel",
      "state": {
       "description_width": ""
      }
     },
     "7b4a0a79edb44b8e8524875d712d80ee": {
      "model_module": "@jupyter-widgets/base",
      "model_module_version": "1.2.0",
      "model_name": "LayoutModel",
      "state": {}
     },
     "7c6fcf1fdb7a4769a37783af1fb3700f": {
      "model_module": "@jupyter-widgets/controls",
      "model_module_version": "1.5.0",
      "model_name": "HBoxModel",
      "state": {
       "children": [
        "IPY_MODEL_cf0aad190d2b47629572ec179bb47589",
        "IPY_MODEL_b47253ca23f44882a86f7e4274de6de6"
       ],
       "layout": "IPY_MODEL_f78f5f7c83cc44268e6299f88d14b8b4"
      }
     },
     "7d330f112e4b47c0aa21fcc2574429ab": {
      "model_module": "@jupyter-widgets/controls",
      "model_module_version": "1.5.0",
      "model_name": "IntSliderModel",
      "state": {
       "continuous_update": false,
       "description": "Month:",
       "layout": "IPY_MODEL_efacead0e187419d86eb35d210bfe123",
       "max": 6,
       "min": 1,
       "style": "IPY_MODEL_a266cd2b72624e009298b4b6e5e91cf2",
       "value": 1
      }
     },
     "7d75007a884d4c32aad023f87c5d3bf8": {
      "model_module": "@jupyter-widgets/controls",
      "model_module_version": "1.5.0",
      "model_name": "HBoxModel",
      "state": {
       "children": [
        "IPY_MODEL_65376b52064d412298684259155f4233",
        "IPY_MODEL_109f816412444d419d94a31ba6e88651"
       ],
       "layout": "IPY_MODEL_c43f8f0fa4134246abf5e4e477a88182"
      }
     },
     "7de235458cf44ee1801ef016bf20d563": {
      "model_module": "@jupyter-widgets/controls",
      "model_module_version": "1.5.0",
      "model_name": "DescriptionStyleModel",
      "state": {
       "description_width": ""
      }
     },
     "80e36620e03743a0abaa1f879db71369": {
      "model_module": "@jupyter-widgets/controls",
      "model_module_version": "1.5.0",
      "model_name": "DropdownModel",
      "state": {
       "_options_labels": [
        "Female",
        "Male"
       ],
       "description": "Gender:  ",
       "index": 0,
       "layout": "IPY_MODEL_4adc471ba5e94153b5141e44fe76cb14",
       "style": "IPY_MODEL_bd8183faf8f8441fb967d93173602fa7"
      }
     },
     "82e2400a04b8406fa0b0f8fe534f1182": {
      "model_module": "@jupyter-widgets/controls",
      "model_module_version": "1.5.0",
      "model_name": "DescriptionStyleModel",
      "state": {
       "description_width": ""
      }
     },
     "8351399dd9174437ad3ab2029862e520": {
      "model_module": "@jupyter-widgets/controls",
      "model_module_version": "1.5.0",
      "model_name": "DropdownModel",
      "state": {
       "_options_labels": [
        "Health and beauty",
        "Electronic accessories",
        "Home and lifestyle",
        "Sports and travel",
        "Food and beverages",
        "Fashion accessories"
       ],
       "description": "Product Line:",
       "index": 3,
       "layout": "IPY_MODEL_d40aa5480b414c62a8231efc7b8e2b7a",
       "style": "IPY_MODEL_316d9360c8024b5a884fe79af51125cb"
      }
     },
     "837aa148427e42ce9d771c482f8b116a": {
      "model_module": "@jupyter-widgets/controls",
      "model_module_version": "1.5.0",
      "model_name": "DescriptionStyleModel",
      "state": {
       "description_width": ""
      }
     },
     "837cc26cbdee4316aeb2e26d62976609": {
      "model_module": "@jupyter-widgets/controls",
      "model_module_version": "1.5.0",
      "model_name": "DescriptionStyleModel",
      "state": {
       "description_width": ""
      }
     },
     "8380df99b05346748f8d172e080f7f94": {
      "model_module": "@jupyter-widgets/base",
      "model_module_version": "1.2.0",
      "model_name": "LayoutModel",
      "state": {}
     },
     "83d9c665386e4579991ee0eb3caed03f": {
      "model_module": "@jupyter-widgets/controls",
      "model_module_version": "1.5.0",
      "model_name": "SliderStyleModel",
      "state": {
       "description_width": ""
      }
     },
     "84264d9952e2495c87d2f634e299be31": {
      "model_module": "@jupyter-widgets/base",
      "model_module_version": "1.2.0",
      "model_name": "LayoutModel",
      "state": {}
     },
     "842f5f3fe3d2438ba3da8a49c10448a3": {
      "model_module": "@jupyter-widgets/controls",
      "model_module_version": "1.5.0",
      "model_name": "DropdownModel",
      "state": {
       "_options_labels": [
        "Female",
        "Male"
       ],
       "description": "Gender:  ",
       "index": 1,
       "layout": "IPY_MODEL_6ec4964594fe4fb2aa75bca33ba2d86a",
       "style": "IPY_MODEL_8f97a34914d34e499bf799dd53fe78f1"
      }
     },
     "848c0a253fec4281bbab165a8ba7ed91": {
      "model_module": "@jupyter-widgets/controls",
      "model_module_version": "1.5.0",
      "model_name": "DescriptionStyleModel",
      "state": {
       "description_width": ""
      }
     },
     "86bdd1828bf640aea8ed66327c13967f": {
      "model_module": "@jupyter-widgets/base",
      "model_module_version": "1.2.0",
      "model_name": "LayoutModel",
      "state": {}
     },
     "86fc78f965ce44f0afeabd7a682455c4": {
      "model_module": "@jupyter-widgets/controls",
      "model_module_version": "1.5.0",
      "model_name": "DescriptionStyleModel",
      "state": {
       "description_width": ""
      }
     },
     "8787311bbfdb400c81eb0138562f16c6": {
      "model_module": "@jupyter-widgets/base",
      "model_module_version": "1.2.0",
      "model_name": "LayoutModel",
      "state": {}
     },
     "8a7c7982376344cdb0e3c825ea3c49af": {
      "model_module": "@jupyter-widgets/controls",
      "model_module_version": "1.5.0",
      "model_name": "CheckboxModel",
      "state": {
       "description": "Date: ",
       "disabled": false,
       "layout": "IPY_MODEL_e214e7461c5048b888fecc126ba326d4",
       "style": "IPY_MODEL_b3ec596805ff4fc1b95396a49e29fda9",
       "value": true
      }
     },
     "8c1eff4b6ca841759bbbca0a1c10e2fe": {
      "model_module": "@jupyter-widgets/base",
      "model_module_version": "1.2.0",
      "model_name": "LayoutModel",
      "state": {}
     },
     "8d553a9ca215444eaa85d325402c41da": {
      "model_module": "@jupyter-widgets/base",
      "model_module_version": "1.2.0",
      "model_name": "LayoutModel",
      "state": {}
     },
     "8f645e1df429418cbbd03ff8b1ea1c29": {
      "model_module": "plotlywidget",
      "model_module_version": "^4.9.0",
      "model_name": "FigureModel",
      "state": {
       "_config": {
        "plotlyServerURL": "https://plot.ly"
       },
       "_data": [
        {
         "opacity": 0.75,
         "type": "histogram",
         "uid": "a9465c7f-f228-43c0-bae2-46813a233dca",
         "x": [
          "A",
          "A",
          "A",
          "B",
          "B",
          "A",
          "A",
          "A",
          "C",
          "A",
          "A",
          "C",
          "B",
          "B",
          "A",
          "C",
          "B",
          "A",
          "C",
          "A",
          "A",
          "B",
          "B",
          "A",
          "B",
          "B",
          "C",
          "A",
          "B",
          "C",
          "A",
          "B",
          "A",
          "B",
          "A",
          "B",
          "C",
          "C",
          "B",
          "B",
          "A",
          "B",
          "B",
          "B",
          "C",
          "C",
          "A",
          "A",
          "B",
          "A",
          "B",
          "B",
          "C",
          "B",
          "A",
          "A",
          "B",
          "C",
          "C",
          "A",
          "B",
          "B",
          "B",
          "C",
          "A",
          "B",
          "C",
          "B",
          "A",
          "B",
          "A",
          "A",
          "B",
          "A",
          "A",
          "C",
          "B",
          "B"
         ]
        }
       ],
       "_js2py_restyle": {},
       "_js2py_update": {},
       "_last_layout_edit_id": 15,
       "_last_trace_edit_id": 13,
       "_layout": {
        "autosize": true,
        "barmode": "group",
        "template": {
         "data": {
          "bar": [
           {
            "error_x": {
             "color": "#2a3f5f"
            },
            "error_y": {
             "color": "#2a3f5f"
            },
            "marker": {
             "line": {
              "color": "#E5ECF6",
              "width": 0.5
             }
            },
            "type": "bar"
           }
          ],
          "barpolar": [
           {
            "marker": {
             "line": {
              "color": "#E5ECF6",
              "width": 0.5
             }
            },
            "type": "barpolar"
           }
          ],
          "carpet": [
           {
            "aaxis": {
             "endlinecolor": "#2a3f5f",
             "gridcolor": "white",
             "linecolor": "white",
             "minorgridcolor": "white",
             "startlinecolor": "#2a3f5f"
            },
            "baxis": {
             "endlinecolor": "#2a3f5f",
             "gridcolor": "white",
             "linecolor": "white",
             "minorgridcolor": "white",
             "startlinecolor": "#2a3f5f"
            },
            "type": "carpet"
           }
          ],
          "choropleth": [
           {
            "colorbar": {
             "outlinewidth": 0,
             "ticks": ""
            },
            "type": "choropleth"
           }
          ],
          "contour": [
           {
            "colorbar": {
             "outlinewidth": 0,
             "ticks": ""
            },
            "colorscale": [
             [
              0,
              "#0d0887"
             ],
             [
              0.1111111111111111,
              "#46039f"
             ],
             [
              0.2222222222222222,
              "#7201a8"
             ],
             [
              0.3333333333333333,
              "#9c179e"
             ],
             [
              0.4444444444444444,
              "#bd3786"
             ],
             [
              0.5555555555555556,
              "#d8576b"
             ],
             [
              0.6666666666666666,
              "#ed7953"
             ],
             [
              0.7777777777777778,
              "#fb9f3a"
             ],
             [
              0.8888888888888888,
              "#fdca26"
             ],
             [
              1,
              "#f0f921"
             ]
            ],
            "type": "contour"
           }
          ],
          "contourcarpet": [
           {
            "colorbar": {
             "outlinewidth": 0,
             "ticks": ""
            },
            "type": "contourcarpet"
           }
          ],
          "heatmap": [
           {
            "colorbar": {
             "outlinewidth": 0,
             "ticks": ""
            },
            "colorscale": [
             [
              0,
              "#0d0887"
             ],
             [
              0.1111111111111111,
              "#46039f"
             ],
             [
              0.2222222222222222,
              "#7201a8"
             ],
             [
              0.3333333333333333,
              "#9c179e"
             ],
             [
              0.4444444444444444,
              "#bd3786"
             ],
             [
              0.5555555555555556,
              "#d8576b"
             ],
             [
              0.6666666666666666,
              "#ed7953"
             ],
             [
              0.7777777777777778,
              "#fb9f3a"
             ],
             [
              0.8888888888888888,
              "#fdca26"
             ],
             [
              1,
              "#f0f921"
             ]
            ],
            "type": "heatmap"
           }
          ],
          "heatmapgl": [
           {
            "colorbar": {
             "outlinewidth": 0,
             "ticks": ""
            },
            "colorscale": [
             [
              0,
              "#0d0887"
             ],
             [
              0.1111111111111111,
              "#46039f"
             ],
             [
              0.2222222222222222,
              "#7201a8"
             ],
             [
              0.3333333333333333,
              "#9c179e"
             ],
             [
              0.4444444444444444,
              "#bd3786"
             ],
             [
              0.5555555555555556,
              "#d8576b"
             ],
             [
              0.6666666666666666,
              "#ed7953"
             ],
             [
              0.7777777777777778,
              "#fb9f3a"
             ],
             [
              0.8888888888888888,
              "#fdca26"
             ],
             [
              1,
              "#f0f921"
             ]
            ],
            "type": "heatmapgl"
           }
          ],
          "histogram": [
           {
            "marker": {
             "colorbar": {
              "outlinewidth": 0,
              "ticks": ""
             }
            },
            "type": "histogram"
           }
          ],
          "histogram2d": [
           {
            "colorbar": {
             "outlinewidth": 0,
             "ticks": ""
            },
            "colorscale": [
             [
              0,
              "#0d0887"
             ],
             [
              0.1111111111111111,
              "#46039f"
             ],
             [
              0.2222222222222222,
              "#7201a8"
             ],
             [
              0.3333333333333333,
              "#9c179e"
             ],
             [
              0.4444444444444444,
              "#bd3786"
             ],
             [
              0.5555555555555556,
              "#d8576b"
             ],
             [
              0.6666666666666666,
              "#ed7953"
             ],
             [
              0.7777777777777778,
              "#fb9f3a"
             ],
             [
              0.8888888888888888,
              "#fdca26"
             ],
             [
              1,
              "#f0f921"
             ]
            ],
            "type": "histogram2d"
           }
          ],
          "histogram2dcontour": [
           {
            "colorbar": {
             "outlinewidth": 0,
             "ticks": ""
            },
            "colorscale": [
             [
              0,
              "#0d0887"
             ],
             [
              0.1111111111111111,
              "#46039f"
             ],
             [
              0.2222222222222222,
              "#7201a8"
             ],
             [
              0.3333333333333333,
              "#9c179e"
             ],
             [
              0.4444444444444444,
              "#bd3786"
             ],
             [
              0.5555555555555556,
              "#d8576b"
             ],
             [
              0.6666666666666666,
              "#ed7953"
             ],
             [
              0.7777777777777778,
              "#fb9f3a"
             ],
             [
              0.8888888888888888,
              "#fdca26"
             ],
             [
              1,
              "#f0f921"
             ]
            ],
            "type": "histogram2dcontour"
           }
          ],
          "mesh3d": [
           {
            "colorbar": {
             "outlinewidth": 0,
             "ticks": ""
            },
            "type": "mesh3d"
           }
          ],
          "parcoords": [
           {
            "line": {
             "colorbar": {
              "outlinewidth": 0,
              "ticks": ""
             }
            },
            "type": "parcoords"
           }
          ],
          "pie": [
           {
            "automargin": true,
            "type": "pie"
           }
          ],
          "scatter": [
           {
            "marker": {
             "colorbar": {
              "outlinewidth": 0,
              "ticks": ""
             }
            },
            "type": "scatter"
           }
          ],
          "scatter3d": [
           {
            "line": {
             "colorbar": {
              "outlinewidth": 0,
              "ticks": ""
             }
            },
            "marker": {
             "colorbar": {
              "outlinewidth": 0,
              "ticks": ""
             }
            },
            "type": "scatter3d"
           }
          ],
          "scattercarpet": [
           {
            "marker": {
             "colorbar": {
              "outlinewidth": 0,
              "ticks": ""
             }
            },
            "type": "scattercarpet"
           }
          ],
          "scattergeo": [
           {
            "marker": {
             "colorbar": {
              "outlinewidth": 0,
              "ticks": ""
             }
            },
            "type": "scattergeo"
           }
          ],
          "scattergl": [
           {
            "marker": {
             "colorbar": {
              "outlinewidth": 0,
              "ticks": ""
             }
            },
            "type": "scattergl"
           }
          ],
          "scattermapbox": [
           {
            "marker": {
             "colorbar": {
              "outlinewidth": 0,
              "ticks": ""
             }
            },
            "type": "scattermapbox"
           }
          ],
          "scatterpolar": [
           {
            "marker": {
             "colorbar": {
              "outlinewidth": 0,
              "ticks": ""
             }
            },
            "type": "scatterpolar"
           }
          ],
          "scatterpolargl": [
           {
            "marker": {
             "colorbar": {
              "outlinewidth": 0,
              "ticks": ""
             }
            },
            "type": "scatterpolargl"
           }
          ],
          "scatterternary": [
           {
            "marker": {
             "colorbar": {
              "outlinewidth": 0,
              "ticks": ""
             }
            },
            "type": "scatterternary"
           }
          ],
          "surface": [
           {
            "colorbar": {
             "outlinewidth": 0,
             "ticks": ""
            },
            "colorscale": [
             [
              0,
              "#0d0887"
             ],
             [
              0.1111111111111111,
              "#46039f"
             ],
             [
              0.2222222222222222,
              "#7201a8"
             ],
             [
              0.3333333333333333,
              "#9c179e"
             ],
             [
              0.4444444444444444,
              "#bd3786"
             ],
             [
              0.5555555555555556,
              "#d8576b"
             ],
             [
              0.6666666666666666,
              "#ed7953"
             ],
             [
              0.7777777777777778,
              "#fb9f3a"
             ],
             [
              0.8888888888888888,
              "#fdca26"
             ],
             [
              1,
              "#f0f921"
             ]
            ],
            "type": "surface"
           }
          ],
          "table": [
           {
            "cells": {
             "fill": {
              "color": "#EBF0F8"
             },
             "line": {
              "color": "white"
             }
            },
            "header": {
             "fill": {
              "color": "#C8D4E3"
             },
             "line": {
              "color": "white"
             }
            },
            "type": "table"
           }
          ]
         },
         "layout": {
          "annotationdefaults": {
           "arrowcolor": "#2a3f5f",
           "arrowhead": 0,
           "arrowwidth": 1
          },
          "coloraxis": {
           "colorbar": {
            "outlinewidth": 0,
            "ticks": ""
           }
          },
          "colorscale": {
           "diverging": [
            [
             0,
             "#8e0152"
            ],
            [
             0.1,
             "#c51b7d"
            ],
            [
             0.2,
             "#de77ae"
            ],
            [
             0.3,
             "#f1b6da"
            ],
            [
             0.4,
             "#fde0ef"
            ],
            [
             0.5,
             "#f7f7f7"
            ],
            [
             0.6,
             "#e6f5d0"
            ],
            [
             0.7,
             "#b8e186"
            ],
            [
             0.8,
             "#7fbc41"
            ],
            [
             0.9,
             "#4d9221"
            ],
            [
             1,
             "#276419"
            ]
           ],
           "sequential": [
            [
             0,
             "#0d0887"
            ],
            [
             0.1111111111111111,
             "#46039f"
            ],
            [
             0.2222222222222222,
             "#7201a8"
            ],
            [
             0.3333333333333333,
             "#9c179e"
            ],
            [
             0.4444444444444444,
             "#bd3786"
            ],
            [
             0.5555555555555556,
             "#d8576b"
            ],
            [
             0.6666666666666666,
             "#ed7953"
            ],
            [
             0.7777777777777778,
             "#fb9f3a"
            ],
            [
             0.8888888888888888,
             "#fdca26"
            ],
            [
             1,
             "#f0f921"
            ]
           ],
           "sequentialminus": [
            [
             0,
             "#0d0887"
            ],
            [
             0.1111111111111111,
             "#46039f"
            ],
            [
             0.2222222222222222,
             "#7201a8"
            ],
            [
             0.3333333333333333,
             "#9c179e"
            ],
            [
             0.4444444444444444,
             "#bd3786"
            ],
            [
             0.5555555555555556,
             "#d8576b"
            ],
            [
             0.6666666666666666,
             "#ed7953"
            ],
            [
             0.7777777777777778,
             "#fb9f3a"
            ],
            [
             0.8888888888888888,
             "#fdca26"
            ],
            [
             1,
             "#f0f921"
            ]
           ]
          },
          "colorway": [
           "#636efa",
           "#EF553B",
           "#00cc96",
           "#ab63fa",
           "#FFA15A",
           "#19d3f3",
           "#FF6692",
           "#B6E880",
           "#FF97FF",
           "#FECB52"
          ],
          "font": {
           "color": "#2a3f5f"
          },
          "geo": {
           "bgcolor": "white",
           "lakecolor": "white",
           "landcolor": "#E5ECF6",
           "showlakes": true,
           "showland": true,
           "subunitcolor": "white"
          },
          "hoverlabel": {
           "align": "left"
          },
          "hovermode": "closest",
          "mapbox": {
           "style": "light"
          },
          "paper_bgcolor": "white",
          "plot_bgcolor": "#E5ECF6",
          "polar": {
           "angularaxis": {
            "gridcolor": "white",
            "linecolor": "white",
            "ticks": ""
           },
           "bgcolor": "#E5ECF6",
           "radialaxis": {
            "gridcolor": "white",
            "linecolor": "white",
            "ticks": ""
           }
          },
          "scene": {
           "xaxis": {
            "backgroundcolor": "#E5ECF6",
            "gridcolor": "white",
            "gridwidth": 2,
            "linecolor": "white",
            "showbackground": true,
            "ticks": "",
            "zerolinecolor": "white"
           },
           "yaxis": {
            "backgroundcolor": "#E5ECF6",
            "gridcolor": "white",
            "gridwidth": 2,
            "linecolor": "white",
            "showbackground": true,
            "ticks": "",
            "zerolinecolor": "white"
           },
           "zaxis": {
            "backgroundcolor": "#E5ECF6",
            "gridcolor": "white",
            "gridwidth": 2,
            "linecolor": "white",
            "showbackground": true,
            "ticks": "",
            "zerolinecolor": "white"
           }
          },
          "shapedefaults": {
           "line": {
            "color": "#2a3f5f"
           }
          },
          "ternary": {
           "aaxis": {
            "gridcolor": "white",
            "linecolor": "white",
            "ticks": ""
           },
           "baxis": {
            "gridcolor": "white",
            "linecolor": "white",
            "ticks": ""
           },
           "bgcolor": "#E5ECF6",
           "caxis": {
            "gridcolor": "white",
            "linecolor": "white",
            "ticks": ""
           }
          },
          "title": {
           "x": 0.05
          },
          "xaxis": {
           "automargin": true,
           "gridcolor": "white",
           "linecolor": "white",
           "ticks": "",
           "title": {
            "standoff": 15
           },
           "zerolinecolor": "white",
           "zerolinewidth": 2
          },
          "yaxis": {
           "automargin": true,
           "gridcolor": "white",
           "linecolor": "white",
           "ticks": "",
           "title": {
            "standoff": 15
           },
           "zerolinecolor": "white",
           "zerolinewidth": 2
          }
         }
        },
        "title": {
         "text": "Supermarket Sales DB"
        },
        "xaxis": {
         "autorange": true,
         "title": {
          "text": "Branch"
         }
        },
        "yaxis": {
         "autorange": true,
         "title": {
          "text": "Gross income"
         }
        }
       },
       "_py2js_addTraces": {},
       "_py2js_animate": {},
       "_py2js_deleteTraces": {},
       "_py2js_moveTraces": {},
       "_py2js_removeLayoutProps": {},
       "_py2js_removeTraceProps": {},
       "_py2js_restyle": {},
       "_view_count": 0
      }
     },
     "8f97a34914d34e499bf799dd53fe78f1": {
      "model_module": "@jupyter-widgets/controls",
      "model_module_version": "1.5.0",
      "model_name": "DescriptionStyleModel",
      "state": {
       "description_width": ""
      }
     },
     "8feb37963de74ad59a4e19ba6697d8f0": {
      "model_module": "@jupyter-widgets/base",
      "model_module_version": "1.2.0",
      "model_name": "LayoutModel",
      "state": {}
     },
     "9060c91aba7c488d9e0f9eb14ab11ec4": {
      "model_module": "@jupyter-widgets/controls",
      "model_module_version": "1.5.0",
      "model_name": "DescriptionStyleModel",
      "state": {
       "description_width": ""
      }
     },
     "9130f4bdb9a940e7848373ffa6a1e5d3": {
      "model_module": "@jupyter-widgets/controls",
      "model_module_version": "1.5.0",
      "model_name": "DescriptionStyleModel",
      "state": {
       "description_width": ""
      }
     },
     "916d61849863471f9a64fb0faa2d14af": {
      "model_module": "@jupyter-widgets/base",
      "model_module_version": "1.2.0",
      "model_name": "LayoutModel",
      "state": {}
     },
     "930180b4e3a542d5b1c62e593b6069a9": {
      "model_module": "@jupyter-widgets/controls",
      "model_module_version": "1.5.0",
      "model_name": "IntSliderModel",
      "state": {
       "continuous_update": false,
       "description": "Month:",
       "layout": "IPY_MODEL_86bdd1828bf640aea8ed66327c13967f",
       "max": 6,
       "min": 1,
       "style": "IPY_MODEL_fa74eb6ba1704add8b238698b9319aa5",
       "value": 1
      }
     },
     "9582ec2e220c40b7919dc3b519611063": {
      "model_module": "@jupyter-widgets/controls",
      "model_module_version": "1.5.0",
      "model_name": "IntSliderModel",
      "state": {
       "continuous_update": false,
       "description": "Month:",
       "layout": "IPY_MODEL_0c678b78c9284a51ab011e84d96ccde2",
       "max": 3,
       "min": 1,
       "style": "IPY_MODEL_c55a481c00014631ae7d6424c155ff84",
       "value": 2
      }
     },
     "9583c3afaaa54650989a5829586cbab4": {
      "model_module": "@jupyter-widgets/controls",
      "model_module_version": "1.5.0",
      "model_name": "VBoxModel",
      "state": {
       "children": [
        "IPY_MODEL_11d8e265a4504888aeaefe10a1692bce",
        "IPY_MODEL_3fcb4f27f5e345bcb69492190a92d5d7",
        "IPY_MODEL_b51355f252f343eab1c6e5b79685e073"
       ],
       "layout": "IPY_MODEL_232a2ad00c0a41bbb554c434b2c9385f"
      }
     },
     "95f0744fb91144f5a7da0e08e143fc30": {
      "model_module": "@jupyter-widgets/base",
      "model_module_version": "1.2.0",
      "model_name": "LayoutModel",
      "state": {}
     },
     "966064cdac21418bb2b93839b77024e0": {
      "model_module": "@jupyter-widgets/controls",
      "model_module_version": "1.5.0",
      "model_name": "DescriptionStyleModel",
      "state": {
       "description_width": ""
      }
     },
     "9a5f8f3f9b5b4783bc27299e423a4b33": {
      "model_module": "@jupyter-widgets/controls",
      "model_module_version": "1.5.0",
      "model_name": "SliderStyleModel",
      "state": {
       "description_width": ""
      }
     },
     "9b71eebff17c4652979cebfda7be52e9": {
      "model_module": "@jupyter-widgets/base",
      "model_module_version": "1.2.0",
      "model_name": "LayoutModel",
      "state": {}
     },
     "9d4c5fd3398d485b825bc64e9419a496": {
      "model_module": "@jupyter-widgets/controls",
      "model_module_version": "1.5.0",
      "model_name": "VBoxModel",
      "state": {
       "children": [
        "IPY_MODEL_29930ec92b364584872e1fe59d007134",
        "IPY_MODEL_47faa95f40dd4477a238275cf87cad4c",
        "IPY_MODEL_17ca98fe1dbd49cfab76a84d34ee5e0b"
       ],
       "layout": "IPY_MODEL_c012025396c343eb8c8c3db0a09402d4"
      }
     },
     "9da7af70d5d241f489a7f6a0e0dbc75a": {
      "model_module": "@jupyter-widgets/controls",
      "model_module_version": "1.5.0",
      "model_name": "SliderStyleModel",
      "state": {
       "description_width": ""
      }
     },
     "9e159c571fde4d11b81b476e3546af04": {
      "model_module": "@jupyter-widgets/base",
      "model_module_version": "1.2.0",
      "model_name": "LayoutModel",
      "state": {}
     },
     "a0bcd043544c47ce995f73e73e3982c1": {
      "model_module": "@jupyter-widgets/controls",
      "model_module_version": "1.5.0",
      "model_name": "DropdownModel",
      "state": {
       "_options_labels": [
        "Female",
        "Male"
       ],
       "description": "Gender:  ",
       "index": 0,
       "layout": "IPY_MODEL_6ef47bb7775f47cabf7a32ba2db43ccd",
       "style": "IPY_MODEL_5dbf08833c004227a247459203bce24d"
      }
     },
     "a12f6fb16f7a4bb7b5726830e812ddad": {
      "model_module": "@jupyter-widgets/base",
      "model_module_version": "1.2.0",
      "model_name": "LayoutModel",
      "state": {}
     },
     "a1d13c57fb4243cfa6d1f8355a88ba10": {
      "model_module": "plotlywidget",
      "model_module_version": "^4.9.0",
      "model_name": "FigureModel",
      "state": {
       "_config": {
        "plotlyServerURL": "https://plot.ly"
       },
       "_data": [
        {
         "opacity": 0.75,
         "type": "histogram",
         "uid": "cfb8e535-2642-45c8-8d22-b676f9491002",
         "x": [
          "A",
          "B",
          "A",
          "A",
          "C",
          "B",
          "A",
          "B",
          "A",
          "B",
          "C",
          "B",
          "B",
          "C",
          "C",
          "A",
          "B",
          "B",
          "A",
          "C",
          "C",
          "C",
          "C",
          "B",
          "B",
          "A",
          "C",
          "A",
          "A",
          "B",
          "B",
          "B",
          "C",
          "A",
          "B",
          "A",
          "B",
          "A",
          "A",
          "B",
          "A",
          "B",
          "B",
          "C",
          "A",
          "C",
          "B",
          "A",
          "A",
          "C",
          "B",
          "B",
          "B",
          "A",
          "C",
          "C",
          "C",
          "A",
          "B",
          "B",
          "A",
          "C",
          "C",
          "A",
          "C",
          "C",
          "C",
          "C",
          "B",
          "B",
          "B",
          "B",
          "A",
          "C",
          "B",
          "C",
          "B",
          "C",
          "C",
          "C",
          "A",
          "A",
          "B",
          "A",
          "C",
          "B",
          "B",
          "C"
         ]
        }
       ],
       "_js2py_restyle": {},
       "_js2py_update": {},
       "_last_layout_edit_id": 3,
       "_last_trace_edit_id": 2,
       "_layout": {
        "autosize": true,
        "barmode": "group",
        "template": {
         "data": {
          "bar": [
           {
            "error_x": {
             "color": "#2a3f5f"
            },
            "error_y": {
             "color": "#2a3f5f"
            },
            "marker": {
             "line": {
              "color": "#E5ECF6",
              "width": 0.5
             }
            },
            "type": "bar"
           }
          ],
          "barpolar": [
           {
            "marker": {
             "line": {
              "color": "#E5ECF6",
              "width": 0.5
             }
            },
            "type": "barpolar"
           }
          ],
          "carpet": [
           {
            "aaxis": {
             "endlinecolor": "#2a3f5f",
             "gridcolor": "white",
             "linecolor": "white",
             "minorgridcolor": "white",
             "startlinecolor": "#2a3f5f"
            },
            "baxis": {
             "endlinecolor": "#2a3f5f",
             "gridcolor": "white",
             "linecolor": "white",
             "minorgridcolor": "white",
             "startlinecolor": "#2a3f5f"
            },
            "type": "carpet"
           }
          ],
          "choropleth": [
           {
            "colorbar": {
             "outlinewidth": 0,
             "ticks": ""
            },
            "type": "choropleth"
           }
          ],
          "contour": [
           {
            "colorbar": {
             "outlinewidth": 0,
             "ticks": ""
            },
            "colorscale": [
             [
              0,
              "#0d0887"
             ],
             [
              0.1111111111111111,
              "#46039f"
             ],
             [
              0.2222222222222222,
              "#7201a8"
             ],
             [
              0.3333333333333333,
              "#9c179e"
             ],
             [
              0.4444444444444444,
              "#bd3786"
             ],
             [
              0.5555555555555556,
              "#d8576b"
             ],
             [
              0.6666666666666666,
              "#ed7953"
             ],
             [
              0.7777777777777778,
              "#fb9f3a"
             ],
             [
              0.8888888888888888,
              "#fdca26"
             ],
             [
              1,
              "#f0f921"
             ]
            ],
            "type": "contour"
           }
          ],
          "contourcarpet": [
           {
            "colorbar": {
             "outlinewidth": 0,
             "ticks": ""
            },
            "type": "contourcarpet"
           }
          ],
          "heatmap": [
           {
            "colorbar": {
             "outlinewidth": 0,
             "ticks": ""
            },
            "colorscale": [
             [
              0,
              "#0d0887"
             ],
             [
              0.1111111111111111,
              "#46039f"
             ],
             [
              0.2222222222222222,
              "#7201a8"
             ],
             [
              0.3333333333333333,
              "#9c179e"
             ],
             [
              0.4444444444444444,
              "#bd3786"
             ],
             [
              0.5555555555555556,
              "#d8576b"
             ],
             [
              0.6666666666666666,
              "#ed7953"
             ],
             [
              0.7777777777777778,
              "#fb9f3a"
             ],
             [
              0.8888888888888888,
              "#fdca26"
             ],
             [
              1,
              "#f0f921"
             ]
            ],
            "type": "heatmap"
           }
          ],
          "heatmapgl": [
           {
            "colorbar": {
             "outlinewidth": 0,
             "ticks": ""
            },
            "colorscale": [
             [
              0,
              "#0d0887"
             ],
             [
              0.1111111111111111,
              "#46039f"
             ],
             [
              0.2222222222222222,
              "#7201a8"
             ],
             [
              0.3333333333333333,
              "#9c179e"
             ],
             [
              0.4444444444444444,
              "#bd3786"
             ],
             [
              0.5555555555555556,
              "#d8576b"
             ],
             [
              0.6666666666666666,
              "#ed7953"
             ],
             [
              0.7777777777777778,
              "#fb9f3a"
             ],
             [
              0.8888888888888888,
              "#fdca26"
             ],
             [
              1,
              "#f0f921"
             ]
            ],
            "type": "heatmapgl"
           }
          ],
          "histogram": [
           {
            "marker": {
             "colorbar": {
              "outlinewidth": 0,
              "ticks": ""
             }
            },
            "type": "histogram"
           }
          ],
          "histogram2d": [
           {
            "colorbar": {
             "outlinewidth": 0,
             "ticks": ""
            },
            "colorscale": [
             [
              0,
              "#0d0887"
             ],
             [
              0.1111111111111111,
              "#46039f"
             ],
             [
              0.2222222222222222,
              "#7201a8"
             ],
             [
              0.3333333333333333,
              "#9c179e"
             ],
             [
              0.4444444444444444,
              "#bd3786"
             ],
             [
              0.5555555555555556,
              "#d8576b"
             ],
             [
              0.6666666666666666,
              "#ed7953"
             ],
             [
              0.7777777777777778,
              "#fb9f3a"
             ],
             [
              0.8888888888888888,
              "#fdca26"
             ],
             [
              1,
              "#f0f921"
             ]
            ],
            "type": "histogram2d"
           }
          ],
          "histogram2dcontour": [
           {
            "colorbar": {
             "outlinewidth": 0,
             "ticks": ""
            },
            "colorscale": [
             [
              0,
              "#0d0887"
             ],
             [
              0.1111111111111111,
              "#46039f"
             ],
             [
              0.2222222222222222,
              "#7201a8"
             ],
             [
              0.3333333333333333,
              "#9c179e"
             ],
             [
              0.4444444444444444,
              "#bd3786"
             ],
             [
              0.5555555555555556,
              "#d8576b"
             ],
             [
              0.6666666666666666,
              "#ed7953"
             ],
             [
              0.7777777777777778,
              "#fb9f3a"
             ],
             [
              0.8888888888888888,
              "#fdca26"
             ],
             [
              1,
              "#f0f921"
             ]
            ],
            "type": "histogram2dcontour"
           }
          ],
          "mesh3d": [
           {
            "colorbar": {
             "outlinewidth": 0,
             "ticks": ""
            },
            "type": "mesh3d"
           }
          ],
          "parcoords": [
           {
            "line": {
             "colorbar": {
              "outlinewidth": 0,
              "ticks": ""
             }
            },
            "type": "parcoords"
           }
          ],
          "pie": [
           {
            "automargin": true,
            "type": "pie"
           }
          ],
          "scatter": [
           {
            "marker": {
             "colorbar": {
              "outlinewidth": 0,
              "ticks": ""
             }
            },
            "type": "scatter"
           }
          ],
          "scatter3d": [
           {
            "line": {
             "colorbar": {
              "outlinewidth": 0,
              "ticks": ""
             }
            },
            "marker": {
             "colorbar": {
              "outlinewidth": 0,
              "ticks": ""
             }
            },
            "type": "scatter3d"
           }
          ],
          "scattercarpet": [
           {
            "marker": {
             "colorbar": {
              "outlinewidth": 0,
              "ticks": ""
             }
            },
            "type": "scattercarpet"
           }
          ],
          "scattergeo": [
           {
            "marker": {
             "colorbar": {
              "outlinewidth": 0,
              "ticks": ""
             }
            },
            "type": "scattergeo"
           }
          ],
          "scattergl": [
           {
            "marker": {
             "colorbar": {
              "outlinewidth": 0,
              "ticks": ""
             }
            },
            "type": "scattergl"
           }
          ],
          "scattermapbox": [
           {
            "marker": {
             "colorbar": {
              "outlinewidth": 0,
              "ticks": ""
             }
            },
            "type": "scattermapbox"
           }
          ],
          "scatterpolar": [
           {
            "marker": {
             "colorbar": {
              "outlinewidth": 0,
              "ticks": ""
             }
            },
            "type": "scatterpolar"
           }
          ],
          "scatterpolargl": [
           {
            "marker": {
             "colorbar": {
              "outlinewidth": 0,
              "ticks": ""
             }
            },
            "type": "scatterpolargl"
           }
          ],
          "scatterternary": [
           {
            "marker": {
             "colorbar": {
              "outlinewidth": 0,
              "ticks": ""
             }
            },
            "type": "scatterternary"
           }
          ],
          "surface": [
           {
            "colorbar": {
             "outlinewidth": 0,
             "ticks": ""
            },
            "colorscale": [
             [
              0,
              "#0d0887"
             ],
             [
              0.1111111111111111,
              "#46039f"
             ],
             [
              0.2222222222222222,
              "#7201a8"
             ],
             [
              0.3333333333333333,
              "#9c179e"
             ],
             [
              0.4444444444444444,
              "#bd3786"
             ],
             [
              0.5555555555555556,
              "#d8576b"
             ],
             [
              0.6666666666666666,
              "#ed7953"
             ],
             [
              0.7777777777777778,
              "#fb9f3a"
             ],
             [
              0.8888888888888888,
              "#fdca26"
             ],
             [
              1,
              "#f0f921"
             ]
            ],
            "type": "surface"
           }
          ],
          "table": [
           {
            "cells": {
             "fill": {
              "color": "#EBF0F8"
             },
             "line": {
              "color": "white"
             }
            },
            "header": {
             "fill": {
              "color": "#C8D4E3"
             },
             "line": {
              "color": "white"
             }
            },
            "type": "table"
           }
          ]
         },
         "layout": {
          "annotationdefaults": {
           "arrowcolor": "#2a3f5f",
           "arrowhead": 0,
           "arrowwidth": 1
          },
          "coloraxis": {
           "colorbar": {
            "outlinewidth": 0,
            "ticks": ""
           }
          },
          "colorscale": {
           "diverging": [
            [
             0,
             "#8e0152"
            ],
            [
             0.1,
             "#c51b7d"
            ],
            [
             0.2,
             "#de77ae"
            ],
            [
             0.3,
             "#f1b6da"
            ],
            [
             0.4,
             "#fde0ef"
            ],
            [
             0.5,
             "#f7f7f7"
            ],
            [
             0.6,
             "#e6f5d0"
            ],
            [
             0.7,
             "#b8e186"
            ],
            [
             0.8,
             "#7fbc41"
            ],
            [
             0.9,
             "#4d9221"
            ],
            [
             1,
             "#276419"
            ]
           ],
           "sequential": [
            [
             0,
             "#0d0887"
            ],
            [
             0.1111111111111111,
             "#46039f"
            ],
            [
             0.2222222222222222,
             "#7201a8"
            ],
            [
             0.3333333333333333,
             "#9c179e"
            ],
            [
             0.4444444444444444,
             "#bd3786"
            ],
            [
             0.5555555555555556,
             "#d8576b"
            ],
            [
             0.6666666666666666,
             "#ed7953"
            ],
            [
             0.7777777777777778,
             "#fb9f3a"
            ],
            [
             0.8888888888888888,
             "#fdca26"
            ],
            [
             1,
             "#f0f921"
            ]
           ],
           "sequentialminus": [
            [
             0,
             "#0d0887"
            ],
            [
             0.1111111111111111,
             "#46039f"
            ],
            [
             0.2222222222222222,
             "#7201a8"
            ],
            [
             0.3333333333333333,
             "#9c179e"
            ],
            [
             0.4444444444444444,
             "#bd3786"
            ],
            [
             0.5555555555555556,
             "#d8576b"
            ],
            [
             0.6666666666666666,
             "#ed7953"
            ],
            [
             0.7777777777777778,
             "#fb9f3a"
            ],
            [
             0.8888888888888888,
             "#fdca26"
            ],
            [
             1,
             "#f0f921"
            ]
           ]
          },
          "colorway": [
           "#636efa",
           "#EF553B",
           "#00cc96",
           "#ab63fa",
           "#FFA15A",
           "#19d3f3",
           "#FF6692",
           "#B6E880",
           "#FF97FF",
           "#FECB52"
          ],
          "font": {
           "color": "#2a3f5f"
          },
          "geo": {
           "bgcolor": "white",
           "lakecolor": "white",
           "landcolor": "#E5ECF6",
           "showlakes": true,
           "showland": true,
           "subunitcolor": "white"
          },
          "hoverlabel": {
           "align": "left"
          },
          "hovermode": "closest",
          "mapbox": {
           "style": "light"
          },
          "paper_bgcolor": "white",
          "plot_bgcolor": "#E5ECF6",
          "polar": {
           "angularaxis": {
            "gridcolor": "white",
            "linecolor": "white",
            "ticks": ""
           },
           "bgcolor": "#E5ECF6",
           "radialaxis": {
            "gridcolor": "white",
            "linecolor": "white",
            "ticks": ""
           }
          },
          "scene": {
           "xaxis": {
            "backgroundcolor": "#E5ECF6",
            "gridcolor": "white",
            "gridwidth": 2,
            "linecolor": "white",
            "showbackground": true,
            "ticks": "",
            "zerolinecolor": "white"
           },
           "yaxis": {
            "backgroundcolor": "#E5ECF6",
            "gridcolor": "white",
            "gridwidth": 2,
            "linecolor": "white",
            "showbackground": true,
            "ticks": "",
            "zerolinecolor": "white"
           },
           "zaxis": {
            "backgroundcolor": "#E5ECF6",
            "gridcolor": "white",
            "gridwidth": 2,
            "linecolor": "white",
            "showbackground": true,
            "ticks": "",
            "zerolinecolor": "white"
           }
          },
          "shapedefaults": {
           "line": {
            "color": "#2a3f5f"
           }
          },
          "ternary": {
           "aaxis": {
            "gridcolor": "white",
            "linecolor": "white",
            "ticks": ""
           },
           "baxis": {
            "gridcolor": "white",
            "linecolor": "white",
            "ticks": ""
           },
           "bgcolor": "#E5ECF6",
           "caxis": {
            "gridcolor": "white",
            "linecolor": "white",
            "ticks": ""
           }
          },
          "title": {
           "x": 0.05
          },
          "xaxis": {
           "automargin": true,
           "gridcolor": "white",
           "linecolor": "white",
           "ticks": "",
           "title": {
            "standoff": 15
           },
           "zerolinecolor": "white",
           "zerolinewidth": 2
          },
          "yaxis": {
           "automargin": true,
           "gridcolor": "white",
           "linecolor": "white",
           "ticks": "",
           "title": {
            "standoff": 15
           },
           "zerolinecolor": "white",
           "zerolinewidth": 2
          }
         }
        },
        "title": {
         "text": "Supermarket Sales DB"
        },
        "xaxis": {
         "title": {
          "text": "Branch"
         }
        },
        "yaxis": {
         "title": {
          "text": "Gross income"
         }
        }
       },
       "_py2js_addTraces": {},
       "_py2js_animate": {},
       "_py2js_deleteTraces": {},
       "_py2js_moveTraces": {},
       "_py2js_removeLayoutProps": {},
       "_py2js_removeTraceProps": {},
       "_py2js_restyle": {},
       "_view_count": 0
      }
     },
     "a266cd2b72624e009298b4b6e5e91cf2": {
      "model_module": "@jupyter-widgets/controls",
      "model_module_version": "1.5.0",
      "model_name": "SliderStyleModel",
      "state": {
       "description_width": ""
      }
     },
     "a281791649b3479580057f17c52d1a4a": {
      "model_module": "@jupyter-widgets/base",
      "model_module_version": "1.2.0",
      "model_name": "LayoutModel",
      "state": {}
     },
     "a493629854e84c4e8512a158bcc343c5": {
      "model_module": "@jupyter-widgets/controls",
      "model_module_version": "1.5.0",
      "model_name": "HBoxModel",
      "state": {
       "children": [
        "IPY_MODEL_09c3e4ed765247f8b13d2f16717277a3",
        "IPY_MODEL_e57e54bf3f2a4e70ba517ae4d054e2ae"
       ],
       "layout": "IPY_MODEL_61843afe998e4584a47678ab1b03eb02"
      }
     },
     "a70d06d9e2654d9385fb2f87d63cf2b7": {
      "model_module": "@jupyter-widgets/controls",
      "model_module_version": "1.5.0",
      "model_name": "HBoxModel",
      "state": {
       "children": [
        "IPY_MODEL_a7c8c9680ddd41a89c28bf1797d000f5",
        "IPY_MODEL_930180b4e3a542d5b1c62e593b6069a9"
       ],
       "layout": "IPY_MODEL_8d553a9ca215444eaa85d325402c41da"
      }
     },
     "a7c8c9680ddd41a89c28bf1797d000f5": {
      "model_module": "@jupyter-widgets/controls",
      "model_module_version": "1.5.0",
      "model_name": "CheckboxModel",
      "state": {
       "description": "Date: ",
       "disabled": false,
       "layout": "IPY_MODEL_4e79d26f2ac342e1b666fdc5ae06270c",
       "style": "IPY_MODEL_837cc26cbdee4316aeb2e26d62976609",
       "value": false
      }
     },
     "acc78164648e46feacea72eeea6f304c": {
      "model_module": "@jupyter-widgets/controls",
      "model_module_version": "1.5.0",
      "model_name": "DescriptionStyleModel",
      "state": {
       "description_width": ""
      }
     },
     "af0630c307da490086ec944b2bd32c8d": {
      "model_module": "@jupyter-widgets/controls",
      "model_module_version": "1.5.0",
      "model_name": "DescriptionStyleModel",
      "state": {
       "description_width": ""
      }
     },
     "b18ee62e831e4b66abdbd6a8ee24d34e": {
      "model_module": "@jupyter-widgets/controls",
      "model_module_version": "1.5.0",
      "model_name": "HBoxModel",
      "state": {
       "children": [
        "IPY_MODEL_1709d53effd946fa8b839116e720852d",
        "IPY_MODEL_3bd464d699344846b6558fed2677bb3f"
       ],
       "layout": "IPY_MODEL_7b4a0a79edb44b8e8524875d712d80ee"
      }
     },
     "b296cc92fdf3463b8f829ca1e4f80d4c": {
      "model_module": "@jupyter-widgets/base",
      "model_module_version": "1.2.0",
      "model_name": "LayoutModel",
      "state": {}
     },
     "b2a92b98170a49f1a61def76821216c8": {
      "model_module": "@jupyter-widgets/controls",
      "model_module_version": "1.5.0",
      "model_name": "CheckboxModel",
      "state": {
       "description": "Date: ",
       "disabled": false,
       "layout": "IPY_MODEL_7808f43aa4d041e1aec9887163ac32b8",
       "style": "IPY_MODEL_af0630c307da490086ec944b2bd32c8d",
       "value": false
      }
     },
     "b38751f9b8234c69811dbf77271112ee": {
      "model_module": "@jupyter-widgets/controls",
      "model_module_version": "1.5.0",
      "model_name": "DescriptionStyleModel",
      "state": {
       "description_width": ""
      }
     },
     "b3ec596805ff4fc1b95396a49e29fda9": {
      "model_module": "@jupyter-widgets/controls",
      "model_module_version": "1.5.0",
      "model_name": "DescriptionStyleModel",
      "state": {
       "description_width": ""
      }
     },
     "b437a9fdb4e24383af870ccfa3b2e242": {
      "model_module": "@jupyter-widgets/controls",
      "model_module_version": "1.5.0",
      "model_name": "VBoxModel",
      "state": {
       "children": [
        "IPY_MODEL_b18ee62e831e4b66abdbd6a8ee24d34e",
        "IPY_MODEL_58ad3126a799493281d566bc0b502c50",
        "IPY_MODEL_f66c5ddf2f444da7b74429967a049e4e"
       ],
       "layout": "IPY_MODEL_f9718738b57f4dcc81b9ad3da10104dc"
      }
     },
     "b47253ca23f44882a86f7e4274de6de6": {
      "model_module": "@jupyter-widgets/controls",
      "model_module_version": "1.5.0",
      "model_name": "DropdownModel",
      "state": {
       "_options_labels": [
        "Female",
        "Male"
       ],
       "description": "Gender:  ",
       "index": 1,
       "layout": "IPY_MODEL_8feb37963de74ad59a4e19ba6697d8f0",
       "style": "IPY_MODEL_c89b7f19e39449a9a1114ae3a79e2017"
      }
     },
     "b51355f252f343eab1c6e5b79685e073": {
      "model_module": "plotlywidget",
      "model_module_version": "^4.9.0",
      "model_name": "FigureModel",
      "state": {
       "_config": {
        "plotlyServerURL": "https://plot.ly"
       },
       "_data": [
        {
         "opacity": 0.75,
         "type": "histogram",
         "uid": "1541a8de-75a1-4664-92e1-bd0447b03d17",
         "x": [
          "A",
          "A",
          "C",
          "C",
          "C",
          "A",
          "A",
          "A",
          "A",
          "A",
          "B",
          "A",
          "B",
          "B",
          "A",
          "A",
          "C",
          "B",
          "B",
          "A",
          "A",
          "B",
          "B",
          "C",
          "C",
          "A",
          "C",
          "A",
          "A",
          "A",
          "C",
          "C",
          "B",
          "A",
          "C",
          "C",
          "C",
          "C",
          "C",
          "C",
          "A",
          "C",
          "C",
          "A",
          "A",
          "C",
          "A",
          "B",
          "B",
          "C",
          "C",
          "A",
          "C",
          "B",
          "A",
          "A",
          "A",
          "B",
          "B",
          "B",
          "A",
          "C",
          "B",
          "C",
          "A",
          "B",
          "B",
          "C",
          "A",
          "C",
          "A",
          "B",
          "B",
          "C",
          "A",
          "A",
          "A",
          "A",
          "A",
          "C",
          "B",
          "B",
          "C",
          "A"
         ]
        }
       ],
       "_js2py_restyle": {},
       "_js2py_update": {},
       "_last_layout_edit_id": 5,
       "_last_trace_edit_id": 4,
       "_layout": {
        "autosize": true,
        "barmode": "group",
        "template": {
         "data": {
          "bar": [
           {
            "error_x": {
             "color": "#2a3f5f"
            },
            "error_y": {
             "color": "#2a3f5f"
            },
            "marker": {
             "line": {
              "color": "#E5ECF6",
              "width": 0.5
             }
            },
            "type": "bar"
           }
          ],
          "barpolar": [
           {
            "marker": {
             "line": {
              "color": "#E5ECF6",
              "width": 0.5
             }
            },
            "type": "barpolar"
           }
          ],
          "carpet": [
           {
            "aaxis": {
             "endlinecolor": "#2a3f5f",
             "gridcolor": "white",
             "linecolor": "white",
             "minorgridcolor": "white",
             "startlinecolor": "#2a3f5f"
            },
            "baxis": {
             "endlinecolor": "#2a3f5f",
             "gridcolor": "white",
             "linecolor": "white",
             "minorgridcolor": "white",
             "startlinecolor": "#2a3f5f"
            },
            "type": "carpet"
           }
          ],
          "choropleth": [
           {
            "colorbar": {
             "outlinewidth": 0,
             "ticks": ""
            },
            "type": "choropleth"
           }
          ],
          "contour": [
           {
            "colorbar": {
             "outlinewidth": 0,
             "ticks": ""
            },
            "colorscale": [
             [
              0,
              "#0d0887"
             ],
             [
              0.1111111111111111,
              "#46039f"
             ],
             [
              0.2222222222222222,
              "#7201a8"
             ],
             [
              0.3333333333333333,
              "#9c179e"
             ],
             [
              0.4444444444444444,
              "#bd3786"
             ],
             [
              0.5555555555555556,
              "#d8576b"
             ],
             [
              0.6666666666666666,
              "#ed7953"
             ],
             [
              0.7777777777777778,
              "#fb9f3a"
             ],
             [
              0.8888888888888888,
              "#fdca26"
             ],
             [
              1,
              "#f0f921"
             ]
            ],
            "type": "contour"
           }
          ],
          "contourcarpet": [
           {
            "colorbar": {
             "outlinewidth": 0,
             "ticks": ""
            },
            "type": "contourcarpet"
           }
          ],
          "heatmap": [
           {
            "colorbar": {
             "outlinewidth": 0,
             "ticks": ""
            },
            "colorscale": [
             [
              0,
              "#0d0887"
             ],
             [
              0.1111111111111111,
              "#46039f"
             ],
             [
              0.2222222222222222,
              "#7201a8"
             ],
             [
              0.3333333333333333,
              "#9c179e"
             ],
             [
              0.4444444444444444,
              "#bd3786"
             ],
             [
              0.5555555555555556,
              "#d8576b"
             ],
             [
              0.6666666666666666,
              "#ed7953"
             ],
             [
              0.7777777777777778,
              "#fb9f3a"
             ],
             [
              0.8888888888888888,
              "#fdca26"
             ],
             [
              1,
              "#f0f921"
             ]
            ],
            "type": "heatmap"
           }
          ],
          "heatmapgl": [
           {
            "colorbar": {
             "outlinewidth": 0,
             "ticks": ""
            },
            "colorscale": [
             [
              0,
              "#0d0887"
             ],
             [
              0.1111111111111111,
              "#46039f"
             ],
             [
              0.2222222222222222,
              "#7201a8"
             ],
             [
              0.3333333333333333,
              "#9c179e"
             ],
             [
              0.4444444444444444,
              "#bd3786"
             ],
             [
              0.5555555555555556,
              "#d8576b"
             ],
             [
              0.6666666666666666,
              "#ed7953"
             ],
             [
              0.7777777777777778,
              "#fb9f3a"
             ],
             [
              0.8888888888888888,
              "#fdca26"
             ],
             [
              1,
              "#f0f921"
             ]
            ],
            "type": "heatmapgl"
           }
          ],
          "histogram": [
           {
            "marker": {
             "colorbar": {
              "outlinewidth": 0,
              "ticks": ""
             }
            },
            "type": "histogram"
           }
          ],
          "histogram2d": [
           {
            "colorbar": {
             "outlinewidth": 0,
             "ticks": ""
            },
            "colorscale": [
             [
              0,
              "#0d0887"
             ],
             [
              0.1111111111111111,
              "#46039f"
             ],
             [
              0.2222222222222222,
              "#7201a8"
             ],
             [
              0.3333333333333333,
              "#9c179e"
             ],
             [
              0.4444444444444444,
              "#bd3786"
             ],
             [
              0.5555555555555556,
              "#d8576b"
             ],
             [
              0.6666666666666666,
              "#ed7953"
             ],
             [
              0.7777777777777778,
              "#fb9f3a"
             ],
             [
              0.8888888888888888,
              "#fdca26"
             ],
             [
              1,
              "#f0f921"
             ]
            ],
            "type": "histogram2d"
           }
          ],
          "histogram2dcontour": [
           {
            "colorbar": {
             "outlinewidth": 0,
             "ticks": ""
            },
            "colorscale": [
             [
              0,
              "#0d0887"
             ],
             [
              0.1111111111111111,
              "#46039f"
             ],
             [
              0.2222222222222222,
              "#7201a8"
             ],
             [
              0.3333333333333333,
              "#9c179e"
             ],
             [
              0.4444444444444444,
              "#bd3786"
             ],
             [
              0.5555555555555556,
              "#d8576b"
             ],
             [
              0.6666666666666666,
              "#ed7953"
             ],
             [
              0.7777777777777778,
              "#fb9f3a"
             ],
             [
              0.8888888888888888,
              "#fdca26"
             ],
             [
              1,
              "#f0f921"
             ]
            ],
            "type": "histogram2dcontour"
           }
          ],
          "mesh3d": [
           {
            "colorbar": {
             "outlinewidth": 0,
             "ticks": ""
            },
            "type": "mesh3d"
           }
          ],
          "parcoords": [
           {
            "line": {
             "colorbar": {
              "outlinewidth": 0,
              "ticks": ""
             }
            },
            "type": "parcoords"
           }
          ],
          "pie": [
           {
            "automargin": true,
            "type": "pie"
           }
          ],
          "scatter": [
           {
            "marker": {
             "colorbar": {
              "outlinewidth": 0,
              "ticks": ""
             }
            },
            "type": "scatter"
           }
          ],
          "scatter3d": [
           {
            "line": {
             "colorbar": {
              "outlinewidth": 0,
              "ticks": ""
             }
            },
            "marker": {
             "colorbar": {
              "outlinewidth": 0,
              "ticks": ""
             }
            },
            "type": "scatter3d"
           }
          ],
          "scattercarpet": [
           {
            "marker": {
             "colorbar": {
              "outlinewidth": 0,
              "ticks": ""
             }
            },
            "type": "scattercarpet"
           }
          ],
          "scattergeo": [
           {
            "marker": {
             "colorbar": {
              "outlinewidth": 0,
              "ticks": ""
             }
            },
            "type": "scattergeo"
           }
          ],
          "scattergl": [
           {
            "marker": {
             "colorbar": {
              "outlinewidth": 0,
              "ticks": ""
             }
            },
            "type": "scattergl"
           }
          ],
          "scattermapbox": [
           {
            "marker": {
             "colorbar": {
              "outlinewidth": 0,
              "ticks": ""
             }
            },
            "type": "scattermapbox"
           }
          ],
          "scatterpolar": [
           {
            "marker": {
             "colorbar": {
              "outlinewidth": 0,
              "ticks": ""
             }
            },
            "type": "scatterpolar"
           }
          ],
          "scatterpolargl": [
           {
            "marker": {
             "colorbar": {
              "outlinewidth": 0,
              "ticks": ""
             }
            },
            "type": "scatterpolargl"
           }
          ],
          "scatterternary": [
           {
            "marker": {
             "colorbar": {
              "outlinewidth": 0,
              "ticks": ""
             }
            },
            "type": "scatterternary"
           }
          ],
          "surface": [
           {
            "colorbar": {
             "outlinewidth": 0,
             "ticks": ""
            },
            "colorscale": [
             [
              0,
              "#0d0887"
             ],
             [
              0.1111111111111111,
              "#46039f"
             ],
             [
              0.2222222222222222,
              "#7201a8"
             ],
             [
              0.3333333333333333,
              "#9c179e"
             ],
             [
              0.4444444444444444,
              "#bd3786"
             ],
             [
              0.5555555555555556,
              "#d8576b"
             ],
             [
              0.6666666666666666,
              "#ed7953"
             ],
             [
              0.7777777777777778,
              "#fb9f3a"
             ],
             [
              0.8888888888888888,
              "#fdca26"
             ],
             [
              1,
              "#f0f921"
             ]
            ],
            "type": "surface"
           }
          ],
          "table": [
           {
            "cells": {
             "fill": {
              "color": "#EBF0F8"
             },
             "line": {
              "color": "white"
             }
            },
            "header": {
             "fill": {
              "color": "#C8D4E3"
             },
             "line": {
              "color": "white"
             }
            },
            "type": "table"
           }
          ]
         },
         "layout": {
          "annotationdefaults": {
           "arrowcolor": "#2a3f5f",
           "arrowhead": 0,
           "arrowwidth": 1
          },
          "coloraxis": {
           "colorbar": {
            "outlinewidth": 0,
            "ticks": ""
           }
          },
          "colorscale": {
           "diverging": [
            [
             0,
             "#8e0152"
            ],
            [
             0.1,
             "#c51b7d"
            ],
            [
             0.2,
             "#de77ae"
            ],
            [
             0.3,
             "#f1b6da"
            ],
            [
             0.4,
             "#fde0ef"
            ],
            [
             0.5,
             "#f7f7f7"
            ],
            [
             0.6,
             "#e6f5d0"
            ],
            [
             0.7,
             "#b8e186"
            ],
            [
             0.8,
             "#7fbc41"
            ],
            [
             0.9,
             "#4d9221"
            ],
            [
             1,
             "#276419"
            ]
           ],
           "sequential": [
            [
             0,
             "#0d0887"
            ],
            [
             0.1111111111111111,
             "#46039f"
            ],
            [
             0.2222222222222222,
             "#7201a8"
            ],
            [
             0.3333333333333333,
             "#9c179e"
            ],
            [
             0.4444444444444444,
             "#bd3786"
            ],
            [
             0.5555555555555556,
             "#d8576b"
            ],
            [
             0.6666666666666666,
             "#ed7953"
            ],
            [
             0.7777777777777778,
             "#fb9f3a"
            ],
            [
             0.8888888888888888,
             "#fdca26"
            ],
            [
             1,
             "#f0f921"
            ]
           ],
           "sequentialminus": [
            [
             0,
             "#0d0887"
            ],
            [
             0.1111111111111111,
             "#46039f"
            ],
            [
             0.2222222222222222,
             "#7201a8"
            ],
            [
             0.3333333333333333,
             "#9c179e"
            ],
            [
             0.4444444444444444,
             "#bd3786"
            ],
            [
             0.5555555555555556,
             "#d8576b"
            ],
            [
             0.6666666666666666,
             "#ed7953"
            ],
            [
             0.7777777777777778,
             "#fb9f3a"
            ],
            [
             0.8888888888888888,
             "#fdca26"
            ],
            [
             1,
             "#f0f921"
            ]
           ]
          },
          "colorway": [
           "#636efa",
           "#EF553B",
           "#00cc96",
           "#ab63fa",
           "#FFA15A",
           "#19d3f3",
           "#FF6692",
           "#B6E880",
           "#FF97FF",
           "#FECB52"
          ],
          "font": {
           "color": "#2a3f5f"
          },
          "geo": {
           "bgcolor": "white",
           "lakecolor": "white",
           "landcolor": "#E5ECF6",
           "showlakes": true,
           "showland": true,
           "subunitcolor": "white"
          },
          "hoverlabel": {
           "align": "left"
          },
          "hovermode": "closest",
          "mapbox": {
           "style": "light"
          },
          "paper_bgcolor": "white",
          "plot_bgcolor": "#E5ECF6",
          "polar": {
           "angularaxis": {
            "gridcolor": "white",
            "linecolor": "white",
            "ticks": ""
           },
           "bgcolor": "#E5ECF6",
           "radialaxis": {
            "gridcolor": "white",
            "linecolor": "white",
            "ticks": ""
           }
          },
          "scene": {
           "xaxis": {
            "backgroundcolor": "#E5ECF6",
            "gridcolor": "white",
            "gridwidth": 2,
            "linecolor": "white",
            "showbackground": true,
            "ticks": "",
            "zerolinecolor": "white"
           },
           "yaxis": {
            "backgroundcolor": "#E5ECF6",
            "gridcolor": "white",
            "gridwidth": 2,
            "linecolor": "white",
            "showbackground": true,
            "ticks": "",
            "zerolinecolor": "white"
           },
           "zaxis": {
            "backgroundcolor": "#E5ECF6",
            "gridcolor": "white",
            "gridwidth": 2,
            "linecolor": "white",
            "showbackground": true,
            "ticks": "",
            "zerolinecolor": "white"
           }
          },
          "shapedefaults": {
           "line": {
            "color": "#2a3f5f"
           }
          },
          "ternary": {
           "aaxis": {
            "gridcolor": "white",
            "linecolor": "white",
            "ticks": ""
           },
           "baxis": {
            "gridcolor": "white",
            "linecolor": "white",
            "ticks": ""
           },
           "bgcolor": "#E5ECF6",
           "caxis": {
            "gridcolor": "white",
            "linecolor": "white",
            "ticks": ""
           }
          },
          "title": {
           "x": 0.05
          },
          "xaxis": {
           "automargin": true,
           "gridcolor": "white",
           "linecolor": "white",
           "ticks": "",
           "title": {
            "standoff": 15
           },
           "zerolinecolor": "white",
           "zerolinewidth": 2
          },
          "yaxis": {
           "automargin": true,
           "gridcolor": "white",
           "linecolor": "white",
           "ticks": "",
           "title": {
            "standoff": 15
           },
           "zerolinecolor": "white",
           "zerolinewidth": 2
          }
         }
        },
        "title": {
         "text": "Supermarket Sales DB"
        },
        "xaxis": {
         "title": {
          "text": "Branch"
         }
        },
        "yaxis": {
         "title": {
          "text": "Gross income"
         }
        }
       },
       "_py2js_addTraces": {},
       "_py2js_animate": {},
       "_py2js_deleteTraces": {},
       "_py2js_moveTraces": {},
       "_py2js_removeLayoutProps": {},
       "_py2js_removeTraceProps": {},
       "_py2js_restyle": {},
       "_view_count": 1
      }
     },
     "b609458d3e264f2db04a7259b27f92ac": {
      "model_module": "@jupyter-widgets/controls",
      "model_module_version": "1.5.0",
      "model_name": "VBoxModel",
      "state": {
       "children": [
        "IPY_MODEL_a70d06d9e2654d9385fb2f87d63cf2b7",
        "IPY_MODEL_3a4bea31ed244f758c86814d0ed1c61b",
        "IPY_MODEL_a1d13c57fb4243cfa6d1f8355a88ba10"
       ],
       "layout": "IPY_MODEL_0fcc65e7db3f416186946caa912c3272"
      }
     },
     "b89c341d85d244d88376ad48ad9ebbc0": {
      "model_module": "@jupyter-widgets/base",
      "model_module_version": "1.2.0",
      "model_name": "LayoutModel",
      "state": {}
     },
     "baab8f3a6efd496698cf4a665f3d458f": {
      "model_module": "@jupyter-widgets/base",
      "model_module_version": "1.2.0",
      "model_name": "LayoutModel",
      "state": {}
     },
     "bbe31104b5134dfea65ecdd893972aa4": {
      "model_module": "@jupyter-widgets/controls",
      "model_module_version": "1.5.0",
      "model_name": "DropdownModel",
      "state": {
       "_options_labels": [
        "Health and beauty",
        "Electronic accessories",
        "Home and lifestyle",
        "Sports and travel",
        "Food and beverages",
        "Fashion accessories"
       ],
       "description": "Product Line:",
       "index": 5,
       "layout": "IPY_MODEL_9b71eebff17c4652979cebfda7be52e9",
       "style": "IPY_MODEL_03a3e1f0254d45aa804b460cd512f54d"
      }
     },
     "bcc54be599e54d81a94f0afd7a254a29": {
      "model_module": "@jupyter-widgets/controls",
      "model_module_version": "1.5.0",
      "model_name": "DescriptionStyleModel",
      "state": {
       "description_width": ""
      }
     },
     "bcc7d807160f4bccb07e0ab479a88284": {
      "model_module": "@jupyter-widgets/controls",
      "model_module_version": "1.5.0",
      "model_name": "DropdownModel",
      "state": {
       "_options_labels": [
        "Health and beauty",
        "Electronic accessories",
        "Home and lifestyle",
        "Sports and travel",
        "Food and beverages",
        "Fashion accessories"
       ],
       "description": "Product Line:",
       "index": 0,
       "layout": "IPY_MODEL_7111df7524f84565bb630317c8daee4e",
       "style": "IPY_MODEL_dd948d99fcc748ae97861b5302cca583"
      }
     },
     "bd6a79cb57ca4d9d92294f3400bf2f5a": {
      "model_module": "@jupyter-widgets/controls",
      "model_module_version": "1.5.0",
      "model_name": "VBoxModel",
      "state": {
       "children": [
        "IPY_MODEL_1eeebee4a3d34c91ad665d3e6d824918",
        "IPY_MODEL_56ba908003da4fcc8752b96a8ac97051",
        "IPY_MODEL_e4974c9a2ef7416cb6d9c4b60d258aa2"
       ],
       "layout": "IPY_MODEL_cf490b97bd534c969154b244652ce7e7"
      }
     },
     "bd76c8b9769f4d37b14b95a573c5f236": {
      "model_module": "@jupyter-widgets/base",
      "model_module_version": "1.2.0",
      "model_name": "LayoutModel",
      "state": {}
     },
     "bd8183faf8f8441fb967d93173602fa7": {
      "model_module": "@jupyter-widgets/controls",
      "model_module_version": "1.5.0",
      "model_name": "DescriptionStyleModel",
      "state": {
       "description_width": ""
      }
     },
     "bdc471cd69024051bd7b09c26ecb5020": {
      "model_module": "@jupyter-widgets/controls",
      "model_module_version": "1.5.0",
      "model_name": "CheckboxModel",
      "state": {
       "description": "Date: ",
       "disabled": false,
       "layout": "IPY_MODEL_9e159c571fde4d11b81b476e3546af04",
       "style": "IPY_MODEL_f643c25294334c8d98f94c969d4ccba6",
       "value": true
      }
     },
     "bf7523c6fb1142f481d5d75c5a67197b": {
      "model_module": "@jupyter-widgets/base",
      "model_module_version": "1.2.0",
      "model_name": "LayoutModel",
      "state": {}
     },
     "c012025396c343eb8c8c3db0a09402d4": {
      "model_module": "@jupyter-widgets/base",
      "model_module_version": "1.2.0",
      "model_name": "LayoutModel",
      "state": {}
     },
     "c02ae5e9ffbe48e585d11fff505041b2": {
      "model_module": "@jupyter-widgets/base",
      "model_module_version": "1.2.0",
      "model_name": "LayoutModel",
      "state": {}
     },
     "c0c40574d309499881a01fbdc112a573": {
      "model_module": "@jupyter-widgets/base",
      "model_module_version": "1.2.0",
      "model_name": "LayoutModel",
      "state": {}
     },
     "c1c7a862ef9e41bfa9dc82d45002ffb8": {
      "model_module": "@jupyter-widgets/controls",
      "model_module_version": "1.5.0",
      "model_name": "IntSliderModel",
      "state": {
       "continuous_update": false,
       "description": "Month:",
       "layout": "IPY_MODEL_8380df99b05346748f8d172e080f7f94",
       "max": 3,
       "min": 1,
       "style": "IPY_MODEL_4888a52364654175bb7a8a44f211a110",
       "value": 3
      }
     },
     "c1f7a6c6045a4d6cace3af2661ce1cac": {
      "model_module": "@jupyter-widgets/base",
      "model_module_version": "1.2.0",
      "model_name": "LayoutModel",
      "state": {}
     },
     "c2d70a5c828a46a69a0acb8ded3b838c": {
      "model_module": "@jupyter-widgets/controls",
      "model_module_version": "1.5.0",
      "model_name": "HBoxModel",
      "state": {
       "children": [
        "IPY_MODEL_e57907f6f7814cd2ac1ca019a7d25ff9",
        "IPY_MODEL_77cb19e5b0204766a0bc8457e4187e25"
       ],
       "layout": "IPY_MODEL_3f48f38d149b4a449603575d43753c04"
      }
     },
     "c3c39465971b4c53a836daa8806b9030": {
      "model_module": "@jupyter-widgets/base",
      "model_module_version": "1.2.0",
      "model_name": "LayoutModel",
      "state": {}
     },
     "c43f8f0fa4134246abf5e4e477a88182": {
      "model_module": "@jupyter-widgets/base",
      "model_module_version": "1.2.0",
      "model_name": "LayoutModel",
      "state": {}
     },
     "c55a481c00014631ae7d6424c155ff84": {
      "model_module": "@jupyter-widgets/controls",
      "model_module_version": "1.5.0",
      "model_name": "SliderStyleModel",
      "state": {
       "description_width": ""
      }
     },
     "c836db533be140349a47175bc8d112e6": {
      "model_module": "@jupyter-widgets/controls",
      "model_module_version": "1.5.0",
      "model_name": "DescriptionStyleModel",
      "state": {
       "description_width": ""
      }
     },
     "c89b7f19e39449a9a1114ae3a79e2017": {
      "model_module": "@jupyter-widgets/controls",
      "model_module_version": "1.5.0",
      "model_name": "DescriptionStyleModel",
      "state": {
       "description_width": ""
      }
     },
     "c8b2a2f655214a94bc24acbe1af0a641": {
      "model_module": "@jupyter-widgets/controls",
      "model_module_version": "1.5.0",
      "model_name": "VBoxModel",
      "state": {
       "children": [
        "IPY_MODEL_7d75007a884d4c32aad023f87c5d3bf8",
        "IPY_MODEL_7c6fcf1fdb7a4769a37783af1fb3700f",
        "IPY_MODEL_1f7745eabc66410f86278823bfcd0a2c"
       ],
       "layout": "IPY_MODEL_dbbea57fadf44560a3b109340c15deb6"
      }
     },
     "cb4c6209b8da4bd4a942034c4a4adc6a": {
      "model_module": "@jupyter-widgets/base",
      "model_module_version": "1.2.0",
      "model_name": "LayoutModel",
      "state": {}
     },
     "cef5a008c66241d4b2723e7d58b67a03": {
      "model_module": "@jupyter-widgets/base",
      "model_module_version": "1.2.0",
      "model_name": "LayoutModel",
      "state": {}
     },
     "cf0aad190d2b47629572ec179bb47589": {
      "model_module": "@jupyter-widgets/controls",
      "model_module_version": "1.5.0",
      "model_name": "DropdownModel",
      "state": {
       "_options_labels": [
        "Health and beauty",
        "Electronic accessories",
        "Home and lifestyle",
        "Sports and travel",
        "Food and beverages",
        "Fashion accessories"
       ],
       "description": "Product Line:",
       "index": 0,
       "layout": "IPY_MODEL_799a7c5655f9486ba426d01d4cf50022",
       "style": "IPY_MODEL_82e2400a04b8406fa0b0f8fe534f1182"
      }
     },
     "cf490b97bd534c969154b244652ce7e7": {
      "model_module": "@jupyter-widgets/base",
      "model_module_version": "1.2.0",
      "model_name": "LayoutModel",
      "state": {}
     },
     "cf5c195413b841109122ed6e29eb3147": {
      "model_module": "@jupyter-widgets/controls",
      "model_module_version": "1.5.0",
      "model_name": "DropdownModel",
      "state": {
       "_options_labels": [
        "Health and beauty",
        "Electronic accessories",
        "Home and lifestyle",
        "Sports and travel",
        "Food and beverages",
        "Fashion accessories"
       ],
       "description": "Product Line:",
       "index": 1,
       "layout": "IPY_MODEL_c3c39465971b4c53a836daa8806b9030",
       "style": "IPY_MODEL_9060c91aba7c488d9e0f9eb14ab11ec4"
      }
     },
     "d232a82afa224df8bf75560ddff8b46b": {
      "model_module": "@jupyter-widgets/controls",
      "model_module_version": "1.5.0",
      "model_name": "HBoxModel",
      "state": {
       "children": [
        "IPY_MODEL_36ef68d5745c4aa0bd41f05dd38e3ee2",
        "IPY_MODEL_014d23bc906242e1bbe233b35af38ba6"
       ],
       "layout": "IPY_MODEL_f3535a9727984a07987eb70c9d9e8431"
      }
     },
     "d40aa5480b414c62a8231efc7b8e2b7a": {
      "model_module": "@jupyter-widgets/base",
      "model_module_version": "1.2.0",
      "model_name": "LayoutModel",
      "state": {}
     },
     "d5d77dcfa05042f48192bab0eb51fd58": {
      "model_module": "@jupyter-widgets/controls",
      "model_module_version": "1.5.0",
      "model_name": "HBoxModel",
      "state": {
       "children": [
        "IPY_MODEL_bbe31104b5134dfea65ecdd893972aa4",
        "IPY_MODEL_f91282df575148feaae5a2c436791014"
       ],
       "layout": "IPY_MODEL_74ad1e41cea5470dbb63869a993ed6b0"
      }
     },
     "d5e932938b4546d2a14d9fc4a1dfa913": {
      "model_module": "@jupyter-widgets/controls",
      "model_module_version": "1.5.0",
      "model_name": "HBoxModel",
      "state": {
       "children": [
        "IPY_MODEL_dc70aae307f74e938cb5cca7d30aef13",
        "IPY_MODEL_80e36620e03743a0abaa1f879db71369"
       ],
       "layout": "IPY_MODEL_b89c341d85d244d88376ad48ad9ebbc0"
      }
     },
     "d7e146d0ba2b427d99ee42d06e0ac749": {
      "model_module": "@jupyter-widgets/base",
      "model_module_version": "1.2.0",
      "model_name": "LayoutModel",
      "state": {}
     },
     "d8b289d23fbc48b4b779086df8c2acaf": {
      "model_module": "@jupyter-widgets/base",
      "model_module_version": "1.2.0",
      "model_name": "LayoutModel",
      "state": {}
     },
     "d8d3d712b8924e448870b1c6b8896b18": {
      "model_module": "@jupyter-widgets/base",
      "model_module_version": "1.2.0",
      "model_name": "LayoutModel",
      "state": {}
     },
     "dbbea57fadf44560a3b109340c15deb6": {
      "model_module": "@jupyter-widgets/base",
      "model_module_version": "1.2.0",
      "model_name": "LayoutModel",
      "state": {}
     },
     "dc70aae307f74e938cb5cca7d30aef13": {
      "model_module": "@jupyter-widgets/controls",
      "model_module_version": "1.5.0",
      "model_name": "DropdownModel",
      "state": {
       "_options_labels": [
        "Health and beauty",
        "Electronic accessories",
        "Home and lifestyle",
        "Sports and travel",
        "Food and beverages",
        "Fashion accessories"
       ],
       "description": "Product Line:",
       "index": 0,
       "layout": "IPY_MODEL_3ec9d84d6bf6451090f457d8372f07d1",
       "style": "IPY_MODEL_4cd5cdc789b54c039aa42542e28c5ebd"
      }
     },
     "dd948d99fcc748ae97861b5302cca583": {
      "model_module": "@jupyter-widgets/controls",
      "model_module_version": "1.5.0",
      "model_name": "DescriptionStyleModel",
      "state": {
       "description_width": ""
      }
     },
     "e041bca585584915b91d827cf6109764": {
      "model_module": "@jupyter-widgets/base",
      "model_module_version": "1.2.0",
      "model_name": "LayoutModel",
      "state": {}
     },
     "e214e7461c5048b888fecc126ba326d4": {
      "model_module": "@jupyter-widgets/base",
      "model_module_version": "1.2.0",
      "model_name": "LayoutModel",
      "state": {}
     },
     "e4974c9a2ef7416cb6d9c4b60d258aa2": {
      "model_module": "plotlywidget",
      "model_module_version": "^4.9.0",
      "model_name": "FigureModel",
      "state": {
       "_config": {
        "plotlyServerURL": "https://plot.ly"
       },
       "_data": [
        {
         "opacity": 0.75,
         "type": "histogram",
         "uid": "465d417d-e3ab-4f94-b65d-535157f4179e",
         "x": []
        }
       ],
       "_js2py_restyle": {},
       "_js2py_update": {},
       "_last_layout_edit_id": 8,
       "_last_trace_edit_id": 7,
       "_layout": {
        "autosize": true,
        "barmode": "group",
        "template": {
         "data": {
          "bar": [
           {
            "error_x": {
             "color": "#2a3f5f"
            },
            "error_y": {
             "color": "#2a3f5f"
            },
            "marker": {
             "line": {
              "color": "#E5ECF6",
              "width": 0.5
             }
            },
            "type": "bar"
           }
          ],
          "barpolar": [
           {
            "marker": {
             "line": {
              "color": "#E5ECF6",
              "width": 0.5
             }
            },
            "type": "barpolar"
           }
          ],
          "carpet": [
           {
            "aaxis": {
             "endlinecolor": "#2a3f5f",
             "gridcolor": "white",
             "linecolor": "white",
             "minorgridcolor": "white",
             "startlinecolor": "#2a3f5f"
            },
            "baxis": {
             "endlinecolor": "#2a3f5f",
             "gridcolor": "white",
             "linecolor": "white",
             "minorgridcolor": "white",
             "startlinecolor": "#2a3f5f"
            },
            "type": "carpet"
           }
          ],
          "choropleth": [
           {
            "colorbar": {
             "outlinewidth": 0,
             "ticks": ""
            },
            "type": "choropleth"
           }
          ],
          "contour": [
           {
            "colorbar": {
             "outlinewidth": 0,
             "ticks": ""
            },
            "colorscale": [
             [
              0,
              "#0d0887"
             ],
             [
              0.1111111111111111,
              "#46039f"
             ],
             [
              0.2222222222222222,
              "#7201a8"
             ],
             [
              0.3333333333333333,
              "#9c179e"
             ],
             [
              0.4444444444444444,
              "#bd3786"
             ],
             [
              0.5555555555555556,
              "#d8576b"
             ],
             [
              0.6666666666666666,
              "#ed7953"
             ],
             [
              0.7777777777777778,
              "#fb9f3a"
             ],
             [
              0.8888888888888888,
              "#fdca26"
             ],
             [
              1,
              "#f0f921"
             ]
            ],
            "type": "contour"
           }
          ],
          "contourcarpet": [
           {
            "colorbar": {
             "outlinewidth": 0,
             "ticks": ""
            },
            "type": "contourcarpet"
           }
          ],
          "heatmap": [
           {
            "colorbar": {
             "outlinewidth": 0,
             "ticks": ""
            },
            "colorscale": [
             [
              0,
              "#0d0887"
             ],
             [
              0.1111111111111111,
              "#46039f"
             ],
             [
              0.2222222222222222,
              "#7201a8"
             ],
             [
              0.3333333333333333,
              "#9c179e"
             ],
             [
              0.4444444444444444,
              "#bd3786"
             ],
             [
              0.5555555555555556,
              "#d8576b"
             ],
             [
              0.6666666666666666,
              "#ed7953"
             ],
             [
              0.7777777777777778,
              "#fb9f3a"
             ],
             [
              0.8888888888888888,
              "#fdca26"
             ],
             [
              1,
              "#f0f921"
             ]
            ],
            "type": "heatmap"
           }
          ],
          "heatmapgl": [
           {
            "colorbar": {
             "outlinewidth": 0,
             "ticks": ""
            },
            "colorscale": [
             [
              0,
              "#0d0887"
             ],
             [
              0.1111111111111111,
              "#46039f"
             ],
             [
              0.2222222222222222,
              "#7201a8"
             ],
             [
              0.3333333333333333,
              "#9c179e"
             ],
             [
              0.4444444444444444,
              "#bd3786"
             ],
             [
              0.5555555555555556,
              "#d8576b"
             ],
             [
              0.6666666666666666,
              "#ed7953"
             ],
             [
              0.7777777777777778,
              "#fb9f3a"
             ],
             [
              0.8888888888888888,
              "#fdca26"
             ],
             [
              1,
              "#f0f921"
             ]
            ],
            "type": "heatmapgl"
           }
          ],
          "histogram": [
           {
            "marker": {
             "colorbar": {
              "outlinewidth": 0,
              "ticks": ""
             }
            },
            "type": "histogram"
           }
          ],
          "histogram2d": [
           {
            "colorbar": {
             "outlinewidth": 0,
             "ticks": ""
            },
            "colorscale": [
             [
              0,
              "#0d0887"
             ],
             [
              0.1111111111111111,
              "#46039f"
             ],
             [
              0.2222222222222222,
              "#7201a8"
             ],
             [
              0.3333333333333333,
              "#9c179e"
             ],
             [
              0.4444444444444444,
              "#bd3786"
             ],
             [
              0.5555555555555556,
              "#d8576b"
             ],
             [
              0.6666666666666666,
              "#ed7953"
             ],
             [
              0.7777777777777778,
              "#fb9f3a"
             ],
             [
              0.8888888888888888,
              "#fdca26"
             ],
             [
              1,
              "#f0f921"
             ]
            ],
            "type": "histogram2d"
           }
          ],
          "histogram2dcontour": [
           {
            "colorbar": {
             "outlinewidth": 0,
             "ticks": ""
            },
            "colorscale": [
             [
              0,
              "#0d0887"
             ],
             [
              0.1111111111111111,
              "#46039f"
             ],
             [
              0.2222222222222222,
              "#7201a8"
             ],
             [
              0.3333333333333333,
              "#9c179e"
             ],
             [
              0.4444444444444444,
              "#bd3786"
             ],
             [
              0.5555555555555556,
              "#d8576b"
             ],
             [
              0.6666666666666666,
              "#ed7953"
             ],
             [
              0.7777777777777778,
              "#fb9f3a"
             ],
             [
              0.8888888888888888,
              "#fdca26"
             ],
             [
              1,
              "#f0f921"
             ]
            ],
            "type": "histogram2dcontour"
           }
          ],
          "mesh3d": [
           {
            "colorbar": {
             "outlinewidth": 0,
             "ticks": ""
            },
            "type": "mesh3d"
           }
          ],
          "parcoords": [
           {
            "line": {
             "colorbar": {
              "outlinewidth": 0,
              "ticks": ""
             }
            },
            "type": "parcoords"
           }
          ],
          "pie": [
           {
            "automargin": true,
            "type": "pie"
           }
          ],
          "scatter": [
           {
            "marker": {
             "colorbar": {
              "outlinewidth": 0,
              "ticks": ""
             }
            },
            "type": "scatter"
           }
          ],
          "scatter3d": [
           {
            "line": {
             "colorbar": {
              "outlinewidth": 0,
              "ticks": ""
             }
            },
            "marker": {
             "colorbar": {
              "outlinewidth": 0,
              "ticks": ""
             }
            },
            "type": "scatter3d"
           }
          ],
          "scattercarpet": [
           {
            "marker": {
             "colorbar": {
              "outlinewidth": 0,
              "ticks": ""
             }
            },
            "type": "scattercarpet"
           }
          ],
          "scattergeo": [
           {
            "marker": {
             "colorbar": {
              "outlinewidth": 0,
              "ticks": ""
             }
            },
            "type": "scattergeo"
           }
          ],
          "scattergl": [
           {
            "marker": {
             "colorbar": {
              "outlinewidth": 0,
              "ticks": ""
             }
            },
            "type": "scattergl"
           }
          ],
          "scattermapbox": [
           {
            "marker": {
             "colorbar": {
              "outlinewidth": 0,
              "ticks": ""
             }
            },
            "type": "scattermapbox"
           }
          ],
          "scatterpolar": [
           {
            "marker": {
             "colorbar": {
              "outlinewidth": 0,
              "ticks": ""
             }
            },
            "type": "scatterpolar"
           }
          ],
          "scatterpolargl": [
           {
            "marker": {
             "colorbar": {
              "outlinewidth": 0,
              "ticks": ""
             }
            },
            "type": "scatterpolargl"
           }
          ],
          "scatterternary": [
           {
            "marker": {
             "colorbar": {
              "outlinewidth": 0,
              "ticks": ""
             }
            },
            "type": "scatterternary"
           }
          ],
          "surface": [
           {
            "colorbar": {
             "outlinewidth": 0,
             "ticks": ""
            },
            "colorscale": [
             [
              0,
              "#0d0887"
             ],
             [
              0.1111111111111111,
              "#46039f"
             ],
             [
              0.2222222222222222,
              "#7201a8"
             ],
             [
              0.3333333333333333,
              "#9c179e"
             ],
             [
              0.4444444444444444,
              "#bd3786"
             ],
             [
              0.5555555555555556,
              "#d8576b"
             ],
             [
              0.6666666666666666,
              "#ed7953"
             ],
             [
              0.7777777777777778,
              "#fb9f3a"
             ],
             [
              0.8888888888888888,
              "#fdca26"
             ],
             [
              1,
              "#f0f921"
             ]
            ],
            "type": "surface"
           }
          ],
          "table": [
           {
            "cells": {
             "fill": {
              "color": "#EBF0F8"
             },
             "line": {
              "color": "white"
             }
            },
            "header": {
             "fill": {
              "color": "#C8D4E3"
             },
             "line": {
              "color": "white"
             }
            },
            "type": "table"
           }
          ]
         },
         "layout": {
          "annotationdefaults": {
           "arrowcolor": "#2a3f5f",
           "arrowhead": 0,
           "arrowwidth": 1
          },
          "coloraxis": {
           "colorbar": {
            "outlinewidth": 0,
            "ticks": ""
           }
          },
          "colorscale": {
           "diverging": [
            [
             0,
             "#8e0152"
            ],
            [
             0.1,
             "#c51b7d"
            ],
            [
             0.2,
             "#de77ae"
            ],
            [
             0.3,
             "#f1b6da"
            ],
            [
             0.4,
             "#fde0ef"
            ],
            [
             0.5,
             "#f7f7f7"
            ],
            [
             0.6,
             "#e6f5d0"
            ],
            [
             0.7,
             "#b8e186"
            ],
            [
             0.8,
             "#7fbc41"
            ],
            [
             0.9,
             "#4d9221"
            ],
            [
             1,
             "#276419"
            ]
           ],
           "sequential": [
            [
             0,
             "#0d0887"
            ],
            [
             0.1111111111111111,
             "#46039f"
            ],
            [
             0.2222222222222222,
             "#7201a8"
            ],
            [
             0.3333333333333333,
             "#9c179e"
            ],
            [
             0.4444444444444444,
             "#bd3786"
            ],
            [
             0.5555555555555556,
             "#d8576b"
            ],
            [
             0.6666666666666666,
             "#ed7953"
            ],
            [
             0.7777777777777778,
             "#fb9f3a"
            ],
            [
             0.8888888888888888,
             "#fdca26"
            ],
            [
             1,
             "#f0f921"
            ]
           ],
           "sequentialminus": [
            [
             0,
             "#0d0887"
            ],
            [
             0.1111111111111111,
             "#46039f"
            ],
            [
             0.2222222222222222,
             "#7201a8"
            ],
            [
             0.3333333333333333,
             "#9c179e"
            ],
            [
             0.4444444444444444,
             "#bd3786"
            ],
            [
             0.5555555555555556,
             "#d8576b"
            ],
            [
             0.6666666666666666,
             "#ed7953"
            ],
            [
             0.7777777777777778,
             "#fb9f3a"
            ],
            [
             0.8888888888888888,
             "#fdca26"
            ],
            [
             1,
             "#f0f921"
            ]
           ]
          },
          "colorway": [
           "#636efa",
           "#EF553B",
           "#00cc96",
           "#ab63fa",
           "#FFA15A",
           "#19d3f3",
           "#FF6692",
           "#B6E880",
           "#FF97FF",
           "#FECB52"
          ],
          "font": {
           "color": "#2a3f5f"
          },
          "geo": {
           "bgcolor": "white",
           "lakecolor": "white",
           "landcolor": "#E5ECF6",
           "showlakes": true,
           "showland": true,
           "subunitcolor": "white"
          },
          "hoverlabel": {
           "align": "left"
          },
          "hovermode": "closest",
          "mapbox": {
           "style": "light"
          },
          "paper_bgcolor": "white",
          "plot_bgcolor": "#E5ECF6",
          "polar": {
           "angularaxis": {
            "gridcolor": "white",
            "linecolor": "white",
            "ticks": ""
           },
           "bgcolor": "#E5ECF6",
           "radialaxis": {
            "gridcolor": "white",
            "linecolor": "white",
            "ticks": ""
           }
          },
          "scene": {
           "xaxis": {
            "backgroundcolor": "#E5ECF6",
            "gridcolor": "white",
            "gridwidth": 2,
            "linecolor": "white",
            "showbackground": true,
            "ticks": "",
            "zerolinecolor": "white"
           },
           "yaxis": {
            "backgroundcolor": "#E5ECF6",
            "gridcolor": "white",
            "gridwidth": 2,
            "linecolor": "white",
            "showbackground": true,
            "ticks": "",
            "zerolinecolor": "white"
           },
           "zaxis": {
            "backgroundcolor": "#E5ECF6",
            "gridcolor": "white",
            "gridwidth": 2,
            "linecolor": "white",
            "showbackground": true,
            "ticks": "",
            "zerolinecolor": "white"
           }
          },
          "shapedefaults": {
           "line": {
            "color": "#2a3f5f"
           }
          },
          "ternary": {
           "aaxis": {
            "gridcolor": "white",
            "linecolor": "white",
            "ticks": ""
           },
           "baxis": {
            "gridcolor": "white",
            "linecolor": "white",
            "ticks": ""
           },
           "bgcolor": "#E5ECF6",
           "caxis": {
            "gridcolor": "white",
            "linecolor": "white",
            "ticks": ""
           }
          },
          "title": {
           "x": 0.05
          },
          "xaxis": {
           "automargin": true,
           "gridcolor": "white",
           "linecolor": "white",
           "ticks": "",
           "title": {
            "standoff": 15
           },
           "zerolinecolor": "white",
           "zerolinewidth": 2
          },
          "yaxis": {
           "automargin": true,
           "gridcolor": "white",
           "linecolor": "white",
           "ticks": "",
           "title": {
            "standoff": 15
           },
           "zerolinecolor": "white",
           "zerolinewidth": 2
          }
         }
        },
        "title": {
         "text": "Supermarket Sales DB"
        },
        "xaxis": {
         "title": {
          "text": "Branch"
         }
        },
        "yaxis": {
         "title": {
          "text": "Gross income"
         }
        }
       },
       "_py2js_addTraces": {},
       "_py2js_animate": {},
       "_py2js_deleteTraces": {},
       "_py2js_moveTraces": {},
       "_py2js_removeLayoutProps": {},
       "_py2js_removeTraceProps": {},
       "_py2js_restyle": {},
       "_view_count": 0
      }
     },
     "e57907f6f7814cd2ac1ca019a7d25ff9": {
      "model_module": "@jupyter-widgets/controls",
      "model_module_version": "1.5.0",
      "model_name": "DropdownModel",
      "state": {
       "_options_labels": [
        "Health and beauty",
        "Electronic accessories",
        "Home and lifestyle",
        "Sports and travel",
        "Food and beverages",
        "Fashion accessories"
       ],
       "description": "Product Line:",
       "index": 0,
       "layout": "IPY_MODEL_8c1eff4b6ca841759bbbca0a1c10e2fe",
       "style": "IPY_MODEL_3819872bc86148689e8cd3bb73eb4bae"
      }
     },
     "e57e54bf3f2a4e70ba517ae4d054e2ae": {
      "model_module": "@jupyter-widgets/controls",
      "model_module_version": "1.5.0",
      "model_name": "IntSliderModel",
      "state": {
       "continuous_update": false,
       "description": "Month:",
       "layout": "IPY_MODEL_0d8dd994e989444e82fd65612229ecc4",
       "max": 3,
       "min": 1,
       "style": "IPY_MODEL_17b94bb4164d4f5b9ada9bd0f35ebf23",
       "value": 1
      }
     },
     "e68eac918c6c46c9842700fe56347d4b": {
      "model_module": "@jupyter-widgets/base",
      "model_module_version": "1.2.0",
      "model_name": "LayoutModel",
      "state": {}
     },
     "e8149f2c4b6d40ba9221dac1e4dc17dd": {
      "model_module": "@jupyter-widgets/base",
      "model_module_version": "1.2.0",
      "model_name": "LayoutModel",
      "state": {}
     },
     "e90eb4bfd60f402c84c412fca9eae076": {
      "model_module": "@jupyter-widgets/base",
      "model_module_version": "1.2.0",
      "model_name": "LayoutModel",
      "state": {}
     },
     "ed5aa284f5a749289ad12ba9c103e20d": {
      "model_module": "@jupyter-widgets/base",
      "model_module_version": "1.2.0",
      "model_name": "LayoutModel",
      "state": {}
     },
     "efacead0e187419d86eb35d210bfe123": {
      "model_module": "@jupyter-widgets/base",
      "model_module_version": "1.2.0",
      "model_name": "LayoutModel",
      "state": {}
     },
     "efc7d17670d948be978c778e7682509f": {
      "model_module": "@jupyter-widgets/base",
      "model_module_version": "1.2.0",
      "model_name": "LayoutModel",
      "state": {}
     },
     "f1e3cfb3de1343969ca0d11f82747b8a": {
      "model_module": "@jupyter-widgets/base",
      "model_module_version": "1.2.0",
      "model_name": "LayoutModel",
      "state": {}
     },
     "f3535a9727984a07987eb70c9d9e8431": {
      "model_module": "@jupyter-widgets/base",
      "model_module_version": "1.2.0",
      "model_name": "LayoutModel",
      "state": {}
     },
     "f643c25294334c8d98f94c969d4ccba6": {
      "model_module": "@jupyter-widgets/controls",
      "model_module_version": "1.5.0",
      "model_name": "DescriptionStyleModel",
      "state": {
       "description_width": ""
      }
     },
     "f66c5ddf2f444da7b74429967a049e4e": {
      "model_module": "plotlywidget",
      "model_module_version": "^4.9.0",
      "model_name": "FigureModel",
      "state": {
       "_config": {
        "plotlyServerURL": "https://plot.ly"
       },
       "_data": [
        {
         "opacity": 0.75,
         "type": "histogram",
         "uid": "c1ff61a4-5ef3-4442-a900-d7095f665f1b",
         "x": [
          "A",
          "B",
          "A",
          "A",
          "C",
          "B",
          "A",
          "B",
          "A",
          "B",
          "C",
          "B",
          "B",
          "C",
          "C",
          "A",
          "B",
          "B",
          "A",
          "C",
          "C",
          "C",
          "C",
          "B",
          "B",
          "A",
          "C",
          "A",
          "A",
          "B",
          "B",
          "B",
          "C",
          "A",
          "B",
          "A",
          "B",
          "A",
          "A",
          "B",
          "A",
          "B",
          "B",
          "C",
          "A",
          "C",
          "B",
          "A",
          "A",
          "C",
          "B",
          "B",
          "B",
          "A",
          "C",
          "C",
          "C",
          "A",
          "B",
          "B",
          "A",
          "C",
          "C",
          "A",
          "C",
          "C",
          "C",
          "C",
          "B",
          "B",
          "B",
          "B",
          "A",
          "C",
          "B",
          "C",
          "B",
          "C",
          "C",
          "C",
          "A",
          "A",
          "B",
          "A",
          "C",
          "B",
          "B",
          "C"
         ]
        }
       ],
       "_js2py_restyle": {},
       "_js2py_update": {},
       "_last_layout_edit_id": 13,
       "_last_trace_edit_id": 12,
       "_layout": {
        "autosize": true,
        "barmode": "group",
        "template": {
         "data": {
          "bar": [
           {
            "error_x": {
             "color": "#2a3f5f"
            },
            "error_y": {
             "color": "#2a3f5f"
            },
            "marker": {
             "line": {
              "color": "#E5ECF6",
              "width": 0.5
             }
            },
            "type": "bar"
           }
          ],
          "barpolar": [
           {
            "marker": {
             "line": {
              "color": "#E5ECF6",
              "width": 0.5
             }
            },
            "type": "barpolar"
           }
          ],
          "carpet": [
           {
            "aaxis": {
             "endlinecolor": "#2a3f5f",
             "gridcolor": "white",
             "linecolor": "white",
             "minorgridcolor": "white",
             "startlinecolor": "#2a3f5f"
            },
            "baxis": {
             "endlinecolor": "#2a3f5f",
             "gridcolor": "white",
             "linecolor": "white",
             "minorgridcolor": "white",
             "startlinecolor": "#2a3f5f"
            },
            "type": "carpet"
           }
          ],
          "choropleth": [
           {
            "colorbar": {
             "outlinewidth": 0,
             "ticks": ""
            },
            "type": "choropleth"
           }
          ],
          "contour": [
           {
            "colorbar": {
             "outlinewidth": 0,
             "ticks": ""
            },
            "colorscale": [
             [
              0,
              "#0d0887"
             ],
             [
              0.1111111111111111,
              "#46039f"
             ],
             [
              0.2222222222222222,
              "#7201a8"
             ],
             [
              0.3333333333333333,
              "#9c179e"
             ],
             [
              0.4444444444444444,
              "#bd3786"
             ],
             [
              0.5555555555555556,
              "#d8576b"
             ],
             [
              0.6666666666666666,
              "#ed7953"
             ],
             [
              0.7777777777777778,
              "#fb9f3a"
             ],
             [
              0.8888888888888888,
              "#fdca26"
             ],
             [
              1,
              "#f0f921"
             ]
            ],
            "type": "contour"
           }
          ],
          "contourcarpet": [
           {
            "colorbar": {
             "outlinewidth": 0,
             "ticks": ""
            },
            "type": "contourcarpet"
           }
          ],
          "heatmap": [
           {
            "colorbar": {
             "outlinewidth": 0,
             "ticks": ""
            },
            "colorscale": [
             [
              0,
              "#0d0887"
             ],
             [
              0.1111111111111111,
              "#46039f"
             ],
             [
              0.2222222222222222,
              "#7201a8"
             ],
             [
              0.3333333333333333,
              "#9c179e"
             ],
             [
              0.4444444444444444,
              "#bd3786"
             ],
             [
              0.5555555555555556,
              "#d8576b"
             ],
             [
              0.6666666666666666,
              "#ed7953"
             ],
             [
              0.7777777777777778,
              "#fb9f3a"
             ],
             [
              0.8888888888888888,
              "#fdca26"
             ],
             [
              1,
              "#f0f921"
             ]
            ],
            "type": "heatmap"
           }
          ],
          "heatmapgl": [
           {
            "colorbar": {
             "outlinewidth": 0,
             "ticks": ""
            },
            "colorscale": [
             [
              0,
              "#0d0887"
             ],
             [
              0.1111111111111111,
              "#46039f"
             ],
             [
              0.2222222222222222,
              "#7201a8"
             ],
             [
              0.3333333333333333,
              "#9c179e"
             ],
             [
              0.4444444444444444,
              "#bd3786"
             ],
             [
              0.5555555555555556,
              "#d8576b"
             ],
             [
              0.6666666666666666,
              "#ed7953"
             ],
             [
              0.7777777777777778,
              "#fb9f3a"
             ],
             [
              0.8888888888888888,
              "#fdca26"
             ],
             [
              1,
              "#f0f921"
             ]
            ],
            "type": "heatmapgl"
           }
          ],
          "histogram": [
           {
            "marker": {
             "colorbar": {
              "outlinewidth": 0,
              "ticks": ""
             }
            },
            "type": "histogram"
           }
          ],
          "histogram2d": [
           {
            "colorbar": {
             "outlinewidth": 0,
             "ticks": ""
            },
            "colorscale": [
             [
              0,
              "#0d0887"
             ],
             [
              0.1111111111111111,
              "#46039f"
             ],
             [
              0.2222222222222222,
              "#7201a8"
             ],
             [
              0.3333333333333333,
              "#9c179e"
             ],
             [
              0.4444444444444444,
              "#bd3786"
             ],
             [
              0.5555555555555556,
              "#d8576b"
             ],
             [
              0.6666666666666666,
              "#ed7953"
             ],
             [
              0.7777777777777778,
              "#fb9f3a"
             ],
             [
              0.8888888888888888,
              "#fdca26"
             ],
             [
              1,
              "#f0f921"
             ]
            ],
            "type": "histogram2d"
           }
          ],
          "histogram2dcontour": [
           {
            "colorbar": {
             "outlinewidth": 0,
             "ticks": ""
            },
            "colorscale": [
             [
              0,
              "#0d0887"
             ],
             [
              0.1111111111111111,
              "#46039f"
             ],
             [
              0.2222222222222222,
              "#7201a8"
             ],
             [
              0.3333333333333333,
              "#9c179e"
             ],
             [
              0.4444444444444444,
              "#bd3786"
             ],
             [
              0.5555555555555556,
              "#d8576b"
             ],
             [
              0.6666666666666666,
              "#ed7953"
             ],
             [
              0.7777777777777778,
              "#fb9f3a"
             ],
             [
              0.8888888888888888,
              "#fdca26"
             ],
             [
              1,
              "#f0f921"
             ]
            ],
            "type": "histogram2dcontour"
           }
          ],
          "mesh3d": [
           {
            "colorbar": {
             "outlinewidth": 0,
             "ticks": ""
            },
            "type": "mesh3d"
           }
          ],
          "parcoords": [
           {
            "line": {
             "colorbar": {
              "outlinewidth": 0,
              "ticks": ""
             }
            },
            "type": "parcoords"
           }
          ],
          "pie": [
           {
            "automargin": true,
            "type": "pie"
           }
          ],
          "scatter": [
           {
            "marker": {
             "colorbar": {
              "outlinewidth": 0,
              "ticks": ""
             }
            },
            "type": "scatter"
           }
          ],
          "scatter3d": [
           {
            "line": {
             "colorbar": {
              "outlinewidth": 0,
              "ticks": ""
             }
            },
            "marker": {
             "colorbar": {
              "outlinewidth": 0,
              "ticks": ""
             }
            },
            "type": "scatter3d"
           }
          ],
          "scattercarpet": [
           {
            "marker": {
             "colorbar": {
              "outlinewidth": 0,
              "ticks": ""
             }
            },
            "type": "scattercarpet"
           }
          ],
          "scattergeo": [
           {
            "marker": {
             "colorbar": {
              "outlinewidth": 0,
              "ticks": ""
             }
            },
            "type": "scattergeo"
           }
          ],
          "scattergl": [
           {
            "marker": {
             "colorbar": {
              "outlinewidth": 0,
              "ticks": ""
             }
            },
            "type": "scattergl"
           }
          ],
          "scattermapbox": [
           {
            "marker": {
             "colorbar": {
              "outlinewidth": 0,
              "ticks": ""
             }
            },
            "type": "scattermapbox"
           }
          ],
          "scatterpolar": [
           {
            "marker": {
             "colorbar": {
              "outlinewidth": 0,
              "ticks": ""
             }
            },
            "type": "scatterpolar"
           }
          ],
          "scatterpolargl": [
           {
            "marker": {
             "colorbar": {
              "outlinewidth": 0,
              "ticks": ""
             }
            },
            "type": "scatterpolargl"
           }
          ],
          "scatterternary": [
           {
            "marker": {
             "colorbar": {
              "outlinewidth": 0,
              "ticks": ""
             }
            },
            "type": "scatterternary"
           }
          ],
          "surface": [
           {
            "colorbar": {
             "outlinewidth": 0,
             "ticks": ""
            },
            "colorscale": [
             [
              0,
              "#0d0887"
             ],
             [
              0.1111111111111111,
              "#46039f"
             ],
             [
              0.2222222222222222,
              "#7201a8"
             ],
             [
              0.3333333333333333,
              "#9c179e"
             ],
             [
              0.4444444444444444,
              "#bd3786"
             ],
             [
              0.5555555555555556,
              "#d8576b"
             ],
             [
              0.6666666666666666,
              "#ed7953"
             ],
             [
              0.7777777777777778,
              "#fb9f3a"
             ],
             [
              0.8888888888888888,
              "#fdca26"
             ],
             [
              1,
              "#f0f921"
             ]
            ],
            "type": "surface"
           }
          ],
          "table": [
           {
            "cells": {
             "fill": {
              "color": "#EBF0F8"
             },
             "line": {
              "color": "white"
             }
            },
            "header": {
             "fill": {
              "color": "#C8D4E3"
             },
             "line": {
              "color": "white"
             }
            },
            "type": "table"
           }
          ]
         },
         "layout": {
          "annotationdefaults": {
           "arrowcolor": "#2a3f5f",
           "arrowhead": 0,
           "arrowwidth": 1
          },
          "coloraxis": {
           "colorbar": {
            "outlinewidth": 0,
            "ticks": ""
           }
          },
          "colorscale": {
           "diverging": [
            [
             0,
             "#8e0152"
            ],
            [
             0.1,
             "#c51b7d"
            ],
            [
             0.2,
             "#de77ae"
            ],
            [
             0.3,
             "#f1b6da"
            ],
            [
             0.4,
             "#fde0ef"
            ],
            [
             0.5,
             "#f7f7f7"
            ],
            [
             0.6,
             "#e6f5d0"
            ],
            [
             0.7,
             "#b8e186"
            ],
            [
             0.8,
             "#7fbc41"
            ],
            [
             0.9,
             "#4d9221"
            ],
            [
             1,
             "#276419"
            ]
           ],
           "sequential": [
            [
             0,
             "#0d0887"
            ],
            [
             0.1111111111111111,
             "#46039f"
            ],
            [
             0.2222222222222222,
             "#7201a8"
            ],
            [
             0.3333333333333333,
             "#9c179e"
            ],
            [
             0.4444444444444444,
             "#bd3786"
            ],
            [
             0.5555555555555556,
             "#d8576b"
            ],
            [
             0.6666666666666666,
             "#ed7953"
            ],
            [
             0.7777777777777778,
             "#fb9f3a"
            ],
            [
             0.8888888888888888,
             "#fdca26"
            ],
            [
             1,
             "#f0f921"
            ]
           ],
           "sequentialminus": [
            [
             0,
             "#0d0887"
            ],
            [
             0.1111111111111111,
             "#46039f"
            ],
            [
             0.2222222222222222,
             "#7201a8"
            ],
            [
             0.3333333333333333,
             "#9c179e"
            ],
            [
             0.4444444444444444,
             "#bd3786"
            ],
            [
             0.5555555555555556,
             "#d8576b"
            ],
            [
             0.6666666666666666,
             "#ed7953"
            ],
            [
             0.7777777777777778,
             "#fb9f3a"
            ],
            [
             0.8888888888888888,
             "#fdca26"
            ],
            [
             1,
             "#f0f921"
            ]
           ]
          },
          "colorway": [
           "#636efa",
           "#EF553B",
           "#00cc96",
           "#ab63fa",
           "#FFA15A",
           "#19d3f3",
           "#FF6692",
           "#B6E880",
           "#FF97FF",
           "#FECB52"
          ],
          "font": {
           "color": "#2a3f5f"
          },
          "geo": {
           "bgcolor": "white",
           "lakecolor": "white",
           "landcolor": "#E5ECF6",
           "showlakes": true,
           "showland": true,
           "subunitcolor": "white"
          },
          "hoverlabel": {
           "align": "left"
          },
          "hovermode": "closest",
          "mapbox": {
           "style": "light"
          },
          "paper_bgcolor": "white",
          "plot_bgcolor": "#E5ECF6",
          "polar": {
           "angularaxis": {
            "gridcolor": "white",
            "linecolor": "white",
            "ticks": ""
           },
           "bgcolor": "#E5ECF6",
           "radialaxis": {
            "gridcolor": "white",
            "linecolor": "white",
            "ticks": ""
           }
          },
          "scene": {
           "xaxis": {
            "backgroundcolor": "#E5ECF6",
            "gridcolor": "white",
            "gridwidth": 2,
            "linecolor": "white",
            "showbackground": true,
            "ticks": "",
            "zerolinecolor": "white"
           },
           "yaxis": {
            "backgroundcolor": "#E5ECF6",
            "gridcolor": "white",
            "gridwidth": 2,
            "linecolor": "white",
            "showbackground": true,
            "ticks": "",
            "zerolinecolor": "white"
           },
           "zaxis": {
            "backgroundcolor": "#E5ECF6",
            "gridcolor": "white",
            "gridwidth": 2,
            "linecolor": "white",
            "showbackground": true,
            "ticks": "",
            "zerolinecolor": "white"
           }
          },
          "shapedefaults": {
           "line": {
            "color": "#2a3f5f"
           }
          },
          "ternary": {
           "aaxis": {
            "gridcolor": "white",
            "linecolor": "white",
            "ticks": ""
           },
           "baxis": {
            "gridcolor": "white",
            "linecolor": "white",
            "ticks": ""
           },
           "bgcolor": "#E5ECF6",
           "caxis": {
            "gridcolor": "white",
            "linecolor": "white",
            "ticks": ""
           }
          },
          "title": {
           "x": 0.05
          },
          "xaxis": {
           "automargin": true,
           "gridcolor": "white",
           "linecolor": "white",
           "ticks": "",
           "title": {
            "standoff": 15
           },
           "zerolinecolor": "white",
           "zerolinewidth": 2
          },
          "yaxis": {
           "automargin": true,
           "gridcolor": "white",
           "linecolor": "white",
           "ticks": "",
           "title": {
            "standoff": 15
           },
           "zerolinecolor": "white",
           "zerolinewidth": 2
          }
         }
        },
        "title": {
         "text": "Supermarket Sales DB"
        },
        "xaxis": {
         "title": {
          "text": "Branch"
         }
        },
        "yaxis": {
         "title": {
          "text": "Gross income"
         }
        }
       },
       "_py2js_addTraces": {},
       "_py2js_animate": {},
       "_py2js_deleteTraces": {},
       "_py2js_moveTraces": {},
       "_py2js_removeLayoutProps": {},
       "_py2js_removeTraceProps": {},
       "_py2js_restyle": {},
       "_view_count": 0
      }
     },
     "f78f5f7c83cc44268e6299f88d14b8b4": {
      "model_module": "@jupyter-widgets/base",
      "model_module_version": "1.2.0",
      "model_name": "LayoutModel",
      "state": {}
     },
     "f91282df575148feaae5a2c436791014": {
      "model_module": "@jupyter-widgets/controls",
      "model_module_version": "1.5.0",
      "model_name": "DropdownModel",
      "state": {
       "_options_labels": [
        "Female",
        "Male"
       ],
       "description": "Gender:  ",
       "index": 1,
       "layout": "IPY_MODEL_49b8e37c493d4673bc312ecfa7f569d7",
       "style": "IPY_MODEL_1212153c7a7944b09656a926087c7f1e"
      }
     },
     "f91dc4aea3274ae6ab91b9ecf6ba27a9": {
      "model_module": "@jupyter-widgets/controls",
      "model_module_version": "1.5.0",
      "model_name": "HBoxModel",
      "state": {
       "children": [
        "IPY_MODEL_8351399dd9174437ad3ab2029862e520",
        "IPY_MODEL_842f5f3fe3d2438ba3da8a49c10448a3"
       ],
       "layout": "IPY_MODEL_1449c7a54c0d4ef682039fdf8ab00b7b"
      }
     },
     "f92231f4bada45fb994115caaf3bdbb0": {
      "model_module": "@jupyter-widgets/controls",
      "model_module_version": "1.5.0",
      "model_name": "HBoxModel",
      "state": {
       "children": [
        "IPY_MODEL_5485428c4a8941c49e1f9d0b7de130be",
        "IPY_MODEL_22f770b9b23541ce85c350d8ef31f459"
       ],
       "layout": "IPY_MODEL_2c949213950842feb36a8de476474314"
      }
     },
     "f9718738b57f4dcc81b9ad3da10104dc": {
      "model_module": "@jupyter-widgets/base",
      "model_module_version": "1.2.0",
      "model_name": "LayoutModel",
      "state": {}
     },
     "fa74eb6ba1704add8b238698b9319aa5": {
      "model_module": "@jupyter-widgets/controls",
      "model_module_version": "1.5.0",
      "model_name": "SliderStyleModel",
      "state": {
       "description_width": ""
      }
     },
     "fac8f9a7519a459e9bac9a0799b2b404": {
      "model_module": "@jupyter-widgets/base",
      "model_module_version": "1.2.0",
      "model_name": "LayoutModel",
      "state": {}
     },
     "fd5dcbc765e34b5da82c087150135b69": {
      "model_module": "@jupyter-widgets/controls",
      "model_module_version": "1.5.0",
      "model_name": "IntSliderModel",
      "state": {
       "continuous_update": false,
       "description": "Month:",
       "layout": "IPY_MODEL_c02ae5e9ffbe48e585d11fff505041b2",
       "max": 3,
       "min": 1,
       "style": "IPY_MODEL_9da7af70d5d241f489a7f6a0e0dbc75a",
       "value": 1
      }
     },
     "ffc14890667a4f6d902ca3cf74ce803c": {
      "model_module": "@jupyter-widgets/controls",
      "model_module_version": "1.5.0",
      "model_name": "DropdownModel",
      "state": {
       "_options_labels": [
        "Health and beauty",
        "Electronic accessories",
        "Home and lifestyle",
        "Sports and travel",
        "Food and beverages",
        "Fashion accessories"
       ],
       "description": "Product Line:",
       "index": 0,
       "layout": "IPY_MODEL_cb4c6209b8da4bd4a942034c4a4adc6a",
       "style": "IPY_MODEL_4fe588927e624defa203161bc2af9de1"
      }
     }
    },
    "version_major": 2,
    "version_minor": 0
   }
  }
 },
 "nbformat": 4,
 "nbformat_minor": 4
}